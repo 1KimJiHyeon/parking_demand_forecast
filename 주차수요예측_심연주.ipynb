{
 "cells": [
  {
   "cell_type": "markdown",
   "id": "f2e5ba05",
   "metadata": {},
   "source": [
    "# [주차 수요 예측](https://dacon.io/competitions/official/235745/overview/description)"
   ]
  },
  {
   "cell_type": "markdown",
   "id": "1680a2c9",
   "metadata": {},
   "source": [
    "# 1. 데이터 전처리"
   ]
  },
  {
   "cell_type": "code",
   "execution_count": 47,
   "id": "ce1fd2d6",
   "metadata": {},
   "outputs": [],
   "source": [
    "import pandas as pd\n",
    "import numpy as np\n",
    "\n",
    "import matplotlib.pyplot as plt \n",
    "import seaborn as sns \n",
    "from matplotlib import rc \n",
    "\n",
    "plt.rcParams[\"axes.unicode_minus\"] = False \n",
    "rc(\"font\", family=\"Malgun Gothic\")\n",
    "# %matplotlib inline \n",
    "get_ipython().run_line_magic(\"matplotlib\", \"inline\")"
   ]
  },
  {
   "cell_type": "code",
   "execution_count": 48,
   "id": "864ba812",
   "metadata": {},
   "outputs": [],
   "source": [
    "train = pd.read_csv('./parking_data/train.csv')\n",
    "test = pd.read_csv('./parking_data/test.csv')\n",
    "age_gender_info = pd.read_csv('./parking_data/age_gender_info.csv')"
   ]
  },
  {
   "cell_type": "markdown",
   "id": "ca3dd259",
   "metadata": {},
   "source": [
    "## 0) 오류 데이터 삭제"
   ]
  },
  {
   "cell_type": "code",
   "execution_count": 49,
   "id": "45dbf09e",
   "metadata": {},
   "outputs": [],
   "source": [
    "# 2,3번 데이터 - 삭제 요망\n",
    "# 1번 데이터 - 모델 학습 후 삭제 여부 판단\n",
    "\n",
    "# 2번 데이터 오류 \n",
    "train = train[train['단지코드'] != 'C2085']\n",
    "train = train[train['단지코드'] != 'C1397']\n",
    "train = train[train['단지코드'] != 'C2431']\n",
    "train = train[train['단지코드'] != 'C1649']\n",
    "train = train[train['단지코드'] != 'C1036']\n",
    "\n",
    "# 3번 데이터 오류 \n",
    "train = train[train['단지코드'] != 'C1095']\n",
    "train = train[train['단지코드'] != 'C2051']\n",
    "train = train[train['단지코드'] != 'C1218']\n",
    "train = train[train['단지코드'] != 'C1894']\n",
    "train = train[train['단지코드'] != 'C2483']\n",
    "train = train[train['단지코드'] != 'C1502']\n",
    "train = train[train['단지코드'] != 'C1988']"
   ]
  },
  {
   "cell_type": "code",
   "execution_count": null,
   "id": "64042b5e",
   "metadata": {},
   "outputs": [],
   "source": []
  },
  {
   "cell_type": "markdown",
   "id": "5afcf211",
   "metadata": {},
   "source": [
    "## 1) 컬럼별 null값 확인"
   ]
  },
  {
   "cell_type": "code",
   "execution_count": 50,
   "id": "d4f0a5b2",
   "metadata": {
    "scrolled": false
   },
   "outputs": [
    {
     "name": "stdout",
     "output_type": "stream",
     "text": [
      "<class 'pandas.core.frame.DataFrame'>\n",
      "Int64Index: 2869 entries, 8 to 2951\n",
      "Data columns (total 15 columns):\n",
      " #   Column                        Non-Null Count  Dtype  \n",
      "---  ------                        --------------  -----  \n",
      " 0   단지코드                          2869 non-null   object \n",
      " 1   총세대수                          2869 non-null   int64  \n",
      " 2   임대건물구분                        2869 non-null   object \n",
      " 3   지역                            2869 non-null   object \n",
      " 4   공급유형                          2869 non-null   object \n",
      " 5   전용면적                          2869 non-null   float64\n",
      " 6   전용면적별세대수                      2869 non-null   int64  \n",
      " 7   공가수                           2869 non-null   float64\n",
      " 8   자격유형                          2869 non-null   object \n",
      " 9   임대보증금                         2300 non-null   object \n",
      " 10  임대료                           2300 non-null   object \n",
      " 11  도보 10분거리 내 지하철역 수(환승노선 수 반영)  2662 non-null   float64\n",
      " 12  도보 10분거리 내 버스정류장 수            2869 non-null   float64\n",
      " 13  단지내주차면수                       2869 non-null   float64\n",
      " 14  등록차량수                         2869 non-null   float64\n",
      "dtypes: float64(6), int64(2), object(7)\n",
      "memory usage: 358.6+ KB\n"
     ]
    }
   ],
   "source": [
    "train.info()"
   ]
  },
  {
   "cell_type": "code",
   "execution_count": 241,
   "id": "68ac5911",
   "metadata": {
    "scrolled": true
   },
   "outputs": [],
   "source": [
    "# for col in train.columns:\n",
    "#     print(col, train[col].unique(),'\\n')"
   ]
  },
  {
   "cell_type": "markdown",
   "id": "1a75d7b8",
   "metadata": {},
   "source": [
    "--> null값 존재 컬럼: 임대보증금, 임대료, 도보 10분거리 내 지하철역 수"
   ]
  },
  {
   "cell_type": "markdown",
   "id": "2ec84505",
   "metadata": {},
   "source": [
    "## 1. 임대료, 임대보증금 컬럼\n",
    "```\n",
    "1) 데이터 타입 float로 변환\n",
    "2) null값 --> train 데이터의 평균값 또는 0으로 대체\n",
    "```"
   ]
  },
  {
   "cell_type": "markdown",
   "id": "ca13cbab",
   "metadata": {},
   "source": [
    "### 1) 데이터 타입 float로 변환"
   ]
  },
  {
   "cell_type": "code",
   "execution_count": 51,
   "id": "ac164893",
   "metadata": {},
   "outputs": [],
   "source": [
    "train.loc[train['임대보증금']=='-','임대보증금'] = np.nan\n",
    "train.loc[train['임대료']=='-','임대료'] = np.nan\n",
    "\n",
    "train['임대보증금'] = train['임대보증금'].astype(float)\n",
    "train['임대료'] = train['임대료'].astype(float)"
   ]
  },
  {
   "cell_type": "code",
   "execution_count": 52,
   "id": "e8d84cf3",
   "metadata": {},
   "outputs": [],
   "source": [
    "test.loc[test['임대보증금']=='-','임대보증금'] = np.nan\n",
    "test.loc[test['임대료']=='-','임대료'] = np.nan\n",
    "\n",
    "test['임대보증금'] = test['임대보증금'].astype(float)\n",
    "test['임대료'] = test['임대료'].astype(float)"
   ]
  },
  {
   "cell_type": "markdown",
   "id": "65f42c69",
   "metadata": {},
   "source": [
    "### 2) null값 --> train 데이터의 평균값 또는 0으로 대체\n",
    "- 임대보증금 or 임대료가 null값이 데이터를 공급유형별, 지역별로 나누어서 살펴보기"
   ]
  },
  {
   "cell_type": "markdown",
   "id": "c40d4c20",
   "metadata": {},
   "source": [
    "#### 1. 임대보증금/임대료의 null 값 - (공급유형-임대상가) 인 데이터부터 처리하기"
   ]
  },
  {
   "cell_type": "code",
   "execution_count": 113,
   "id": "9cbfa492",
   "metadata": {
    "scrolled": true
   },
   "outputs": [
    {
     "data": {
      "text/plain": [
       "국민임대         1727\n",
       "임대상가          562\n",
       "행복주택          202\n",
       "공공임대(10년)     175\n",
       "영구임대          152\n",
       "공공임대(50년)      31\n",
       "공공임대(분납)        7\n",
       "공공분양            7\n",
       "장기전세            3\n",
       "공공임대(5년)        3\n",
       "Name: 공급유형, dtype: int64"
      ]
     },
     "execution_count": 113,
     "metadata": {},
     "output_type": "execute_result"
    }
   ],
   "source": [
    "train['공급유형'].value_counts()"
   ]
  },
  {
   "cell_type": "code",
   "execution_count": 110,
   "id": "c1755f46",
   "metadata": {},
   "outputs": [
    {
     "data": {
      "text/plain": [
       "임대상가    562\n",
       "국민임대      8\n",
       "공공분양      7\n",
       "행복주택      4\n",
       "Name: 공급유형, dtype: int64"
      ]
     },
     "execution_count": 110,
     "metadata": {},
     "output_type": "execute_result"
    }
   ],
   "source": [
    "train[train['임대보증금'].isnull()]['공급유형'].value_counts()"
   ]
  },
  {
   "cell_type": "markdown",
   "id": "af6e5033",
   "metadata": {},
   "source": [
    "- 전체 데이터 공급유형 컬럼:임대상가인 개수 - 562개인데, 임대보증금이 null값인 데이터에서 공급유형 컬럼: 임대상가인 경우 - 562개이다.\n",
    "\n",
    "==> 공급유형이 임대상가인 데이터는 임대보증금이 모두 null값이다\n",
    "\n",
    "--> null값은 지역별 평균값 or 0으로 대체(둘 중 모델 학습 성능 더 좋은 것으로 채택)"
   ]
  },
  {
   "cell_type": "code",
   "execution_count": 212,
   "id": "c678f4fd",
   "metadata": {},
   "outputs": [
    {
     "data": {
      "text/plain": [
       "부산광역시      220\n",
       "대전광역시      113\n",
       "경상남도        97\n",
       "충청남도        76\n",
       "강원도         31\n",
       "제주특별자치도     25\n",
       "Name: 지역, dtype: int64"
      ]
     },
     "execution_count": 212,
     "metadata": {},
     "output_type": "execute_result"
    }
   ],
   "source": [
    "# 이 데이터는 전부 null값이다\n",
    "train[train['공급유형']=='임대상가']['지역'].value_counts()"
   ]
  },
  {
   "cell_type": "code",
   "execution_count": 217,
   "id": "ea247288",
   "metadata": {},
   "outputs": [],
   "source": [
    "# 1. null -> 평균값\n",
    "for col in train[train['공급유형']=='임대상가']['지역'].value_counts().index:\n",
    "    train.loc[train['지역']==col,'임대료'] = train['임대료'].fillna(train[train['지역']==col]['임대료'].mean())\n",
    "    train.loc[train['지역']==col,'임대보증금'] = train['임대보증금'].fillna(train[train['지역']==col]['임대보증금'].mean())\n",
    "    \n",
    "# 2. null -> 0"
   ]
  },
  {
   "cell_type": "code",
   "execution_count": 220,
   "id": "5e203514",
   "metadata": {},
   "outputs": [
    {
     "data": {
      "text/plain": [
       "(국민임대    3\n",
       " Name: 공급유형, dtype: int64,\n",
       " 장기전세    3\n",
       " 국민임대    3\n",
       " Name: 공급유형, dtype: int64)"
      ]
     },
     "execution_count": 220,
     "metadata": {},
     "output_type": "execute_result"
    }
   ],
   "source": [
    "train[train['임대보증금'].isnull()]['공급유형'].value_counts(), train[train['임대료'].isnull()]['공급유형'].value_counts()"
   ]
  },
  {
   "cell_type": "markdown",
   "id": "f6caf0b5",
   "metadata": {},
   "source": [
    "#### 2. 나머지 null값 처리"
   ]
  },
  {
   "cell_type": "code",
   "execution_count": 221,
   "id": "d9c0f5ca",
   "metadata": {},
   "outputs": [],
   "source": [
    "train.loc[train['공급유형'] == '국민임대', '임대보증금'] = train['임대보증금'].fillna(0)\n",
    "train.loc[train['공급유형'] == '국민임대', '임대료'] = train['임대료'].fillna(0)\n",
    "train.loc[train['공급유형'] == '장기전세', '임대료'] = train['임대료'].fillna(0)"
   ]
  },
  {
   "cell_type": "code",
   "execution_count": 222,
   "id": "ded15943",
   "metadata": {},
   "outputs": [
    {
     "data": {
      "text/plain": [
       "(Series([], Name: 공급유형, dtype: int64), Series([], Name: 공급유형, dtype: int64))"
      ]
     },
     "execution_count": 222,
     "metadata": {},
     "output_type": "execute_result"
    }
   ],
   "source": [
    "train[train['임대보증금'].isnull()]['공급유형'].value_counts(), train[train['임대료'].isnull()]['공급유형'].value_counts()"
   ]
  },
  {
   "cell_type": "code",
   "execution_count": null,
   "id": "74c75788",
   "metadata": {},
   "outputs": [],
   "source": []
  },
  {
   "cell_type": "markdown",
   "id": "c00c4043",
   "metadata": {},
   "source": [
    "## 2. 도보 10분거리 내 지하철역 수, 버스정류장 수"
   ]
  },
  {
   "cell_type": "markdown",
   "id": "c295fd0b",
   "metadata": {},
   "source": [
    "### 1) 지하철역 수\n",
    "- train, test 데이터에 모두 null값이 존재\n",
    "- 전체 데이터의 분포는 0이 상당수를 차지하고 있음\n",
    "=> null값 0으로 대체"
   ]
  },
  {
   "cell_type": "code",
   "execution_count": 63,
   "id": "e1230470",
   "metadata": {},
   "outputs": [
    {
     "data": {
      "text/plain": [
       "(207, 42)"
      ]
     },
     "execution_count": 63,
     "metadata": {},
     "output_type": "execute_result"
    }
   ],
   "source": [
    "train['도보 10분거리 내 지하철역 수(환승노선 수 반영)'].isnull().sum(), test['도보 10분거리 내 지하철역 수(환승노선 수 반영)'].isnull().sum()"
   ]
  },
  {
   "cell_type": "code",
   "execution_count": 66,
   "id": "098e5058",
   "metadata": {},
   "outputs": [
    {
     "data": {
      "text/plain": [
       "(0.0    2223\n",
       " 1.0     400\n",
       " 2.0      33\n",
       " 3.0       6\n",
       " Name: 도보 10분거리 내 지하철역 수(환승노선 수 반영), dtype: int64,\n",
       " 0.0    881\n",
       " 1.0     64\n",
       " 2.0     35\n",
       " Name: 도보 10분거리 내 지하철역 수(환승노선 수 반영), dtype: int64)"
      ]
     },
     "execution_count": 66,
     "metadata": {},
     "output_type": "execute_result"
    }
   ],
   "source": [
    "train['도보 10분거리 내 지하철역 수(환승노선 수 반영)'].value_counts(), test['도보 10분거리 내 지하철역 수(환승노선 수 반영)'].value_counts()"
   ]
  },
  {
   "cell_type": "markdown",
   "id": "e90e8afa",
   "metadata": {},
   "source": [
    "--> 대부분이 0이므로 null값 0으로 대체"
   ]
  },
  {
   "cell_type": "code",
   "execution_count": 71,
   "id": "c3961b20",
   "metadata": {},
   "outputs": [
    {
     "data": {
      "text/plain": [
       "0"
      ]
     },
     "execution_count": 71,
     "metadata": {},
     "output_type": "execute_result"
    }
   ],
   "source": [
    "train['도보 10분거리 내 지하철역 수(환승노선 수 반영)'] = train['도보 10분거리 내 지하철역 수(환승노선 수 반영)'].fillna(0)\n",
    "test['도보 10분거리 내 지하철역 수(환승노선 수 반영)'] = test['도보 10분거리 내 지하철역 수(환승노선 수 반영)'].fillna(0)\n",
    "\n",
    "train['도보 10분거리 내 지하철역 수(환승노선 수 반영)'].isnull().sum()"
   ]
  },
  {
   "cell_type": "code",
   "execution_count": null,
   "id": "9e5509c3",
   "metadata": {},
   "outputs": [],
   "source": []
  },
  {
   "cell_type": "markdown",
   "id": "d7fed88c",
   "metadata": {},
   "source": [
    "### 2) 버스정류장 수\n",
    "- null값 존재하지 않음\n",
    "- 데이터 분포 확인 -> test 데이터에 outlier 존재 (10분 내 거리에 버스정류장 수: 50개)"
   ]
  },
  {
   "cell_type": "code",
   "execution_count": 74,
   "id": "c72d38a5",
   "metadata": {},
   "outputs": [
    {
     "data": {
      "text/plain": [
       "(0, 0)"
      ]
     },
     "execution_count": 74,
     "metadata": {},
     "output_type": "execute_result"
    }
   ],
   "source": [
    "train['도보 10분거리 내 버스정류장 수'].isnull().sum(), test['도보 10분거리 내 버스정류장 수'].isnull().sum()"
   ]
  },
  {
   "cell_type": "code",
   "execution_count": 76,
   "id": "5e693169",
   "metadata": {},
   "outputs": [
    {
     "data": {
      "text/plain": [
       "(array([ 3.,  1.,  2.,  6., 10.,  5.,  4.,  7., 12., 14.,  8.,  0., 20.,\n",
       "        11., 16., 15., 19.]),\n",
       " array([ 2.,  3., 16.,  6.,  1.,  4.,  5.,  8., 10., 13.,  7., 11., 50.,\n",
       "        12., 14., 18., 15., 19., 17.]))"
      ]
     },
     "execution_count": 76,
     "metadata": {},
     "output_type": "execute_result"
    }
   ],
   "source": [
    "train['도보 10분거리 내 버스정류장 수'].unique(), test['도보 10분거리 내 버스정류장 수'].unique()"
   ]
  },
  {
   "cell_type": "code",
   "execution_count": 78,
   "id": "5fcb0e8d",
   "metadata": {},
   "outputs": [
    {
     "data": {
      "text/plain": [
       "2.0     774\n",
       "3.0     716\n",
       "4.0     485\n",
       "1.0     270\n",
       "5.0     162\n",
       "6.0     153\n",
       "8.0      99\n",
       "10.0     80\n",
       "7.0      65\n",
       "12.0     22\n",
       "20.0     15\n",
       "15.0     11\n",
       "16.0      6\n",
       "19.0      4\n",
       "11.0      3\n",
       "14.0      2\n",
       "0.0       2\n",
       "Name: 도보 10분거리 내 버스정류장 수, dtype: int64"
      ]
     },
     "execution_count": 78,
     "metadata": {},
     "output_type": "execute_result"
    }
   ],
   "source": [
    "train['도보 10분거리 내 버스정류장 수'].value_counts()"
   ]
  },
  {
   "cell_type": "code",
   "execution_count": 79,
   "id": "3beeb934",
   "metadata": {},
   "outputs": [
    {
     "data": {
      "text/plain": [
       "2.0     252\n",
       "3.0     166\n",
       "4.0     134\n",
       "1.0     117\n",
       "5.0     112\n",
       "6.0      85\n",
       "7.0      48\n",
       "8.0      33\n",
       "16.0     13\n",
       "11.0     11\n",
       "15.0     10\n",
       "50.0      9\n",
       "18.0      7\n",
       "14.0      6\n",
       "12.0      5\n",
       "17.0      4\n",
       "10.0      4\n",
       "19.0      3\n",
       "13.0      3\n",
       "Name: 도보 10분거리 내 버스정류장 수, dtype: int64"
      ]
     },
     "execution_count": 79,
     "metadata": {},
     "output_type": "execute_result"
    }
   ],
   "source": [
    "test['도보 10분거리 내 버스정류장 수'].value_counts()"
   ]
  },
  {
   "cell_type": "code",
   "execution_count": 60,
   "id": "0b6f46de",
   "metadata": {},
   "outputs": [
    {
     "data": {
      "text/html": [
       "<div>\n",
       "<style scoped>\n",
       "    .dataframe tbody tr th:only-of-type {\n",
       "        vertical-align: middle;\n",
       "    }\n",
       "\n",
       "    .dataframe tbody tr th {\n",
       "        vertical-align: top;\n",
       "    }\n",
       "\n",
       "    .dataframe thead th {\n",
       "        text-align: right;\n",
       "    }\n",
       "</style>\n",
       "<table border=\"1\" class=\"dataframe\">\n",
       "  <thead>\n",
       "    <tr style=\"text-align: right;\">\n",
       "      <th></th>\n",
       "      <th>단지코드</th>\n",
       "      <th>총세대수</th>\n",
       "      <th>임대건물구분</th>\n",
       "      <th>지역</th>\n",
       "      <th>공급유형</th>\n",
       "      <th>전용면적</th>\n",
       "      <th>전용면적별세대수</th>\n",
       "      <th>공가수</th>\n",
       "      <th>자격유형</th>\n",
       "      <th>임대보증금</th>\n",
       "      <th>임대료</th>\n",
       "      <th>도보 10분거리 내 지하철역 수(환승노선 수 반영)</th>\n",
       "      <th>도보 10분거리 내 버스정류장 수</th>\n",
       "      <th>단지내주차면수</th>\n",
       "    </tr>\n",
       "  </thead>\n",
       "  <tbody>\n",
       "    <tr>\n",
       "      <th>383</th>\n",
       "      <td>C1852</td>\n",
       "      <td>898</td>\n",
       "      <td>아파트</td>\n",
       "      <td>경기도</td>\n",
       "      <td>국민임대</td>\n",
       "      <td>39.59</td>\n",
       "      <td>219</td>\n",
       "      <td>6.0</td>\n",
       "      <td>H</td>\n",
       "      <td>23720000.0</td>\n",
       "      <td>197230.0</td>\n",
       "      <td>0.0</td>\n",
       "      <td>50.0</td>\n",
       "      <td>785.0</td>\n",
       "    </tr>\n",
       "    <tr>\n",
       "      <th>384</th>\n",
       "      <td>C1852</td>\n",
       "      <td>898</td>\n",
       "      <td>아파트</td>\n",
       "      <td>경기도</td>\n",
       "      <td>국민임대</td>\n",
       "      <td>39.72</td>\n",
       "      <td>56</td>\n",
       "      <td>6.0</td>\n",
       "      <td>A</td>\n",
       "      <td>23720000.0</td>\n",
       "      <td>197230.0</td>\n",
       "      <td>0.0</td>\n",
       "      <td>50.0</td>\n",
       "      <td>785.0</td>\n",
       "    </tr>\n",
       "    <tr>\n",
       "      <th>385</th>\n",
       "      <td>C1852</td>\n",
       "      <td>898</td>\n",
       "      <td>아파트</td>\n",
       "      <td>경기도</td>\n",
       "      <td>국민임대</td>\n",
       "      <td>39.72</td>\n",
       "      <td>44</td>\n",
       "      <td>6.0</td>\n",
       "      <td>A</td>\n",
       "      <td>23720000.0</td>\n",
       "      <td>197230.0</td>\n",
       "      <td>0.0</td>\n",
       "      <td>50.0</td>\n",
       "      <td>785.0</td>\n",
       "    </tr>\n",
       "    <tr>\n",
       "      <th>386</th>\n",
       "      <td>C1852</td>\n",
       "      <td>898</td>\n",
       "      <td>아파트</td>\n",
       "      <td>경기도</td>\n",
       "      <td>국민임대</td>\n",
       "      <td>46.90</td>\n",
       "      <td>46</td>\n",
       "      <td>6.0</td>\n",
       "      <td>A</td>\n",
       "      <td>37454000.0</td>\n",
       "      <td>259660.0</td>\n",
       "      <td>0.0</td>\n",
       "      <td>50.0</td>\n",
       "      <td>785.0</td>\n",
       "    </tr>\n",
       "    <tr>\n",
       "      <th>387</th>\n",
       "      <td>C1852</td>\n",
       "      <td>898</td>\n",
       "      <td>아파트</td>\n",
       "      <td>경기도</td>\n",
       "      <td>국민임대</td>\n",
       "      <td>46.90</td>\n",
       "      <td>22</td>\n",
       "      <td>6.0</td>\n",
       "      <td>A</td>\n",
       "      <td>37454000.0</td>\n",
       "      <td>259660.0</td>\n",
       "      <td>0.0</td>\n",
       "      <td>50.0</td>\n",
       "      <td>785.0</td>\n",
       "    </tr>\n",
       "    <tr>\n",
       "      <th>388</th>\n",
       "      <td>C1852</td>\n",
       "      <td>898</td>\n",
       "      <td>아파트</td>\n",
       "      <td>경기도</td>\n",
       "      <td>국민임대</td>\n",
       "      <td>46.90</td>\n",
       "      <td>225</td>\n",
       "      <td>6.0</td>\n",
       "      <td>H</td>\n",
       "      <td>37454000.0</td>\n",
       "      <td>259660.0</td>\n",
       "      <td>0.0</td>\n",
       "      <td>50.0</td>\n",
       "      <td>785.0</td>\n",
       "    </tr>\n",
       "    <tr>\n",
       "      <th>389</th>\n",
       "      <td>C1852</td>\n",
       "      <td>898</td>\n",
       "      <td>아파트</td>\n",
       "      <td>경기도</td>\n",
       "      <td>국민임대</td>\n",
       "      <td>51.93</td>\n",
       "      <td>136</td>\n",
       "      <td>6.0</td>\n",
       "      <td>H</td>\n",
       "      <td>45193000.0</td>\n",
       "      <td>308350.0</td>\n",
       "      <td>0.0</td>\n",
       "      <td>50.0</td>\n",
       "      <td>785.0</td>\n",
       "    </tr>\n",
       "    <tr>\n",
       "      <th>390</th>\n",
       "      <td>C1852</td>\n",
       "      <td>898</td>\n",
       "      <td>아파트</td>\n",
       "      <td>경기도</td>\n",
       "      <td>국민임대</td>\n",
       "      <td>51.93</td>\n",
       "      <td>44</td>\n",
       "      <td>6.0</td>\n",
       "      <td>H</td>\n",
       "      <td>45193000.0</td>\n",
       "      <td>308350.0</td>\n",
       "      <td>0.0</td>\n",
       "      <td>50.0</td>\n",
       "      <td>785.0</td>\n",
       "    </tr>\n",
       "    <tr>\n",
       "      <th>391</th>\n",
       "      <td>C1852</td>\n",
       "      <td>898</td>\n",
       "      <td>아파트</td>\n",
       "      <td>경기도</td>\n",
       "      <td>국민임대</td>\n",
       "      <td>59.61</td>\n",
       "      <td>106</td>\n",
       "      <td>6.0</td>\n",
       "      <td>H</td>\n",
       "      <td>61674000.0</td>\n",
       "      <td>370790.0</td>\n",
       "      <td>0.0</td>\n",
       "      <td>50.0</td>\n",
       "      <td>785.0</td>\n",
       "    </tr>\n",
       "  </tbody>\n",
       "</table>\n",
       "</div>"
      ],
      "text/plain": [
       "      단지코드  총세대수 임대건물구분   지역  공급유형   전용면적  전용면적별세대수  공가수 자격유형       임대보증금  \\\n",
       "383  C1852   898    아파트  경기도  국민임대  39.59       219  6.0    H  23720000.0   \n",
       "384  C1852   898    아파트  경기도  국민임대  39.72        56  6.0    A  23720000.0   \n",
       "385  C1852   898    아파트  경기도  국민임대  39.72        44  6.0    A  23720000.0   \n",
       "386  C1852   898    아파트  경기도  국민임대  46.90        46  6.0    A  37454000.0   \n",
       "387  C1852   898    아파트  경기도  국민임대  46.90        22  6.0    A  37454000.0   \n",
       "388  C1852   898    아파트  경기도  국민임대  46.90       225  6.0    H  37454000.0   \n",
       "389  C1852   898    아파트  경기도  국민임대  51.93       136  6.0    H  45193000.0   \n",
       "390  C1852   898    아파트  경기도  국민임대  51.93        44  6.0    H  45193000.0   \n",
       "391  C1852   898    아파트  경기도  국민임대  59.61       106  6.0    H  61674000.0   \n",
       "\n",
       "          임대료  도보 10분거리 내 지하철역 수(환승노선 수 반영)  도보 10분거리 내 버스정류장 수  단지내주차면수  \n",
       "383  197230.0                           0.0                50.0    785.0  \n",
       "384  197230.0                           0.0                50.0    785.0  \n",
       "385  197230.0                           0.0                50.0    785.0  \n",
       "386  259660.0                           0.0                50.0    785.0  \n",
       "387  259660.0                           0.0                50.0    785.0  \n",
       "388  259660.0                           0.0                50.0    785.0  \n",
       "389  308350.0                           0.0                50.0    785.0  \n",
       "390  308350.0                           0.0                50.0    785.0  \n",
       "391  370790.0                           0.0                50.0    785.0  "
      ]
     },
     "execution_count": 60,
     "metadata": {},
     "output_type": "execute_result"
    }
   ],
   "source": [
    "test[test['도보 10분거리 내 버스정류장 수']==50]"
   ]
  },
  {
   "cell_type": "markdown",
   "id": "f0c65655",
   "metadata": {},
   "source": [
    "--> 버스정류장 수가 50인 경우, train 데이터의 평균값 or 최댓값으로 변환하여 처리\n",
    "\n",
    "*평균값 vs 최댓값 둘 다 모델 돌려봐야 알 것 같다**"
   ]
  },
  {
   "cell_type": "code",
   "execution_count": 99,
   "id": "2f2531bd",
   "metadata": {},
   "outputs": [],
   "source": [
    "test.loc[test['도보 10분거리 내 버스정류장 수']==50, '도보 10분거리 내 버스정류장 수'] = train['도보 10분거리 내 버스정류장 수'].mean()"
   ]
  },
  {
   "cell_type": "code",
   "execution_count": 98,
   "id": "dbafeb29",
   "metadata": {},
   "outputs": [
    {
     "data": {
      "text/plain": [
       "(3.709654932032067, 20.0)"
      ]
     },
     "execution_count": 98,
     "metadata": {},
     "output_type": "execute_result"
    }
   ],
   "source": [
    "train['도보 10분거리 내 버스정류장 수'].mean(), train['도보 10분거리 내 버스정류장 수'].max()"
   ]
  },
  {
   "cell_type": "code",
   "execution_count": 100,
   "id": "e0d2b546",
   "metadata": {},
   "outputs": [
    {
     "data": {
      "text/html": [
       "<div>\n",
       "<style scoped>\n",
       "    .dataframe tbody tr th:only-of-type {\n",
       "        vertical-align: middle;\n",
       "    }\n",
       "\n",
       "    .dataframe tbody tr th {\n",
       "        vertical-align: top;\n",
       "    }\n",
       "\n",
       "    .dataframe thead th {\n",
       "        text-align: right;\n",
       "    }\n",
       "</style>\n",
       "<table border=\"1\" class=\"dataframe\">\n",
       "  <thead>\n",
       "    <tr style=\"text-align: right;\">\n",
       "      <th></th>\n",
       "      <th>단지코드</th>\n",
       "      <th>총세대수</th>\n",
       "      <th>임대건물구분</th>\n",
       "      <th>지역</th>\n",
       "      <th>공급유형</th>\n",
       "      <th>전용면적</th>\n",
       "      <th>전용면적별세대수</th>\n",
       "      <th>공가수</th>\n",
       "      <th>자격유형</th>\n",
       "      <th>임대보증금</th>\n",
       "      <th>임대료</th>\n",
       "      <th>도보 10분거리 내 지하철역 수(환승노선 수 반영)</th>\n",
       "      <th>도보 10분거리 내 버스정류장 수</th>\n",
       "      <th>단지내주차면수</th>\n",
       "    </tr>\n",
       "  </thead>\n",
       "  <tbody>\n",
       "  </tbody>\n",
       "</table>\n",
       "</div>"
      ],
      "text/plain": [
       "Empty DataFrame\n",
       "Columns: [단지코드, 총세대수, 임대건물구분, 지역, 공급유형, 전용면적, 전용면적별세대수, 공가수, 자격유형, 임대보증금, 임대료, 도보 10분거리 내 지하철역 수(환승노선 수 반영), 도보 10분거리 내 버스정류장 수, 단지내주차면수]\n",
       "Index: []"
      ]
     },
     "execution_count": 100,
     "metadata": {},
     "output_type": "execute_result"
    }
   ],
   "source": [
    "test[test['도보 10분거리 내 버스정류장 수']==50]"
   ]
  },
  {
   "cell_type": "markdown",
   "id": "d72b1185",
   "metadata": {},
   "source": [
    "---"
   ]
  },
  {
   "cell_type": "code",
   "execution_count": 233,
   "id": "4016eb3e",
   "metadata": {},
   "outputs": [
    {
     "data": {
      "text/plain": [
       "단지코드                            0\n",
       "총세대수                            0\n",
       "임대건물구분                          0\n",
       "지역                              0\n",
       "공급유형                            0\n",
       "전용면적                            0\n",
       "전용면적별세대수                        0\n",
       "공가수                             0\n",
       "자격유형                            0\n",
       "임대보증금                           0\n",
       "임대료                             0\n",
       "도보 10분거리 내 지하철역 수(환승노선 수 반영)    0\n",
       "도보 10분거리 내 버스정류장 수              0\n",
       "단지내주차면수                         0\n",
       "등록차량수                           0\n",
       "dtype: int64"
      ]
     },
     "execution_count": 233,
     "metadata": {},
     "output_type": "execute_result"
    }
   ],
   "source": [
    "train.isnull().sum()"
   ]
  },
  {
   "cell_type": "code",
   "execution_count": 231,
   "id": "a1dd00b7",
   "metadata": {},
   "outputs": [
    {
     "name": "stdout",
     "output_type": "stream",
     "text": [
      "<class 'pandas.core.frame.DataFrame'>\n",
      "Int64Index: 2869 entries, 8 to 2951\n",
      "Data columns (total 15 columns):\n",
      " #   Column                        Non-Null Count  Dtype  \n",
      "---  ------                        --------------  -----  \n",
      " 0   단지코드                          2869 non-null   object \n",
      " 1   총세대수                          2869 non-null   int64  \n",
      " 2   임대건물구분                        2869 non-null   object \n",
      " 3   지역                            2869 non-null   object \n",
      " 4   공급유형                          2869 non-null   object \n",
      " 5   전용면적                          2869 non-null   float64\n",
      " 6   전용면적별세대수                      2869 non-null   int64  \n",
      " 7   공가수                           2869 non-null   float64\n",
      " 8   자격유형                          2869 non-null   object \n",
      " 9   임대보증금                         2869 non-null   float64\n",
      " 10  임대료                           2869 non-null   float64\n",
      " 11  도보 10분거리 내 지하철역 수(환승노선 수 반영)  2869 non-null   float64\n",
      " 12  도보 10분거리 내 버스정류장 수            2869 non-null   float64\n",
      " 13  단지내주차면수                       2869 non-null   float64\n",
      " 14  등록차량수                         2869 non-null   float64\n",
      "dtypes: float64(8), int64(2), object(5)\n",
      "memory usage: 423.2+ KB\n"
     ]
    }
   ],
   "source": [
    "train.info()"
   ]
  },
  {
   "cell_type": "code",
   "execution_count": 232,
   "id": "c0d72487",
   "metadata": {},
   "outputs": [
    {
     "data": {
      "text/html": [
       "<div>\n",
       "<style scoped>\n",
       "    .dataframe tbody tr th:only-of-type {\n",
       "        vertical-align: middle;\n",
       "    }\n",
       "\n",
       "    .dataframe tbody tr th {\n",
       "        vertical-align: top;\n",
       "    }\n",
       "\n",
       "    .dataframe thead th {\n",
       "        text-align: right;\n",
       "    }\n",
       "</style>\n",
       "<table border=\"1\" class=\"dataframe\">\n",
       "  <thead>\n",
       "    <tr style=\"text-align: right;\">\n",
       "      <th></th>\n",
       "      <th>단지코드</th>\n",
       "      <th>총세대수</th>\n",
       "      <th>임대건물구분</th>\n",
       "      <th>지역</th>\n",
       "      <th>공급유형</th>\n",
       "      <th>전용면적</th>\n",
       "      <th>전용면적별세대수</th>\n",
       "      <th>공가수</th>\n",
       "      <th>자격유형</th>\n",
       "      <th>임대보증금</th>\n",
       "      <th>임대료</th>\n",
       "      <th>도보 10분거리 내 지하철역 수(환승노선 수 반영)</th>\n",
       "      <th>도보 10분거리 내 버스정류장 수</th>\n",
       "      <th>단지내주차면수</th>\n",
       "      <th>등록차량수</th>\n",
       "    </tr>\n",
       "  </thead>\n",
       "  <tbody>\n",
       "    <tr>\n",
       "      <th>8</th>\n",
       "      <td>C2515</td>\n",
       "      <td>545</td>\n",
       "      <td>아파트</td>\n",
       "      <td>경상남도</td>\n",
       "      <td>국민임대</td>\n",
       "      <td>33.48</td>\n",
       "      <td>276</td>\n",
       "      <td>17.0</td>\n",
       "      <td>A</td>\n",
       "      <td>9216000.0</td>\n",
       "      <td>82940.0</td>\n",
       "      <td>0.0</td>\n",
       "      <td>3.0</td>\n",
       "      <td>624.0</td>\n",
       "      <td>205.0</td>\n",
       "    </tr>\n",
       "    <tr>\n",
       "      <th>9</th>\n",
       "      <td>C2515</td>\n",
       "      <td>545</td>\n",
       "      <td>아파트</td>\n",
       "      <td>경상남도</td>\n",
       "      <td>국민임대</td>\n",
       "      <td>39.60</td>\n",
       "      <td>60</td>\n",
       "      <td>17.0</td>\n",
       "      <td>A</td>\n",
       "      <td>12672000.0</td>\n",
       "      <td>107130.0</td>\n",
       "      <td>0.0</td>\n",
       "      <td>3.0</td>\n",
       "      <td>624.0</td>\n",
       "      <td>205.0</td>\n",
       "    </tr>\n",
       "    <tr>\n",
       "      <th>10</th>\n",
       "      <td>C2515</td>\n",
       "      <td>545</td>\n",
       "      <td>아파트</td>\n",
       "      <td>경상남도</td>\n",
       "      <td>국민임대</td>\n",
       "      <td>39.60</td>\n",
       "      <td>20</td>\n",
       "      <td>17.0</td>\n",
       "      <td>A</td>\n",
       "      <td>12672000.0</td>\n",
       "      <td>107130.0</td>\n",
       "      <td>0.0</td>\n",
       "      <td>3.0</td>\n",
       "      <td>624.0</td>\n",
       "      <td>205.0</td>\n",
       "    </tr>\n",
       "    <tr>\n",
       "      <th>11</th>\n",
       "      <td>C2515</td>\n",
       "      <td>545</td>\n",
       "      <td>아파트</td>\n",
       "      <td>경상남도</td>\n",
       "      <td>국민임대</td>\n",
       "      <td>46.90</td>\n",
       "      <td>38</td>\n",
       "      <td>17.0</td>\n",
       "      <td>A</td>\n",
       "      <td>18433000.0</td>\n",
       "      <td>149760.0</td>\n",
       "      <td>0.0</td>\n",
       "      <td>3.0</td>\n",
       "      <td>624.0</td>\n",
       "      <td>205.0</td>\n",
       "    </tr>\n",
       "    <tr>\n",
       "      <th>12</th>\n",
       "      <td>C2515</td>\n",
       "      <td>545</td>\n",
       "      <td>아파트</td>\n",
       "      <td>경상남도</td>\n",
       "      <td>국민임대</td>\n",
       "      <td>46.90</td>\n",
       "      <td>19</td>\n",
       "      <td>17.0</td>\n",
       "      <td>A</td>\n",
       "      <td>18433000.0</td>\n",
       "      <td>149760.0</td>\n",
       "      <td>0.0</td>\n",
       "      <td>3.0</td>\n",
       "      <td>624.0</td>\n",
       "      <td>205.0</td>\n",
       "    </tr>\n",
       "  </tbody>\n",
       "</table>\n",
       "</div>"
      ],
      "text/plain": [
       "     단지코드  총세대수 임대건물구분    지역  공급유형   전용면적  전용면적별세대수   공가수 자격유형       임대보증금  \\\n",
       "8   C2515   545    아파트  경상남도  국민임대  33.48       276  17.0    A   9216000.0   \n",
       "9   C2515   545    아파트  경상남도  국민임대  39.60        60  17.0    A  12672000.0   \n",
       "10  C2515   545    아파트  경상남도  국민임대  39.60        20  17.0    A  12672000.0   \n",
       "11  C2515   545    아파트  경상남도  국민임대  46.90        38  17.0    A  18433000.0   \n",
       "12  C2515   545    아파트  경상남도  국민임대  46.90        19  17.0    A  18433000.0   \n",
       "\n",
       "         임대료  도보 10분거리 내 지하철역 수(환승노선 수 반영)  도보 10분거리 내 버스정류장 수  단지내주차면수  등록차량수  \n",
       "8    82940.0                           0.0                 3.0    624.0  205.0  \n",
       "9   107130.0                           0.0                 3.0    624.0  205.0  \n",
       "10  107130.0                           0.0                 3.0    624.0  205.0  \n",
       "11  149760.0                           0.0                 3.0    624.0  205.0  \n",
       "12  149760.0                           0.0                 3.0    624.0  205.0  "
      ]
     },
     "execution_count": 232,
     "metadata": {},
     "output_type": "execute_result"
    }
   ],
   "source": [
    "train.head()"
   ]
  },
  {
   "cell_type": "markdown",
   "id": "4806f6a2",
   "metadata": {},
   "source": [
    "## 2. Train 데이터 feature간 연관성"
   ]
  },
  {
   "cell_type": "code",
   "execution_count": 227,
   "id": "933e89ee",
   "metadata": {
    "scrolled": false
   },
   "outputs": [
    {
     "data": {
      "image/png": "[encoded data removed]",
      "text/plain": [
       "<Figure size 720x576 with 2 Axes>"
      ]
     },
     "metadata": {
      "needs_background": "light"
     },
     "output_type": "display_data"
    }
   ],
   "source": [
    "plt.figure(figsize=(10,8))\n",
    "sns.heatmap(data=parking.corr(), annot=True, cmap=\"YlGnBu\")\n",
    "plt.show()"
   ]
  },
  {
   "cell_type": "markdown",
   "id": "5c1bdc26",
   "metadata": {},
   "source": [
    "--> feature 간 상관관계 높은 것 어떻게 처리?"
   ]
  },
  {
   "cell_type": "code",
   "execution_count": 8,
   "id": "89160fdf",
   "metadata": {},
   "outputs": [
    {
     "data": {
      "text/html": [
       "<div>\n",
       "<style scoped>\n",
       "    .dataframe tbody tr th:only-of-type {\n",
       "        vertical-align: middle;\n",
       "    }\n",
       "\n",
       "    .dataframe tbody tr th {\n",
       "        vertical-align: top;\n",
       "    }\n",
       "\n",
       "    .dataframe thead th {\n",
       "        text-align: right;\n",
       "    }\n",
       "</style>\n",
       "<table border=\"1\" class=\"dataframe\">\n",
       "  <thead>\n",
       "    <tr style=\"text-align: right;\">\n",
       "      <th></th>\n",
       "      <th>총세대수</th>\n",
       "      <th>전용면적</th>\n",
       "      <th>전용면적별세대수</th>\n",
       "      <th>공가수</th>\n",
       "      <th>도보 10분거리 내 지하철역 수(환승노선 수 반영)</th>\n",
       "      <th>도보 10분거리 내 버스정류장 수</th>\n",
       "      <th>단지내주차면수</th>\n",
       "      <th>등록차량수</th>\n",
       "    </tr>\n",
       "  </thead>\n",
       "  <tbody>\n",
       "    <tr>\n",
       "      <th>총세대수</th>\n",
       "      <td>1.000000</td>\n",
       "      <td>0.042271</td>\n",
       "      <td>0.098205</td>\n",
       "      <td>0.068192</td>\n",
       "      <td>0.213843</td>\n",
       "      <td>-0.001446</td>\n",
       "      <td>0.501488</td>\n",
       "      <td>0.316703</td>\n",
       "    </tr>\n",
       "    <tr>\n",
       "      <th>전용면적</th>\n",
       "      <td>0.042271</td>\n",
       "      <td>1.000000</td>\n",
       "      <td>-0.035479</td>\n",
       "      <td>-0.089201</td>\n",
       "      <td>-0.013111</td>\n",
       "      <td>-0.007866</td>\n",
       "      <td>0.071260</td>\n",
       "      <td>0.115453</td>\n",
       "    </tr>\n",
       "    <tr>\n",
       "      <th>전용면적별세대수</th>\n",
       "      <td>0.098205</td>\n",
       "      <td>-0.035479</td>\n",
       "      <td>1.000000</td>\n",
       "      <td>0.166472</td>\n",
       "      <td>-0.056680</td>\n",
       "      <td>0.047112</td>\n",
       "      <td>0.281989</td>\n",
       "      <td>0.247085</td>\n",
       "    </tr>\n",
       "    <tr>\n",
       "      <th>공가수</th>\n",
       "      <td>0.068192</td>\n",
       "      <td>-0.089201</td>\n",
       "      <td>0.166472</td>\n",
       "      <td>1.000000</td>\n",
       "      <td>-0.093334</td>\n",
       "      <td>0.043285</td>\n",
       "      <td>0.289819</td>\n",
       "      <td>0.118121</td>\n",
       "    </tr>\n",
       "    <tr>\n",
       "      <th>도보 10분거리 내 지하철역 수(환승노선 수 반영)</th>\n",
       "      <td>0.213843</td>\n",
       "      <td>-0.013111</td>\n",
       "      <td>-0.056680</td>\n",
       "      <td>-0.093334</td>\n",
       "      <td>1.000000</td>\n",
       "      <td>0.098380</td>\n",
       "      <td>-0.055544</td>\n",
       "      <td>-0.108592</td>\n",
       "    </tr>\n",
       "    <tr>\n",
       "      <th>도보 10분거리 내 버스정류장 수</th>\n",
       "      <td>-0.001446</td>\n",
       "      <td>-0.007866</td>\n",
       "      <td>0.047112</td>\n",
       "      <td>0.043285</td>\n",
       "      <td>0.098380</td>\n",
       "      <td>1.000000</td>\n",
       "      <td>0.070696</td>\n",
       "      <td>0.103752</td>\n",
       "    </tr>\n",
       "    <tr>\n",
       "      <th>단지내주차면수</th>\n",
       "      <td>0.501488</td>\n",
       "      <td>0.071260</td>\n",
       "      <td>0.281989</td>\n",
       "      <td>0.289819</td>\n",
       "      <td>-0.055544</td>\n",
       "      <td>0.070696</td>\n",
       "      <td>1.000000</td>\n",
       "      <td>0.859216</td>\n",
       "    </tr>\n",
       "    <tr>\n",
       "      <th>등록차량수</th>\n",
       "      <td>0.316703</td>\n",
       "      <td>0.115453</td>\n",
       "      <td>0.247085</td>\n",
       "      <td>0.118121</td>\n",
       "      <td>-0.108592</td>\n",
       "      <td>0.103752</td>\n",
       "      <td>0.859216</td>\n",
       "      <td>1.000000</td>\n",
       "    </tr>\n",
       "  </tbody>\n",
       "</table>\n",
       "</div>"
      ],
      "text/plain": [
       "                                  총세대수      전용면적  전용면적별세대수       공가수  \\\n",
       "총세대수                          1.000000  0.042271  0.098205  0.068192   \n",
       "전용면적                          0.042271  1.000000 -0.035479 -0.089201   \n",
       "전용면적별세대수                      0.098205 -0.035479  1.000000  0.166472   \n",
       "공가수                           0.068192 -0.089201  0.166472  1.000000   \n",
       "도보 10분거리 내 지하철역 수(환승노선 수 반영)  0.213843 -0.013111 -0.056680 -0.093334   \n",
       "도보 10분거리 내 버스정류장 수           -0.001446 -0.007866  0.047112  0.043285   \n",
       "단지내주차면수                       0.501488  0.071260  0.281989  0.289819   \n",
       "등록차량수                         0.316703  0.115453  0.247085  0.118121   \n",
       "\n",
       "                              도보 10분거리 내 지하철역 수(환승노선 수 반영)  \\\n",
       "총세대수                                              0.213843   \n",
       "전용면적                                             -0.013111   \n",
       "전용면적별세대수                                         -0.056680   \n",
       "공가수                                              -0.093334   \n",
       "도보 10분거리 내 지하철역 수(환승노선 수 반영)                      1.000000   \n",
       "도보 10분거리 내 버스정류장 수                                0.098380   \n",
       "단지내주차면수                                          -0.055544   \n",
       "등록차량수                                            -0.108592   \n",
       "\n",
       "                              도보 10분거리 내 버스정류장 수   단지내주차면수     등록차량수  \n",
       "총세대수                                   -0.001446  0.501488  0.316703  \n",
       "전용면적                                   -0.007866  0.071260  0.115453  \n",
       "전용면적별세대수                                0.047112  0.281989  0.247085  \n",
       "공가수                                     0.043285  0.289819  0.118121  \n",
       "도보 10분거리 내 지하철역 수(환승노선 수 반영)            0.098380 -0.055544 -0.108592  \n",
       "도보 10분거리 내 버스정류장 수                      1.000000  0.070696  0.103752  \n",
       "단지내주차면수                                 0.070696  1.000000  0.859216  \n",
       "등록차량수                                   0.103752  0.859216  1.000000  "
      ]
     },
     "execution_count": 8,
     "metadata": {},
     "output_type": "execute_result"
    }
   ],
   "source": [
    "parking.corr()"
   ]
  },
  {
   "cell_type": "code",
   "execution_count": null,
   "id": "94fbec80",
   "metadata": {},
   "outputs": [],
   "source": []
  },
  {
   "cell_type": "code",
   "execution_count": 240,
   "id": "59757c09",
   "metadata": {},
   "outputs": [
    {
     "data": {
      "text/html": [
       "<div>\n",
       "<style scoped>\n",
       "    .dataframe tbody tr th:only-of-type {\n",
       "        vertical-align: middle;\n",
       "    }\n",
       "\n",
       "    .dataframe tbody tr th {\n",
       "        vertical-align: top;\n",
       "    }\n",
       "\n",
       "    .dataframe thead th {\n",
       "        text-align: right;\n",
       "    }\n",
       "</style>\n",
       "<table border=\"1\" class=\"dataframe\">\n",
       "  <thead>\n",
       "    <tr style=\"text-align: right;\">\n",
       "      <th></th>\n",
       "      <th>단지코드</th>\n",
       "      <th>총세대수</th>\n",
       "      <th>임대건물구분</th>\n",
       "      <th>지역</th>\n",
       "      <th>공급유형</th>\n",
       "      <th>전용면적</th>\n",
       "      <th>전용면적별세대수</th>\n",
       "      <th>공가수</th>\n",
       "      <th>자격유형</th>\n",
       "      <th>임대보증금</th>\n",
       "      <th>임대료</th>\n",
       "      <th>도보 10분거리 내 지하철역 수(환승노선 수 반영)</th>\n",
       "      <th>도보 10분거리 내 버스정류장 수</th>\n",
       "      <th>단지내주차면수</th>\n",
       "      <th>등록차량수</th>\n",
       "    </tr>\n",
       "  </thead>\n",
       "  <tbody>\n",
       "    <tr>\n",
       "      <th>8</th>\n",
       "      <td>C2515</td>\n",
       "      <td>545</td>\n",
       "      <td>아파트</td>\n",
       "      <td>경상남도</td>\n",
       "      <td>국민임대</td>\n",
       "      <td>33.48</td>\n",
       "      <td>276</td>\n",
       "      <td>17.0</td>\n",
       "      <td>A</td>\n",
       "      <td>9216000.0</td>\n",
       "      <td>82940.0</td>\n",
       "      <td>0.0</td>\n",
       "      <td>3.0</td>\n",
       "      <td>624.0</td>\n",
       "      <td>205.0</td>\n",
       "    </tr>\n",
       "    <tr>\n",
       "      <th>9</th>\n",
       "      <td>C2515</td>\n",
       "      <td>545</td>\n",
       "      <td>아파트</td>\n",
       "      <td>경상남도</td>\n",
       "      <td>국민임대</td>\n",
       "      <td>39.60</td>\n",
       "      <td>60</td>\n",
       "      <td>17.0</td>\n",
       "      <td>A</td>\n",
       "      <td>12672000.0</td>\n",
       "      <td>107130.0</td>\n",
       "      <td>0.0</td>\n",
       "      <td>3.0</td>\n",
       "      <td>624.0</td>\n",
       "      <td>205.0</td>\n",
       "    </tr>\n",
       "    <tr>\n",
       "      <th>10</th>\n",
       "      <td>C2515</td>\n",
       "      <td>545</td>\n",
       "      <td>아파트</td>\n",
       "      <td>경상남도</td>\n",
       "      <td>국민임대</td>\n",
       "      <td>39.60</td>\n",
       "      <td>20</td>\n",
       "      <td>17.0</td>\n",
       "      <td>A</td>\n",
       "      <td>12672000.0</td>\n",
       "      <td>107130.0</td>\n",
       "      <td>0.0</td>\n",
       "      <td>3.0</td>\n",
       "      <td>624.0</td>\n",
       "      <td>205.0</td>\n",
       "    </tr>\n",
       "    <tr>\n",
       "      <th>11</th>\n",
       "      <td>C2515</td>\n",
       "      <td>545</td>\n",
       "      <td>아파트</td>\n",
       "      <td>경상남도</td>\n",
       "      <td>국민임대</td>\n",
       "      <td>46.90</td>\n",
       "      <td>38</td>\n",
       "      <td>17.0</td>\n",
       "      <td>A</td>\n",
       "      <td>18433000.0</td>\n",
       "      <td>149760.0</td>\n",
       "      <td>0.0</td>\n",
       "      <td>3.0</td>\n",
       "      <td>624.0</td>\n",
       "      <td>205.0</td>\n",
       "    </tr>\n",
       "    <tr>\n",
       "      <th>12</th>\n",
       "      <td>C2515</td>\n",
       "      <td>545</td>\n",
       "      <td>아파트</td>\n",
       "      <td>경상남도</td>\n",
       "      <td>국민임대</td>\n",
       "      <td>46.90</td>\n",
       "      <td>19</td>\n",
       "      <td>17.0</td>\n",
       "      <td>A</td>\n",
       "      <td>18433000.0</td>\n",
       "      <td>149760.0</td>\n",
       "      <td>0.0</td>\n",
       "      <td>3.0</td>\n",
       "      <td>624.0</td>\n",
       "      <td>205.0</td>\n",
       "    </tr>\n",
       "  </tbody>\n",
       "</table>\n",
       "</div>"
      ],
      "text/plain": [
       "     단지코드  총세대수 임대건물구분    지역  공급유형   전용면적  전용면적별세대수   공가수 자격유형       임대보증금  \\\n",
       "8   C2515   545    아파트  경상남도  국민임대  33.48       276  17.0    A   9216000.0   \n",
       "9   C2515   545    아파트  경상남도  국민임대  39.60        60  17.0    A  12672000.0   \n",
       "10  C2515   545    아파트  경상남도  국민임대  39.60        20  17.0    A  12672000.0   \n",
       "11  C2515   545    아파트  경상남도  국민임대  46.90        38  17.0    A  18433000.0   \n",
       "12  C2515   545    아파트  경상남도  국민임대  46.90        19  17.0    A  18433000.0   \n",
       "\n",
       "         임대료  도보 10분거리 내 지하철역 수(환승노선 수 반영)  도보 10분거리 내 버스정류장 수  단지내주차면수  등록차량수  \n",
       "8    82940.0                           0.0                 3.0    624.0  205.0  \n",
       "9   107130.0                           0.0                 3.0    624.0  205.0  \n",
       "10  107130.0                           0.0                 3.0    624.0  205.0  \n",
       "11  149760.0                           0.0                 3.0    624.0  205.0  \n",
       "12  149760.0                           0.0                 3.0    624.0  205.0  "
      ]
     },
     "execution_count": 240,
     "metadata": {},
     "output_type": "execute_result"
    }
   ],
   "source": [
    "train.head()"
   ]
  },
  {
   "cell_type": "code",
   "execution_count": 239,
   "id": "42d7db23",
   "metadata": {},
   "outputs": [
    {
     "data": {
      "text/html": [
       "<div>\n",
       "<style scoped>\n",
       "    .dataframe tbody tr th:only-of-type {\n",
       "        vertical-align: middle;\n",
       "    }\n",
       "\n",
       "    .dataframe tbody tr th {\n",
       "        vertical-align: top;\n",
       "    }\n",
       "\n",
       "    .dataframe thead th {\n",
       "        text-align: right;\n",
       "    }\n",
       "</style>\n",
       "<table border=\"1\" class=\"dataframe\">\n",
       "  <thead>\n",
       "    <tr style=\"text-align: right;\">\n",
       "      <th></th>\n",
       "      <th>단지코드</th>\n",
       "      <th>총세대수</th>\n",
       "      <th>임대건물구분</th>\n",
       "      <th>지역</th>\n",
       "      <th>공급유형</th>\n",
       "      <th>전용면적</th>\n",
       "      <th>전용면적별세대수</th>\n",
       "      <th>공가수</th>\n",
       "      <th>자격유형</th>\n",
       "      <th>임대보증금</th>\n",
       "      <th>임대료</th>\n",
       "      <th>도보 10분거리 내 지하철역 수(환승노선 수 반영)</th>\n",
       "      <th>도보 10분거리 내 버스정류장 수</th>\n",
       "      <th>단지내주차면수</th>\n",
       "    </tr>\n",
       "  </thead>\n",
       "  <tbody>\n",
       "    <tr>\n",
       "      <th>0</th>\n",
       "      <td>C1072</td>\n",
       "      <td>754</td>\n",
       "      <td>아파트</td>\n",
       "      <td>경기도</td>\n",
       "      <td>국민임대</td>\n",
       "      <td>39.79</td>\n",
       "      <td>116</td>\n",
       "      <td>14.0</td>\n",
       "      <td>H</td>\n",
       "      <td>22830000.0</td>\n",
       "      <td>189840.0</td>\n",
       "      <td>0.0</td>\n",
       "      <td>2.0</td>\n",
       "      <td>683.0</td>\n",
       "    </tr>\n",
       "    <tr>\n",
       "      <th>1</th>\n",
       "      <td>C1072</td>\n",
       "      <td>754</td>\n",
       "      <td>아파트</td>\n",
       "      <td>경기도</td>\n",
       "      <td>국민임대</td>\n",
       "      <td>46.81</td>\n",
       "      <td>30</td>\n",
       "      <td>14.0</td>\n",
       "      <td>A</td>\n",
       "      <td>36048000.0</td>\n",
       "      <td>249930.0</td>\n",
       "      <td>0.0</td>\n",
       "      <td>2.0</td>\n",
       "      <td>683.0</td>\n",
       "    </tr>\n",
       "    <tr>\n",
       "      <th>2</th>\n",
       "      <td>C1072</td>\n",
       "      <td>754</td>\n",
       "      <td>아파트</td>\n",
       "      <td>경기도</td>\n",
       "      <td>국민임대</td>\n",
       "      <td>46.90</td>\n",
       "      <td>112</td>\n",
       "      <td>14.0</td>\n",
       "      <td>H</td>\n",
       "      <td>36048000.0</td>\n",
       "      <td>249930.0</td>\n",
       "      <td>0.0</td>\n",
       "      <td>2.0</td>\n",
       "      <td>683.0</td>\n",
       "    </tr>\n",
       "    <tr>\n",
       "      <th>3</th>\n",
       "      <td>C1072</td>\n",
       "      <td>754</td>\n",
       "      <td>아파트</td>\n",
       "      <td>경기도</td>\n",
       "      <td>국민임대</td>\n",
       "      <td>46.90</td>\n",
       "      <td>120</td>\n",
       "      <td>14.0</td>\n",
       "      <td>H</td>\n",
       "      <td>36048000.0</td>\n",
       "      <td>249930.0</td>\n",
       "      <td>0.0</td>\n",
       "      <td>2.0</td>\n",
       "      <td>683.0</td>\n",
       "    </tr>\n",
       "    <tr>\n",
       "      <th>4</th>\n",
       "      <td>C1072</td>\n",
       "      <td>754</td>\n",
       "      <td>아파트</td>\n",
       "      <td>경기도</td>\n",
       "      <td>국민임대</td>\n",
       "      <td>51.46</td>\n",
       "      <td>60</td>\n",
       "      <td>14.0</td>\n",
       "      <td>H</td>\n",
       "      <td>43497000.0</td>\n",
       "      <td>296780.0</td>\n",
       "      <td>0.0</td>\n",
       "      <td>2.0</td>\n",
       "      <td>683.0</td>\n",
       "    </tr>\n",
       "  </tbody>\n",
       "</table>\n",
       "</div>"
      ],
      "text/plain": [
       "    단지코드  총세대수 임대건물구분   지역  공급유형   전용면적  전용면적별세대수   공가수 자격유형       임대보증금  \\\n",
       "0  C1072   754    아파트  경기도  국민임대  39.79       116  14.0    H  22830000.0   \n",
       "1  C1072   754    아파트  경기도  국민임대  46.81        30  14.0    A  36048000.0   \n",
       "2  C1072   754    아파트  경기도  국민임대  46.90       112  14.0    H  36048000.0   \n",
       "3  C1072   754    아파트  경기도  국민임대  46.90       120  14.0    H  36048000.0   \n",
       "4  C1072   754    아파트  경기도  국민임대  51.46        60  14.0    H  43497000.0   \n",
       "\n",
       "        임대료  도보 10분거리 내 지하철역 수(환승노선 수 반영)  도보 10분거리 내 버스정류장 수  단지내주차면수  \n",
       "0  189840.0                           0.0                 2.0    683.0  \n",
       "1  249930.0                           0.0                 2.0    683.0  \n",
       "2  249930.0                           0.0                 2.0    683.0  \n",
       "3  249930.0                           0.0                 2.0    683.0  \n",
       "4  296780.0                           0.0                 2.0    683.0  "
      ]
     },
     "execution_count": 239,
     "metadata": {},
     "output_type": "execute_result"
    }
   ],
   "source": [
    "test.head()"
   ]
  }
 ],
 "metadata": {
  "kernelspec": {
   "display_name": "Python 3 (ipykernel)",
   "language": "python",
   "name": "python3"
  },
  "language_info": {
   "codemirror_mode": {
    "name": "ipython",
    "version": 3
   },
   "file_extension": ".py",
   "mimetype": "text/x-python",
   "name": "python",
   "nbconvert_exporter": "python",
   "pygments_lexer": "ipython3",
   "version": "3.8.12"
  }
 },
 "nbformat": 4,
 "nbformat_minor": 5
}
