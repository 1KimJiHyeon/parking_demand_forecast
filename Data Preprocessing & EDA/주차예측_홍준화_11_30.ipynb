{
 "cells": [
  {
   "cell_type": "code",
   "execution_count": 133,
   "id": "ea2c4d94",
   "metadata": {},
   "outputs": [],
   "source": [
    "import pandas as pd\n",
    "import numpy as np\n",
    "\n",
    "train_df = pd.read_csv('./235745_parking_data/train.csv')\n",
    "test_df = pd.read_csv('./235745_parking_data/test.csv')\n",
    "submission_df = pd.read_csv('./235745_parking_data/sample_submission.csv')\n",
    "age_gender_df = pd.read_csv('./235745_parking_data/age_gender_info.csv')"
   ]
  },
  {
   "cell_type": "code",
   "execution_count": 134,
   "id": "055789df",
   "metadata": {},
   "outputs": [],
   "source": [
    "import matplotlib.pyplot as plt \n",
    "import seaborn as sns \n",
    "%matplotlib inline\n",
    "import platform\n",
    "from matplotlib import font_manager, rc \n",
    "sns.set_style('darkgrid')\n",
    "\n",
    "plt.rcParams[\"axes.unicode_minus\"] = False \n",
    "get_ipython().run_line_magic(\"matplotlib\", \"inline\")\n",
    "\n",
    "if platform.system() == \"Darwin\":\n",
    "    rc(\"font\", family=\"Arial Unicode MS\")\n",
    "elif platform.system() == \"Windows\":\n",
    "    rc(\"font\", family=\"Malgun Gothic\")\n",
    "else:\n",
    "    print(\"Unkown system. sorry~~\")"
   ]
  },
  {
   "cell_type": "code",
   "execution_count": 135,
   "id": "d103c7d4",
   "metadata": {},
   "outputs": [
    {
     "data": {
      "text/plain": [
       "(16, 23)"
      ]
     },
     "execution_count": 135,
     "metadata": {},
     "output_type": "execute_result"
    }
   ],
   "source": [
    "age_gender_df.shape"
   ]
  },
  {
   "cell_type": "code",
   "execution_count": 136,
   "id": "37eff8cb",
   "metadata": {},
   "outputs": [
    {
     "data": {
      "text/html": [
       "<div>\n",
       "<style scoped>\n",
       "    .dataframe tbody tr th:only-of-type {\n",
       "        vertical-align: middle;\n",
       "    }\n",
       "\n",
       "    .dataframe tbody tr th {\n",
       "        vertical-align: top;\n",
       "    }\n",
       "\n",
       "    .dataframe thead th {\n",
       "        text-align: right;\n",
       "    }\n",
       "</style>\n",
       "<table border=\"1\" class=\"dataframe\">\n",
       "  <thead>\n",
       "    <tr style=\"text-align: right;\">\n",
       "      <th></th>\n",
       "      <th>지역</th>\n",
       "      <th>10대미만(여자)</th>\n",
       "      <th>10대미만(남자)</th>\n",
       "      <th>10대(여자)</th>\n",
       "      <th>10대(남자)</th>\n",
       "      <th>20대(여자)</th>\n",
       "      <th>20대(남자)</th>\n",
       "      <th>30대(여자)</th>\n",
       "      <th>30대(남자)</th>\n",
       "      <th>40대(여자)</th>\n",
       "      <th>...</th>\n",
       "      <th>60대(여자)</th>\n",
       "      <th>60대(남자)</th>\n",
       "      <th>70대(여자)</th>\n",
       "      <th>70대(남자)</th>\n",
       "      <th>80대(여자)</th>\n",
       "      <th>80대(남자)</th>\n",
       "      <th>90대(여자)</th>\n",
       "      <th>90대(남자)</th>\n",
       "      <th>100대(여자)</th>\n",
       "      <th>100대(남자)</th>\n",
       "    </tr>\n",
       "  </thead>\n",
       "  <tbody>\n",
       "    <tr>\n",
       "      <th>0</th>\n",
       "      <td>경상북도</td>\n",
       "      <td>0.030158</td>\n",
       "      <td>0.033195</td>\n",
       "      <td>0.056346</td>\n",
       "      <td>0.061360</td>\n",
       "      <td>0.060096</td>\n",
       "      <td>0.067859</td>\n",
       "      <td>0.053433</td>\n",
       "      <td>0.049572</td>\n",
       "      <td>0.083660</td>\n",
       "      <td>...</td>\n",
       "      <td>0.082684</td>\n",
       "      <td>0.063889</td>\n",
       "      <td>0.047717</td>\n",
       "      <td>0.030172</td>\n",
       "      <td>0.029361</td>\n",
       "      <td>0.011211</td>\n",
       "      <td>0.005578</td>\n",
       "      <td>0.001553</td>\n",
       "      <td>0.000234</td>\n",
       "      <td>0.000014</td>\n",
       "    </tr>\n",
       "    <tr>\n",
       "      <th>1</th>\n",
       "      <td>경상남도</td>\n",
       "      <td>0.027400</td>\n",
       "      <td>0.026902</td>\n",
       "      <td>0.053257</td>\n",
       "      <td>0.055568</td>\n",
       "      <td>0.064920</td>\n",
       "      <td>0.070618</td>\n",
       "      <td>0.056414</td>\n",
       "      <td>0.057550</td>\n",
       "      <td>0.077092</td>\n",
       "      <td>...</td>\n",
       "      <td>0.087201</td>\n",
       "      <td>0.069562</td>\n",
       "      <td>0.048357</td>\n",
       "      <td>0.033277</td>\n",
       "      <td>0.027361</td>\n",
       "      <td>0.011295</td>\n",
       "      <td>0.004910</td>\n",
       "      <td>0.001086</td>\n",
       "      <td>0.000179</td>\n",
       "      <td>0.000010</td>\n",
       "    </tr>\n",
       "    <tr>\n",
       "      <th>2</th>\n",
       "      <td>대전광역시</td>\n",
       "      <td>0.028197</td>\n",
       "      <td>0.029092</td>\n",
       "      <td>0.040490</td>\n",
       "      <td>0.042793</td>\n",
       "      <td>0.060834</td>\n",
       "      <td>0.064247</td>\n",
       "      <td>0.068654</td>\n",
       "      <td>0.066848</td>\n",
       "      <td>0.074667</td>\n",
       "      <td>...</td>\n",
       "      <td>0.088468</td>\n",
       "      <td>0.070261</td>\n",
       "      <td>0.051010</td>\n",
       "      <td>0.037143</td>\n",
       "      <td>0.032455</td>\n",
       "      <td>0.013751</td>\n",
       "      <td>0.006494</td>\n",
       "      <td>0.001740</td>\n",
       "      <td>0.000298</td>\n",
       "      <td>0.000066</td>\n",
       "    </tr>\n",
       "  </tbody>\n",
       "</table>\n",
       "<p>3 rows × 23 columns</p>\n",
       "</div>"
      ],
      "text/plain": [
       "      지역  10대미만(여자)  10대미만(남자)   10대(여자)   10대(남자)   20대(여자)   20대(남자)  \\\n",
       "0   경상북도   0.030158   0.033195  0.056346  0.061360  0.060096  0.067859   \n",
       "1   경상남도   0.027400   0.026902  0.053257  0.055568  0.064920  0.070618   \n",
       "2  대전광역시   0.028197   0.029092  0.040490  0.042793  0.060834  0.064247   \n",
       "\n",
       "    30대(여자)   30대(남자)   40대(여자)  ...   60대(여자)   60대(남자)   70대(여자)   70대(남자)  \\\n",
       "0  0.053433  0.049572  0.083660  ...  0.082684  0.063889  0.047717  0.030172   \n",
       "1  0.056414  0.057550  0.077092  ...  0.087201  0.069562  0.048357  0.033277   \n",
       "2  0.068654  0.066848  0.074667  ...  0.088468  0.070261  0.051010  0.037143   \n",
       "\n",
       "    80대(여자)   80대(남자)   90대(여자)   90대(남자)  100대(여자)  100대(남자)  \n",
       "0  0.029361  0.011211  0.005578  0.001553  0.000234  0.000014  \n",
       "1  0.027361  0.011295  0.004910  0.001086  0.000179  0.000010  \n",
       "2  0.032455  0.013751  0.006494  0.001740  0.000298  0.000066  \n",
       "\n",
       "[3 rows x 23 columns]"
      ]
     },
     "execution_count": 136,
     "metadata": {},
     "output_type": "execute_result"
    }
   ],
   "source": [
    "age_gender_df.head(3)"
   ]
  },
  {
   "cell_type": "code",
   "execution_count": 137,
   "id": "905f77ac",
   "metadata": {},
   "outputs": [
    {
     "data": {
      "text/plain": [
       "0        경상북도\n",
       "1        경상남도\n",
       "2       대전광역시\n",
       "3         경기도\n",
       "4        전라북도\n",
       "5         강원도\n",
       "6       광주광역시\n",
       "7        충청남도\n",
       "8       부산광역시\n",
       "9     제주특별자치도\n",
       "10      울산광역시\n",
       "11       충청북도\n",
       "12       전라남도\n",
       "13      대구광역시\n",
       "14      서울특별시\n",
       "15    세종특별자치시\n",
       "Name: 지역, dtype: object"
      ]
     },
     "execution_count": 137,
     "metadata": {},
     "output_type": "execute_result"
    }
   ],
   "source": [
    "age_gender_df['지역']"
   ]
  },
  {
   "cell_type": "code",
   "execution_count": 138,
   "id": "5acc1518",
   "metadata": {},
   "outputs": [
    {
     "data": {
      "text/plain": [
       "Index(['단지코드', '총세대수', '임대건물구분', '지역', '공급유형', '전용면적', '전용면적별세대수', '공가수',\n",
       "       '자격유형', '임대보증금', '임대료', '도보 10분거리 내 지하철역 수(환승노선 수 반영)',\n",
       "       '도보 10분거리 내 버스정류장 수', '단지내주차면수', '등록차량수'],\n",
       "      dtype='object')"
      ]
     },
     "execution_count": 138,
     "metadata": {},
     "output_type": "execute_result"
    }
   ],
   "source": [
    "train_df.columns"
   ]
  },
  {
   "cell_type": "code",
   "execution_count": 139,
   "id": "94eb3c47",
   "metadata": {},
   "outputs": [
    {
     "data": {
      "text/html": [
       "<div>\n",
       "<style scoped>\n",
       "    .dataframe tbody tr th:only-of-type {\n",
       "        vertical-align: middle;\n",
       "    }\n",
       "\n",
       "    .dataframe tbody tr th {\n",
       "        vertical-align: top;\n",
       "    }\n",
       "\n",
       "    .dataframe thead th {\n",
       "        text-align: right;\n",
       "    }\n",
       "</style>\n",
       "<table border=\"1\" class=\"dataframe\">\n",
       "  <thead>\n",
       "    <tr style=\"text-align: right;\">\n",
       "      <th></th>\n",
       "      <th>단지코드</th>\n",
       "      <th>총세대수</th>\n",
       "      <th>임대건물구분</th>\n",
       "      <th>지역</th>\n",
       "      <th>공급유형</th>\n",
       "      <th>전용면적</th>\n",
       "      <th>전용면적별세대수</th>\n",
       "      <th>공가수</th>\n",
       "      <th>자격유형</th>\n",
       "      <th>임대보증금</th>\n",
       "      <th>임대료</th>\n",
       "      <th>도보 10분거리 내 지하철역 수(환승노선 수 반영)</th>\n",
       "      <th>도보 10분거리 내 버스정류장 수</th>\n",
       "      <th>단지내주차면수</th>\n",
       "      <th>등록차량수</th>\n",
       "    </tr>\n",
       "  </thead>\n",
       "  <tbody>\n",
       "    <tr>\n",
       "      <th>0</th>\n",
       "      <td>C2483</td>\n",
       "      <td>900</td>\n",
       "      <td>아파트</td>\n",
       "      <td>경상북도</td>\n",
       "      <td>국민임대</td>\n",
       "      <td>39.72</td>\n",
       "      <td>134</td>\n",
       "      <td>38.0</td>\n",
       "      <td>A</td>\n",
       "      <td>15667000</td>\n",
       "      <td>103680</td>\n",
       "      <td>0.0</td>\n",
       "      <td>3.0</td>\n",
       "      <td>1425.0</td>\n",
       "      <td>1015.0</td>\n",
       "    </tr>\n",
       "    <tr>\n",
       "      <th>1</th>\n",
       "      <td>C2483</td>\n",
       "      <td>900</td>\n",
       "      <td>아파트</td>\n",
       "      <td>경상북도</td>\n",
       "      <td>국민임대</td>\n",
       "      <td>39.72</td>\n",
       "      <td>15</td>\n",
       "      <td>38.0</td>\n",
       "      <td>A</td>\n",
       "      <td>15667000</td>\n",
       "      <td>103680</td>\n",
       "      <td>0.0</td>\n",
       "      <td>3.0</td>\n",
       "      <td>1425.0</td>\n",
       "      <td>1015.0</td>\n",
       "    </tr>\n",
       "    <tr>\n",
       "      <th>2</th>\n",
       "      <td>C2483</td>\n",
       "      <td>900</td>\n",
       "      <td>아파트</td>\n",
       "      <td>경상북도</td>\n",
       "      <td>국민임대</td>\n",
       "      <td>51.93</td>\n",
       "      <td>385</td>\n",
       "      <td>38.0</td>\n",
       "      <td>A</td>\n",
       "      <td>27304000</td>\n",
       "      <td>184330</td>\n",
       "      <td>0.0</td>\n",
       "      <td>3.0</td>\n",
       "      <td>1425.0</td>\n",
       "      <td>1015.0</td>\n",
       "    </tr>\n",
       "    <tr>\n",
       "      <th>3</th>\n",
       "      <td>C2483</td>\n",
       "      <td>900</td>\n",
       "      <td>아파트</td>\n",
       "      <td>경상북도</td>\n",
       "      <td>국민임대</td>\n",
       "      <td>51.93</td>\n",
       "      <td>15</td>\n",
       "      <td>38.0</td>\n",
       "      <td>A</td>\n",
       "      <td>27304000</td>\n",
       "      <td>184330</td>\n",
       "      <td>0.0</td>\n",
       "      <td>3.0</td>\n",
       "      <td>1425.0</td>\n",
       "      <td>1015.0</td>\n",
       "    </tr>\n",
       "    <tr>\n",
       "      <th>4</th>\n",
       "      <td>C2483</td>\n",
       "      <td>900</td>\n",
       "      <td>아파트</td>\n",
       "      <td>경상북도</td>\n",
       "      <td>국민임대</td>\n",
       "      <td>51.93</td>\n",
       "      <td>41</td>\n",
       "      <td>38.0</td>\n",
       "      <td>A</td>\n",
       "      <td>27304000</td>\n",
       "      <td>184330</td>\n",
       "      <td>0.0</td>\n",
       "      <td>3.0</td>\n",
       "      <td>1425.0</td>\n",
       "      <td>1015.0</td>\n",
       "    </tr>\n",
       "  </tbody>\n",
       "</table>\n",
       "</div>"
      ],
      "text/plain": [
       "    단지코드  총세대수 임대건물구분    지역  공급유형   전용면적  전용면적별세대수   공가수 자격유형     임대보증금  \\\n",
       "0  C2483   900    아파트  경상북도  국민임대  39.72       134  38.0    A  15667000   \n",
       "1  C2483   900    아파트  경상북도  국민임대  39.72        15  38.0    A  15667000   \n",
       "2  C2483   900    아파트  경상북도  국민임대  51.93       385  38.0    A  27304000   \n",
       "3  C2483   900    아파트  경상북도  국민임대  51.93        15  38.0    A  27304000   \n",
       "4  C2483   900    아파트  경상북도  국민임대  51.93        41  38.0    A  27304000   \n",
       "\n",
       "      임대료  도보 10분거리 내 지하철역 수(환승노선 수 반영)  도보 10분거리 내 버스정류장 수  단지내주차면수   등록차량수  \n",
       "0  103680                           0.0                 3.0   1425.0  1015.0  \n",
       "1  103680                           0.0                 3.0   1425.0  1015.0  \n",
       "2  184330                           0.0                 3.0   1425.0  1015.0  \n",
       "3  184330                           0.0                 3.0   1425.0  1015.0  \n",
       "4  184330                           0.0                 3.0   1425.0  1015.0  "
      ]
     },
     "execution_count": 139,
     "metadata": {},
     "output_type": "execute_result"
    }
   ],
   "source": [
    "train_df.head()"
   ]
  },
  {
   "cell_type": "code",
   "execution_count": 140,
   "id": "1926ddd8",
   "metadata": {},
   "outputs": [
    {
     "data": {
      "text/plain": [
       "(2952, 1022)"
      ]
     },
     "execution_count": 140,
     "metadata": {},
     "output_type": "execute_result"
    }
   ],
   "source": [
    "len(train_df), len(test_df)"
   ]
  },
  {
   "cell_type": "code",
   "execution_count": 141,
   "id": "7f3eb0d2",
   "metadata": {},
   "outputs": [
    {
     "name": "stdout",
     "output_type": "stream",
     "text": [
      "<class 'pandas.core.frame.DataFrame'>\n",
      "RangeIndex: 2952 entries, 0 to 2951\n",
      "Data columns (total 15 columns):\n",
      " #   Column                        Non-Null Count  Dtype  \n",
      "---  ------                        --------------  -----  \n",
      " 0   단지코드                          2952 non-null   object \n",
      " 1   총세대수                          2952 non-null   int64  \n",
      " 2   임대건물구분                        2952 non-null   object \n",
      " 3   지역                            2952 non-null   object \n",
      " 4   공급유형                          2952 non-null   object \n",
      " 5   전용면적                          2952 non-null   float64\n",
      " 6   전용면적별세대수                      2952 non-null   int64  \n",
      " 7   공가수                           2952 non-null   float64\n",
      " 8   자격유형                          2952 non-null   object \n",
      " 9   임대보증금                         2383 non-null   object \n",
      " 10  임대료                           2383 non-null   object \n",
      " 11  도보 10분거리 내 지하철역 수(환승노선 수 반영)  2741 non-null   float64\n",
      " 12  도보 10분거리 내 버스정류장 수            2948 non-null   float64\n",
      " 13  단지내주차면수                       2952 non-null   float64\n",
      " 14  등록차량수                         2952 non-null   float64\n",
      "dtypes: float64(6), int64(2), object(7)\n",
      "memory usage: 346.1+ KB\n"
     ]
    }
   ],
   "source": [
    "train_df.info()"
   ]
  },
  {
   "cell_type": "markdown",
   "id": "e0b86346",
   "metadata": {},
   "source": [
    "- 단지코드: C + 4자리번호\n",
    "- 총세대수: 단지 코드 별 총세대수 (분양 상가, 분양 아파트 포함)\n",
    "- 임대건물구분 : c(아파트, 상가)\n",
    "- 지역 : '경상남도', '대전광역시', '경기도', '전라북도', '강원도', '광주광역시', '충청남도', '부산광역시',\n",
    "       '제주특별자치도', '울산광역시', '충청북도', '전라남도', '경상북도', '대구광역시', '서울특별시',\n",
    "       '세종특별자치시'\n",
    "- 공급유형 : '국민임대', '공공임대(50년)', '영구임대', '임대상가', '공공임대(10년)', '공공임대(분납)',\n",
    "       '장기전세', '공공분양', '행복주택', '공공임대(5년)'\n",
    "- 전용면적 : 12.62 ~ 583.4 ($m^2?)$\n",
    "- 전용면적적별세대수 : 전용면적 별 세대수 (분양 상가, 분양 아파트 미포함)\n",
    "- 공가수 : 단지 코드 별 비어있는 호실 수\n",
    "- 자격유형 : c('A', 'B', 'C', 'D', 'E', 'F', 'G', 'H', 'I', 'J', 'K', 'L', 'M',\n",
    "       'N', 'O')\n",
    "- 임대보증금 : 원 단위?\n",
    "- 임대료 : 원 단위?\n",
    "- 도보 10분거리 내 지하철역 수(환승노선 수 반영) : 0 ~ 3개 (단지 코드별)\n",
    "- 단지내주차면수 : 13 ~ 1798 개 (단지 코드별)\n",
    "- 등록차량수 : 13 ~ 2550 개 (단지 코드별)"
   ]
  },
  {
   "cell_type": "code",
   "execution_count": 142,
   "id": "cc0851e0",
   "metadata": {},
   "outputs": [
    {
     "data": {
      "text/plain": [
       "423"
      ]
     },
     "execution_count": 142,
     "metadata": {},
     "output_type": "execute_result"
    }
   ],
   "source": [
    "train_df['단지코드'].nunique()"
   ]
  },
  {
   "cell_type": "code",
   "execution_count": 143,
   "id": "1b583a13",
   "metadata": {},
   "outputs": [],
   "source": [
    "def print_na_value(train, test):\n",
    "    train_copy = train.isna().sum().copy()\n",
    "    test_copy = test.isna().sum().copy()\n",
    "    print('='*60)\n",
    "    print('Train Dataset>>>')\n",
    "    print(train_copy.loc[train_copy!=0])\n",
    "    print('='*60)\n",
    "    print('Test Dataset>>>')\n",
    "    print(test_copy.loc[test_copy!=0])"
   ]
  },
  {
   "cell_type": "code",
   "execution_count": 144,
   "id": "008e4e05",
   "metadata": {},
   "outputs": [
    {
     "name": "stdout",
     "output_type": "stream",
     "text": [
      "============================================================\n",
      "Train Dataset>>>\n",
      "임대보증금                           569\n",
      "임대료                             569\n",
      "도보 10분거리 내 지하철역 수(환승노선 수 반영)    211\n",
      "도보 10분거리 내 버스정류장 수                4\n",
      "dtype: int64\n",
      "============================================================\n",
      "Test Dataset>>>\n",
      "자격유형                              2\n",
      "임대보증금                           180\n",
      "임대료                             180\n",
      "도보 10분거리 내 지하철역 수(환승노선 수 반영)     42\n",
      "dtype: int64\n"
     ]
    }
   ],
   "source": [
    "print_na_value(train_df, test_df)"
   ]
  },
  {
   "cell_type": "markdown",
   "id": "bfb7b557",
   "metadata": {},
   "source": [
    "---"
   ]
  },
  {
   "cell_type": "markdown",
   "id": "18a28876",
   "metadata": {},
   "source": [
    "# 데이터 오류"
   ]
  },
  {
   "cell_type": "markdown",
   "id": "55fe7bc4",
   "metadata": {},
   "source": [
    "### 1. 전용면적별 세대수 합계와 총세대수가 일치하지 않는 경우  "
   ]
  },
  {
   "cell_type": "code",
   "execution_count": 145,
   "id": "a039219c",
   "metadata": {},
   "outputs": [
    {
     "data": {
      "text/plain": [
       "((2952, 14), (1022, 14))"
      ]
     },
     "execution_count": 145,
     "metadata": {},
     "output_type": "execute_result"
    }
   ],
   "source": [
    "train_df.iloc[:,:-1].shape, test_df.shape"
   ]
  },
  {
   "cell_type": "code",
   "execution_count": 146,
   "id": "d0a5d0b2",
   "metadata": {
    "scrolled": true
   },
   "outputs": [
    {
     "data": {
      "text/html": [
       "<div>\n",
       "<style scoped>\n",
       "    .dataframe tbody tr th:only-of-type {\n",
       "        vertical-align: middle;\n",
       "    }\n",
       "\n",
       "    .dataframe tbody tr th {\n",
       "        vertical-align: top;\n",
       "    }\n",
       "\n",
       "    .dataframe thead th {\n",
       "        text-align: right;\n",
       "    }\n",
       "</style>\n",
       "<table border=\"1\" class=\"dataframe\">\n",
       "  <thead>\n",
       "    <tr style=\"text-align: right;\">\n",
       "      <th></th>\n",
       "      <th>전용면적별세대수</th>\n",
       "      <th>총세대수</th>\n",
       "      <th>diff</th>\n",
       "    </tr>\n",
       "    <tr>\n",
       "      <th>단지코드</th>\n",
       "      <th></th>\n",
       "      <th></th>\n",
       "      <th></th>\n",
       "    </tr>\n",
       "  </thead>\n",
       "  <tbody>\n",
       "    <tr>\n",
       "      <th>C1024</th>\n",
       "      <td>477</td>\n",
       "      <td>680</td>\n",
       "      <td>203</td>\n",
       "    </tr>\n",
       "    <tr>\n",
       "      <th>C1030</th>\n",
       "      <td>70</td>\n",
       "      <td>75</td>\n",
       "      <td>5</td>\n",
       "    </tr>\n",
       "    <tr>\n",
       "      <th>C1038</th>\n",
       "      <td>550</td>\n",
       "      <td>554</td>\n",
       "      <td>4</td>\n",
       "    </tr>\n",
       "    <tr>\n",
       "      <th>C1068</th>\n",
       "      <td>805</td>\n",
       "      <td>806</td>\n",
       "      <td>1</td>\n",
       "    </tr>\n",
       "    <tr>\n",
       "      <th>C1156</th>\n",
       "      <td>998</td>\n",
       "      <td>1004</td>\n",
       "      <td>6</td>\n",
       "    </tr>\n",
       "    <tr>\n",
       "      <th>C1206</th>\n",
       "      <td>488</td>\n",
       "      <td>755</td>\n",
       "      <td>267</td>\n",
       "    </tr>\n",
       "    <tr>\n",
       "      <th>C1218</th>\n",
       "      <td>1040</td>\n",
       "      <td>1048</td>\n",
       "      <td>8</td>\n",
       "    </tr>\n",
       "    <tr>\n",
       "      <th>C1229</th>\n",
       "      <td>450</td>\n",
       "      <td>453</td>\n",
       "      <td>3</td>\n",
       "    </tr>\n",
       "    <tr>\n",
       "      <th>C1266</th>\n",
       "      <td>591</td>\n",
       "      <td>596</td>\n",
       "      <td>5</td>\n",
       "    </tr>\n",
       "    <tr>\n",
       "      <th>C1267</th>\n",
       "      <td>670</td>\n",
       "      <td>675</td>\n",
       "      <td>5</td>\n",
       "    </tr>\n",
       "    <tr>\n",
       "      <th>C1312</th>\n",
       "      <td>517</td>\n",
       "      <td>518</td>\n",
       "      <td>1</td>\n",
       "    </tr>\n",
       "    <tr>\n",
       "      <th>C1344</th>\n",
       "      <td>300</td>\n",
       "      <td>424</td>\n",
       "      <td>124</td>\n",
       "    </tr>\n",
       "    <tr>\n",
       "      <th>C1349</th>\n",
       "      <td>460</td>\n",
       "      <td>465</td>\n",
       "      <td>5</td>\n",
       "    </tr>\n",
       "    <tr>\n",
       "      <th>C1414</th>\n",
       "      <td>870</td>\n",
       "      <td>873</td>\n",
       "      <td>3</td>\n",
       "    </tr>\n",
       "    <tr>\n",
       "      <th>C1424</th>\n",
       "      <td>624</td>\n",
       "      <td>625</td>\n",
       "      <td>1</td>\n",
       "    </tr>\n",
       "    <tr>\n",
       "      <th>C1490</th>\n",
       "      <td>655</td>\n",
       "      <td>749</td>\n",
       "      <td>94</td>\n",
       "    </tr>\n",
       "    <tr>\n",
       "      <th>C1584</th>\n",
       "      <td>1220</td>\n",
       "      <td>1227</td>\n",
       "      <td>7</td>\n",
       "    </tr>\n",
       "    <tr>\n",
       "      <th>C1683</th>\n",
       "      <td>326</td>\n",
       "      <td>328</td>\n",
       "      <td>2</td>\n",
       "    </tr>\n",
       "    <tr>\n",
       "      <th>C1695</th>\n",
       "      <td>200</td>\n",
       "      <td>203</td>\n",
       "      <td>3</td>\n",
       "    </tr>\n",
       "    <tr>\n",
       "      <th>C1732</th>\n",
       "      <td>264</td>\n",
       "      <td>266</td>\n",
       "      <td>2</td>\n",
       "    </tr>\n",
       "    <tr>\n",
       "      <th>C1740</th>\n",
       "      <td>467</td>\n",
       "      <td>783</td>\n",
       "      <td>316</td>\n",
       "    </tr>\n",
       "    <tr>\n",
       "      <th>C1749</th>\n",
       "      <td>840</td>\n",
       "      <td>848</td>\n",
       "      <td>8</td>\n",
       "    </tr>\n",
       "    <tr>\n",
       "      <th>C1804</th>\n",
       "      <td>26</td>\n",
       "      <td>478</td>\n",
       "      <td>452</td>\n",
       "    </tr>\n",
       "    <tr>\n",
       "      <th>C1812</th>\n",
       "      <td>1009</td>\n",
       "      <td>1021</td>\n",
       "      <td>12</td>\n",
       "    </tr>\n",
       "    <tr>\n",
       "      <th>C1850</th>\n",
       "      <td>385</td>\n",
       "      <td>388</td>\n",
       "      <td>3</td>\n",
       "    </tr>\n",
       "    <tr>\n",
       "      <th>C1894</th>\n",
       "      <td>296</td>\n",
       "      <td>307</td>\n",
       "      <td>11</td>\n",
       "    </tr>\n",
       "    <tr>\n",
       "      <th>C1910</th>\n",
       "      <td>612</td>\n",
       "      <td>616</td>\n",
       "      <td>4</td>\n",
       "    </tr>\n",
       "    <tr>\n",
       "      <th>C1925</th>\n",
       "      <td>600</td>\n",
       "      <td>601</td>\n",
       "      <td>1</td>\n",
       "    </tr>\n",
       "    <tr>\n",
       "      <th>C1970</th>\n",
       "      <td>200</td>\n",
       "      <td>214</td>\n",
       "      <td>14</td>\n",
       "    </tr>\n",
       "    <tr>\n",
       "      <th>C2013</th>\n",
       "      <td>594</td>\n",
       "      <td>595</td>\n",
       "      <td>1</td>\n",
       "    </tr>\n",
       "    <tr>\n",
       "      <th>C2043</th>\n",
       "      <td>460</td>\n",
       "      <td>469</td>\n",
       "      <td>9</td>\n",
       "    </tr>\n",
       "    <tr>\n",
       "      <th>C2139</th>\n",
       "      <td>306</td>\n",
       "      <td>311</td>\n",
       "      <td>5</td>\n",
       "    </tr>\n",
       "    <tr>\n",
       "      <th>C2142</th>\n",
       "      <td>946</td>\n",
       "      <td>954</td>\n",
       "      <td>8</td>\n",
       "    </tr>\n",
       "    <tr>\n",
       "      <th>C2156</th>\n",
       "      <td>305</td>\n",
       "      <td>306</td>\n",
       "      <td>1</td>\n",
       "    </tr>\n",
       "    <tr>\n",
       "      <th>C2174</th>\n",
       "      <td>946</td>\n",
       "      <td>954</td>\n",
       "      <td>8</td>\n",
       "    </tr>\n",
       "    <tr>\n",
       "      <th>C2186</th>\n",
       "      <td>916</td>\n",
       "      <td>924</td>\n",
       "      <td>8</td>\n",
       "    </tr>\n",
       "    <tr>\n",
       "      <th>C2189</th>\n",
       "      <td>378</td>\n",
       "      <td>382</td>\n",
       "      <td>4</td>\n",
       "    </tr>\n",
       "    <tr>\n",
       "      <th>C2225</th>\n",
       "      <td>1200</td>\n",
       "      <td>1206</td>\n",
       "      <td>6</td>\n",
       "    </tr>\n",
       "    <tr>\n",
       "      <th>C2245</th>\n",
       "      <td>210</td>\n",
       "      <td>212</td>\n",
       "      <td>2</td>\n",
       "    </tr>\n",
       "    <tr>\n",
       "      <th>C2298</th>\n",
       "      <td>578</td>\n",
       "      <td>581</td>\n",
       "      <td>3</td>\n",
       "    </tr>\n",
       "    <tr>\n",
       "      <th>C2319</th>\n",
       "      <td>605</td>\n",
       "      <td>606</td>\n",
       "      <td>1</td>\n",
       "    </tr>\n",
       "    <tr>\n",
       "      <th>C2362</th>\n",
       "      <td>1500</td>\n",
       "      <td>1509</td>\n",
       "      <td>9</td>\n",
       "    </tr>\n",
       "    <tr>\n",
       "      <th>C2363</th>\n",
       "      <td>856</td>\n",
       "      <td>864</td>\n",
       "      <td>8</td>\n",
       "    </tr>\n",
       "    <tr>\n",
       "      <th>C2404</th>\n",
       "      <td>200</td>\n",
       "      <td>214</td>\n",
       "      <td>14</td>\n",
       "    </tr>\n",
       "    <tr>\n",
       "      <th>C2405</th>\n",
       "      <td>284</td>\n",
       "      <td>600</td>\n",
       "      <td>316</td>\n",
       "    </tr>\n",
       "    <tr>\n",
       "      <th>C2411</th>\n",
       "      <td>961</td>\n",
       "      <td>962</td>\n",
       "      <td>1</td>\n",
       "    </tr>\n",
       "    <tr>\n",
       "      <th>C2433</th>\n",
       "      <td>508</td>\n",
       "      <td>511</td>\n",
       "      <td>3</td>\n",
       "    </tr>\n",
       "    <tr>\n",
       "      <th>C2453</th>\n",
       "      <td>658</td>\n",
       "      <td>659</td>\n",
       "      <td>1</td>\n",
       "    </tr>\n",
       "    <tr>\n",
       "      <th>C2456</th>\n",
       "      <td>346</td>\n",
       "      <td>349</td>\n",
       "      <td>3</td>\n",
       "    </tr>\n",
       "    <tr>\n",
       "      <th>C2470</th>\n",
       "      <td>406</td>\n",
       "      <td>636</td>\n",
       "      <td>230</td>\n",
       "    </tr>\n",
       "    <tr>\n",
       "      <th>C2497</th>\n",
       "      <td>366</td>\n",
       "      <td>488</td>\n",
       "      <td>122</td>\n",
       "    </tr>\n",
       "    <tr>\n",
       "      <th>C2508</th>\n",
       "      <td>842</td>\n",
       "      <td>847</td>\n",
       "      <td>5</td>\n",
       "    </tr>\n",
       "    <tr>\n",
       "      <th>C2520</th>\n",
       "      <td>960</td>\n",
       "      <td>970</td>\n",
       "      <td>10</td>\n",
       "    </tr>\n",
       "    <tr>\n",
       "      <th>C2549</th>\n",
       "      <td>200</td>\n",
       "      <td>202</td>\n",
       "      <td>2</td>\n",
       "    </tr>\n",
       "    <tr>\n",
       "      <th>C2556</th>\n",
       "      <td>300</td>\n",
       "      <td>303</td>\n",
       "      <td>3</td>\n",
       "    </tr>\n",
       "    <tr>\n",
       "      <th>C2568</th>\n",
       "      <td>410</td>\n",
       "      <td>412</td>\n",
       "      <td>2</td>\n",
       "    </tr>\n",
       "    <tr>\n",
       "      <th>C2620</th>\n",
       "      <td>906</td>\n",
       "      <td>1029</td>\n",
       "      <td>123</td>\n",
       "    </tr>\n",
       "    <tr>\n",
       "      <th>C2644</th>\n",
       "      <td>778</td>\n",
       "      <td>779</td>\n",
       "      <td>1</td>\n",
       "    </tr>\n",
       "  </tbody>\n",
       "</table>\n",
       "</div>"
      ],
      "text/plain": [
       "       전용면적별세대수  총세대수  diff\n",
       "단지코드                       \n",
       "C1024       477   680   203\n",
       "C1030        70    75     5\n",
       "C1038       550   554     4\n",
       "C1068       805   806     1\n",
       "C1156       998  1004     6\n",
       "C1206       488   755   267\n",
       "C1218      1040  1048     8\n",
       "C1229       450   453     3\n",
       "C1266       591   596     5\n",
       "C1267       670   675     5\n",
       "C1312       517   518     1\n",
       "C1344       300   424   124\n",
       "C1349       460   465     5\n",
       "C1414       870   873     3\n",
       "C1424       624   625     1\n",
       "C1490       655   749    94\n",
       "C1584      1220  1227     7\n",
       "C1683       326   328     2\n",
       "C1695       200   203     3\n",
       "C1732       264   266     2\n",
       "C1740       467   783   316\n",
       "C1749       840   848     8\n",
       "C1804        26   478   452\n",
       "C1812      1009  1021    12\n",
       "C1850       385   388     3\n",
       "C1894       296   307    11\n",
       "C1910       612   616     4\n",
       "C1925       600   601     1\n",
       "C1970       200   214    14\n",
       "C2013       594   595     1\n",
       "C2043       460   469     9\n",
       "C2139       306   311     5\n",
       "C2142       946   954     8\n",
       "C2156       305   306     1\n",
       "C2174       946   954     8\n",
       "C2186       916   924     8\n",
       "C2189       378   382     4\n",
       "C2225      1200  1206     6\n",
       "C2245       210   212     2\n",
       "C2298       578   581     3\n",
       "C2319       605   606     1\n",
       "C2362      1500  1509     9\n",
       "C2363       856   864     8\n",
       "C2404       200   214    14\n",
       "C2405       284   600   316\n",
       "C2411       961   962     1\n",
       "C2433       508   511     3\n",
       "C2453       658   659     1\n",
       "C2456       346   349     3\n",
       "C2470       406   636   230\n",
       "C2497       366   488   122\n",
       "C2508       842   847     5\n",
       "C2520       960   970    10\n",
       "C2549       200   202     2\n",
       "C2556       300   303     3\n",
       "C2568       410   412     2\n",
       "C2620       906  1029   123\n",
       "C2644       778   779     1"
      ]
     },
     "execution_count": 146,
     "metadata": {},
     "output_type": "execute_result"
    }
   ],
   "source": [
    "df_concat = pd.concat([train_df.iloc[:,:-1], test_df])\n",
    "df_concat = df_concat[['단지코드', '총세대수', '전용면적별세대수']].pivot_table(index='단지코드', values=['총세대수', '전용면적별세대수'],\n",
    "                                                  aggfunc={'총세대수': 'mean', '전용면적별세대수':'sum'})\n",
    "df_concat['diff'] = df_concat['총세대수'] - df_concat['전용면적별세대수']\n",
    "df_concat.loc[df_concat['diff'] != 0]"
   ]
  },
  {
   "cell_type": "markdown",
   "id": "d56b427d",
   "metadata": {},
   "source": [
    "-  (발생 원인) 차이는 분양상가 또는 분양아파트가 임대단지 안에 혼합되어 발생한 것으로, 분양 완료된 상가 ․ 아파트는 관리대상에서 제외되어 전용면적별 세대수에서는 포함되지 않았으나 총세대수에는 포함되었다.\n",
    "\n",
    "- 방안 : 전용면적별 세대수를 총세대수 sum으로 update"
   ]
  },
  {
   "cell_type": "code",
   "execution_count": 147,
   "id": "02c0c3ca",
   "metadata": {},
   "outputs": [],
   "source": [
    "df_concat = df_concat['전용면적별세대수'].reset_index()\n",
    "df_concat.rename(columns={'전용면적별세대수': '총세대수'}, inplace=True)\n",
    "\n",
    "train_df = train_df[['단지코드', '임대건물구분', '지역', '공급유형', '전용면적', '전용면적별세대수', '공가수',\n",
    "       '자격유형', '임대보증금', '임대료', '도보 10분거리 내 지하철역 수(환승노선 수 반영)',\n",
    "       '도보 10분거리 내 버스정류장 수', '단지내주차면수', '등록차량수']]\n",
    "train_df = train_df.merge(df_concat, on='단지코드')"
   ]
  },
  {
   "cell_type": "code",
   "execution_count": 148,
   "id": "01d14fb3",
   "metadata": {},
   "outputs": [],
   "source": [
    "test_df = test_df[['단지코드', '임대건물구분', '지역', '공급유형', '전용면적', '전용면적별세대수', '공가수',\n",
    "       '자격유형', '임대보증금', '임대료', '도보 10분거리 내 지하철역 수(환승노선 수 반영)',\n",
    "       '도보 10분거리 내 버스정류장 수', '단지내주차면수']]\n",
    "test_df = test_df.merge(df_concat, on='단지코드')"
   ]
  },
  {
   "cell_type": "code",
   "execution_count": 149,
   "id": "400e8eef",
   "metadata": {},
   "outputs": [
    {
     "data": {
      "text/plain": [
       "(2952, 1022)"
      ]
     },
     "execution_count": 149,
     "metadata": {},
     "output_type": "execute_result"
    }
   ],
   "source": [
    "len(train_df), len(test_df)"
   ]
  },
  {
   "cell_type": "markdown",
   "id": "88161395",
   "metadata": {},
   "source": [
    "### 2. 동일한 단지에 단지코드가 2개로 부여된 경우\n",
    "### 3. 단지코드 등 기입 실수로 데이터 정제 과정에서 매칭 오류 발생\n",
    "- 오류 데이터 삭제"
   ]
  },
  {
   "cell_type": "code",
   "execution_count": 150,
   "id": "f710975e",
   "metadata": {},
   "outputs": [],
   "source": [
    "train_excl_code = ['C2085', 'C1397', 'C2431', 'C1649', 'C1036', 'C1095', 'C2051', 'C1218', 'C1894',\n",
    "                  'C2483', 'C1502', 'C1988']\n",
    "test_excl_code = ['C2675', 'C2335', 'C1327']"
   ]
  },
  {
   "cell_type": "code",
   "execution_count": 151,
   "id": "9c09bd06",
   "metadata": {},
   "outputs": [],
   "source": [
    "train_df = train_df.loc[train_df['단지코드'].isin(train_excl_code) == False]\n",
    "test_df = test_df.loc[test_df['단지코드'].isin(test_excl_code) == False]"
   ]
  },
  {
   "cell_type": "markdown",
   "id": "1f2a1e18",
   "metadata": {},
   "source": [
    "### 결측치 처리"
   ]
  },
  {
   "cell_type": "code",
   "execution_count": 152,
   "id": "3e68d94a",
   "metadata": {},
   "outputs": [
    {
     "data": {
      "text/plain": [
       "(2869, 1008)"
      ]
     },
     "execution_count": 152,
     "metadata": {},
     "output_type": "execute_result"
    }
   ],
   "source": [
    "len(train_df), len(test_df)"
   ]
  },
  {
   "cell_type": "code",
   "execution_count": 153,
   "id": "0747cdac",
   "metadata": {},
   "outputs": [
    {
     "name": "stdout",
     "output_type": "stream",
     "text": [
      "============================================================\n",
      "Train Dataset>>>\n",
      "임대보증금                           569\n",
      "임대료                             569\n",
      "도보 10분거리 내 지하철역 수(환승노선 수 반영)    207\n",
      "dtype: int64\n",
      "============================================================\n",
      "Test Dataset>>>\n",
      "자격유형                              2\n",
      "임대보증금                           180\n",
      "임대료                             180\n",
      "도보 10분거리 내 지하철역 수(환승노선 수 반영)     38\n",
      "dtype: int64\n"
     ]
    }
   ],
   "source": [
    "print_na_value(train_df, test_df)"
   ]
  },
  {
   "cell_type": "code",
   "execution_count": 154,
   "id": "8ae9a6eb",
   "metadata": {},
   "outputs": [],
   "source": [
    "test_df.loc[(test_df['단지코드']=='C2411') & (test_df['자격유형'].isna()), '자격유형'] = 'A'\n",
    "test_df.loc[(test_df['단지코드']=='C2253') & (test_df['자격유형'].isna()), '자격유형'] = 'C'"
   ]
  },
  {
   "cell_type": "markdown",
   "id": "fc211eec",
   "metadata": {},
   "source": [
    "- test set이지만 데이터값 누락으로 수정"
   ]
  },
  {
   "cell_type": "code",
   "execution_count": 155,
   "id": "a4e9cbce",
   "metadata": {},
   "outputs": [
    {
     "name": "stdout",
     "output_type": "stream",
     "text": [
      "============================================================\n",
      "Train Dataset>>>\n",
      "임대보증금                           569\n",
      "임대료                             569\n",
      "도보 10분거리 내 지하철역 수(환승노선 수 반영)    207\n",
      "dtype: int64\n",
      "============================================================\n",
      "Test Dataset>>>\n",
      "임대보증금                           180\n",
      "임대료                             180\n",
      "도보 10분거리 내 지하철역 수(환승노선 수 반영)     38\n",
      "dtype: int64\n"
     ]
    }
   ],
   "source": [
    "print_na_value(train_df, test_df)"
   ]
  },
  {
   "cell_type": "code",
   "execution_count": 156,
   "id": "930c1e29",
   "metadata": {
    "scrolled": true
   },
   "outputs": [
    {
     "data": {
      "text/html": [
       "<div>\n",
       "<style scoped>\n",
       "    .dataframe tbody tr th:only-of-type {\n",
       "        vertical-align: middle;\n",
       "    }\n",
       "\n",
       "    .dataframe tbody tr th {\n",
       "        vertical-align: top;\n",
       "    }\n",
       "\n",
       "    .dataframe thead th {\n",
       "        text-align: right;\n",
       "    }\n",
       "</style>\n",
       "<table border=\"1\" class=\"dataframe\">\n",
       "  <thead>\n",
       "    <tr style=\"text-align: right;\">\n",
       "      <th></th>\n",
       "      <th>단지코드</th>\n",
       "      <th>임대건물구분</th>\n",
       "      <th>지역</th>\n",
       "      <th>공급유형</th>\n",
       "      <th>전용면적</th>\n",
       "      <th>전용면적별세대수</th>\n",
       "      <th>공가수</th>\n",
       "      <th>자격유형</th>\n",
       "      <th>임대보증금</th>\n",
       "      <th>임대료</th>\n",
       "      <th>도보 10분거리 내 지하철역 수(환승노선 수 반영)</th>\n",
       "      <th>도보 10분거리 내 버스정류장 수</th>\n",
       "      <th>단지내주차면수</th>\n",
       "      <th>등록차량수</th>\n",
       "      <th>총세대수</th>\n",
       "    </tr>\n",
       "  </thead>\n",
       "  <tbody>\n",
       "    <tr>\n",
       "      <th>2547</th>\n",
       "      <td>C1326</td>\n",
       "      <td>아파트</td>\n",
       "      <td>부산광역시</td>\n",
       "      <td>국민임대</td>\n",
       "      <td>24.72</td>\n",
       "      <td>472</td>\n",
       "      <td>43.0</td>\n",
       "      <td>H</td>\n",
       "      <td>-</td>\n",
       "      <td>-</td>\n",
       "      <td>0.0</td>\n",
       "      <td>4.0</td>\n",
       "      <td>1670.0</td>\n",
       "      <td>1153.0</td>\n",
       "      <td>1934</td>\n",
       "    </tr>\n",
       "    <tr>\n",
       "      <th>2548</th>\n",
       "      <td>C1326</td>\n",
       "      <td>아파트</td>\n",
       "      <td>부산광역시</td>\n",
       "      <td>국민임대</td>\n",
       "      <td>24.79</td>\n",
       "      <td>104</td>\n",
       "      <td>43.0</td>\n",
       "      <td>H</td>\n",
       "      <td>-</td>\n",
       "      <td>-</td>\n",
       "      <td>0.0</td>\n",
       "      <td>4.0</td>\n",
       "      <td>1670.0</td>\n",
       "      <td>1153.0</td>\n",
       "      <td>1934</td>\n",
       "    </tr>\n",
       "    <tr>\n",
       "      <th>2549</th>\n",
       "      <td>C1326</td>\n",
       "      <td>아파트</td>\n",
       "      <td>부산광역시</td>\n",
       "      <td>국민임대</td>\n",
       "      <td>26.83</td>\n",
       "      <td>590</td>\n",
       "      <td>43.0</td>\n",
       "      <td>H</td>\n",
       "      <td>-</td>\n",
       "      <td>-</td>\n",
       "      <td>0.0</td>\n",
       "      <td>4.0</td>\n",
       "      <td>1670.0</td>\n",
       "      <td>1153.0</td>\n",
       "      <td>1934</td>\n",
       "    </tr>\n",
       "    <tr>\n",
       "      <th>2550</th>\n",
       "      <td>C1326</td>\n",
       "      <td>아파트</td>\n",
       "      <td>부산광역시</td>\n",
       "      <td>국민임대</td>\n",
       "      <td>37.70</td>\n",
       "      <td>464</td>\n",
       "      <td>43.0</td>\n",
       "      <td>H</td>\n",
       "      <td>-</td>\n",
       "      <td>-</td>\n",
       "      <td>0.0</td>\n",
       "      <td>4.0</td>\n",
       "      <td>1670.0</td>\n",
       "      <td>1153.0</td>\n",
       "      <td>1934</td>\n",
       "    </tr>\n",
       "    <tr>\n",
       "      <th>2551</th>\n",
       "      <td>C1326</td>\n",
       "      <td>아파트</td>\n",
       "      <td>부산광역시</td>\n",
       "      <td>국민임대</td>\n",
       "      <td>46.94</td>\n",
       "      <td>304</td>\n",
       "      <td>43.0</td>\n",
       "      <td>H</td>\n",
       "      <td>-</td>\n",
       "      <td>-</td>\n",
       "      <td>0.0</td>\n",
       "      <td>4.0</td>\n",
       "      <td>1670.0</td>\n",
       "      <td>1153.0</td>\n",
       "      <td>1934</td>\n",
       "    </tr>\n",
       "    <tr>\n",
       "      <th>2680</th>\n",
       "      <td>C1786</td>\n",
       "      <td>아파트</td>\n",
       "      <td>강원도</td>\n",
       "      <td>행복주택</td>\n",
       "      <td>16.91</td>\n",
       "      <td>156</td>\n",
       "      <td>25.0</td>\n",
       "      <td>K</td>\n",
       "      <td>-</td>\n",
       "      <td>-</td>\n",
       "      <td>0.0</td>\n",
       "      <td>3.0</td>\n",
       "      <td>338.0</td>\n",
       "      <td>345.0</td>\n",
       "      <td>480</td>\n",
       "    </tr>\n",
       "    <tr>\n",
       "      <th>2681</th>\n",
       "      <td>C1786</td>\n",
       "      <td>아파트</td>\n",
       "      <td>강원도</td>\n",
       "      <td>행복주택</td>\n",
       "      <td>26.90</td>\n",
       "      <td>136</td>\n",
       "      <td>25.0</td>\n",
       "      <td>K</td>\n",
       "      <td>-</td>\n",
       "      <td>-</td>\n",
       "      <td>0.0</td>\n",
       "      <td>3.0</td>\n",
       "      <td>338.0</td>\n",
       "      <td>345.0</td>\n",
       "      <td>480</td>\n",
       "    </tr>\n",
       "    <tr>\n",
       "      <th>2682</th>\n",
       "      <td>C1786</td>\n",
       "      <td>아파트</td>\n",
       "      <td>강원도</td>\n",
       "      <td>행복주택</td>\n",
       "      <td>26.90</td>\n",
       "      <td>72</td>\n",
       "      <td>25.0</td>\n",
       "      <td>K</td>\n",
       "      <td>-</td>\n",
       "      <td>-</td>\n",
       "      <td>0.0</td>\n",
       "      <td>3.0</td>\n",
       "      <td>338.0</td>\n",
       "      <td>345.0</td>\n",
       "      <td>480</td>\n",
       "    </tr>\n",
       "    <tr>\n",
       "      <th>2683</th>\n",
       "      <td>C1786</td>\n",
       "      <td>아파트</td>\n",
       "      <td>강원도</td>\n",
       "      <td>행복주택</td>\n",
       "      <td>26.90</td>\n",
       "      <td>24</td>\n",
       "      <td>25.0</td>\n",
       "      <td>K</td>\n",
       "      <td>-</td>\n",
       "      <td>-</td>\n",
       "      <td>0.0</td>\n",
       "      <td>3.0</td>\n",
       "      <td>338.0</td>\n",
       "      <td>345.0</td>\n",
       "      <td>480</td>\n",
       "    </tr>\n",
       "    <tr>\n",
       "      <th>2906</th>\n",
       "      <td>C2186</td>\n",
       "      <td>아파트</td>\n",
       "      <td>대구광역시</td>\n",
       "      <td>국민임대</td>\n",
       "      <td>29.17</td>\n",
       "      <td>238</td>\n",
       "      <td>0.0</td>\n",
       "      <td>H</td>\n",
       "      <td>-</td>\n",
       "      <td>-</td>\n",
       "      <td>0.0</td>\n",
       "      <td>8.0</td>\n",
       "      <td>664.0</td>\n",
       "      <td>744.0</td>\n",
       "      <td>916</td>\n",
       "    </tr>\n",
       "    <tr>\n",
       "      <th>2907</th>\n",
       "      <td>C2186</td>\n",
       "      <td>아파트</td>\n",
       "      <td>대구광역시</td>\n",
       "      <td>국민임대</td>\n",
       "      <td>29.34</td>\n",
       "      <td>38</td>\n",
       "      <td>0.0</td>\n",
       "      <td>H</td>\n",
       "      <td>-</td>\n",
       "      <td>-</td>\n",
       "      <td>0.0</td>\n",
       "      <td>8.0</td>\n",
       "      <td>664.0</td>\n",
       "      <td>744.0</td>\n",
       "      <td>916</td>\n",
       "    </tr>\n",
       "    <tr>\n",
       "      <th>2908</th>\n",
       "      <td>C2186</td>\n",
       "      <td>아파트</td>\n",
       "      <td>대구광역시</td>\n",
       "      <td>국민임대</td>\n",
       "      <td>37.43</td>\n",
       "      <td>220</td>\n",
       "      <td>0.0</td>\n",
       "      <td>H</td>\n",
       "      <td>-</td>\n",
       "      <td>-</td>\n",
       "      <td>0.0</td>\n",
       "      <td>8.0</td>\n",
       "      <td>664.0</td>\n",
       "      <td>744.0</td>\n",
       "      <td>916</td>\n",
       "    </tr>\n",
       "  </tbody>\n",
       "</table>\n",
       "</div>"
      ],
      "text/plain": [
       "       단지코드 임대건물구분     지역  공급유형   전용면적  전용면적별세대수   공가수 자격유형 임대보증금 임대료  \\\n",
       "2547  C1326    아파트  부산광역시  국민임대  24.72       472  43.0    H     -   -   \n",
       "2548  C1326    아파트  부산광역시  국민임대  24.79       104  43.0    H     -   -   \n",
       "2549  C1326    아파트  부산광역시  국민임대  26.83       590  43.0    H     -   -   \n",
       "2550  C1326    아파트  부산광역시  국민임대  37.70       464  43.0    H     -   -   \n",
       "2551  C1326    아파트  부산광역시  국민임대  46.94       304  43.0    H     -   -   \n",
       "2680  C1786    아파트    강원도  행복주택  16.91       156  25.0    K     -   -   \n",
       "2681  C1786    아파트    강원도  행복주택  26.90       136  25.0    K     -   -   \n",
       "2682  C1786    아파트    강원도  행복주택  26.90        72  25.0    K     -   -   \n",
       "2683  C1786    아파트    강원도  행복주택  26.90        24  25.0    K     -   -   \n",
       "2906  C2186    아파트  대구광역시  국민임대  29.17       238   0.0    H     -   -   \n",
       "2907  C2186    아파트  대구광역시  국민임대  29.34        38   0.0    H     -   -   \n",
       "2908  C2186    아파트  대구광역시  국민임대  37.43       220   0.0    H     -   -   \n",
       "\n",
       "      도보 10분거리 내 지하철역 수(환승노선 수 반영)  도보 10분거리 내 버스정류장 수  단지내주차면수   등록차량수  총세대수  \n",
       "2547                           0.0                 4.0   1670.0  1153.0  1934  \n",
       "2548                           0.0                 4.0   1670.0  1153.0  1934  \n",
       "2549                           0.0                 4.0   1670.0  1153.0  1934  \n",
       "2550                           0.0                 4.0   1670.0  1153.0  1934  \n",
       "2551                           0.0                 4.0   1670.0  1153.0  1934  \n",
       "2680                           0.0                 3.0    338.0   345.0   480  \n",
       "2681                           0.0                 3.0    338.0   345.0   480  \n",
       "2682                           0.0                 3.0    338.0   345.0   480  \n",
       "2683                           0.0                 3.0    338.0   345.0   480  \n",
       "2906                           0.0                 8.0    664.0   744.0   916  \n",
       "2907                           0.0                 8.0    664.0   744.0   916  \n",
       "2908                           0.0                 8.0    664.0   744.0   916  "
      ]
     },
     "execution_count": 156,
     "metadata": {},
     "output_type": "execute_result"
    }
   ],
   "source": [
    "train_df.loc[train_df['임대보증금']=='-']"
   ]
  },
  {
   "cell_type": "code",
   "execution_count": 157,
   "id": "bfa5630a",
   "metadata": {},
   "outputs": [
    {
     "name": "stdout",
     "output_type": "stream",
     "text": [
      "['-']\n",
      "['-']\n",
      "['-']\n",
      "['-']\n"
     ]
    }
   ],
   "source": [
    "print(train_df.loc[train_df['임대보증금'].str.isdecimal()==False, '임대보증금'].unique())\n",
    "print(test_df.loc[test_df['임대보증금'].str.isdecimal()==False, '임대보증금'].unique())\n",
    "print(train_df.loc[train_df['임대료'].str.isdecimal()==False, '임대료'].unique())\n",
    "print(test_df.loc[test_df['임대료'].str.isdecimal()==False, '임대료'].unique())"
   ]
  },
  {
   "cell_type": "code",
   "execution_count": 158,
   "id": "bca619d1",
   "metadata": {},
   "outputs": [],
   "source": [
    "train_df.loc[train_df['임대보증금']=='-', '임대보증금'] = np.nan\n",
    "test_df.loc[test_df['임대보증금']=='-', '임대보증금'] = np.nan\n",
    "train_df['임대보증금'] = train_df['임대보증금'].astype(float)\n",
    "test_df['임대보증금'] = test_df['임대보증금'].astype(float)\n",
    "\n",
    "train_df.loc[train_df['임대료']=='-', '임대료'] = np.nan\n",
    "test_df.loc[test_df['임대료']=='-', '임대료'] = np.nan\n",
    "train_df['임대료'] = train_df['임대료'].astype(float)\n",
    "test_df['임대료'] = test_df['임대료'].astype(float)"
   ]
  },
  {
   "cell_type": "code",
   "execution_count": 159,
   "id": "22a15471",
   "metadata": {},
   "outputs": [
    {
     "name": "stdout",
     "output_type": "stream",
     "text": [
      "<class 'pandas.core.frame.DataFrame'>\n",
      "Int64Index: 2869 entries, 8 to 2951\n",
      "Data columns (total 15 columns):\n",
      " #   Column                        Non-Null Count  Dtype  \n",
      "---  ------                        --------------  -----  \n",
      " 0   단지코드                          2869 non-null   object \n",
      " 1   임대건물구분                        2869 non-null   object \n",
      " 2   지역                            2869 non-null   object \n",
      " 3   공급유형                          2869 non-null   object \n",
      " 4   전용면적                          2869 non-null   float64\n",
      " 5   전용면적별세대수                      2869 non-null   int64  \n",
      " 6   공가수                           2869 non-null   float64\n",
      " 7   자격유형                          2869 non-null   object \n",
      " 8   임대보증금                         2288 non-null   float64\n",
      " 9   임대료                           2285 non-null   float64\n",
      " 10  도보 10분거리 내 지하철역 수(환승노선 수 반영)  2662 non-null   float64\n",
      " 11  도보 10분거리 내 버스정류장 수            2869 non-null   float64\n",
      " 12  단지내주차면수                       2869 non-null   float64\n",
      " 13  등록차량수                         2869 non-null   float64\n",
      " 14  총세대수                          2869 non-null   int64  \n",
      "dtypes: float64(8), int64(2), object(5)\n",
      "memory usage: 358.6+ KB\n"
     ]
    }
   ],
   "source": [
    "train_df.info()"
   ]
  },
  {
   "cell_type": "code",
   "execution_count": 160,
   "id": "616f9ee6",
   "metadata": {},
   "outputs": [
    {
     "name": "stdout",
     "output_type": "stream",
     "text": [
      "============================================================\n",
      "Train Dataset>>>\n",
      "임대보증금                           581\n",
      "임대료                             584\n",
      "도보 10분거리 내 지하철역 수(환승노선 수 반영)    207\n",
      "dtype: int64\n",
      "============================================================\n",
      "Test Dataset>>>\n",
      "임대보증금                           186\n",
      "임대료                             186\n",
      "도보 10분거리 내 지하철역 수(환승노선 수 반영)     38\n",
      "dtype: int64\n"
     ]
    }
   ],
   "source": [
    "print_na_value(train_df, test_df)"
   ]
  },
  {
   "cell_type": "code",
   "execution_count": 161,
   "id": "2de53101",
   "metadata": {},
   "outputs": [
    {
     "data": {
      "text/plain": [
       "Index(['단지코드', '임대건물구분', '지역', '공급유형', '전용면적', '전용면적별세대수', '공가수', '자격유형',\n",
       "       '임대보증금', '임대료', '도보 10분거리 내 지하철역 수(환승노선 수 반영)', '도보 10분거리 내 버스정류장 수',\n",
       "       '단지내주차면수', '등록차량수', '총세대수'],\n",
       "      dtype='object')"
      ]
     },
     "execution_count": 161,
     "metadata": {},
     "output_type": "execute_result"
    }
   ],
   "source": [
    "train_df.columns"
   ]
  },
  {
   "cell_type": "markdown",
   "id": "706ea087",
   "metadata": {},
   "source": [
    "### 자하철역 수 결측치 처리"
   ]
  },
  {
   "cell_type": "code",
   "execution_count": 162,
   "id": "977f02ed",
   "metadata": {},
   "outputs": [],
   "source": [
    "train_df.rename(columns={'도보 10분거리 내 지하철역 수(환승노선 수 반영)': '지하철',\n",
    "                         '도보 10분거리 내 버스정류장 수':'버스'}, inplace=True)\n",
    "test_df.rename(columns={'도보 10분거리 내 지하철역 수(환승노선 수 반영)': '지하철',\n",
    "                         '도보 10분거리 내 버스정류장 수':'버스'}, inplace=True)"
   ]
  },
  {
   "cell_type": "code",
   "execution_count": 163,
   "id": "00a3053a",
   "metadata": {},
   "outputs": [
    {
     "data": {
      "text/plain": [
       "207"
      ]
     },
     "execution_count": 163,
     "metadata": {},
     "output_type": "execute_result"
    }
   ],
   "source": [
    "len(train_df.loc[train_df['지하철'].isna()])"
   ]
  },
  {
   "cell_type": "code",
   "execution_count": 164,
   "id": "0e6b108b",
   "metadata": {},
   "outputs": [],
   "source": [
    "numeric_cols = ['총세대수', '전용면적', '전용면적별세대수', '공가수', '임대보증금', '임대료',\n",
    "               '지하철', '버스', '단지내주차면수','등록차량수']\n",
    "train_df_interpolate = train_df[numeric_cols].interpolate()"
   ]
  },
  {
   "cell_type": "markdown",
   "id": "183cbaec",
   "metadata": {},
   "source": [
    "- Option 1 : interpolate  nan 207개중  0 : 147개, 1 : 60개\n",
    "- Option 2 : fillna(0)"
   ]
  },
  {
   "cell_type": "code",
   "execution_count": 165,
   "id": "6469ce35",
   "metadata": {},
   "outputs": [],
   "source": [
    "subway_missing_option = 1\n",
    "if subway_missing_option == 1:\n",
    "    subway_missing_df =  train_df_interpolate.loc[train_df['지하철'].isna()]\n",
    "    train_df.loc[subway_missing_df.loc[subway_missing_df['지하철']==1].index, '지하철'] = 1\n",
    "    train_df.loc[subway_missing_df.loc[subway_missing_df['지하철']<1].index, '지하철'] = 0\n",
    "elif subway_missing_option == 2:\n",
    "    train_df.fillna({'지하철':0}, inplace=True)"
   ]
  },
  {
   "cell_type": "code",
   "execution_count": 166,
   "id": "7c748edf",
   "metadata": {},
   "outputs": [],
   "source": [
    "test_df.fillna({'지하철':0}, inplace=True)"
   ]
  },
  {
   "cell_type": "markdown",
   "id": "8c7cf7a0",
   "metadata": {},
   "source": [
    "- test set의 지하철 결측치는 찾을 수 없어서 fillna(0)"
   ]
  },
  {
   "cell_type": "code",
   "execution_count": 167,
   "id": "9fbec36b",
   "metadata": {},
   "outputs": [
    {
     "name": "stdout",
     "output_type": "stream",
     "text": [
      "============================================================\n",
      "Train Dataset>>>\n",
      "임대보증금    581\n",
      "임대료      584\n",
      "dtype: int64\n",
      "============================================================\n",
      "Test Dataset>>>\n",
      "임대보증금    186\n",
      "임대료      186\n",
      "dtype: int64\n"
     ]
    }
   ],
   "source": [
    "print_na_value(train_df, test_df)"
   ]
  },
  {
   "cell_type": "markdown",
   "id": "e4195357",
   "metadata": {},
   "source": [
    "### 임대보증금, 임대료 결측치 처리\n",
    "- Default : 실제 데이터를 찾아서 fillup\n",
    "- Option 1 : 지역 + 공급유형병 평균값으로 대체\n",
    "- Option 2 : fillna(0)"
   ]
  },
  {
   "cell_type": "code",
   "execution_count": 168,
   "id": "b9971345",
   "metadata": {
    "scrolled": true
   },
   "outputs": [
    {
     "name": "stdout",
     "output_type": "stream",
     "text": [
      "Train : 임대보증금, 임대료 결측값 : 20.25%\n",
      "Test : 임대보증금, 임대료 결측값 : 18.45%\n"
     ]
    }
   ],
   "source": [
    "print('Train : 임대보증금, 임대료 결측값 : {0:.2f}%'.format(train_df['임대보증금'].isna().sum()/len(train_df)*100))\n",
    "print('Test : 임대보증금, 임대료 결측값 : {0:.2f}%'.format(test_df['임대보증금'].isna().sum()/len(test_df)*100))"
   ]
  },
  {
   "cell_type": "code",
   "execution_count": 169,
   "id": "a1735c06",
   "metadata": {},
   "outputs": [],
   "source": [
    "# 전용면적 16.91 \n",
    "train_df.loc[(train_df['단지코드'] == 'C1786') & (train_df['전용면적'] == 16.91), '임대보증금'] = 13450000\n",
    "train_df.loc[(train_df['단지코드'] == 'C1786') & (train_df['전용면적'] == 16.91), '임대료'] = 65500\n",
    "# 전용면적 26.9\n",
    "train_df.loc[(train_df['단지코드'] == 'C1786') & (train_df['전용면적'] == 26.9), '임대보증금'] = 19700000\n",
    "train_df.loc[(train_df['단지코드'] == 'C1786') & (train_df['전용면적'] == 26.9), '임대료'] = 96000\n",
    "# 전용면적 26.9\n",
    "train_df.loc[(train_df['단지코드'] == 'C1786') & (train_df['전용면적'] == 26.9), '임대보증금'] = 19150000\n",
    "train_df.loc[(train_df['단지코드'] == 'C1786') & (train_df['전용면적'] == 26.9), '임대료'] = 94000\n",
    "# 전용면적 26.9\n",
    "train_df.loc[(train_df['단지코드'] == 'C1786') & (train_df['전용면적'] == 26.9), '임대보증금'] = 21400000\n",
    "train_df.loc[(train_df['단지코드'] == 'C1786') & (train_df['전용면적'] == 26.9), '임대료'] = 105000\n",
    "\n",
    "# 전용면적 24.72\n",
    "train_df.loc[(train_df['단지코드'] == 'C1326') & (train_df['전용면적'] == 24.72), '임대보증금'] = 7000000\n",
    "train_df.loc[(train_df['단지코드'] == 'C1326') & (train_df['전용면적'] == 24.72), '임대료'] = 135000\n",
    "# 전용면적 24.79\n",
    "train_df.loc[(train_df['단지코드'] == 'C1326') & (train_df['전용면적'] == 24.79), '임대보증금'] = 7000000\n",
    "train_df.loc[(train_df['단지코드'] == 'C1326') & (train_df['전용면적'] == 24.79), '임대료'] = 135000\n",
    "# 전용면적 26.83\n",
    "train_df.loc[(train_df['단지코드'] == 'C1326') & (train_df['전용면적'] == 26.83), '임대보증금'] = 7600000\n",
    "train_df.loc[(train_df['단지코드'] == 'C1326') & (train_df['전용면적'] == 26.83), '임대료'] = 142000\n",
    "# 전용면적 37.7\n",
    "train_df.loc[(train_df['단지코드'] == 'C1326') & (train_df['전용면적'] == 37.7), '임대보증금'] = 14800000\n",
    "train_df.loc[(train_df['단지코드'] == 'C1326') & (train_df['전용면적'] == 37.7), '임대료'] = 198000\n",
    "# 전용면적 46.94\n",
    "train_df.loc[(train_df['단지코드'] == 'C1326') & (train_df['전용면적'] == 46.94), '임대보증금'] = 23100000\n",
    "train_df.loc[(train_df['단지코드'] == 'C1326') & (train_df['전용면적'] == 46.94), '임대료'] = 259000\n",
    "\n",
    "# 전용면적 29.17\n",
    "train_df.loc[(train_df['단지코드'] == 'C2186') & (train_df['전용면적'] == 29.17), '임대보증금'] = 10847000\n",
    "train_df.loc[(train_df['단지코드'] == 'C2186') & (train_df['전용면적'] == 29.17), '임대료'] = 138600\n",
    "# 전용면적 29.34\n",
    "train_df.loc[(train_df['단지코드'] == 'C2186') & (train_df['전용면적'] == 29.34), '임대보증금'] = 10847000\n",
    "train_df.loc[(train_df['단지코드'] == 'C2186') & (train_df['전용면적'] == 29.34), '임대료'] = 138600\n",
    "# 전용면적 37.43\n",
    "train_df.loc[(train_df['단지코드'] == 'C2186') & (train_df['전용면적'] == 37.43), '임대보증금'] = 17338000\n",
    "train_df.loc[(train_df['단지코드'] == 'C2186') & (train_df['전용면적'] == 37.43), '임대료'] = 197500\n",
    "\n",
    "# 전용면적 24.83\n",
    "test_df.loc[(test_df['단지코드'] == 'C2152') & (test_df['전용면적'] == 24.83), '임대보증금'] = 2129000\n",
    "test_df.loc[(test_df['단지코드'] == 'C2152') & (test_df['전용면적'] == 24.83), '임대료'] = 42350\n",
    "# 전용면적 33.84\n",
    "test_df.loc[(test_df['단지코드'] == 'C2152') & (test_df['전용면적'] == 33.84), '임대보증금'] = 2902000\n",
    "test_df.loc[(test_df['단지코드'] == 'C2152') & (test_df['전용면적'] == 33.84), '임대료'] = 57730\n",
    "\n",
    "# 전용면적 16.94\n",
    "test_df.loc[(test_df['단지코드'] == 'C1267') & (test_df['전용면적'] == 16.94), '임대보증금'] = 11200000\n",
    "test_df.loc[(test_df['단지코드'] == 'C1267') & (test_df['전용면적'] == 16.94), '임대료'] = 53200\n",
    "# 전용면적 26.85\n",
    "test_df.loc[(test_df['단지코드'] == 'C1267') & (test_df['전용면적'] == 26.85), '임대보증금'] = 16333330\n",
    "test_df.loc[(test_df['단지코드'] == 'C1267') & (test_df['전용면적'] == 26.85), '임대료'] = 77580\n",
    "# 전용면적 26.85\n",
    "test_df.loc[(test_df['단지코드'] == 'C1267') & (test_df['전용면적'] == 26.85), '임대보증금'] = 18620000\n",
    "test_df.loc[(test_df['단지코드'] == 'C1267') & (test_df['전용면적'] == 26.85), '임대료'] = 88440\n",
    "# 전용면적 36.77\n",
    "test_df.loc[(test_df['단지코드'] == 'C1267') & (test_df['전용면적'] == 36.77), '임대보증금'] = 23760000\n",
    "test_df.loc[(test_df['단지코드'] == 'C1267') & (test_df['전용면적'] == 36.77), '임대료'] = 112860\n",
    "\n",
    "# 전용면적 26.37\n",
    "test_df.loc[(test_df['단지코드'] == 'C1006') & (test_df['전용면적'] == 26.37), '임대보증금'] = 5787000\n",
    "test_df.loc[(test_df['단지코드'] == 'C1006') & (test_df['전용면적'] == 26.37), '임대료'] = 79980\n",
    "# 전용면적 52.74\n",
    "test_df.loc[(test_df['단지코드'] == 'C1006') & (test_df['전용면적'] == 52.74), '임대보증금'] = 11574000\n",
    "test_df.loc[(test_df['단지코드'] == 'C1006') & (test_df['전용면적'] == 52.74), '임대료'] = 159960"
   ]
  },
  {
   "cell_type": "code",
   "execution_count": 170,
   "id": "28384636",
   "metadata": {
    "scrolled": true
   },
   "outputs": [
    {
     "data": {
      "text/plain": [
       "임대상가    562\n",
       "공공분양      7\n",
       "Name: 공급유형, dtype: int64"
      ]
     },
     "execution_count": 170,
     "metadata": {},
     "output_type": "execute_result"
    }
   ],
   "source": [
    "train_df[train_df['임대보증금'].isnull()]['공급유형'].value_counts()"
   ]
  },
  {
   "cell_type": "code",
   "execution_count": 171,
   "id": "98ea379e",
   "metadata": {},
   "outputs": [],
   "source": [
    "# 임대상가의 임대료와 임대보증금은 해당 지역의 평균값으로 대체\n",
    "\n",
    "## 임대 상가의 임대료 처리 \n",
    "train_df.loc[train_df['지역'] == '부산광역시', '임대료'] = train_df['임대료'].fillna(train_df[train_df['지역'] == '부산광역시']['임대료'].mean())\n",
    "train_df.loc[train_df['지역'] == '대전광역시', '임대료'] = train_df['임대료'].fillna(train_df[train_df['지역'] == '대전광역시']['임대료'].mean())\n",
    "train_df.loc[train_df['지역'] == '경상남도', '임대료'] = train_df['임대료'].fillna(train_df[train_df['지역'] == '경상남도']['임대료'].mean())\n",
    "train_df.loc[train_df['지역'] == '충청남도', '임대료'] = train_df['임대료'].fillna(train_df[train_df['지역'] == '충청남도']['임대료'].mean())\n",
    "train_df.loc[train_df['지역'] == '강원도', '임대료'] = train_df['임대료'].fillna(train_df[train_df['지역'] == '강원도']['임대료'].mean())\n",
    "train_df.loc[train_df['지역'] == '제주특별자치도', '임대료'] = train_df['임대료'].fillna(train_df[train_df['지역'] == '제주특별자치도']['임대료'].mean())\n",
    "\n",
    "test_df.loc[test_df['지역'] == '부산광역시', '임대료'] = test_df['임대료'].fillna(train_df[train_df['지역'] == '부산광역시']['임대료'].mean())\n",
    "test_df.loc[test_df['지역'] == '대전광역시', '임대료'] = test_df['임대료'].fillna(train_df[train_df['지역'] == '대전광역시']['임대료'].mean())\n",
    "test_df.loc[test_df['지역'] == '울산광역시', '임대료'] = test_df['임대료'].fillna(train_df[train_df['지역'] == '울산광역시']['임대료'].mean())\n",
    "test_df.loc[test_df['지역'] == '충청남도', '임대료'] = test_df['임대료'].fillna(train_df[train_df['지역'] == '충청남도']['임대료'].mean())\n",
    "test_df.loc[test_df['지역'] == '강원도', '임대료'] = test_df['임대료'].fillna(train_df[train_df['지역'] == '강원도']['임대료'].mean())  \n",
    "\n",
    "## 임대 상가의 임대보증금 처리 \n",
    "train_df.loc[train_df['지역'] == '부산광역시', '임대보증금'] = train_df['임대보증금'].fillna(train_df[train_df['지역'] == '부산광역시']['임대보증금'].mean())\n",
    "train_df.loc[train_df['지역'] == '대전광역시', '임대보증금'] = train_df['임대보증금'].fillna(train_df[train_df['지역'] == '대전광역시']['임대보증금'].mean())\n",
    "train_df.loc[train_df['지역'] == '경상남도', '임대보증금'] = train_df['임대보증금'].fillna(train_df[train_df['지역'] == '경상남도']['임대보증금'].mean())\n",
    "train_df.loc[train_df['지역'] == '충청남도', '임대보증금'] = train_df['임대보증금'].fillna(train_df[train_df['지역'] == '충청남도']['임대보증금'].mean())\n",
    "train_df.loc[train_df['지역'] == '강원도', '임대보증금'] = train_df['임대보증금'].fillna(train_df[train_df['지역'] == '강원도']['임대보증금'].mean())\n",
    "train_df.loc[train_df['지역'] == '제주특별자치도', '임대보증금'] = train_df['임대보증금'].fillna(train_df[train_df['지역'] == '제주특별자치도']['임대보증금'].mean())\n",
    "\n",
    "test_df.loc[test_df['지역'] == '부산광역시', '임대보증금'] = test_df['임대보증금'].fillna(train_df[train_df['지역'] == '부산광역시']['임대보증금'].mean())\n",
    "test_df.loc[test_df['지역'] == '대전광역시', '임대보증금'] = test_df['임대보증금'].fillna(train_df[train_df['지역'] == '대전광역시']['임대보증금'].mean())\n",
    "test_df.loc[test_df['지역'] == '울산광역시', '임대보증금'] = test_df['임대보증금'].fillna(train_df[train_df['지역'] == '울산광역시']['임대보증금'].mean())\n",
    "test_df.loc[test_df['지역'] == '충청남도', '임대보증금'] = test_df['임대보증금'].fillna(train_df[train_df['지역'] == '충청남도']['임대보증금'].mean())\n",
    "test_df.loc[test_df['지역'] == '강원도', '임대보증금'] = test_df['임대보증금'].fillna(train_df[train_df['지역'] == '강원도']['임대보증금'].mean())"
   ]
  },
  {
   "cell_type": "markdown",
   "id": "29780db4",
   "metadata": {},
   "source": [
    "- 7개 결측치 제거"
   ]
  },
  {
   "cell_type": "code",
   "execution_count": 172,
   "id": "49bbc575",
   "metadata": {},
   "outputs": [],
   "source": [
    "train_df.dropna(how='any', inplace=True)"
   ]
  },
  {
   "cell_type": "code",
   "execution_count": 173,
   "id": "6af8cdb9",
   "metadata": {},
   "outputs": [
    {
     "name": "stdout",
     "output_type": "stream",
     "text": [
      "============================================================\n",
      "Train Dataset>>>\n",
      "Series([], dtype: int64)\n",
      "============================================================\n",
      "Test Dataset>>>\n",
      "Series([], dtype: int64)\n"
     ]
    }
   ],
   "source": [
    "print_na_value(train_df, test_df)"
   ]
  },
  {
   "cell_type": "markdown",
   "id": "50dc93b0",
   "metadata": {},
   "source": [
    "## 이상치 탐색"
   ]
  },
  {
   "cell_type": "code",
   "execution_count": 174,
   "id": "df0da739",
   "metadata": {},
   "outputs": [],
   "source": [
    "# 도보 10분거리 내 버스정류장 수가 50일수는 없다고 판단하여 mean값으로 대체\n",
    "test_df['버스'].unique()\n",
    "test_df.loc[test_df['버스'] == 50, '버스'] = train_df['버스'].mean()"
   ]
  },
  {
   "cell_type": "code",
   "execution_count": 175,
   "id": "67dfc64c",
   "metadata": {},
   "outputs": [
    {
     "data": {
      "text/plain": [
       "array([[<AxesSubplot:title={'center':'전용면적'}>,\n",
       "        <AxesSubplot:title={'center':'전용면적별세대수'}>,\n",
       "        <AxesSubplot:title={'center':'공가수'}>],\n",
       "       [<AxesSubplot:title={'center':'임대보증금'}>,\n",
       "        <AxesSubplot:title={'center':'임대료'}>,\n",
       "        <AxesSubplot:title={'center':'지하철'}>],\n",
       "       [<AxesSubplot:title={'center':'버스'}>,\n",
       "        <AxesSubplot:title={'center':'단지내주차면수'}>,\n",
       "        <AxesSubplot:title={'center':'등록차량수'}>],\n",
       "       [<AxesSubplot:title={'center':'총세대수'}>, <AxesSubplot:>,\n",
       "        <AxesSubplot:>]], dtype=object)"
      ]
     },
     "execution_count": 175,
     "metadata": {},
     "output_type": "execute_result"
    },
    {
     "data": {
      "image/png": "[encoded data removed]",
      "text/plain": [
       "<Figure size 1440x720 with 12 Axes>"
      ]
     },
     "metadata": {
      "needs_background": "light"
     },
     "output_type": "display_data"
    }
   ],
   "source": [
    "train_df.hist(figsize=(20,10))"
   ]
  },
  {
   "cell_type": "code",
   "execution_count": 176,
   "id": "2a775d13",
   "metadata": {},
   "outputs": [
    {
     "data": {
      "text/html": [
       "<div>\n",
       "<style scoped>\n",
       "    .dataframe tbody tr th:only-of-type {\n",
       "        vertical-align: middle;\n",
       "    }\n",
       "\n",
       "    .dataframe tbody tr th {\n",
       "        vertical-align: top;\n",
       "    }\n",
       "\n",
       "    .dataframe thead th {\n",
       "        text-align: right;\n",
       "    }\n",
       "</style>\n",
       "<table border=\"1\" class=\"dataframe\">\n",
       "  <thead>\n",
       "    <tr style=\"text-align: right;\">\n",
       "      <th></th>\n",
       "      <th>전용면적</th>\n",
       "      <th>전용면적별세대수</th>\n",
       "      <th>공가수</th>\n",
       "      <th>임대보증금</th>\n",
       "      <th>임대료</th>\n",
       "      <th>지하철</th>\n",
       "      <th>버스</th>\n",
       "      <th>단지내주차면수</th>\n",
       "      <th>등록차량수</th>\n",
       "      <th>총세대수</th>\n",
       "    </tr>\n",
       "  </thead>\n",
       "  <tbody>\n",
       "    <tr>\n",
       "      <th>count</th>\n",
       "      <td>2866.000000</td>\n",
       "      <td>2866.000000</td>\n",
       "      <td>2866.000000</td>\n",
       "      <td>2.866000e+03</td>\n",
       "      <td>2.866000e+03</td>\n",
       "      <td>2866.000000</td>\n",
       "      <td>2866.000000</td>\n",
       "      <td>2866.000000</td>\n",
       "      <td>2866.000000</td>\n",
       "      <td>2866.000000</td>\n",
       "    </tr>\n",
       "    <tr>\n",
       "      <th>mean</th>\n",
       "      <td>44.408179</td>\n",
       "      <td>102.720167</td>\n",
       "      <td>12.915911</td>\n",
       "      <td>2.484995e+07</td>\n",
       "      <td>1.874178e+05</td>\n",
       "      <td>0.189812</td>\n",
       "      <td>3.710398</td>\n",
       "      <td>591.849616</td>\n",
       "      <td>550.028262</td>\n",
       "      <td>883.446964</td>\n",
       "    </tr>\n",
       "    <tr>\n",
       "      <th>std</th>\n",
       "      <td>32.086133</td>\n",
       "      <td>133.351793</td>\n",
       "      <td>10.685521</td>\n",
       "      <td>1.658567e+07</td>\n",
       "      <td>1.129471e+05</td>\n",
       "      <td>0.435246</td>\n",
       "      <td>2.677789</td>\n",
       "      <td>391.488716</td>\n",
       "      <td>430.679623</td>\n",
       "      <td>520.773466</td>\n",
       "    </tr>\n",
       "    <tr>\n",
       "      <th>min</th>\n",
       "      <td>12.620000</td>\n",
       "      <td>1.000000</td>\n",
       "      <td>0.000000</td>\n",
       "      <td>3.056000e+06</td>\n",
       "      <td>1.665000e+04</td>\n",
       "      <td>0.000000</td>\n",
       "      <td>0.000000</td>\n",
       "      <td>13.000000</td>\n",
       "      <td>13.000000</td>\n",
       "      <td>26.000000</td>\n",
       "    </tr>\n",
       "    <tr>\n",
       "      <th>25%</th>\n",
       "      <td>32.100000</td>\n",
       "      <td>14.000000</td>\n",
       "      <td>4.000000</td>\n",
       "      <td>1.563750e+07</td>\n",
       "      <td>1.203783e+05</td>\n",
       "      <td>0.000000</td>\n",
       "      <td>2.000000</td>\n",
       "      <td>277.000000</td>\n",
       "      <td>209.000000</td>\n",
       "      <td>504.000000</td>\n",
       "    </tr>\n",
       "    <tr>\n",
       "      <th>50%</th>\n",
       "      <td>39.840000</td>\n",
       "      <td>60.000000</td>\n",
       "      <td>11.000000</td>\n",
       "      <td>2.146840e+07</td>\n",
       "      <td>1.647700e+05</td>\n",
       "      <td>0.000000</td>\n",
       "      <td>3.000000</td>\n",
       "      <td>500.000000</td>\n",
       "      <td>479.000000</td>\n",
       "      <td>775.000000</td>\n",
       "    </tr>\n",
       "    <tr>\n",
       "      <th>75%</th>\n",
       "      <td>50.830000</td>\n",
       "      <td>142.750000</td>\n",
       "      <td>20.000000</td>\n",
       "      <td>2.727125e+07</td>\n",
       "      <td>2.060525e+05</td>\n",
       "      <td>0.000000</td>\n",
       "      <td>4.000000</td>\n",
       "      <td>812.000000</td>\n",
       "      <td>761.000000</td>\n",
       "      <td>1105.000000</td>\n",
       "    </tr>\n",
       "    <tr>\n",
       "      <th>max</th>\n",
       "      <td>583.400000</td>\n",
       "      <td>1865.000000</td>\n",
       "      <td>55.000000</td>\n",
       "      <td>1.940800e+08</td>\n",
       "      <td>1.058030e+06</td>\n",
       "      <td>3.000000</td>\n",
       "      <td>20.000000</td>\n",
       "      <td>1798.000000</td>\n",
       "      <td>2550.000000</td>\n",
       "      <td>2568.000000</td>\n",
       "    </tr>\n",
       "  </tbody>\n",
       "</table>\n",
       "</div>"
      ],
      "text/plain": [
       "              전용면적     전용면적별세대수          공가수         임대보증금           임대료  \\\n",
       "count  2866.000000  2866.000000  2866.000000  2.866000e+03  2.866000e+03   \n",
       "mean     44.408179   102.720167    12.915911  2.484995e+07  1.874178e+05   \n",
       "std      32.086133   133.351793    10.685521  1.658567e+07  1.129471e+05   \n",
       "min      12.620000     1.000000     0.000000  3.056000e+06  1.665000e+04   \n",
       "25%      32.100000    14.000000     4.000000  1.563750e+07  1.203783e+05   \n",
       "50%      39.840000    60.000000    11.000000  2.146840e+07  1.647700e+05   \n",
       "75%      50.830000   142.750000    20.000000  2.727125e+07  2.060525e+05   \n",
       "max     583.400000  1865.000000    55.000000  1.940800e+08  1.058030e+06   \n",
       "\n",
       "               지하철           버스      단지내주차면수        등록차량수         총세대수  \n",
       "count  2866.000000  2866.000000  2866.000000  2866.000000  2866.000000  \n",
       "mean      0.189812     3.710398   591.849616   550.028262   883.446964  \n",
       "std       0.435246     2.677789   391.488716   430.679623   520.773466  \n",
       "min       0.000000     0.000000    13.000000    13.000000    26.000000  \n",
       "25%       0.000000     2.000000   277.000000   209.000000   504.000000  \n",
       "50%       0.000000     3.000000   500.000000   479.000000   775.000000  \n",
       "75%       0.000000     4.000000   812.000000   761.000000  1105.000000  \n",
       "max       3.000000    20.000000  1798.000000  2550.000000  2568.000000  "
      ]
     },
     "execution_count": 176,
     "metadata": {},
     "output_type": "execute_result"
    }
   ],
   "source": [
    "train_df.describe()"
   ]
  },
  {
   "cell_type": "code",
   "execution_count": 177,
   "id": "9295c6d4",
   "metadata": {
    "scrolled": false
   },
   "outputs": [
    {
     "data": {
      "image/png": "[encoded data removed]",
      "text/plain": [
       "<Figure size 2160x1440 with 4 Axes>"
      ]
     },
     "metadata": {
      "needs_background": "light"
     },
     "output_type": "display_data"
    }
   ],
   "source": [
    "plt.figure(figsize=(30,20))\n",
    "for i, c in enumerate(numeric_cols[:4]):\n",
    "    ax = plt.subplot(221+i)\n",
    "    ax.boxplot(train_df[c])\n",
    "    ax.set_title(c, fontsize=25)"
   ]
  },
  {
   "cell_type": "code",
   "execution_count": 178,
   "id": "a4110b19",
   "metadata": {},
   "outputs": [
    {
     "data": {
      "image/png": "[encoded data removed]",
      "text/plain": [
       "<Figure size 2160x1440 with 4 Axes>"
      ]
     },
     "metadata": {
      "needs_background": "light"
     },
     "output_type": "display_data"
    }
   ],
   "source": [
    "plt.figure(figsize=(30,20))\n",
    "for i, c in enumerate(numeric_cols[4:8]):\n",
    "    ax = plt.subplot(221+i)\n",
    "    ax.boxplot(train_df[c])\n",
    "    ax.set_title(c, fontsize=25)"
   ]
  },
  {
   "cell_type": "code",
   "execution_count": 179,
   "id": "f12e45c6",
   "metadata": {},
   "outputs": [
    {
     "data": {
      "image/png": "[encoded data removed]",
      "text/plain": [
       "<Figure size 2160x1440 with 2 Axes>"
      ]
     },
     "metadata": {
      "needs_background": "light"
     },
     "output_type": "display_data"
    }
   ],
   "source": [
    "plt.figure(figsize=(30,20))\n",
    "for i, c in enumerate(numeric_cols[8:]):\n",
    "    ax = plt.subplot(221+i)\n",
    "    ax.boxplot(train_df[c])\n",
    "    ax.set_title(c, fontsize=25)"
   ]
  },
  {
   "cell_type": "markdown",
   "id": "60b8379c",
   "metadata": {},
   "source": [
    "## 데이터 추출"
   ]
  },
  {
   "cell_type": "code",
   "execution_count": 180,
   "id": "f78f3ef4",
   "metadata": {},
   "outputs": [],
   "source": [
    "# 전용면적합 = 전용면적 x 전용면적별세대수\n",
    "train_df['전용면적합'] = train_df['전용면적'] * train_df['전용면적별세대수']\n",
    "test_df['전용면적합'] = test_df['전용면적'] * test_df['전용면적별세대수']"
   ]
  },
  {
   "cell_type": "code",
   "execution_count": 181,
   "id": "4f82fbc1",
   "metadata": {},
   "outputs": [],
   "source": [
    "# 임대보증금합 = 임대보증금 x 전용면적별세대수\n",
    "\n",
    "train_df['임대보증금합'] = train_df['임대보증금'] * train_df['전용면적별세대수']\n",
    "test_df['임대보증금합'] = test_df['임대보증금'] * test_df['전용면적별세대수']"
   ]
  },
  {
   "cell_type": "code",
   "execution_count": 182,
   "id": "32fd8c08",
   "metadata": {},
   "outputs": [],
   "source": [
    "train_df.drop(columns=['전용면적', '전용면적별세대수','임대료', '임대보증금'], inplace=True)\n",
    "test_df.drop(columns=['전용면적', '전용면적별세대수','임대료', '임대보증금'], inplace=True)"
   ]
  },
  {
   "cell_type": "code",
   "execution_count": 183,
   "id": "55060151",
   "metadata": {},
   "outputs": [],
   "source": [
    "cat_cols = ['임대건물구분', '지역', '공급유형', '자격유형']\n",
    "num_cols = ['공가수', '자격유형', '지하철', '버스', '단지내주차면수', '총세대수', '전용면적합', '임대보증금합']"
   ]
  },
  {
   "cell_type": "code",
   "execution_count": 185,
   "id": "0cbacf1e",
   "metadata": {},
   "outputs": [],
   "source": [
    "from sklearn.preprocessing import LabelEncoder\n",
    "\n",
    "le = LabelEncoder()\n",
    "for c in cat_cols:\n",
    "    le.fit(train_df[c])\n",
    "    train_df[c] = le.transform(train_df[c])\n",
    "    train_df[c] = train_df[c].astype('category')\n",
    "    test_df[c] = le.transform(test_df[c])\n",
    "    test_df[c] = test_df[c].astype('category')"
   ]
  },
  {
   "cell_type": "code",
   "execution_count": 187,
   "id": "9d8d2bd7",
   "metadata": {},
   "outputs": [
    {
     "data": {
      "text/html": [
       "<div>\n",
       "<style scoped>\n",
       "    .dataframe tbody tr th:only-of-type {\n",
       "        vertical-align: middle;\n",
       "    }\n",
       "\n",
       "    .dataframe tbody tr th {\n",
       "        vertical-align: top;\n",
       "    }\n",
       "\n",
       "    .dataframe thead th {\n",
       "        text-align: right;\n",
       "    }\n",
       "</style>\n",
       "<table border=\"1\" class=\"dataframe\">\n",
       "  <thead>\n",
       "    <tr style=\"text-align: right;\">\n",
       "      <th></th>\n",
       "      <th>단지코드</th>\n",
       "      <th>임대건물구분</th>\n",
       "      <th>지역</th>\n",
       "      <th>공급유형</th>\n",
       "      <th>공가수</th>\n",
       "      <th>자격유형</th>\n",
       "      <th>지하철</th>\n",
       "      <th>버스</th>\n",
       "      <th>단지내주차면수</th>\n",
       "      <th>등록차량수</th>\n",
       "      <th>총세대수</th>\n",
       "      <th>전용면적합</th>\n",
       "      <th>임대보증금합</th>\n",
       "    </tr>\n",
       "  </thead>\n",
       "  <tbody>\n",
       "    <tr>\n",
       "      <th>8</th>\n",
       "      <td>C2515</td>\n",
       "      <td>1</td>\n",
       "      <td>2</td>\n",
       "      <td>5</td>\n",
       "      <td>17.0</td>\n",
       "      <td>0</td>\n",
       "      <td>0.0</td>\n",
       "      <td>3.0</td>\n",
       "      <td>624.0</td>\n",
       "      <td>205.0</td>\n",
       "      <td>545</td>\n",
       "      <td>9240.48</td>\n",
       "      <td>2.543616e+09</td>\n",
       "    </tr>\n",
       "    <tr>\n",
       "      <th>9</th>\n",
       "      <td>C2515</td>\n",
       "      <td>1</td>\n",
       "      <td>2</td>\n",
       "      <td>5</td>\n",
       "      <td>17.0</td>\n",
       "      <td>0</td>\n",
       "      <td>0.0</td>\n",
       "      <td>3.0</td>\n",
       "      <td>624.0</td>\n",
       "      <td>205.0</td>\n",
       "      <td>545</td>\n",
       "      <td>2376.00</td>\n",
       "      <td>7.603200e+08</td>\n",
       "    </tr>\n",
       "    <tr>\n",
       "      <th>10</th>\n",
       "      <td>C2515</td>\n",
       "      <td>1</td>\n",
       "      <td>2</td>\n",
       "      <td>5</td>\n",
       "      <td>17.0</td>\n",
       "      <td>0</td>\n",
       "      <td>0.0</td>\n",
       "      <td>3.0</td>\n",
       "      <td>624.0</td>\n",
       "      <td>205.0</td>\n",
       "      <td>545</td>\n",
       "      <td>792.00</td>\n",
       "      <td>2.534400e+08</td>\n",
       "    </tr>\n",
       "    <tr>\n",
       "      <th>11</th>\n",
       "      <td>C2515</td>\n",
       "      <td>1</td>\n",
       "      <td>2</td>\n",
       "      <td>5</td>\n",
       "      <td>17.0</td>\n",
       "      <td>0</td>\n",
       "      <td>0.0</td>\n",
       "      <td>3.0</td>\n",
       "      <td>624.0</td>\n",
       "      <td>205.0</td>\n",
       "      <td>545</td>\n",
       "      <td>1782.20</td>\n",
       "      <td>7.004540e+08</td>\n",
       "    </tr>\n",
       "    <tr>\n",
       "      <th>12</th>\n",
       "      <td>C2515</td>\n",
       "      <td>1</td>\n",
       "      <td>2</td>\n",
       "      <td>5</td>\n",
       "      <td>17.0</td>\n",
       "      <td>0</td>\n",
       "      <td>0.0</td>\n",
       "      <td>3.0</td>\n",
       "      <td>624.0</td>\n",
       "      <td>205.0</td>\n",
       "      <td>545</td>\n",
       "      <td>891.10</td>\n",
       "      <td>3.502270e+08</td>\n",
       "    </tr>\n",
       "  </tbody>\n",
       "</table>\n",
       "</div>"
      ],
      "text/plain": [
       "     단지코드 임대건물구분 지역 공급유형   공가수 자격유형  지하철   버스  단지내주차면수  등록차량수  총세대수    전용면적합  \\\n",
       "8   C2515      1  2    5  17.0    0  0.0  3.0    624.0  205.0   545  9240.48   \n",
       "9   C2515      1  2    5  17.0    0  0.0  3.0    624.0  205.0   545  2376.00   \n",
       "10  C2515      1  2    5  17.0    0  0.0  3.0    624.0  205.0   545   792.00   \n",
       "11  C2515      1  2    5  17.0    0  0.0  3.0    624.0  205.0   545  1782.20   \n",
       "12  C2515      1  2    5  17.0    0  0.0  3.0    624.0  205.0   545   891.10   \n",
       "\n",
       "          임대보증금합  \n",
       "8   2.543616e+09  \n",
       "9   7.603200e+08  \n",
       "10  2.534400e+08  \n",
       "11  7.004540e+08  \n",
       "12  3.502270e+08  "
      ]
     },
     "execution_count": 187,
     "metadata": {},
     "output_type": "execute_result"
    }
   ],
   "source": [
    "train_df.head()"
   ]
  },
  {
   "cell_type": "code",
   "execution_count": 188,
   "id": "9690f46a",
   "metadata": {},
   "outputs": [
    {
     "data": {
      "text/plain": [
       "Index(['단지코드', '임대건물구분', '지역', '공급유형', '공가수', '자격유형', '지하철', '버스', '단지내주차면수',\n",
       "       '등록차량수', '총세대수', '전용면적합', '임대보증금합'],\n",
       "      dtype='object')"
      ]
     },
     "execution_count": 188,
     "metadata": {},
     "output_type": "execute_result"
    }
   ],
   "source": [
    "train_df.columns"
   ]
  },
  {
   "cell_type": "code",
   "execution_count": 194,
   "id": "d6dd1e05",
   "metadata": {},
   "outputs": [],
   "source": [
    "train_pivot =  train_df.pivot_table(index='단지코드', \n",
    "                        values=['임대건물구분', '지역', '공급유형', '공가수', '자격유형', \n",
    "                            '지하철', '버스', '단지내주차면수','등록차량수', '총세대수', '전용면적합', '임대보증금합'], \n",
    "                        aggfunc={'임대건물구분' : 'first', '지역':'first', '공급유형':'first', '공가수':'mean', '자격유형':'first',\n",
    "                                 '지하철':'mean', '버스':'mean', '단지내주차면수':'mean','등록차량수':'first',\n",
    "                                 '총세대수':'mean', '전용면적합':'sum', '임대보증금합':'mean'})"
   ]
  },
  {
   "cell_type": "code",
   "execution_count": 196,
   "id": "189449af",
   "metadata": {},
   "outputs": [],
   "source": [
    "from sklearn.preprocessing import MinMaxScaler\n",
    "from sklearn.preprocessing import StandardScaler\n",
    "\n",
    "scaler_option = 1\n",
    "if scaler_option == 1:\n",
    "    mms = MinMaxScaler()\n",
    "    mms.fit(train_pivot[num_cols])\n",
    "    train_pivot[num_cols] = mms.transform(train_pivot[num_cols])\n",
    "elif scaler_option == 2:\n",
    "    ss = StandardScaler()\n",
    "    ss.fit(train_pivot[num_cols])\n",
    "    train_pivot[num_cols] = ss.transfrom(train_pivot[num_cols])"
   ]
  },
  {
   "cell_type": "code",
   "execution_count": 197,
   "id": "8676073e",
   "metadata": {},
   "outputs": [
    {
     "data": {
      "text/plain": [
       "array([[<AxesSubplot:title={'center':'공가수'}>,\n",
       "        <AxesSubplot:title={'center':'단지내주차면수'}>,\n",
       "        <AxesSubplot:title={'center':'등록차량수'}>],\n",
       "       [<AxesSubplot:title={'center':'버스'}>,\n",
       "        <AxesSubplot:title={'center':'임대보증금합'}>,\n",
       "        <AxesSubplot:title={'center':'자격유형'}>],\n",
       "       [<AxesSubplot:title={'center':'전용면적합'}>,\n",
       "        <AxesSubplot:title={'center':'지하철'}>,\n",
       "        <AxesSubplot:title={'center':'총세대수'}>]], dtype=object)"
      ]
     },
     "execution_count": 197,
     "metadata": {},
     "output_type": "execute_result"
    },
    {
     "data": {
      "image/png": "[encoded data removed]",
      "text/plain": [
       "<Figure size 1440x720 with 9 Axes>"
      ]
     },
     "metadata": {
      "needs_background": "light"
     },
     "output_type": "display_data"
    }
   ],
   "source": [
    "train_pivot.hist(figsize=(20,10))"
   ]
  },
  {
   "cell_type": "code",
   "execution_count": 198,
   "id": "14cac596",
   "metadata": {},
   "outputs": [
    {
     "data": {
      "text/html": [
       "<div>\n",
       "<style scoped>\n",
       "    .dataframe tbody tr th:only-of-type {\n",
       "        vertical-align: middle;\n",
       "    }\n",
       "\n",
       "    .dataframe tbody tr th {\n",
       "        vertical-align: top;\n",
       "    }\n",
       "\n",
       "    .dataframe thead th {\n",
       "        text-align: right;\n",
       "    }\n",
       "</style>\n",
       "<table border=\"1\" class=\"dataframe\">\n",
       "  <thead>\n",
       "    <tr style=\"text-align: right;\">\n",
       "      <th></th>\n",
       "      <th>공가수</th>\n",
       "      <th>단지내주차면수</th>\n",
       "      <th>등록차량수</th>\n",
       "      <th>버스</th>\n",
       "      <th>임대보증금합</th>\n",
       "      <th>자격유형</th>\n",
       "      <th>전용면적합</th>\n",
       "      <th>지하철</th>\n",
       "      <th>총세대수</th>\n",
       "    </tr>\n",
       "  </thead>\n",
       "  <tbody>\n",
       "    <tr>\n",
       "      <th>공가수</th>\n",
       "      <td>1.000000</td>\n",
       "      <td>0.395811</td>\n",
       "      <td>0.178797</td>\n",
       "      <td>0.061617</td>\n",
       "      <td>0.323048</td>\n",
       "      <td>0.258826</td>\n",
       "      <td>0.238402</td>\n",
       "      <td>-0.107852</td>\n",
       "      <td>0.297591</td>\n",
       "    </tr>\n",
       "    <tr>\n",
       "      <th>단지내주차면수</th>\n",
       "      <td>0.395811</td>\n",
       "      <td>1.000000</td>\n",
       "      <td>0.847504</td>\n",
       "      <td>0.104887</td>\n",
       "      <td>0.536409</td>\n",
       "      <td>-0.020915</td>\n",
       "      <td>0.863904</td>\n",
       "      <td>-0.004077</td>\n",
       "      <td>0.762461</td>\n",
       "    </tr>\n",
       "    <tr>\n",
       "      <th>등록차량수</th>\n",
       "      <td>0.178797</td>\n",
       "      <td>0.847504</td>\n",
       "      <td>1.000000</td>\n",
       "      <td>0.116681</td>\n",
       "      <td>0.505145</td>\n",
       "      <td>-0.114689</td>\n",
       "      <td>0.801715</td>\n",
       "      <td>-0.031969</td>\n",
       "      <td>0.580188</td>\n",
       "    </tr>\n",
       "    <tr>\n",
       "      <th>버스</th>\n",
       "      <td>0.061617</td>\n",
       "      <td>0.104887</td>\n",
       "      <td>0.116681</td>\n",
       "      <td>1.000000</td>\n",
       "      <td>0.179875</td>\n",
       "      <td>-0.037111</td>\n",
       "      <td>0.120658</td>\n",
       "      <td>0.100521</td>\n",
       "      <td>0.099372</td>\n",
       "    </tr>\n",
       "    <tr>\n",
       "      <th>임대보증금합</th>\n",
       "      <td>0.323048</td>\n",
       "      <td>0.536409</td>\n",
       "      <td>0.505145</td>\n",
       "      <td>0.179875</td>\n",
       "      <td>1.000000</td>\n",
       "      <td>-0.022599</td>\n",
       "      <td>0.542211</td>\n",
       "      <td>-0.009927</td>\n",
       "      <td>0.357724</td>\n",
       "    </tr>\n",
       "    <tr>\n",
       "      <th>자격유형</th>\n",
       "      <td>0.258826</td>\n",
       "      <td>-0.020915</td>\n",
       "      <td>-0.114689</td>\n",
       "      <td>-0.037111</td>\n",
       "      <td>-0.022599</td>\n",
       "      <td>1.000000</td>\n",
       "      <td>-0.110601</td>\n",
       "      <td>-0.004778</td>\n",
       "      <td>0.107437</td>\n",
       "    </tr>\n",
       "    <tr>\n",
       "      <th>전용면적합</th>\n",
       "      <td>0.238402</td>\n",
       "      <td>0.863904</td>\n",
       "      <td>0.801715</td>\n",
       "      <td>0.120658</td>\n",
       "      <td>0.542211</td>\n",
       "      <td>-0.110601</td>\n",
       "      <td>1.000000</td>\n",
       "      <td>0.059724</td>\n",
       "      <td>0.856978</td>\n",
       "    </tr>\n",
       "    <tr>\n",
       "      <th>지하철</th>\n",
       "      <td>-0.107852</td>\n",
       "      <td>-0.004077</td>\n",
       "      <td>-0.031969</td>\n",
       "      <td>0.100521</td>\n",
       "      <td>-0.009927</td>\n",
       "      <td>-0.004778</td>\n",
       "      <td>0.059724</td>\n",
       "      <td>1.000000</td>\n",
       "      <td>0.099997</td>\n",
       "    </tr>\n",
       "    <tr>\n",
       "      <th>총세대수</th>\n",
       "      <td>0.297591</td>\n",
       "      <td>0.762461</td>\n",
       "      <td>0.580188</td>\n",
       "      <td>0.099372</td>\n",
       "      <td>0.357724</td>\n",
       "      <td>0.107437</td>\n",
       "      <td>0.856978</td>\n",
       "      <td>0.099997</td>\n",
       "      <td>1.000000</td>\n",
       "    </tr>\n",
       "  </tbody>\n",
       "</table>\n",
       "</div>"
      ],
      "text/plain": [
       "              공가수   단지내주차면수     등록차량수        버스    임대보증금합      자격유형     전용면적합  \\\n",
       "공가수      1.000000  0.395811  0.178797  0.061617  0.323048  0.258826  0.238402   \n",
       "단지내주차면수  0.395811  1.000000  0.847504  0.104887  0.536409 -0.020915  0.863904   \n",
       "등록차량수    0.178797  0.847504  1.000000  0.116681  0.505145 -0.114689  0.801715   \n",
       "버스       0.061617  0.104887  0.116681  1.000000  0.179875 -0.037111  0.120658   \n",
       "임대보증금합   0.323048  0.536409  0.505145  0.179875  1.000000 -0.022599  0.542211   \n",
       "자격유형     0.258826 -0.020915 -0.114689 -0.037111 -0.022599  1.000000 -0.110601   \n",
       "전용면적합    0.238402  0.863904  0.801715  0.120658  0.542211 -0.110601  1.000000   \n",
       "지하철     -0.107852 -0.004077 -0.031969  0.100521 -0.009927 -0.004778  0.059724   \n",
       "총세대수     0.297591  0.762461  0.580188  0.099372  0.357724  0.107437  0.856978   \n",
       "\n",
       "              지하철      총세대수  \n",
       "공가수     -0.107852  0.297591  \n",
       "단지내주차면수 -0.004077  0.762461  \n",
       "등록차량수   -0.031969  0.580188  \n",
       "버스       0.100521  0.099372  \n",
       "임대보증금합  -0.009927  0.357724  \n",
       "자격유형    -0.004778  0.107437  \n",
       "전용면적합    0.059724  0.856978  \n",
       "지하철      1.000000  0.099997  \n",
       "총세대수     0.099997  1.000000  "
      ]
     },
     "execution_count": 198,
     "metadata": {},
     "output_type": "execute_result"
    }
   ],
   "source": [
    "train_pivot.corr()"
   ]
  },
  {
   "cell_type": "code",
   "execution_count": 200,
   "id": "2542d2c5",
   "metadata": {},
   "outputs": [],
   "source": [
    "train_pivot = train_pivot[['단지내주차면수', '임대보증금합', '전용면적합', '총세대수', '등록차량수']]"
   ]
  },
  {
   "cell_type": "code",
   "execution_count": 203,
   "id": "6c685ccf",
   "metadata": {},
   "outputs": [],
   "source": [
    "from sklearn.model_selection import train_test_split\n",
    "X = train_pivot.iloc[:,:-1]\n",
    "y = train_pivot['등록차량수']\n",
    "X_train, X_test, y_train, y_test = train_test_split(X, y, test_size=0.2, random_state=911)"
   ]
  },
  {
   "cell_type": "code",
   "execution_count": 205,
   "id": "71afc312",
   "metadata": {},
   "outputs": [],
   "source": [
    "X_train = np.asarray(X_train)\n",
    "X_test = np.asarray(X_test)\n",
    "y_train = np.asarray(y_train)\n",
    "y_test = np.asarray(y_test)"
   ]
  },
  {
   "cell_type": "code",
   "execution_count": 212,
   "id": "00c75dfb",
   "metadata": {},
   "outputs": [],
   "source": [
    "from sklearn.metrics import mean_absolute_error\n",
    "from sklearn.model_selection import GridSearchCV\n",
    "from sklearn.model_selection import PredefinedSplit  \n",
    "from sklearn import ensemble\n",
    "\n",
    "# Hyperparameter 조합 정의\n",
    "param_grid = {'max_iter': [100, 250, 270, 300],\n",
    "  'max_depth': [2, 3, 4],\n",
    "   'min_samples_leaf': [70, 80, 90, 100, 110],\n",
    "  'learning_rate': [0.05, 0.055, 0.06, 0.065],\n",
    "  'loss': ['squared_error','absolute_error', 'poisson'],\n",
    "  'early_stopping' : [False]} "
   ]
  },
  {
   "cell_type": "code",
   "execution_count": 213,
   "id": "af3bcca1",
   "metadata": {},
   "outputs": [
    {
     "name": "stdout",
     "output_type": "stream",
     "text": [
      "Fitting 1 folds for each of 720 candidates, totalling 720 fits\n",
      "{'early_stopping': False, 'learning_rate': 0.05, 'loss': 'absolute_error', 'max_depth': 2, 'max_iter': 300, 'min_samples_leaf': 70}\n"
     ]
    }
   ],
   "source": [
    "X = np.concatenate((X_train,X_test), axis=0)\n",
    "y = np.concatenate((y_train,y_test), axis=0)\n",
    "pds = PredefinedSplit(test_fold=[-1]*len(X_train)+[0]*len(X_test))\n",
    "# grid search 모델 정의, 학습 및 model selection\n",
    "grid_search = GridSearchCV(estimator=ensemble.HistGradientBoostingRegressor(), \n",
    "                   param_grid=param_grid, \n",
    "                   cv=pds, n_jobs=-1, scoring='neg_mean_absolute_error', verbose=2)\n",
    "grid_search.fit(X, y)\n",
    "print(grid_search.best_params_)"
   ]
  },
  {
   "cell_type": "code",
   "execution_count": 214,
   "id": "74d194a0",
   "metadata": {},
   "outputs": [
    {
     "name": "stdout",
     "output_type": "stream",
     "text": [
      "The mean absolute error (MAE) on test set: 134.1900\n"
     ]
    }
   ],
   "source": [
    "reg = ensemble.HistGradientBoostingRegressor(**grid_search.best_params_)\n",
    "reg.fit(X_train, y_train)\n",
    "\n",
    "mae = mean_absolute_error(y_test, reg.predict(X_test))\n",
    "print(\"The mean absolute error (MAE) on test set: {:.4f}\".format(mae))"
   ]
  },
  {
   "cell_type": "code",
   "execution_count": 218,
   "id": "64cf49a0",
   "metadata": {},
   "outputs": [
    {
     "data": {
      "text/plain": [
       "0.7280924330329759"
      ]
     },
     "execution_count": 218,
     "metadata": {},
     "output_type": "execute_result"
    }
   ],
   "source": [
    "reg.score(X_test, y_test)"
   ]
  },
  {
   "cell_type": "code",
   "execution_count": null,
   "id": "1cb74d3f",
   "metadata": {},
   "outputs": [],
   "source": []
  }
 ],
 "metadata": {
  "kernelspec": {
   "display_name": "Python 3 (ipykernel)",
   "language": "python",
   "name": "python3"
  },
  "language_info": {
   "codemirror_mode": {
    "name": "ipython",
    "version": 3
   },
   "file_extension": ".py",
   "mimetype": "text/x-python",
   "name": "python",
   "nbconvert_exporter": "python",
   "pygments_lexer": "ipython3",
   "version": "3.8.11"
  }
 },
 "nbformat": 4,
 "nbformat_minor": 5
}
