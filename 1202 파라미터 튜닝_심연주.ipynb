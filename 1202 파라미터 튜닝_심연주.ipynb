{
 "cells": [
  {
   "cell_type": "markdown",
   "metadata": {
    "id": "w2JOApRMl7Dv"
   },
   "source": [
    "## **STEP1. 패키지 및 데이터 로딩**"
   ]
  },
  {
   "cell_type": "code",
   "execution_count": 1,
   "metadata": {
    "id": "HF6xCKUswodq"
   },
   "outputs": [],
   "source": [
    "import pandas as pd\n",
    "import matplotlib.pyplot as plt\n",
    "import seaborn as sns\n",
    "\n",
    "from sklearn.preprocessing import LabelEncoder\n",
    "from sklearn.model_selection import train_test_split\n",
    "\n",
    "from xgboost import XGBRegressor\n",
    "from sklearn.linear_model import LinearRegression\n",
    "from sklearn.ensemble import RandomForestRegressor"
   ]
  },
  {
   "cell_type": "code",
   "execution_count": 52,
   "metadata": {},
   "outputs": [],
   "source": [
    "import matplotlib.pyplot as plt \n",
    "import seaborn as sns \n",
    "from matplotlib import rc \n",
    "\n",
    "plt.rcParams[\"axes.unicode_minus\"] = False \n",
    "rc(\"font\", family=\"Malgun Gothic\")\n",
    "# %matplotlib inline \n",
    "get_ipython().run_line_magic(\"matplotlib\", \"inline\")"
   ]
  },
  {
   "cell_type": "code",
   "execution_count": 2,
   "metadata": {
    "colab": {
     "base_uri": "https://localhost:8080/"
    },
    "id": "QUlSxb_pnUiz",
    "outputId": "08e9fec0-c89a-480e-86d0-a8ccbf8a7540"
   },
   "outputs": [
    {
     "name": "stdout",
     "output_type": "stream",
     "text": [
      "fonts-nanum is already the newest version (20170925-1).\n",
      "0 upgraded, 0 newly installed, 0 to remove and 37 not upgraded.\n"
     ]
    }
   ],
   "source": [
    "# # 한글 표시 설정\n",
    "# import matplotlib as mpl\n",
    "# %config InlineBackend.figure_format = 'retina'\n",
    " \n",
    "# !apt -qq -y install fonts-nanum\n",
    " \n",
    "# import matplotlib.font_manager as fm\n",
    "# fontpath = '/usr/share/fonts/truetype/nanum/NanumBarunGothic.ttf'\n",
    "# font = fm.FontProperties(fname=fontpath, size=9)\n",
    "# plt.rc('font', family='NanumBarunGothic') \n",
    "# mpl.font_manager._rebuild()\n",
    "\n",
    "# # 마이너스 기호 정상 출력을 위한 코드\n",
    "# plt.rc('axes', unicode_minus=False)"
   ]
  },
  {
   "cell_type": "code",
   "execution_count": 64,
   "metadata": {
    "id": "p7b6h1Gpw5j2",
    "scrolled": true
   },
   "outputs": [],
   "source": [
    "train = pd.read_csv('../parking_data/train.csv')\n",
    "test = pd.read_csv('../parking_data/test.csv')\n",
    "submission = pd.read_csv('../parking_data/sample_submission.csv')"
   ]
  },
  {
   "cell_type": "markdown",
   "metadata": {
    "id": "jc0hUw03oS3n"
   },
   "source": [
    "---"
   ]
  },
  {
   "cell_type": "markdown",
   "metadata": {
    "id": "T3z8JyBboOVA"
   },
   "source": [
    "## **STEP2. 데이터 탐색**"
   ]
  },
  {
   "cell_type": "code",
   "execution_count": 65,
   "metadata": {
    "colab": {
     "base_uri": "https://localhost:8080/"
    },
    "id": "DcmVU2EvoYKn",
    "outputId": "6df36557-8970-4059-91cc-bd6d0fc1819d",
    "scrolled": false
   },
   "outputs": [
    {
     "data": {
      "text/plain": [
       "((2952, 15), (1022, 14))"
      ]
     },
     "execution_count": 65,
     "metadata": {},
     "output_type": "execute_result"
    }
   ],
   "source": [
    "train.shape, test.shape"
   ]
  },
  {
   "cell_type": "code",
   "execution_count": 66,
   "metadata": {
    "colab": {
     "base_uri": "https://localhost:8080/",
     "height": 310
    },
    "id": "47F5u9GlxEam",
    "outputId": "48259eae-054e-49bd-fedb-d57c2aa188c7"
   },
   "outputs": [
    {
     "data": {
      "text/html": [
       "<div>\n",
       "<style scoped>\n",
       "    .dataframe tbody tr th:only-of-type {\n",
       "        vertical-align: middle;\n",
       "    }\n",
       "\n",
       "    .dataframe tbody tr th {\n",
       "        vertical-align: top;\n",
       "    }\n",
       "\n",
       "    .dataframe thead th {\n",
       "        text-align: right;\n",
       "    }\n",
       "</style>\n",
       "<table border=\"1\" class=\"dataframe\">\n",
       "  <thead>\n",
       "    <tr style=\"text-align: right;\">\n",
       "      <th></th>\n",
       "      <th>단지코드</th>\n",
       "      <th>총세대수</th>\n",
       "      <th>임대건물구분</th>\n",
       "      <th>지역</th>\n",
       "      <th>공급유형</th>\n",
       "      <th>전용면적</th>\n",
       "      <th>전용면적별세대수</th>\n",
       "      <th>공가수</th>\n",
       "      <th>자격유형</th>\n",
       "      <th>임대보증금</th>\n",
       "      <th>임대료</th>\n",
       "      <th>도보 10분거리 내 지하철역 수(환승노선 수 반영)</th>\n",
       "      <th>도보 10분거리 내 버스정류장 수</th>\n",
       "      <th>단지내주차면수</th>\n",
       "      <th>등록차량수</th>\n",
       "    </tr>\n",
       "  </thead>\n",
       "  <tbody>\n",
       "    <tr>\n",
       "      <th>0</th>\n",
       "      <td>C2483</td>\n",
       "      <td>900</td>\n",
       "      <td>아파트</td>\n",
       "      <td>경상북도</td>\n",
       "      <td>국민임대</td>\n",
       "      <td>39.72</td>\n",
       "      <td>134</td>\n",
       "      <td>38.0</td>\n",
       "      <td>A</td>\n",
       "      <td>15667000</td>\n",
       "      <td>103680</td>\n",
       "      <td>0.0</td>\n",
       "      <td>3.0</td>\n",
       "      <td>1425.0</td>\n",
       "      <td>1015.0</td>\n",
       "    </tr>\n",
       "    <tr>\n",
       "      <th>1</th>\n",
       "      <td>C2483</td>\n",
       "      <td>900</td>\n",
       "      <td>아파트</td>\n",
       "      <td>경상북도</td>\n",
       "      <td>국민임대</td>\n",
       "      <td>39.72</td>\n",
       "      <td>15</td>\n",
       "      <td>38.0</td>\n",
       "      <td>A</td>\n",
       "      <td>15667000</td>\n",
       "      <td>103680</td>\n",
       "      <td>0.0</td>\n",
       "      <td>3.0</td>\n",
       "      <td>1425.0</td>\n",
       "      <td>1015.0</td>\n",
       "    </tr>\n",
       "    <tr>\n",
       "      <th>2</th>\n",
       "      <td>C2483</td>\n",
       "      <td>900</td>\n",
       "      <td>아파트</td>\n",
       "      <td>경상북도</td>\n",
       "      <td>국민임대</td>\n",
       "      <td>51.93</td>\n",
       "      <td>385</td>\n",
       "      <td>38.0</td>\n",
       "      <td>A</td>\n",
       "      <td>27304000</td>\n",
       "      <td>184330</td>\n",
       "      <td>0.0</td>\n",
       "      <td>3.0</td>\n",
       "      <td>1425.0</td>\n",
       "      <td>1015.0</td>\n",
       "    </tr>\n",
       "    <tr>\n",
       "      <th>3</th>\n",
       "      <td>C2483</td>\n",
       "      <td>900</td>\n",
       "      <td>아파트</td>\n",
       "      <td>경상북도</td>\n",
       "      <td>국민임대</td>\n",
       "      <td>51.93</td>\n",
       "      <td>15</td>\n",
       "      <td>38.0</td>\n",
       "      <td>A</td>\n",
       "      <td>27304000</td>\n",
       "      <td>184330</td>\n",
       "      <td>0.0</td>\n",
       "      <td>3.0</td>\n",
       "      <td>1425.0</td>\n",
       "      <td>1015.0</td>\n",
       "    </tr>\n",
       "    <tr>\n",
       "      <th>4</th>\n",
       "      <td>C2483</td>\n",
       "      <td>900</td>\n",
       "      <td>아파트</td>\n",
       "      <td>경상북도</td>\n",
       "      <td>국민임대</td>\n",
       "      <td>51.93</td>\n",
       "      <td>41</td>\n",
       "      <td>38.0</td>\n",
       "      <td>A</td>\n",
       "      <td>27304000</td>\n",
       "      <td>184330</td>\n",
       "      <td>0.0</td>\n",
       "      <td>3.0</td>\n",
       "      <td>1425.0</td>\n",
       "      <td>1015.0</td>\n",
       "    </tr>\n",
       "  </tbody>\n",
       "</table>\n",
       "</div>"
      ],
      "text/plain": [
       "    단지코드  총세대수 임대건물구분    지역  공급유형   전용면적  전용면적별세대수   공가수 자격유형     임대보증금  \\\n",
       "0  C2483   900    아파트  경상북도  국민임대  39.72       134  38.0    A  15667000   \n",
       "1  C2483   900    아파트  경상북도  국민임대  39.72        15  38.0    A  15667000   \n",
       "2  C2483   900    아파트  경상북도  국민임대  51.93       385  38.0    A  27304000   \n",
       "3  C2483   900    아파트  경상북도  국민임대  51.93        15  38.0    A  27304000   \n",
       "4  C2483   900    아파트  경상북도  국민임대  51.93        41  38.0    A  27304000   \n",
       "\n",
       "      임대료  도보 10분거리 내 지하철역 수(환승노선 수 반영)  도보 10분거리 내 버스정류장 수  단지내주차면수   등록차량수  \n",
       "0  103680                           0.0                 3.0   1425.0  1015.0  \n",
       "1  103680                           0.0                 3.0   1425.0  1015.0  \n",
       "2  184330                           0.0                 3.0   1425.0  1015.0  \n",
       "3  184330                           0.0                 3.0   1425.0  1015.0  \n",
       "4  184330                           0.0                 3.0   1425.0  1015.0  "
      ]
     },
     "execution_count": 66,
     "metadata": {},
     "output_type": "execute_result"
    }
   ],
   "source": [
    "train.head()"
   ]
  },
  {
   "cell_type": "code",
   "execution_count": 67,
   "metadata": {
    "colab": {
     "base_uri": "https://localhost:8080/",
     "height": 310
    },
    "id": "9nVhKyyXxHDn",
    "outputId": "f0279412-7cbb-4579-e0ee-656a6bb77eea"
   },
   "outputs": [
    {
     "data": {
      "text/html": [
       "<div>\n",
       "<style scoped>\n",
       "    .dataframe tbody tr th:only-of-type {\n",
       "        vertical-align: middle;\n",
       "    }\n",
       "\n",
       "    .dataframe tbody tr th {\n",
       "        vertical-align: top;\n",
       "    }\n",
       "\n",
       "    .dataframe thead th {\n",
       "        text-align: right;\n",
       "    }\n",
       "</style>\n",
       "<table border=\"1\" class=\"dataframe\">\n",
       "  <thead>\n",
       "    <tr style=\"text-align: right;\">\n",
       "      <th></th>\n",
       "      <th>단지코드</th>\n",
       "      <th>총세대수</th>\n",
       "      <th>임대건물구분</th>\n",
       "      <th>지역</th>\n",
       "      <th>공급유형</th>\n",
       "      <th>전용면적</th>\n",
       "      <th>전용면적별세대수</th>\n",
       "      <th>공가수</th>\n",
       "      <th>자격유형</th>\n",
       "      <th>임대보증금</th>\n",
       "      <th>임대료</th>\n",
       "      <th>도보 10분거리 내 지하철역 수(환승노선 수 반영)</th>\n",
       "      <th>도보 10분거리 내 버스정류장 수</th>\n",
       "      <th>단지내주차면수</th>\n",
       "    </tr>\n",
       "  </thead>\n",
       "  <tbody>\n",
       "    <tr>\n",
       "      <th>0</th>\n",
       "      <td>C1072</td>\n",
       "      <td>754</td>\n",
       "      <td>아파트</td>\n",
       "      <td>경기도</td>\n",
       "      <td>국민임대</td>\n",
       "      <td>39.79</td>\n",
       "      <td>116</td>\n",
       "      <td>14.0</td>\n",
       "      <td>H</td>\n",
       "      <td>22830000</td>\n",
       "      <td>189840</td>\n",
       "      <td>0.0</td>\n",
       "      <td>2.0</td>\n",
       "      <td>683.0</td>\n",
       "    </tr>\n",
       "    <tr>\n",
       "      <th>1</th>\n",
       "      <td>C1072</td>\n",
       "      <td>754</td>\n",
       "      <td>아파트</td>\n",
       "      <td>경기도</td>\n",
       "      <td>국민임대</td>\n",
       "      <td>46.81</td>\n",
       "      <td>30</td>\n",
       "      <td>14.0</td>\n",
       "      <td>A</td>\n",
       "      <td>36048000</td>\n",
       "      <td>249930</td>\n",
       "      <td>0.0</td>\n",
       "      <td>2.0</td>\n",
       "      <td>683.0</td>\n",
       "    </tr>\n",
       "    <tr>\n",
       "      <th>2</th>\n",
       "      <td>C1072</td>\n",
       "      <td>754</td>\n",
       "      <td>아파트</td>\n",
       "      <td>경기도</td>\n",
       "      <td>국민임대</td>\n",
       "      <td>46.90</td>\n",
       "      <td>112</td>\n",
       "      <td>14.0</td>\n",
       "      <td>H</td>\n",
       "      <td>36048000</td>\n",
       "      <td>249930</td>\n",
       "      <td>0.0</td>\n",
       "      <td>2.0</td>\n",
       "      <td>683.0</td>\n",
       "    </tr>\n",
       "    <tr>\n",
       "      <th>3</th>\n",
       "      <td>C1072</td>\n",
       "      <td>754</td>\n",
       "      <td>아파트</td>\n",
       "      <td>경기도</td>\n",
       "      <td>국민임대</td>\n",
       "      <td>46.90</td>\n",
       "      <td>120</td>\n",
       "      <td>14.0</td>\n",
       "      <td>H</td>\n",
       "      <td>36048000</td>\n",
       "      <td>249930</td>\n",
       "      <td>0.0</td>\n",
       "      <td>2.0</td>\n",
       "      <td>683.0</td>\n",
       "    </tr>\n",
       "    <tr>\n",
       "      <th>4</th>\n",
       "      <td>C1072</td>\n",
       "      <td>754</td>\n",
       "      <td>아파트</td>\n",
       "      <td>경기도</td>\n",
       "      <td>국민임대</td>\n",
       "      <td>51.46</td>\n",
       "      <td>60</td>\n",
       "      <td>14.0</td>\n",
       "      <td>H</td>\n",
       "      <td>43497000</td>\n",
       "      <td>296780</td>\n",
       "      <td>0.0</td>\n",
       "      <td>2.0</td>\n",
       "      <td>683.0</td>\n",
       "    </tr>\n",
       "  </tbody>\n",
       "</table>\n",
       "</div>"
      ],
      "text/plain": [
       "    단지코드  총세대수 임대건물구분   지역  공급유형   전용면적  전용면적별세대수   공가수 자격유형     임대보증금  \\\n",
       "0  C1072   754    아파트  경기도  국민임대  39.79       116  14.0    H  22830000   \n",
       "1  C1072   754    아파트  경기도  국민임대  46.81        30  14.0    A  36048000   \n",
       "2  C1072   754    아파트  경기도  국민임대  46.90       112  14.0    H  36048000   \n",
       "3  C1072   754    아파트  경기도  국민임대  46.90       120  14.0    H  36048000   \n",
       "4  C1072   754    아파트  경기도  국민임대  51.46        60  14.0    H  43497000   \n",
       "\n",
       "      임대료  도보 10분거리 내 지하철역 수(환승노선 수 반영)  도보 10분거리 내 버스정류장 수  단지내주차면수  \n",
       "0  189840                           0.0                 2.0    683.0  \n",
       "1  249930                           0.0                 2.0    683.0  \n",
       "2  249930                           0.0                 2.0    683.0  \n",
       "3  249930                           0.0                 2.0    683.0  \n",
       "4  296780                           0.0                 2.0    683.0  "
      ]
     },
     "execution_count": 67,
     "metadata": {},
     "output_type": "execute_result"
    }
   ],
   "source": [
    "test.head()"
   ]
  },
  {
   "cell_type": "markdown",
   "metadata": {
    "id": "_VAB_uiaoz80"
   },
   "source": [
    "---"
   ]
  },
  {
   "cell_type": "markdown",
   "metadata": {
    "id": "vdNSx5xMoklT"
   },
   "source": [
    "### 2-1. 컬럼명 변경\n",
    "\n",
    "* 도보 10분거리 내 지하철역 수(환승노선 수 반영) → 지하철역수\n",
    "* 도보 10분거리 내 버스정류장 수 → 버스정류장수"
   ]
  },
  {
   "cell_type": "code",
   "execution_count": 68,
   "metadata": {
    "colab": {
     "base_uri": "https://localhost:8080/"
    },
    "id": "Pef729tRxPe5",
    "outputId": "1386c0e0-2339-44dc-837e-f4d8ce616af6"
   },
   "outputs": [
    {
     "data": {
      "text/plain": [
       "Index(['단지코드', '총세대수', '임대건물구분', '지역', '공급유형', '전용면적', '전용면적별세대수', '공가수',\n",
       "       '자격유형', '임대보증금', '임대료', '도보 10분거리 내 지하철역 수(환승노선 수 반영)',\n",
       "       '도보 10분거리 내 버스정류장 수', '단지내주차면수', '등록차량수'],\n",
       "      dtype='object')"
      ]
     },
     "execution_count": 68,
     "metadata": {},
     "output_type": "execute_result"
    }
   ],
   "source": [
    "train.columns"
   ]
  },
  {
   "cell_type": "code",
   "execution_count": 69,
   "metadata": {
    "id": "Rw3U6iikxW9R"
   },
   "outputs": [],
   "source": [
    "train.columns = ['단지코드', '총세대수', '임대건물구분', '지역', '공급유형', '전용면적', '전용면적별세대수', '공가수', '자격유형', '임대보증금', '임대료', '지하철역수','버스정류장수', '단지내주차면수', '등록차량수']\n",
    "test.columns = ['단지코드', '총세대수', '임대건물구분', '지역', '공급유형', '전용면적', '전용면적별세대수', '공가수', '자격유형', '임대보증금', '임대료', '지하철역수','버스정류장수', '단지내주차면수']"
   ]
  },
  {
   "cell_type": "markdown",
   "metadata": {
    "id": "H2u1bNVuo9h1"
   },
   "source": [
    "### 2-2. 데이터 타입 및 결측치 확인\n"
   ]
  },
  {
   "cell_type": "markdown",
   "metadata": {
    "id": "Z9ajhAwAp7Vn"
   },
   "source": [
    "####Train Data"
   ]
  },
  {
   "cell_type": "code",
   "execution_count": 70,
   "metadata": {
    "colab": {
     "base_uri": "https://localhost:8080/"
    },
    "id": "lZQinKaXpB62",
    "outputId": "016b9f3b-e1c2-486f-d5b2-125052e7a904"
   },
   "outputs": [
    {
     "name": "stdout",
     "output_type": "stream",
     "text": [
      "<class 'pandas.core.frame.DataFrame'>\n",
      "RangeIndex: 2952 entries, 0 to 2951\n",
      "Data columns (total 15 columns):\n",
      " #   Column    Non-Null Count  Dtype  \n",
      "---  ------    --------------  -----  \n",
      " 0   단지코드      2952 non-null   object \n",
      " 1   총세대수      2952 non-null   int64  \n",
      " 2   임대건물구분    2952 non-null   object \n",
      " 3   지역        2952 non-null   object \n",
      " 4   공급유형      2952 non-null   object \n",
      " 5   전용면적      2952 non-null   float64\n",
      " 6   전용면적별세대수  2952 non-null   int64  \n",
      " 7   공가수       2952 non-null   float64\n",
      " 8   자격유형      2952 non-null   object \n",
      " 9   임대보증금     2383 non-null   object \n",
      " 10  임대료       2383 non-null   object \n",
      " 11  지하철역수     2741 non-null   float64\n",
      " 12  버스정류장수    2948 non-null   float64\n",
      " 13  단지내주차면수   2952 non-null   float64\n",
      " 14  등록차량수     2952 non-null   float64\n",
      "dtypes: float64(6), int64(2), object(7)\n",
      "memory usage: 346.1+ KB\n"
     ]
    }
   ],
   "source": [
    "train.info()"
   ]
  },
  {
   "cell_type": "code",
   "execution_count": 71,
   "metadata": {
    "colab": {
     "base_uri": "https://localhost:8080/"
    },
    "id": "4XQ6ePETpSeN",
    "outputId": "bfcf720e-6781-4675-8031-800294b28d4b"
   },
   "outputs": [
    {
     "data": {
      "text/plain": [
       "단지코드          0\n",
       "총세대수          0\n",
       "임대건물구분        0\n",
       "지역            0\n",
       "공급유형          0\n",
       "전용면적          0\n",
       "전용면적별세대수      0\n",
       "공가수           0\n",
       "자격유형          0\n",
       "임대보증금       569\n",
       "임대료         569\n",
       "지하철역수       211\n",
       "버스정류장수        4\n",
       "단지내주차면수       0\n",
       "등록차량수         0\n",
       "dtype: int64"
      ]
     },
     "execution_count": 71,
     "metadata": {},
     "output_type": "execute_result"
    }
   ],
   "source": [
    "train.isnull().sum()"
   ]
  },
  {
   "cell_type": "markdown",
   "metadata": {
    "id": "scYwKGeKpyGj"
   },
   "source": [
    "#### Test Data"
   ]
  },
  {
   "cell_type": "code",
   "execution_count": 72,
   "metadata": {
    "colab": {
     "base_uri": "https://localhost:8080/"
    },
    "id": "3qA4_ARKqL_B",
    "outputId": "4e487103-121b-4397-ddc1-b374090358e8"
   },
   "outputs": [
    {
     "name": "stdout",
     "output_type": "stream",
     "text": [
      "<class 'pandas.core.frame.DataFrame'>\n",
      "RangeIndex: 1022 entries, 0 to 1021\n",
      "Data columns (total 14 columns):\n",
      " #   Column    Non-Null Count  Dtype  \n",
      "---  ------    --------------  -----  \n",
      " 0   단지코드      1022 non-null   object \n",
      " 1   총세대수      1022 non-null   int64  \n",
      " 2   임대건물구분    1022 non-null   object \n",
      " 3   지역        1022 non-null   object \n",
      " 4   공급유형      1022 non-null   object \n",
      " 5   전용면적      1022 non-null   float64\n",
      " 6   전용면적별세대수  1022 non-null   int64  \n",
      " 7   공가수       1022 non-null   float64\n",
      " 8   자격유형      1020 non-null   object \n",
      " 9   임대보증금     842 non-null    object \n",
      " 10  임대료       842 non-null    object \n",
      " 11  지하철역수     980 non-null    float64\n",
      " 12  버스정류장수    1022 non-null   float64\n",
      " 13  단지내주차면수   1022 non-null   float64\n",
      "dtypes: float64(5), int64(2), object(7)\n",
      "memory usage: 111.9+ KB\n"
     ]
    }
   ],
   "source": [
    "test.info()"
   ]
  },
  {
   "cell_type": "code",
   "execution_count": 73,
   "metadata": {
    "colab": {
     "base_uri": "https://localhost:8080/"
    },
    "id": "VXGr4PuZqPkw",
    "outputId": "2d924869-ea36-45f6-934d-08e0b7bd0c91"
   },
   "outputs": [
    {
     "data": {
      "text/plain": [
       "단지코드          0\n",
       "총세대수          0\n",
       "임대건물구분        0\n",
       "지역            0\n",
       "공급유형          0\n",
       "전용면적          0\n",
       "전용면적별세대수      0\n",
       "공가수           0\n",
       "자격유형          2\n",
       "임대보증금       180\n",
       "임대료         180\n",
       "지하철역수        42\n",
       "버스정류장수        0\n",
       "단지내주차면수       0\n",
       "dtype: int64"
      ]
     },
     "execution_count": 73,
     "metadata": {},
     "output_type": "execute_result"
    }
   ],
   "source": [
    "test.isnull().sum()"
   ]
  },
  {
   "cell_type": "markdown",
   "metadata": {
    "id": "pYvJB1JxqZpy"
   },
   "source": [
    "## **STEP3. 데이터 전처리**"
   ]
  },
  {
   "cell_type": "markdown",
   "metadata": {
    "id": "VXCZN_zkpsb5"
   },
   "source": [
    "### 3-1. 결측치 대체"
   ]
  },
  {
   "cell_type": "markdown",
   "metadata": {
    "id": "p2YGlKIPuz2l"
   },
   "source": [
    "#### 지하철역수\n",
    "* 지하철역수 컬럼에 결측치가 존재하는 지역 : 충청남도, 대전광역시, 경상남도\n",
    "* 카카오맵에서 [지역명 + '임대주택']으로 검색한 결과, 충청남도/대전광역시/경상남도의 공공임대주택단지들 중에서 도보로 10분 이내에 지하철역으로 이동 가능한 주택단지는 없음.\n",
    "* 따라서, 지하철역수 컬럼의 결측치는 모두 0으로 대체함."
   ]
  },
  {
   "cell_type": "code",
   "execution_count": 74,
   "metadata": {
    "colab": {
     "base_uri": "https://localhost:8080/"
    },
    "id": "FAg_HCa-umX8",
    "outputId": "b4f72b09-3c54-43b5-e2f8-d1788aced39b"
   },
   "outputs": [
    {
     "data": {
      "text/plain": [
       "array(['충청남도', '대전광역시', '경상남도'], dtype=object)"
      ]
     },
     "execution_count": 74,
     "metadata": {},
     "output_type": "execute_result"
    }
   ],
   "source": [
    "train[train['지하철역수'].isnull()]['지역'].unique()"
   ]
  },
  {
   "cell_type": "code",
   "execution_count": 75,
   "metadata": {
    "id": "_eecuJ20t9DU"
   },
   "outputs": [],
   "source": [
    "train['지하철역수'] = train['지하철역수'].fillna(0)"
   ]
  },
  {
   "cell_type": "code",
   "execution_count": 76,
   "metadata": {
    "id": "eXQ4JYfEwYrH"
   },
   "outputs": [],
   "source": [
    "test['지하철역수'] = test['지하철역수'].fillna(0)"
   ]
  },
  {
   "cell_type": "code",
   "execution_count": 77,
   "metadata": {
    "colab": {
     "base_uri": "https://localhost:8080/"
    },
    "id": "0ovJdj3zuLMA",
    "outputId": "1e5138ae-1ea0-4160-913b-92e2a7be4b47"
   },
   "outputs": [
    {
     "data": {
      "text/plain": [
       "단지코드          0\n",
       "총세대수          0\n",
       "임대건물구분        0\n",
       "지역            0\n",
       "공급유형          0\n",
       "전용면적          0\n",
       "전용면적별세대수      0\n",
       "공가수           0\n",
       "자격유형          0\n",
       "임대보증금       569\n",
       "임대료         569\n",
       "지하철역수         0\n",
       "버스정류장수        4\n",
       "단지내주차면수       0\n",
       "등록차량수         0\n",
       "dtype: int64"
      ]
     },
     "execution_count": 77,
     "metadata": {},
     "output_type": "execute_result"
    }
   ],
   "source": [
    "train.isnull().sum()"
   ]
  },
  {
   "cell_type": "code",
   "execution_count": 78,
   "metadata": {
    "colab": {
     "base_uri": "https://localhost:8080/"
    },
    "id": "5I6TPRbjwc_-",
    "outputId": "31b88153-3b62-4c69-8283-e62818686f4f"
   },
   "outputs": [
    {
     "data": {
      "text/plain": [
       "단지코드          0\n",
       "총세대수          0\n",
       "임대건물구분        0\n",
       "지역            0\n",
       "공급유형          0\n",
       "전용면적          0\n",
       "전용면적별세대수      0\n",
       "공가수           0\n",
       "자격유형          2\n",
       "임대보증금       180\n",
       "임대료         180\n",
       "지하철역수         0\n",
       "버스정류장수        0\n",
       "단지내주차면수       0\n",
       "dtype: int64"
      ]
     },
     "execution_count": 78,
     "metadata": {},
     "output_type": "execute_result"
    }
   ],
   "source": [
    "test.isnull().sum()"
   ]
  },
  {
   "cell_type": "code",
   "execution_count": 79,
   "metadata": {
    "colab": {
     "base_uri": "https://localhost:8080/"
    },
    "id": "P2Xo-SWnwL2h",
    "outputId": "d099e5fa-53d9-447f-8040-4856974e2942"
   },
   "outputs": [
    {
     "name": "stdout",
     "output_type": "stream",
     "text": [
      "<class 'pandas.core.frame.DataFrame'>\n",
      "RangeIndex: 2952 entries, 0 to 2951\n",
      "Data columns (total 15 columns):\n",
      " #   Column    Non-Null Count  Dtype  \n",
      "---  ------    --------------  -----  \n",
      " 0   단지코드      2952 non-null   object \n",
      " 1   총세대수      2952 non-null   int64  \n",
      " 2   임대건물구분    2952 non-null   object \n",
      " 3   지역        2952 non-null   object \n",
      " 4   공급유형      2952 non-null   object \n",
      " 5   전용면적      2952 non-null   float64\n",
      " 6   전용면적별세대수  2952 non-null   int64  \n",
      " 7   공가수       2952 non-null   float64\n",
      " 8   자격유형      2952 non-null   object \n",
      " 9   임대보증금     2383 non-null   object \n",
      " 10  임대료       2383 non-null   object \n",
      " 11  지하철역수     2952 non-null   float64\n",
      " 12  버스정류장수    2948 non-null   float64\n",
      " 13  단지내주차면수   2952 non-null   float64\n",
      " 14  등록차량수     2952 non-null   float64\n",
      "dtypes: float64(6), int64(2), object(7)\n",
      "memory usage: 346.1+ KB\n"
     ]
    }
   ],
   "source": [
    "train.info()"
   ]
  },
  {
   "cell_type": "markdown",
   "metadata": {
    "id": "1EomoAjg-85F"
   },
   "source": [
    "#### 버스정류장수\n",
    "* 버스정류장수 컬럼에 결측치가 존재하는 지역 : 경상남도\n",
    "* 카카오맵에서 확인한 결과, 경상남도 공공임대주택단지에서 도보 10분 이내로 이동 가능한 버스정류장 수는 평균 2.6개\n",
    "    - 김해진례 공공지원민간임대주택 공급촉진지구: 0개\n",
    "    - 거제송정 기업형임대주택 공급촉진지구: 2개\n",
    "    - 양산덕계 공공지원민간임대주택 공급촉진지구: 5개\n",
    "    - 사천송지 기업형임대주택 공급촉진지구: 2개\n",
    "    - 창원안민 공공지원 민간임대주택 공급촉진지구: 4개\n",
    "* 버스정류장수 컬럼의 결측치는 2.6개를 반올림한 3개로 대체\n"
   ]
  },
  {
   "cell_type": "code",
   "execution_count": 80,
   "metadata": {
    "colab": {
     "base_uri": "https://localhost:8080/"
    },
    "id": "Ja1Esw8i-8dr",
    "outputId": "e7daa87d-c784-4c59-d891-553ff02669b6"
   },
   "outputs": [
    {
     "data": {
      "text/plain": [
       "array(['경상남도'], dtype=object)"
      ]
     },
     "execution_count": 80,
     "metadata": {},
     "output_type": "execute_result"
    }
   ],
   "source": [
    "train[train['버스정류장수'].isnull()]['지역'].unique()"
   ]
  },
  {
   "cell_type": "code",
   "execution_count": 81,
   "metadata": {
    "id": "13Ap0d1GAsmT"
   },
   "outputs": [],
   "source": [
    "train['버스정류장수'] = train['버스정류장수'].fillna(3)"
   ]
  },
  {
   "cell_type": "code",
   "execution_count": 82,
   "metadata": {
    "colab": {
     "base_uri": "https://localhost:8080/"
    },
    "id": "nD7VG_rWBLw9",
    "outputId": "450e37fc-6665-4e77-9b40-c5146fb6ea4e"
   },
   "outputs": [
    {
     "data": {
      "text/plain": [
       "단지코드          0\n",
       "총세대수          0\n",
       "임대건물구분        0\n",
       "지역            0\n",
       "공급유형          0\n",
       "전용면적          0\n",
       "전용면적별세대수      0\n",
       "공가수           0\n",
       "자격유형          2\n",
       "임대보증금       180\n",
       "임대료         180\n",
       "지하철역수         0\n",
       "버스정류장수        0\n",
       "단지내주차면수       0\n",
       "dtype: int64"
      ]
     },
     "execution_count": 82,
     "metadata": {},
     "output_type": "execute_result"
    }
   ],
   "source": [
    "test.isnull().sum()"
   ]
  },
  {
   "cell_type": "markdown",
   "metadata": {
    "id": "2mY6VAYzCa2-"
   },
   "source": [
    "#### 자격유형\n",
    "* 자격유형 컬럼의 결측치는 2개인데, 서로 다른 단지 코드를 가지고 있음\n",
    "* 단지코드가 'C2411'인 결측치의 경우 같은 단지코드를 가진 다른 데이터에서 자격유형이 모두 'A'로 나왔기 때문에, 똑같이 'A'로 대체함\n",
    "* 단지코드가 'C2253'인 결측치의 경우 같은 단지코드를 가진 다른 데이터에서 자격유형 최빈값이 'D'라고 나왔지만, 자격유형 'D'의 경우 상가에 해당하여 결측치에는 해당하지 않는 것으로 보임. 결측치와 같은 건물유형인 아파트의 경우 자격유형이 모두 'C'라고 나타났기 때문에, 결측치는 'C'로 대체함"
   ]
  },
  {
   "cell_type": "code",
   "execution_count": 83,
   "metadata": {
    "colab": {
     "base_uri": "https://localhost:8080/",
     "height": 112
    },
    "id": "Hyys4DG3Cdlg",
    "outputId": "cd792a88-eee5-4904-b1db-74b55fd8d5c6"
   },
   "outputs": [
    {
     "data": {
      "text/html": [
       "<div>\n",
       "<style scoped>\n",
       "    .dataframe tbody tr th:only-of-type {\n",
       "        vertical-align: middle;\n",
       "    }\n",
       "\n",
       "    .dataframe tbody tr th {\n",
       "        vertical-align: top;\n",
       "    }\n",
       "\n",
       "    .dataframe thead th {\n",
       "        text-align: right;\n",
       "    }\n",
       "</style>\n",
       "<table border=\"1\" class=\"dataframe\">\n",
       "  <thead>\n",
       "    <tr style=\"text-align: right;\">\n",
       "      <th></th>\n",
       "      <th>단지코드</th>\n",
       "      <th>총세대수</th>\n",
       "      <th>임대건물구분</th>\n",
       "      <th>지역</th>\n",
       "      <th>공급유형</th>\n",
       "      <th>전용면적</th>\n",
       "      <th>전용면적별세대수</th>\n",
       "      <th>공가수</th>\n",
       "      <th>자격유형</th>\n",
       "      <th>임대보증금</th>\n",
       "      <th>임대료</th>\n",
       "      <th>지하철역수</th>\n",
       "      <th>버스정류장수</th>\n",
       "      <th>단지내주차면수</th>\n",
       "    </tr>\n",
       "  </thead>\n",
       "  <tbody>\n",
       "    <tr>\n",
       "      <th>196</th>\n",
       "      <td>C2411</td>\n",
       "      <td>962</td>\n",
       "      <td>아파트</td>\n",
       "      <td>경상남도</td>\n",
       "      <td>국민임대</td>\n",
       "      <td>46.90</td>\n",
       "      <td>240</td>\n",
       "      <td>25.0</td>\n",
       "      <td>NaN</td>\n",
       "      <td>71950000</td>\n",
       "      <td>37470</td>\n",
       "      <td>0.0</td>\n",
       "      <td>2.0</td>\n",
       "      <td>840.0</td>\n",
       "    </tr>\n",
       "    <tr>\n",
       "      <th>258</th>\n",
       "      <td>C2253</td>\n",
       "      <td>1161</td>\n",
       "      <td>아파트</td>\n",
       "      <td>강원도</td>\n",
       "      <td>영구임대</td>\n",
       "      <td>26.37</td>\n",
       "      <td>745</td>\n",
       "      <td>0.0</td>\n",
       "      <td>NaN</td>\n",
       "      <td>2249000</td>\n",
       "      <td>44770</td>\n",
       "      <td>0.0</td>\n",
       "      <td>2.0</td>\n",
       "      <td>173.0</td>\n",
       "    </tr>\n",
       "  </tbody>\n",
       "</table>\n",
       "</div>"
      ],
      "text/plain": [
       "      단지코드  총세대수 임대건물구분    지역  공급유형   전용면적  전용면적별세대수   공가수 자격유형     임대보증금  \\\n",
       "196  C2411   962    아파트  경상남도  국민임대  46.90       240  25.0  NaN  71950000   \n",
       "258  C2253  1161    아파트   강원도  영구임대  26.37       745   0.0  NaN   2249000   \n",
       "\n",
       "       임대료  지하철역수  버스정류장수  단지내주차면수  \n",
       "196  37470    0.0     2.0    840.0  \n",
       "258  44770    0.0     2.0    173.0  "
      ]
     },
     "execution_count": 83,
     "metadata": {},
     "output_type": "execute_result"
    }
   ],
   "source": [
    "test[test['자격유형'].isnull()]"
   ]
  },
  {
   "cell_type": "code",
   "execution_count": 84,
   "metadata": {
    "colab": {
     "base_uri": "https://localhost:8080/"
    },
    "id": "AXWkF3EnCkha",
    "outputId": "2cbe2c09-725b-4feb-ca4b-d7b7e0e12e34"
   },
   "outputs": [
    {
     "data": {
      "text/plain": [
       "0    A\n",
       "dtype: object"
      ]
     },
     "execution_count": 84,
     "metadata": {},
     "output_type": "execute_result"
    }
   ],
   "source": [
    "test[test['단지코드'] == 'C2411']['자격유형'].mode()"
   ]
  },
  {
   "cell_type": "code",
   "execution_count": 85,
   "metadata": {
    "colab": {
     "base_uri": "https://localhost:8080/",
     "height": 206
    },
    "id": "eQAoRQnQDzx7",
    "outputId": "eaed2dcf-f223-433c-9b5d-57da1b104805"
   },
   "outputs": [
    {
     "data": {
      "text/html": [
       "<div>\n",
       "<style scoped>\n",
       "    .dataframe tbody tr th:only-of-type {\n",
       "        vertical-align: middle;\n",
       "    }\n",
       "\n",
       "    .dataframe tbody tr th {\n",
       "        vertical-align: top;\n",
       "    }\n",
       "\n",
       "    .dataframe thead th {\n",
       "        text-align: right;\n",
       "    }\n",
       "</style>\n",
       "<table border=\"1\" class=\"dataframe\">\n",
       "  <thead>\n",
       "    <tr style=\"text-align: right;\">\n",
       "      <th></th>\n",
       "      <th>단지코드</th>\n",
       "      <th>총세대수</th>\n",
       "      <th>임대건물구분</th>\n",
       "      <th>지역</th>\n",
       "      <th>공급유형</th>\n",
       "      <th>전용면적</th>\n",
       "      <th>전용면적별세대수</th>\n",
       "      <th>공가수</th>\n",
       "      <th>자격유형</th>\n",
       "      <th>임대보증금</th>\n",
       "      <th>임대료</th>\n",
       "      <th>지하철역수</th>\n",
       "      <th>버스정류장수</th>\n",
       "      <th>단지내주차면수</th>\n",
       "    </tr>\n",
       "  </thead>\n",
       "  <tbody>\n",
       "    <tr>\n",
       "      <th>193</th>\n",
       "      <td>C2411</td>\n",
       "      <td>962</td>\n",
       "      <td>아파트</td>\n",
       "      <td>경상남도</td>\n",
       "      <td>국민임대</td>\n",
       "      <td>39.43</td>\n",
       "      <td>56</td>\n",
       "      <td>25.0</td>\n",
       "      <td>A</td>\n",
       "      <td>11992000</td>\n",
       "      <td>100720</td>\n",
       "      <td>0.0</td>\n",
       "      <td>2.0</td>\n",
       "      <td>840.0</td>\n",
       "    </tr>\n",
       "    <tr>\n",
       "      <th>194</th>\n",
       "      <td>C2411</td>\n",
       "      <td>962</td>\n",
       "      <td>아파트</td>\n",
       "      <td>경상남도</td>\n",
       "      <td>국민임대</td>\n",
       "      <td>39.72</td>\n",
       "      <td>336</td>\n",
       "      <td>25.0</td>\n",
       "      <td>A</td>\n",
       "      <td>11992000</td>\n",
       "      <td>100720</td>\n",
       "      <td>0.0</td>\n",
       "      <td>2.0</td>\n",
       "      <td>840.0</td>\n",
       "    </tr>\n",
       "    <tr>\n",
       "      <th>195</th>\n",
       "      <td>C2411</td>\n",
       "      <td>962</td>\n",
       "      <td>아파트</td>\n",
       "      <td>경상남도</td>\n",
       "      <td>국민임대</td>\n",
       "      <td>39.82</td>\n",
       "      <td>179</td>\n",
       "      <td>25.0</td>\n",
       "      <td>A</td>\n",
       "      <td>11992000</td>\n",
       "      <td>100720</td>\n",
       "      <td>0.0</td>\n",
       "      <td>2.0</td>\n",
       "      <td>840.0</td>\n",
       "    </tr>\n",
       "    <tr>\n",
       "      <th>196</th>\n",
       "      <td>C2411</td>\n",
       "      <td>962</td>\n",
       "      <td>아파트</td>\n",
       "      <td>경상남도</td>\n",
       "      <td>국민임대</td>\n",
       "      <td>46.90</td>\n",
       "      <td>240</td>\n",
       "      <td>25.0</td>\n",
       "      <td>NaN</td>\n",
       "      <td>71950000</td>\n",
       "      <td>37470</td>\n",
       "      <td>0.0</td>\n",
       "      <td>2.0</td>\n",
       "      <td>840.0</td>\n",
       "    </tr>\n",
       "    <tr>\n",
       "      <th>197</th>\n",
       "      <td>C2411</td>\n",
       "      <td>962</td>\n",
       "      <td>아파트</td>\n",
       "      <td>경상남도</td>\n",
       "      <td>국민임대</td>\n",
       "      <td>51.93</td>\n",
       "      <td>150</td>\n",
       "      <td>25.0</td>\n",
       "      <td>A</td>\n",
       "      <td>21586000</td>\n",
       "      <td>171480</td>\n",
       "      <td>0.0</td>\n",
       "      <td>2.0</td>\n",
       "      <td>840.0</td>\n",
       "    </tr>\n",
       "  </tbody>\n",
       "</table>\n",
       "</div>"
      ],
      "text/plain": [
       "      단지코드  총세대수 임대건물구분    지역  공급유형   전용면적  전용면적별세대수   공가수 자격유형     임대보증금  \\\n",
       "193  C2411   962    아파트  경상남도  국민임대  39.43        56  25.0    A  11992000   \n",
       "194  C2411   962    아파트  경상남도  국민임대  39.72       336  25.0    A  11992000   \n",
       "195  C2411   962    아파트  경상남도  국민임대  39.82       179  25.0    A  11992000   \n",
       "196  C2411   962    아파트  경상남도  국민임대  46.90       240  25.0  NaN  71950000   \n",
       "197  C2411   962    아파트  경상남도  국민임대  51.93       150  25.0    A  21586000   \n",
       "\n",
       "        임대료  지하철역수  버스정류장수  단지내주차면수  \n",
       "193  100720    0.0     2.0    840.0  \n",
       "194  100720    0.0     2.0    840.0  \n",
       "195  100720    0.0     2.0    840.0  \n",
       "196   37470    0.0     2.0    840.0  \n",
       "197  171480    0.0     2.0    840.0  "
      ]
     },
     "execution_count": 85,
     "metadata": {},
     "output_type": "execute_result"
    }
   ],
   "source": [
    "test[test['단지코드'] == 'C2411']"
   ]
  },
  {
   "cell_type": "code",
   "execution_count": 86,
   "metadata": {
    "id": "xhlcloIeDJCv"
   },
   "outputs": [],
   "source": [
    "test.loc[(test['단지코드'] == 'C2411') & (test['자격유형'].isnull()), '자격유형'] = 'A'"
   ]
  },
  {
   "cell_type": "code",
   "execution_count": 87,
   "metadata": {
    "colab": {
     "base_uri": "https://localhost:8080/"
    },
    "id": "h9pZWnwCDbgV",
    "outputId": "0533ee19-9904-4a0f-9e49-3abb8111c295"
   },
   "outputs": [
    {
     "data": {
      "text/plain": [
       "0    D\n",
       "dtype: object"
      ]
     },
     "execution_count": 87,
     "metadata": {},
     "output_type": "execute_result"
    }
   ],
   "source": [
    "test[test['단지코드'] == 'C2253']['자격유형'].mode()"
   ]
  },
  {
   "cell_type": "code",
   "execution_count": 88,
   "metadata": {
    "colab": {
     "base_uri": "https://localhost:8080/",
     "height": 1000
    },
    "id": "rq5x-xXxDksy",
    "outputId": "2be23b58-c13d-4f47-f6bb-8741c07dcb5c"
   },
   "outputs": [
    {
     "data": {
      "text/html": [
       "<div>\n",
       "<style scoped>\n",
       "    .dataframe tbody tr th:only-of-type {\n",
       "        vertical-align: middle;\n",
       "    }\n",
       "\n",
       "    .dataframe tbody tr th {\n",
       "        vertical-align: top;\n",
       "    }\n",
       "\n",
       "    .dataframe thead th {\n",
       "        text-align: right;\n",
       "    }\n",
       "</style>\n",
       "<table border=\"1\" class=\"dataframe\">\n",
       "  <thead>\n",
       "    <tr style=\"text-align: right;\">\n",
       "      <th></th>\n",
       "      <th>단지코드</th>\n",
       "      <th>총세대수</th>\n",
       "      <th>임대건물구분</th>\n",
       "      <th>지역</th>\n",
       "      <th>공급유형</th>\n",
       "      <th>전용면적</th>\n",
       "      <th>전용면적별세대수</th>\n",
       "      <th>공가수</th>\n",
       "      <th>자격유형</th>\n",
       "      <th>임대보증금</th>\n",
       "      <th>임대료</th>\n",
       "      <th>지하철역수</th>\n",
       "      <th>버스정류장수</th>\n",
       "      <th>단지내주차면수</th>\n",
       "    </tr>\n",
       "  </thead>\n",
       "  <tbody>\n",
       "    <tr>\n",
       "      <th>258</th>\n",
       "      <td>C2253</td>\n",
       "      <td>1161</td>\n",
       "      <td>아파트</td>\n",
       "      <td>강원도</td>\n",
       "      <td>영구임대</td>\n",
       "      <td>26.37</td>\n",
       "      <td>745</td>\n",
       "      <td>0.0</td>\n",
       "      <td>NaN</td>\n",
       "      <td>2249000</td>\n",
       "      <td>44770</td>\n",
       "      <td>0.0</td>\n",
       "      <td>2.0</td>\n",
       "      <td>173.0</td>\n",
       "    </tr>\n",
       "    <tr>\n",
       "      <th>259</th>\n",
       "      <td>C2253</td>\n",
       "      <td>1161</td>\n",
       "      <td>아파트</td>\n",
       "      <td>강원도</td>\n",
       "      <td>영구임대</td>\n",
       "      <td>31.32</td>\n",
       "      <td>239</td>\n",
       "      <td>0.0</td>\n",
       "      <td>C</td>\n",
       "      <td>3731000</td>\n",
       "      <td>83020</td>\n",
       "      <td>0.0</td>\n",
       "      <td>2.0</td>\n",
       "      <td>173.0</td>\n",
       "    </tr>\n",
       "    <tr>\n",
       "      <th>260</th>\n",
       "      <td>C2253</td>\n",
       "      <td>1161</td>\n",
       "      <td>아파트</td>\n",
       "      <td>강원도</td>\n",
       "      <td>영구임대</td>\n",
       "      <td>31.32</td>\n",
       "      <td>149</td>\n",
       "      <td>0.0</td>\n",
       "      <td>C</td>\n",
       "      <td>3731000</td>\n",
       "      <td>83020</td>\n",
       "      <td>0.0</td>\n",
       "      <td>2.0</td>\n",
       "      <td>173.0</td>\n",
       "    </tr>\n",
       "    <tr>\n",
       "      <th>261</th>\n",
       "      <td>C2253</td>\n",
       "      <td>1161</td>\n",
       "      <td>상가</td>\n",
       "      <td>강원도</td>\n",
       "      <td>임대상가</td>\n",
       "      <td>13.77</td>\n",
       "      <td>1</td>\n",
       "      <td>0.0</td>\n",
       "      <td>D</td>\n",
       "      <td>NaN</td>\n",
       "      <td>NaN</td>\n",
       "      <td>0.0</td>\n",
       "      <td>2.0</td>\n",
       "      <td>173.0</td>\n",
       "    </tr>\n",
       "    <tr>\n",
       "      <th>262</th>\n",
       "      <td>C2253</td>\n",
       "      <td>1161</td>\n",
       "      <td>상가</td>\n",
       "      <td>강원도</td>\n",
       "      <td>임대상가</td>\n",
       "      <td>22.89</td>\n",
       "      <td>1</td>\n",
       "      <td>0.0</td>\n",
       "      <td>D</td>\n",
       "      <td>NaN</td>\n",
       "      <td>NaN</td>\n",
       "      <td>0.0</td>\n",
       "      <td>2.0</td>\n",
       "      <td>173.0</td>\n",
       "    </tr>\n",
       "    <tr>\n",
       "      <th>263</th>\n",
       "      <td>C2253</td>\n",
       "      <td>1161</td>\n",
       "      <td>상가</td>\n",
       "      <td>강원도</td>\n",
       "      <td>임대상가</td>\n",
       "      <td>22.91</td>\n",
       "      <td>1</td>\n",
       "      <td>0.0</td>\n",
       "      <td>D</td>\n",
       "      <td>NaN</td>\n",
       "      <td>NaN</td>\n",
       "      <td>0.0</td>\n",
       "      <td>2.0</td>\n",
       "      <td>173.0</td>\n",
       "    </tr>\n",
       "    <tr>\n",
       "      <th>264</th>\n",
       "      <td>C2253</td>\n",
       "      <td>1161</td>\n",
       "      <td>상가</td>\n",
       "      <td>강원도</td>\n",
       "      <td>임대상가</td>\n",
       "      <td>23.79</td>\n",
       "      <td>1</td>\n",
       "      <td>0.0</td>\n",
       "      <td>D</td>\n",
       "      <td>NaN</td>\n",
       "      <td>NaN</td>\n",
       "      <td>0.0</td>\n",
       "      <td>2.0</td>\n",
       "      <td>173.0</td>\n",
       "    </tr>\n",
       "    <tr>\n",
       "      <th>265</th>\n",
       "      <td>C2253</td>\n",
       "      <td>1161</td>\n",
       "      <td>상가</td>\n",
       "      <td>강원도</td>\n",
       "      <td>임대상가</td>\n",
       "      <td>23.79</td>\n",
       "      <td>1</td>\n",
       "      <td>0.0</td>\n",
       "      <td>D</td>\n",
       "      <td>NaN</td>\n",
       "      <td>NaN</td>\n",
       "      <td>0.0</td>\n",
       "      <td>2.0</td>\n",
       "      <td>173.0</td>\n",
       "    </tr>\n",
       "    <tr>\n",
       "      <th>266</th>\n",
       "      <td>C2253</td>\n",
       "      <td>1161</td>\n",
       "      <td>상가</td>\n",
       "      <td>강원도</td>\n",
       "      <td>임대상가</td>\n",
       "      <td>23.86</td>\n",
       "      <td>1</td>\n",
       "      <td>0.0</td>\n",
       "      <td>D</td>\n",
       "      <td>NaN</td>\n",
       "      <td>NaN</td>\n",
       "      <td>0.0</td>\n",
       "      <td>2.0</td>\n",
       "      <td>173.0</td>\n",
       "    </tr>\n",
       "    <tr>\n",
       "      <th>267</th>\n",
       "      <td>C2253</td>\n",
       "      <td>1161</td>\n",
       "      <td>상가</td>\n",
       "      <td>강원도</td>\n",
       "      <td>임대상가</td>\n",
       "      <td>23.86</td>\n",
       "      <td>1</td>\n",
       "      <td>0.0</td>\n",
       "      <td>D</td>\n",
       "      <td>NaN</td>\n",
       "      <td>NaN</td>\n",
       "      <td>0.0</td>\n",
       "      <td>2.0</td>\n",
       "      <td>173.0</td>\n",
       "    </tr>\n",
       "    <tr>\n",
       "      <th>268</th>\n",
       "      <td>C2253</td>\n",
       "      <td>1161</td>\n",
       "      <td>상가</td>\n",
       "      <td>강원도</td>\n",
       "      <td>임대상가</td>\n",
       "      <td>24.19</td>\n",
       "      <td>1</td>\n",
       "      <td>0.0</td>\n",
       "      <td>D</td>\n",
       "      <td>NaN</td>\n",
       "      <td>NaN</td>\n",
       "      <td>0.0</td>\n",
       "      <td>2.0</td>\n",
       "      <td>173.0</td>\n",
       "    </tr>\n",
       "    <tr>\n",
       "      <th>269</th>\n",
       "      <td>C2253</td>\n",
       "      <td>1161</td>\n",
       "      <td>상가</td>\n",
       "      <td>강원도</td>\n",
       "      <td>임대상가</td>\n",
       "      <td>27.75</td>\n",
       "      <td>1</td>\n",
       "      <td>0.0</td>\n",
       "      <td>D</td>\n",
       "      <td>NaN</td>\n",
       "      <td>NaN</td>\n",
       "      <td>0.0</td>\n",
       "      <td>2.0</td>\n",
       "      <td>173.0</td>\n",
       "    </tr>\n",
       "    <tr>\n",
       "      <th>270</th>\n",
       "      <td>C2253</td>\n",
       "      <td>1161</td>\n",
       "      <td>상가</td>\n",
       "      <td>강원도</td>\n",
       "      <td>임대상가</td>\n",
       "      <td>27.75</td>\n",
       "      <td>1</td>\n",
       "      <td>0.0</td>\n",
       "      <td>D</td>\n",
       "      <td>NaN</td>\n",
       "      <td>NaN</td>\n",
       "      <td>0.0</td>\n",
       "      <td>2.0</td>\n",
       "      <td>173.0</td>\n",
       "    </tr>\n",
       "    <tr>\n",
       "      <th>271</th>\n",
       "      <td>C2253</td>\n",
       "      <td>1161</td>\n",
       "      <td>상가</td>\n",
       "      <td>강원도</td>\n",
       "      <td>임대상가</td>\n",
       "      <td>27.75</td>\n",
       "      <td>1</td>\n",
       "      <td>0.0</td>\n",
       "      <td>D</td>\n",
       "      <td>NaN</td>\n",
       "      <td>NaN</td>\n",
       "      <td>0.0</td>\n",
       "      <td>2.0</td>\n",
       "      <td>173.0</td>\n",
       "    </tr>\n",
       "    <tr>\n",
       "      <th>272</th>\n",
       "      <td>C2253</td>\n",
       "      <td>1161</td>\n",
       "      <td>상가</td>\n",
       "      <td>강원도</td>\n",
       "      <td>임대상가</td>\n",
       "      <td>27.75</td>\n",
       "      <td>1</td>\n",
       "      <td>0.0</td>\n",
       "      <td>D</td>\n",
       "      <td>NaN</td>\n",
       "      <td>NaN</td>\n",
       "      <td>0.0</td>\n",
       "      <td>2.0</td>\n",
       "      <td>173.0</td>\n",
       "    </tr>\n",
       "    <tr>\n",
       "      <th>273</th>\n",
       "      <td>C2253</td>\n",
       "      <td>1161</td>\n",
       "      <td>상가</td>\n",
       "      <td>강원도</td>\n",
       "      <td>임대상가</td>\n",
       "      <td>27.75</td>\n",
       "      <td>1</td>\n",
       "      <td>0.0</td>\n",
       "      <td>D</td>\n",
       "      <td>NaN</td>\n",
       "      <td>NaN</td>\n",
       "      <td>0.0</td>\n",
       "      <td>2.0</td>\n",
       "      <td>173.0</td>\n",
       "    </tr>\n",
       "    <tr>\n",
       "      <th>274</th>\n",
       "      <td>C2253</td>\n",
       "      <td>1161</td>\n",
       "      <td>상가</td>\n",
       "      <td>강원도</td>\n",
       "      <td>임대상가</td>\n",
       "      <td>27.75</td>\n",
       "      <td>1</td>\n",
       "      <td>0.0</td>\n",
       "      <td>D</td>\n",
       "      <td>NaN</td>\n",
       "      <td>NaN</td>\n",
       "      <td>0.0</td>\n",
       "      <td>2.0</td>\n",
       "      <td>173.0</td>\n",
       "    </tr>\n",
       "    <tr>\n",
       "      <th>275</th>\n",
       "      <td>C2253</td>\n",
       "      <td>1161</td>\n",
       "      <td>상가</td>\n",
       "      <td>강원도</td>\n",
       "      <td>임대상가</td>\n",
       "      <td>28.19</td>\n",
       "      <td>1</td>\n",
       "      <td>0.0</td>\n",
       "      <td>D</td>\n",
       "      <td>NaN</td>\n",
       "      <td>NaN</td>\n",
       "      <td>0.0</td>\n",
       "      <td>2.0</td>\n",
       "      <td>173.0</td>\n",
       "    </tr>\n",
       "    <tr>\n",
       "      <th>276</th>\n",
       "      <td>C2253</td>\n",
       "      <td>1161</td>\n",
       "      <td>상가</td>\n",
       "      <td>강원도</td>\n",
       "      <td>임대상가</td>\n",
       "      <td>28.69</td>\n",
       "      <td>1</td>\n",
       "      <td>0.0</td>\n",
       "      <td>D</td>\n",
       "      <td>NaN</td>\n",
       "      <td>NaN</td>\n",
       "      <td>0.0</td>\n",
       "      <td>2.0</td>\n",
       "      <td>173.0</td>\n",
       "    </tr>\n",
       "    <tr>\n",
       "      <th>277</th>\n",
       "      <td>C2253</td>\n",
       "      <td>1161</td>\n",
       "      <td>상가</td>\n",
       "      <td>강원도</td>\n",
       "      <td>임대상가</td>\n",
       "      <td>28.69</td>\n",
       "      <td>1</td>\n",
       "      <td>0.0</td>\n",
       "      <td>D</td>\n",
       "      <td>NaN</td>\n",
       "      <td>NaN</td>\n",
       "      <td>0.0</td>\n",
       "      <td>2.0</td>\n",
       "      <td>173.0</td>\n",
       "    </tr>\n",
       "    <tr>\n",
       "      <th>278</th>\n",
       "      <td>C2253</td>\n",
       "      <td>1161</td>\n",
       "      <td>상가</td>\n",
       "      <td>강원도</td>\n",
       "      <td>임대상가</td>\n",
       "      <td>28.69</td>\n",
       "      <td>1</td>\n",
       "      <td>0.0</td>\n",
       "      <td>D</td>\n",
       "      <td>NaN</td>\n",
       "      <td>NaN</td>\n",
       "      <td>0.0</td>\n",
       "      <td>2.0</td>\n",
       "      <td>173.0</td>\n",
       "    </tr>\n",
       "    <tr>\n",
       "      <th>279</th>\n",
       "      <td>C2253</td>\n",
       "      <td>1161</td>\n",
       "      <td>상가</td>\n",
       "      <td>강원도</td>\n",
       "      <td>임대상가</td>\n",
       "      <td>28.69</td>\n",
       "      <td>1</td>\n",
       "      <td>0.0</td>\n",
       "      <td>D</td>\n",
       "      <td>NaN</td>\n",
       "      <td>NaN</td>\n",
       "      <td>0.0</td>\n",
       "      <td>2.0</td>\n",
       "      <td>173.0</td>\n",
       "    </tr>\n",
       "    <tr>\n",
       "      <th>280</th>\n",
       "      <td>C2253</td>\n",
       "      <td>1161</td>\n",
       "      <td>상가</td>\n",
       "      <td>강원도</td>\n",
       "      <td>임대상가</td>\n",
       "      <td>28.69</td>\n",
       "      <td>1</td>\n",
       "      <td>0.0</td>\n",
       "      <td>D</td>\n",
       "      <td>NaN</td>\n",
       "      <td>NaN</td>\n",
       "      <td>0.0</td>\n",
       "      <td>2.0</td>\n",
       "      <td>173.0</td>\n",
       "    </tr>\n",
       "    <tr>\n",
       "      <th>281</th>\n",
       "      <td>C2253</td>\n",
       "      <td>1161</td>\n",
       "      <td>상가</td>\n",
       "      <td>강원도</td>\n",
       "      <td>임대상가</td>\n",
       "      <td>28.93</td>\n",
       "      <td>1</td>\n",
       "      <td>0.0</td>\n",
       "      <td>D</td>\n",
       "      <td>NaN</td>\n",
       "      <td>NaN</td>\n",
       "      <td>0.0</td>\n",
       "      <td>2.0</td>\n",
       "      <td>173.0</td>\n",
       "    </tr>\n",
       "    <tr>\n",
       "      <th>282</th>\n",
       "      <td>C2253</td>\n",
       "      <td>1161</td>\n",
       "      <td>상가</td>\n",
       "      <td>강원도</td>\n",
       "      <td>임대상가</td>\n",
       "      <td>28.93</td>\n",
       "      <td>1</td>\n",
       "      <td>0.0</td>\n",
       "      <td>D</td>\n",
       "      <td>NaN</td>\n",
       "      <td>NaN</td>\n",
       "      <td>0.0</td>\n",
       "      <td>2.0</td>\n",
       "      <td>173.0</td>\n",
       "    </tr>\n",
       "    <tr>\n",
       "      <th>283</th>\n",
       "      <td>C2253</td>\n",
       "      <td>1161</td>\n",
       "      <td>상가</td>\n",
       "      <td>강원도</td>\n",
       "      <td>임대상가</td>\n",
       "      <td>42.35</td>\n",
       "      <td>1</td>\n",
       "      <td>0.0</td>\n",
       "      <td>D</td>\n",
       "      <td>NaN</td>\n",
       "      <td>NaN</td>\n",
       "      <td>0.0</td>\n",
       "      <td>2.0</td>\n",
       "      <td>173.0</td>\n",
       "    </tr>\n",
       "    <tr>\n",
       "      <th>284</th>\n",
       "      <td>C2253</td>\n",
       "      <td>1161</td>\n",
       "      <td>상가</td>\n",
       "      <td>강원도</td>\n",
       "      <td>임대상가</td>\n",
       "      <td>42.40</td>\n",
       "      <td>1</td>\n",
       "      <td>0.0</td>\n",
       "      <td>D</td>\n",
       "      <td>NaN</td>\n",
       "      <td>NaN</td>\n",
       "      <td>0.0</td>\n",
       "      <td>2.0</td>\n",
       "      <td>173.0</td>\n",
       "    </tr>\n",
       "    <tr>\n",
       "      <th>285</th>\n",
       "      <td>C2253</td>\n",
       "      <td>1161</td>\n",
       "      <td>상가</td>\n",
       "      <td>강원도</td>\n",
       "      <td>임대상가</td>\n",
       "      <td>55.17</td>\n",
       "      <td>1</td>\n",
       "      <td>0.0</td>\n",
       "      <td>D</td>\n",
       "      <td>NaN</td>\n",
       "      <td>NaN</td>\n",
       "      <td>0.0</td>\n",
       "      <td>2.0</td>\n",
       "      <td>173.0</td>\n",
       "    </tr>\n",
       "    <tr>\n",
       "      <th>286</th>\n",
       "      <td>C2253</td>\n",
       "      <td>1161</td>\n",
       "      <td>상가</td>\n",
       "      <td>강원도</td>\n",
       "      <td>임대상가</td>\n",
       "      <td>55.50</td>\n",
       "      <td>1</td>\n",
       "      <td>0.0</td>\n",
       "      <td>D</td>\n",
       "      <td>NaN</td>\n",
       "      <td>NaN</td>\n",
       "      <td>0.0</td>\n",
       "      <td>2.0</td>\n",
       "      <td>173.0</td>\n",
       "    </tr>\n",
       "    <tr>\n",
       "      <th>287</th>\n",
       "      <td>C2253</td>\n",
       "      <td>1161</td>\n",
       "      <td>상가</td>\n",
       "      <td>강원도</td>\n",
       "      <td>임대상가</td>\n",
       "      <td>82.92</td>\n",
       "      <td>1</td>\n",
       "      <td>0.0</td>\n",
       "      <td>D</td>\n",
       "      <td>NaN</td>\n",
       "      <td>NaN</td>\n",
       "      <td>0.0</td>\n",
       "      <td>2.0</td>\n",
       "      <td>173.0</td>\n",
       "    </tr>\n",
       "    <tr>\n",
       "      <th>288</th>\n",
       "      <td>C2253</td>\n",
       "      <td>1161</td>\n",
       "      <td>상가</td>\n",
       "      <td>강원도</td>\n",
       "      <td>임대상가</td>\n",
       "      <td>248.56</td>\n",
       "      <td>1</td>\n",
       "      <td>0.0</td>\n",
       "      <td>D</td>\n",
       "      <td>NaN</td>\n",
       "      <td>NaN</td>\n",
       "      <td>0.0</td>\n",
       "      <td>2.0</td>\n",
       "      <td>173.0</td>\n",
       "    </tr>\n",
       "  </tbody>\n",
       "</table>\n",
       "</div>"
      ],
      "text/plain": [
       "      단지코드  총세대수 임대건물구분   지역  공급유형    전용면적  전용면적별세대수  공가수 자격유형    임대보증금  \\\n",
       "258  C2253  1161    아파트  강원도  영구임대   26.37       745  0.0  NaN  2249000   \n",
       "259  C2253  1161    아파트  강원도  영구임대   31.32       239  0.0    C  3731000   \n",
       "260  C2253  1161    아파트  강원도  영구임대   31.32       149  0.0    C  3731000   \n",
       "261  C2253  1161     상가  강원도  임대상가   13.77         1  0.0    D      NaN   \n",
       "262  C2253  1161     상가  강원도  임대상가   22.89         1  0.0    D      NaN   \n",
       "263  C2253  1161     상가  강원도  임대상가   22.91         1  0.0    D      NaN   \n",
       "264  C2253  1161     상가  강원도  임대상가   23.79         1  0.0    D      NaN   \n",
       "265  C2253  1161     상가  강원도  임대상가   23.79         1  0.0    D      NaN   \n",
       "266  C2253  1161     상가  강원도  임대상가   23.86         1  0.0    D      NaN   \n",
       "267  C2253  1161     상가  강원도  임대상가   23.86         1  0.0    D      NaN   \n",
       "268  C2253  1161     상가  강원도  임대상가   24.19         1  0.0    D      NaN   \n",
       "269  C2253  1161     상가  강원도  임대상가   27.75         1  0.0    D      NaN   \n",
       "270  C2253  1161     상가  강원도  임대상가   27.75         1  0.0    D      NaN   \n",
       "271  C2253  1161     상가  강원도  임대상가   27.75         1  0.0    D      NaN   \n",
       "272  C2253  1161     상가  강원도  임대상가   27.75         1  0.0    D      NaN   \n",
       "273  C2253  1161     상가  강원도  임대상가   27.75         1  0.0    D      NaN   \n",
       "274  C2253  1161     상가  강원도  임대상가   27.75         1  0.0    D      NaN   \n",
       "275  C2253  1161     상가  강원도  임대상가   28.19         1  0.0    D      NaN   \n",
       "276  C2253  1161     상가  강원도  임대상가   28.69         1  0.0    D      NaN   \n",
       "277  C2253  1161     상가  강원도  임대상가   28.69         1  0.0    D      NaN   \n",
       "278  C2253  1161     상가  강원도  임대상가   28.69         1  0.0    D      NaN   \n",
       "279  C2253  1161     상가  강원도  임대상가   28.69         1  0.0    D      NaN   \n",
       "280  C2253  1161     상가  강원도  임대상가   28.69         1  0.0    D      NaN   \n",
       "281  C2253  1161     상가  강원도  임대상가   28.93         1  0.0    D      NaN   \n",
       "282  C2253  1161     상가  강원도  임대상가   28.93         1  0.0    D      NaN   \n",
       "283  C2253  1161     상가  강원도  임대상가   42.35         1  0.0    D      NaN   \n",
       "284  C2253  1161     상가  강원도  임대상가   42.40         1  0.0    D      NaN   \n",
       "285  C2253  1161     상가  강원도  임대상가   55.17         1  0.0    D      NaN   \n",
       "286  C2253  1161     상가  강원도  임대상가   55.50         1  0.0    D      NaN   \n",
       "287  C2253  1161     상가  강원도  임대상가   82.92         1  0.0    D      NaN   \n",
       "288  C2253  1161     상가  강원도  임대상가  248.56         1  0.0    D      NaN   \n",
       "\n",
       "       임대료  지하철역수  버스정류장수  단지내주차면수  \n",
       "258  44770    0.0     2.0    173.0  \n",
       "259  83020    0.0     2.0    173.0  \n",
       "260  83020    0.0     2.0    173.0  \n",
       "261    NaN    0.0     2.0    173.0  \n",
       "262    NaN    0.0     2.0    173.0  \n",
       "263    NaN    0.0     2.0    173.0  \n",
       "264    NaN    0.0     2.0    173.0  \n",
       "265    NaN    0.0     2.0    173.0  \n",
       "266    NaN    0.0     2.0    173.0  \n",
       "267    NaN    0.0     2.0    173.0  \n",
       "268    NaN    0.0     2.0    173.0  \n",
       "269    NaN    0.0     2.0    173.0  \n",
       "270    NaN    0.0     2.0    173.0  \n",
       "271    NaN    0.0     2.0    173.0  \n",
       "272    NaN    0.0     2.0    173.0  \n",
       "273    NaN    0.0     2.0    173.0  \n",
       "274    NaN    0.0     2.0    173.0  \n",
       "275    NaN    0.0     2.0    173.0  \n",
       "276    NaN    0.0     2.0    173.0  \n",
       "277    NaN    0.0     2.0    173.0  \n",
       "278    NaN    0.0     2.0    173.0  \n",
       "279    NaN    0.0     2.0    173.0  \n",
       "280    NaN    0.0     2.0    173.0  \n",
       "281    NaN    0.0     2.0    173.0  \n",
       "282    NaN    0.0     2.0    173.0  \n",
       "283    NaN    0.0     2.0    173.0  \n",
       "284    NaN    0.0     2.0    173.0  \n",
       "285    NaN    0.0     2.0    173.0  \n",
       "286    NaN    0.0     2.0    173.0  \n",
       "287    NaN    0.0     2.0    173.0  \n",
       "288    NaN    0.0     2.0    173.0  "
      ]
     },
     "execution_count": 88,
     "metadata": {},
     "output_type": "execute_result"
    }
   ],
   "source": [
    "test[test['단지코드'] == 'C2253']"
   ]
  },
  {
   "cell_type": "code",
   "execution_count": 89,
   "metadata": {
    "id": "3CLVRdn3Dffo"
   },
   "outputs": [],
   "source": [
    "test.loc[(test['단지코드'] == 'C2253') & (test['자격유형'].isnull()), '자격유형'] = 'C'"
   ]
  },
  {
   "cell_type": "markdown",
   "metadata": {
    "id": "0Yb7pErgZEC7"
   },
   "source": [
    "#### 임대보증금/임대료"
   ]
  },
  {
   "cell_type": "code",
   "execution_count": 90,
   "metadata": {
    "colab": {
     "base_uri": "https://localhost:8080/"
    },
    "id": "e87wH9kwU2fT",
    "outputId": "5ccdfcab-628c-477c-c60f-218367bba222"
   },
   "outputs": [
    {
     "name": "stdout",
     "output_type": "stream",
     "text": [
      "<class 'pandas.core.frame.DataFrame'>\n",
      "RangeIndex: 2952 entries, 0 to 2951\n",
      "Data columns (total 15 columns):\n",
      " #   Column    Non-Null Count  Dtype  \n",
      "---  ------    --------------  -----  \n",
      " 0   단지코드      2952 non-null   object \n",
      " 1   총세대수      2952 non-null   int64  \n",
      " 2   임대건물구분    2952 non-null   object \n",
      " 3   지역        2952 non-null   object \n",
      " 4   공급유형      2952 non-null   object \n",
      " 5   전용면적      2952 non-null   float64\n",
      " 6   전용면적별세대수  2952 non-null   int64  \n",
      " 7   공가수       2952 non-null   float64\n",
      " 8   자격유형      2952 non-null   object \n",
      " 9   임대보증금     2383 non-null   object \n",
      " 10  임대료       2383 non-null   object \n",
      " 11  지하철역수     2952 non-null   float64\n",
      " 12  버스정류장수    2952 non-null   float64\n",
      " 13  단지내주차면수   2952 non-null   float64\n",
      " 14  등록차량수     2952 non-null   float64\n",
      "dtypes: float64(6), int64(2), object(7)\n",
      "memory usage: 346.1+ KB\n"
     ]
    }
   ],
   "source": [
    "train.info()"
   ]
  },
  {
   "cell_type": "code",
   "execution_count": 91,
   "metadata": {
    "colab": {
     "base_uri": "https://localhost:8080/"
    },
    "id": "dTWt5mqjVHUf",
    "outputId": "5c14ed2b-535a-4979-fb9c-0874a84862c9"
   },
   "outputs": [
    {
     "data": {
      "text/plain": [
       "(2383, 15)"
      ]
     },
     "execution_count": 91,
     "metadata": {},
     "output_type": "execute_result"
    }
   ],
   "source": [
    "df_tmp = train[(train['임대보증금'].notnull()) & (train['임대료'].notnull())].copy()\n",
    "df_tmp.shape"
   ]
  },
  {
   "cell_type": "code",
   "execution_count": 92,
   "metadata": {
    "id": "GjnalxTWVH6o"
   },
   "outputs": [],
   "source": [
    "df_tmp.loc[df_tmp['임대보증금'] == '-', '임대보증금'] = 0\n",
    "df_tmp.loc[df_tmp['임대료'] == '-', '임대료'] = 0"
   ]
  },
  {
   "cell_type": "code",
   "execution_count": 93,
   "metadata": {
    "colab": {
     "base_uri": "https://localhost:8080/"
    },
    "id": "BOb8wXgqVGEI",
    "outputId": "cb7d9426-5dab-4528-9555-5d7f4d396f0e"
   },
   "outputs": [
    {
     "name": "stdout",
     "output_type": "stream",
     "text": [
      "<class 'pandas.core.frame.DataFrame'>\n",
      "Int64Index: 2383 entries, 0 to 2951\n",
      "Data columns (total 15 columns):\n",
      " #   Column    Non-Null Count  Dtype  \n",
      "---  ------    --------------  -----  \n",
      " 0   단지코드      2383 non-null   object \n",
      " 1   총세대수      2383 non-null   int64  \n",
      " 2   임대건물구분    2383 non-null   object \n",
      " 3   지역        2383 non-null   object \n",
      " 4   공급유형      2383 non-null   object \n",
      " 5   전용면적      2383 non-null   float64\n",
      " 6   전용면적별세대수  2383 non-null   int64  \n",
      " 7   공가수       2383 non-null   float64\n",
      " 8   자격유형      2383 non-null   object \n",
      " 9   임대보증금     2383 non-null   int32  \n",
      " 10  임대료       2383 non-null   int32  \n",
      " 11  지하철역수     2383 non-null   float64\n",
      " 12  버스정류장수    2383 non-null   float64\n",
      " 13  단지내주차면수   2383 non-null   float64\n",
      " 14  등록차량수     2383 non-null   float64\n",
      "dtypes: float64(6), int32(2), int64(2), object(5)\n",
      "memory usage: 279.3+ KB\n"
     ]
    }
   ],
   "source": [
    "df_tmp = df_tmp.astype({'임대보증금':'int', '임대료':'int'})\n",
    "df_tmp.info()"
   ]
  },
  {
   "cell_type": "code",
   "execution_count": 94,
   "metadata": {
    "colab": {
     "base_uri": "https://localhost:8080/",
     "height": 657
    },
    "id": "KLQg4V40XFPA",
    "outputId": "96483e2f-2cc1-4ed0-d6c2-d1ce17d9cc0d"
   },
   "outputs": [
    {
     "data": {
      "image/png": "[encoded data removed]",
      "text/plain": [
       "<Figure size 720x720 with 2 Axes>"
      ]
     },
     "metadata": {
      "needs_background": "light"
     },
     "output_type": "display_data"
    }
   ],
   "source": [
    "plt.figure(figsize=(10,10))\n",
    "sns.heatmap(df_tmp.corr(), annot=True, cmap='RdYlBu_r', linewidths=0.5)\n",
    "plt.show()"
   ]
  },
  {
   "cell_type": "code",
   "execution_count": 95,
   "metadata": {
    "colab": {
     "base_uri": "https://localhost:8080/",
     "height": 425
    },
    "id": "cvwl4aeOZnhm",
    "outputId": "ac4891aa-b622-4494-bc75-f768516ef15f"
   },
   "outputs": [
    {
     "data": {
      "text/html": [
       "<div>\n",
       "<style scoped>\n",
       "    .dataframe tbody tr th:only-of-type {\n",
       "        vertical-align: middle;\n",
       "    }\n",
       "\n",
       "    .dataframe tbody tr th {\n",
       "        vertical-align: top;\n",
       "    }\n",
       "\n",
       "    .dataframe thead th {\n",
       "        text-align: right;\n",
       "    }\n",
       "</style>\n",
       "<table border=\"1\" class=\"dataframe\">\n",
       "  <thead>\n",
       "    <tr style=\"text-align: right;\">\n",
       "      <th></th>\n",
       "      <th>단지코드</th>\n",
       "      <th>총세대수</th>\n",
       "      <th>임대건물구분</th>\n",
       "      <th>지역</th>\n",
       "      <th>공급유형</th>\n",
       "      <th>전용면적</th>\n",
       "      <th>전용면적별세대수</th>\n",
       "      <th>공가수</th>\n",
       "      <th>자격유형</th>\n",
       "      <th>임대보증금</th>\n",
       "      <th>임대료</th>\n",
       "      <th>지하철역수</th>\n",
       "      <th>버스정류장수</th>\n",
       "      <th>단지내주차면수</th>\n",
       "      <th>등록차량수</th>\n",
       "    </tr>\n",
       "  </thead>\n",
       "  <tbody>\n",
       "    <tr>\n",
       "      <th>2547</th>\n",
       "      <td>C1326</td>\n",
       "      <td>1934</td>\n",
       "      <td>아파트</td>\n",
       "      <td>부산광역시</td>\n",
       "      <td>국민임대</td>\n",
       "      <td>24.72</td>\n",
       "      <td>472</td>\n",
       "      <td>43.0</td>\n",
       "      <td>H</td>\n",
       "      <td>-</td>\n",
       "      <td>-</td>\n",
       "      <td>0.0</td>\n",
       "      <td>4.0</td>\n",
       "      <td>1670.0</td>\n",
       "      <td>1153.0</td>\n",
       "    </tr>\n",
       "    <tr>\n",
       "      <th>2548</th>\n",
       "      <td>C1326</td>\n",
       "      <td>1934</td>\n",
       "      <td>아파트</td>\n",
       "      <td>부산광역시</td>\n",
       "      <td>국민임대</td>\n",
       "      <td>24.79</td>\n",
       "      <td>104</td>\n",
       "      <td>43.0</td>\n",
       "      <td>H</td>\n",
       "      <td>-</td>\n",
       "      <td>-</td>\n",
       "      <td>0.0</td>\n",
       "      <td>4.0</td>\n",
       "      <td>1670.0</td>\n",
       "      <td>1153.0</td>\n",
       "    </tr>\n",
       "    <tr>\n",
       "      <th>2549</th>\n",
       "      <td>C1326</td>\n",
       "      <td>1934</td>\n",
       "      <td>아파트</td>\n",
       "      <td>부산광역시</td>\n",
       "      <td>국민임대</td>\n",
       "      <td>26.83</td>\n",
       "      <td>590</td>\n",
       "      <td>43.0</td>\n",
       "      <td>H</td>\n",
       "      <td>-</td>\n",
       "      <td>-</td>\n",
       "      <td>0.0</td>\n",
       "      <td>4.0</td>\n",
       "      <td>1670.0</td>\n",
       "      <td>1153.0</td>\n",
       "    </tr>\n",
       "    <tr>\n",
       "      <th>2550</th>\n",
       "      <td>C1326</td>\n",
       "      <td>1934</td>\n",
       "      <td>아파트</td>\n",
       "      <td>부산광역시</td>\n",
       "      <td>국민임대</td>\n",
       "      <td>37.70</td>\n",
       "      <td>464</td>\n",
       "      <td>43.0</td>\n",
       "      <td>H</td>\n",
       "      <td>-</td>\n",
       "      <td>-</td>\n",
       "      <td>0.0</td>\n",
       "      <td>4.0</td>\n",
       "      <td>1670.0</td>\n",
       "      <td>1153.0</td>\n",
       "    </tr>\n",
       "    <tr>\n",
       "      <th>2551</th>\n",
       "      <td>C1326</td>\n",
       "      <td>1934</td>\n",
       "      <td>아파트</td>\n",
       "      <td>부산광역시</td>\n",
       "      <td>국민임대</td>\n",
       "      <td>46.94</td>\n",
       "      <td>304</td>\n",
       "      <td>43.0</td>\n",
       "      <td>H</td>\n",
       "      <td>-</td>\n",
       "      <td>-</td>\n",
       "      <td>0.0</td>\n",
       "      <td>4.0</td>\n",
       "      <td>1670.0</td>\n",
       "      <td>1153.0</td>\n",
       "    </tr>\n",
       "    <tr>\n",
       "      <th>2680</th>\n",
       "      <td>C1786</td>\n",
       "      <td>480</td>\n",
       "      <td>아파트</td>\n",
       "      <td>강원도</td>\n",
       "      <td>행복주택</td>\n",
       "      <td>16.91</td>\n",
       "      <td>156</td>\n",
       "      <td>25.0</td>\n",
       "      <td>K</td>\n",
       "      <td>-</td>\n",
       "      <td>-</td>\n",
       "      <td>0.0</td>\n",
       "      <td>3.0</td>\n",
       "      <td>338.0</td>\n",
       "      <td>345.0</td>\n",
       "    </tr>\n",
       "    <tr>\n",
       "      <th>2681</th>\n",
       "      <td>C1786</td>\n",
       "      <td>480</td>\n",
       "      <td>아파트</td>\n",
       "      <td>강원도</td>\n",
       "      <td>행복주택</td>\n",
       "      <td>26.90</td>\n",
       "      <td>136</td>\n",
       "      <td>25.0</td>\n",
       "      <td>K</td>\n",
       "      <td>-</td>\n",
       "      <td>-</td>\n",
       "      <td>0.0</td>\n",
       "      <td>3.0</td>\n",
       "      <td>338.0</td>\n",
       "      <td>345.0</td>\n",
       "    </tr>\n",
       "    <tr>\n",
       "      <th>2682</th>\n",
       "      <td>C1786</td>\n",
       "      <td>480</td>\n",
       "      <td>아파트</td>\n",
       "      <td>강원도</td>\n",
       "      <td>행복주택</td>\n",
       "      <td>26.90</td>\n",
       "      <td>72</td>\n",
       "      <td>25.0</td>\n",
       "      <td>K</td>\n",
       "      <td>-</td>\n",
       "      <td>-</td>\n",
       "      <td>0.0</td>\n",
       "      <td>3.0</td>\n",
       "      <td>338.0</td>\n",
       "      <td>345.0</td>\n",
       "    </tr>\n",
       "    <tr>\n",
       "      <th>2683</th>\n",
       "      <td>C1786</td>\n",
       "      <td>480</td>\n",
       "      <td>아파트</td>\n",
       "      <td>강원도</td>\n",
       "      <td>행복주택</td>\n",
       "      <td>26.90</td>\n",
       "      <td>24</td>\n",
       "      <td>25.0</td>\n",
       "      <td>K</td>\n",
       "      <td>-</td>\n",
       "      <td>-</td>\n",
       "      <td>0.0</td>\n",
       "      <td>3.0</td>\n",
       "      <td>338.0</td>\n",
       "      <td>345.0</td>\n",
       "    </tr>\n",
       "    <tr>\n",
       "      <th>2906</th>\n",
       "      <td>C2186</td>\n",
       "      <td>924</td>\n",
       "      <td>아파트</td>\n",
       "      <td>대구광역시</td>\n",
       "      <td>국민임대</td>\n",
       "      <td>29.17</td>\n",
       "      <td>238</td>\n",
       "      <td>0.0</td>\n",
       "      <td>H</td>\n",
       "      <td>-</td>\n",
       "      <td>-</td>\n",
       "      <td>0.0</td>\n",
       "      <td>8.0</td>\n",
       "      <td>664.0</td>\n",
       "      <td>744.0</td>\n",
       "    </tr>\n",
       "    <tr>\n",
       "      <th>2907</th>\n",
       "      <td>C2186</td>\n",
       "      <td>924</td>\n",
       "      <td>아파트</td>\n",
       "      <td>대구광역시</td>\n",
       "      <td>국민임대</td>\n",
       "      <td>29.34</td>\n",
       "      <td>38</td>\n",
       "      <td>0.0</td>\n",
       "      <td>H</td>\n",
       "      <td>-</td>\n",
       "      <td>-</td>\n",
       "      <td>0.0</td>\n",
       "      <td>8.0</td>\n",
       "      <td>664.0</td>\n",
       "      <td>744.0</td>\n",
       "    </tr>\n",
       "    <tr>\n",
       "      <th>2908</th>\n",
       "      <td>C2186</td>\n",
       "      <td>924</td>\n",
       "      <td>아파트</td>\n",
       "      <td>대구광역시</td>\n",
       "      <td>국민임대</td>\n",
       "      <td>37.43</td>\n",
       "      <td>220</td>\n",
       "      <td>0.0</td>\n",
       "      <td>H</td>\n",
       "      <td>-</td>\n",
       "      <td>-</td>\n",
       "      <td>0.0</td>\n",
       "      <td>8.0</td>\n",
       "      <td>664.0</td>\n",
       "      <td>744.0</td>\n",
       "    </tr>\n",
       "  </tbody>\n",
       "</table>\n",
       "</div>"
      ],
      "text/plain": [
       "       단지코드  총세대수 임대건물구분     지역  공급유형   전용면적  전용면적별세대수   공가수 자격유형 임대보증금 임대료  \\\n",
       "2547  C1326  1934    아파트  부산광역시  국민임대  24.72       472  43.0    H     -   -   \n",
       "2548  C1326  1934    아파트  부산광역시  국민임대  24.79       104  43.0    H     -   -   \n",
       "2549  C1326  1934    아파트  부산광역시  국민임대  26.83       590  43.0    H     -   -   \n",
       "2550  C1326  1934    아파트  부산광역시  국민임대  37.70       464  43.0    H     -   -   \n",
       "2551  C1326  1934    아파트  부산광역시  국민임대  46.94       304  43.0    H     -   -   \n",
       "2680  C1786   480    아파트    강원도  행복주택  16.91       156  25.0    K     -   -   \n",
       "2681  C1786   480    아파트    강원도  행복주택  26.90       136  25.0    K     -   -   \n",
       "2682  C1786   480    아파트    강원도  행복주택  26.90        72  25.0    K     -   -   \n",
       "2683  C1786   480    아파트    강원도  행복주택  26.90        24  25.0    K     -   -   \n",
       "2906  C2186   924    아파트  대구광역시  국민임대  29.17       238   0.0    H     -   -   \n",
       "2907  C2186   924    아파트  대구광역시  국민임대  29.34        38   0.0    H     -   -   \n",
       "2908  C2186   924    아파트  대구광역시  국민임대  37.43       220   0.0    H     -   -   \n",
       "\n",
       "      지하철역수  버스정류장수  단지내주차면수   등록차량수  \n",
       "2547    0.0     4.0   1670.0  1153.0  \n",
       "2548    0.0     4.0   1670.0  1153.0  \n",
       "2549    0.0     4.0   1670.0  1153.0  \n",
       "2550    0.0     4.0   1670.0  1153.0  \n",
       "2551    0.0     4.0   1670.0  1153.0  \n",
       "2680    0.0     3.0    338.0   345.0  \n",
       "2681    0.0     3.0    338.0   345.0  \n",
       "2682    0.0     3.0    338.0   345.0  \n",
       "2683    0.0     3.0    338.0   345.0  \n",
       "2906    0.0     8.0    664.0   744.0  \n",
       "2907    0.0     8.0    664.0   744.0  \n",
       "2908    0.0     8.0    664.0   744.0  "
      ]
     },
     "execution_count": 95,
     "metadata": {},
     "output_type": "execute_result"
    }
   ],
   "source": [
    "train[train['임대보증금'] == '-'] "
   ]
  },
  {
   "cell_type": "code",
   "execution_count": 96,
   "metadata": {
    "id": "4w7d9wPbZYsK"
   },
   "outputs": [],
   "source": [
    "# 부산광역시, https://www.myhome.go.kr/hws/portal/sch/selectRsdtRcritNtcDetailView.do?pblancId=10445\n",
    "\n",
    "train.loc[(train['임대보증금'] == '-') & (train['단지코드'] == 'C1326') & (train['전용면적'] == 24.72), '임대보증금'] = 7505000\n",
    "train.loc[(train['임대료'] == '-') & (train['단지코드'] == 'C1326') & (train['전용면적'] == 24.72), '임대료'] = 144740\n",
    "\n",
    "train.loc[(train['임대보증금'] == '-') & (train['단지코드'] == 'C1326') & (train['전용면적'] == 24.79), '임대보증금'] = 7505000\n",
    "train.loc[(train['임대료'] == '-') & (train['단지코드'] == 'C1326') & (train['전용면적'] == 24.79), '임대료'] = 144740\n",
    "\n",
    "train.loc[(train['임대보증금'] == '-') & (train['단지코드'] == 'C1326') & (train['전용면적'] == 26.83), '임대보증금'] = 8148000\n",
    "train.loc[(train['임대료'] == '-') & (train['단지코드'] == 'C1326') & (train['전용면적'] == 26.83), '임대료'] = 152250\n",
    "\n",
    "train.loc[(train['임대보증금'] == '-') & (train['단지코드'] == 'C1326') & (train['전용면적'] == 37.70), '임대보증금'] = 15868000\n",
    "train.loc[(train['임대료'] == '-') & (train['단지코드'] == 'C1326') & (train['전용면적'] == 37.70), '임대료'] = 212290\n",
    "\n",
    "train.loc[(train['임대보증금'] == '-') & (train['단지코드'] == 'C1326') & (train['전용면적'] == 46.94), '임대보증금'] = 24768000\n",
    "train.loc[(train['임대료'] == '-') & (train['단지코드'] == 'C1326') & (train['전용면적'] == 46.94), '임대료'] = 277690"
   ]
  },
  {
   "cell_type": "code",
   "execution_count": 97,
   "metadata": {
    "id": "NFBazjpUdRA9"
   },
   "outputs": [],
   "source": [
    "# 강원도, https://www.myhome.go.kr/hws/portal/sch/selectRsdtRcritNtcDetailView.do?pblancId=2224\n",
    "\n",
    "train.loc[(train['임대보증금'] == '-') & (train['단지코드'] == 'C1786') & (train['전용면적'] == 16.91), '임대보증금'] = 13800000\n",
    "train.loc[(train['임대료'] == '-') & (train['단지코드'] == 'C1786') & (train['전용면적'] == 16.91), '임대료'] = 67000\n",
    "\n",
    "train.loc[(train['임대보증금'] == '-') & (train['단지코드'] == 'C1786') & (train['전용면적'] == 26.90), '임대보증금'] = 21400000\t\n",
    "train.loc[(train['임대료'] == '-') & (train['단지코드'] == 'C1786') & (train['전용면적'] == 26.90), '임대료'] = 105000"
   ]
  },
  {
   "cell_type": "code",
   "execution_count": 98,
   "metadata": {
    "id": "wzh6vTH_hEKg"
   },
   "outputs": [],
   "source": [
    "# 대구광역시, https://www.myhome.go.kr/hws/portal/sch/selectRsdtRcritNtcDetailView.do?pblancId=6925\n",
    "\n",
    "train.loc[(train['임대보증금'] == '-') & (train['단지코드'] == 'C2186') & (train['전용면적'] == 29.17), '임대보증금'] = 7741000\n",
    "train.loc[(train['임대료'] == '-') & (train['단지코드'] == 'C2186') & (train['전용면적'] == 29.17), '임대료'] = 133330\n",
    "\n",
    "train.loc[(train['임대보증금'] == '-') & (train['단지코드'] == 'C2186') & (train['전용면적'] == 29.34), '임대보증금'] = 7741000\n",
    "train.loc[(train['임대료'] == '-') & (train['단지코드'] == 'C2186') & (train['전용면적'] == 29.34), '임대료'] = 133330\n",
    "\n",
    "train.loc[(train['임대보증금'] == '-') & (train['단지코드'] == 'C2186') & (train['전용면적'] == 37.43), '임대보증금'] = 10920000\n",
    "train.loc[(train['임대료'] == '-') & (train['단지코드'] == 'C2186') & (train['전용면적'] == 37.43), '임대료'] = 172240"
   ]
  },
  {
   "cell_type": "code",
   "execution_count": 99,
   "metadata": {
    "colab": {
     "base_uri": "https://localhost:8080/",
     "height": 331
    },
    "id": "k7fGRgaBoSh9",
    "outputId": "ea076e75-9e49-4cdf-bf6b-6ef60c459185"
   },
   "outputs": [
    {
     "data": {
      "text/html": [
       "<div>\n",
       "<style scoped>\n",
       "    .dataframe tbody tr th:only-of-type {\n",
       "        vertical-align: middle;\n",
       "    }\n",
       "\n",
       "    .dataframe tbody tr th {\n",
       "        vertical-align: top;\n",
       "    }\n",
       "\n",
       "    .dataframe thead th {\n",
       "        text-align: right;\n",
       "    }\n",
       "</style>\n",
       "<table border=\"1\" class=\"dataframe\">\n",
       "  <thead>\n",
       "    <tr style=\"text-align: right;\">\n",
       "      <th></th>\n",
       "      <th>단지코드</th>\n",
       "      <th>총세대수</th>\n",
       "      <th>임대건물구분</th>\n",
       "      <th>지역</th>\n",
       "      <th>공급유형</th>\n",
       "      <th>전용면적</th>\n",
       "      <th>전용면적별세대수</th>\n",
       "      <th>공가수</th>\n",
       "      <th>자격유형</th>\n",
       "      <th>임대보증금</th>\n",
       "      <th>임대료</th>\n",
       "      <th>지하철역수</th>\n",
       "      <th>버스정류장수</th>\n",
       "      <th>단지내주차면수</th>\n",
       "      <th>등록차량수</th>\n",
       "    </tr>\n",
       "  </thead>\n",
       "  <tbody>\n",
       "    <tr>\n",
       "      <th>2043</th>\n",
       "      <td>C1397</td>\n",
       "      <td>370</td>\n",
       "      <td>아파트</td>\n",
       "      <td>서울특별시</td>\n",
       "      <td>장기전세</td>\n",
       "      <td>23.32</td>\n",
       "      <td>51</td>\n",
       "      <td>9.0</td>\n",
       "      <td>A</td>\n",
       "      <td>87444000</td>\n",
       "      <td>-</td>\n",
       "      <td>0.0</td>\n",
       "      <td>3.0</td>\n",
       "      <td>1590.0</td>\n",
       "      <td>1595.0</td>\n",
       "    </tr>\n",
       "    <tr>\n",
       "      <th>2044</th>\n",
       "      <td>C1397</td>\n",
       "      <td>370</td>\n",
       "      <td>아파트</td>\n",
       "      <td>서울특별시</td>\n",
       "      <td>장기전세</td>\n",
       "      <td>46.79</td>\n",
       "      <td>4</td>\n",
       "      <td>9.0</td>\n",
       "      <td>A</td>\n",
       "      <td>174888000</td>\n",
       "      <td>-</td>\n",
       "      <td>0.0</td>\n",
       "      <td>3.0</td>\n",
       "      <td>1590.0</td>\n",
       "      <td>1595.0</td>\n",
       "    </tr>\n",
       "    <tr>\n",
       "      <th>2045</th>\n",
       "      <td>C1397</td>\n",
       "      <td>370</td>\n",
       "      <td>아파트</td>\n",
       "      <td>서울특별시</td>\n",
       "      <td>장기전세</td>\n",
       "      <td>46.91</td>\n",
       "      <td>69</td>\n",
       "      <td>9.0</td>\n",
       "      <td>A</td>\n",
       "      <td>174888000</td>\n",
       "      <td>-</td>\n",
       "      <td>0.0</td>\n",
       "      <td>3.0</td>\n",
       "      <td>1590.0</td>\n",
       "      <td>1595.0</td>\n",
       "    </tr>\n",
       "    <tr>\n",
       "      <th>2046</th>\n",
       "      <td>C1397</td>\n",
       "      <td>370</td>\n",
       "      <td>아파트</td>\n",
       "      <td>서울특별시</td>\n",
       "      <td>장기전세</td>\n",
       "      <td>51.96</td>\n",
       "      <td>24</td>\n",
       "      <td>9.0</td>\n",
       "      <td>A</td>\n",
       "      <td>194562000</td>\n",
       "      <td>-</td>\n",
       "      <td>0.0</td>\n",
       "      <td>3.0</td>\n",
       "      <td>1590.0</td>\n",
       "      <td>1595.0</td>\n",
       "    </tr>\n",
       "    <tr>\n",
       "      <th>2047</th>\n",
       "      <td>C1397</td>\n",
       "      <td>370</td>\n",
       "      <td>아파트</td>\n",
       "      <td>서울특별시</td>\n",
       "      <td>장기전세</td>\n",
       "      <td>51.99</td>\n",
       "      <td>80</td>\n",
       "      <td>9.0</td>\n",
       "      <td>A</td>\n",
       "      <td>194562000</td>\n",
       "      <td>-</td>\n",
       "      <td>0.0</td>\n",
       "      <td>3.0</td>\n",
       "      <td>1590.0</td>\n",
       "      <td>1595.0</td>\n",
       "    </tr>\n",
       "    <tr>\n",
       "      <th>2048</th>\n",
       "      <td>C1397</td>\n",
       "      <td>370</td>\n",
       "      <td>아파트</td>\n",
       "      <td>서울특별시</td>\n",
       "      <td>장기전세</td>\n",
       "      <td>59.93</td>\n",
       "      <td>142</td>\n",
       "      <td>9.0</td>\n",
       "      <td>A</td>\n",
       "      <td>216423000</td>\n",
       "      <td>-</td>\n",
       "      <td>0.0</td>\n",
       "      <td>3.0</td>\n",
       "      <td>1590.0</td>\n",
       "      <td>1595.0</td>\n",
       "    </tr>\n",
       "    <tr>\n",
       "      <th>2100</th>\n",
       "      <td>C1039</td>\n",
       "      <td>790</td>\n",
       "      <td>아파트</td>\n",
       "      <td>서울특별시</td>\n",
       "      <td>장기전세</td>\n",
       "      <td>51.32</td>\n",
       "      <td>126</td>\n",
       "      <td>13.0</td>\n",
       "      <td>A</td>\n",
       "      <td>187694000</td>\n",
       "      <td>-</td>\n",
       "      <td>0.0</td>\n",
       "      <td>3.0</td>\n",
       "      <td>673.0</td>\n",
       "      <td>645.0</td>\n",
       "    </tr>\n",
       "    <tr>\n",
       "      <th>2101</th>\n",
       "      <td>C1039</td>\n",
       "      <td>790</td>\n",
       "      <td>아파트</td>\n",
       "      <td>서울특별시</td>\n",
       "      <td>장기전세</td>\n",
       "      <td>59.88</td>\n",
       "      <td>49</td>\n",
       "      <td>13.0</td>\n",
       "      <td>A</td>\n",
       "      <td>213863000</td>\n",
       "      <td>-</td>\n",
       "      <td>0.0</td>\n",
       "      <td>3.0</td>\n",
       "      <td>673.0</td>\n",
       "      <td>645.0</td>\n",
       "    </tr>\n",
       "    <tr>\n",
       "      <th>2102</th>\n",
       "      <td>C1039</td>\n",
       "      <td>790</td>\n",
       "      <td>아파트</td>\n",
       "      <td>서울특별시</td>\n",
       "      <td>장기전세</td>\n",
       "      <td>59.94</td>\n",
       "      <td>75</td>\n",
       "      <td>13.0</td>\n",
       "      <td>A</td>\n",
       "      <td>213863000</td>\n",
       "      <td>-</td>\n",
       "      <td>0.0</td>\n",
       "      <td>3.0</td>\n",
       "      <td>673.0</td>\n",
       "      <td>645.0</td>\n",
       "    </tr>\n",
       "  </tbody>\n",
       "</table>\n",
       "</div>"
      ],
      "text/plain": [
       "       단지코드  총세대수 임대건물구분     지역  공급유형   전용면적  전용면적별세대수   공가수 자격유형      임대보증금  \\\n",
       "2043  C1397   370    아파트  서울특별시  장기전세  23.32        51   9.0    A   87444000   \n",
       "2044  C1397   370    아파트  서울특별시  장기전세  46.79         4   9.0    A  174888000   \n",
       "2045  C1397   370    아파트  서울특별시  장기전세  46.91        69   9.0    A  174888000   \n",
       "2046  C1397   370    아파트  서울특별시  장기전세  51.96        24   9.0    A  194562000   \n",
       "2047  C1397   370    아파트  서울특별시  장기전세  51.99        80   9.0    A  194562000   \n",
       "2048  C1397   370    아파트  서울특별시  장기전세  59.93       142   9.0    A  216423000   \n",
       "2100  C1039   790    아파트  서울특별시  장기전세  51.32       126  13.0    A  187694000   \n",
       "2101  C1039   790    아파트  서울특별시  장기전세  59.88        49  13.0    A  213863000   \n",
       "2102  C1039   790    아파트  서울특별시  장기전세  59.94        75  13.0    A  213863000   \n",
       "\n",
       "     임대료  지하철역수  버스정류장수  단지내주차면수   등록차량수  \n",
       "2043   -    0.0     3.0   1590.0  1595.0  \n",
       "2044   -    0.0     3.0   1590.0  1595.0  \n",
       "2045   -    0.0     3.0   1590.0  1595.0  \n",
       "2046   -    0.0     3.0   1590.0  1595.0  \n",
       "2047   -    0.0     3.0   1590.0  1595.0  \n",
       "2048   -    0.0     3.0   1590.0  1595.0  \n",
       "2100   -    0.0     3.0    673.0   645.0  \n",
       "2101   -    0.0     3.0    673.0   645.0  \n",
       "2102   -    0.0     3.0    673.0   645.0  "
      ]
     },
     "execution_count": 99,
     "metadata": {},
     "output_type": "execute_result"
    }
   ],
   "source": [
    "train[train['임대료'] == '-'] "
   ]
  },
  {
   "cell_type": "code",
   "execution_count": 100,
   "metadata": {
    "id": "82QKi1NZo0N8"
   },
   "outputs": [],
   "source": [
    "# 장기전세는 임대료 없음\n",
    "train.loc[train['임대료'] == '-', '임대료'] = 0"
   ]
  },
  {
   "cell_type": "code",
   "execution_count": 101,
   "metadata": {},
   "outputs": [
    {
     "data": {
      "text/html": [
       "<div>\n",
       "<style scoped>\n",
       "    .dataframe tbody tr th:only-of-type {\n",
       "        vertical-align: middle;\n",
       "    }\n",
       "\n",
       "    .dataframe tbody tr th {\n",
       "        vertical-align: top;\n",
       "    }\n",
       "\n",
       "    .dataframe thead th {\n",
       "        text-align: right;\n",
       "    }\n",
       "</style>\n",
       "<table border=\"1\" class=\"dataframe\">\n",
       "  <thead>\n",
       "    <tr style=\"text-align: right;\">\n",
       "      <th></th>\n",
       "      <th>단지코드</th>\n",
       "      <th>총세대수</th>\n",
       "      <th>임대건물구분</th>\n",
       "      <th>지역</th>\n",
       "      <th>공급유형</th>\n",
       "      <th>전용면적</th>\n",
       "      <th>전용면적별세대수</th>\n",
       "      <th>공가수</th>\n",
       "      <th>자격유형</th>\n",
       "      <th>임대보증금</th>\n",
       "      <th>임대료</th>\n",
       "      <th>지하철역수</th>\n",
       "      <th>버스정류장수</th>\n",
       "      <th>단지내주차면수</th>\n",
       "      <th>등록차량수</th>\n",
       "    </tr>\n",
       "  </thead>\n",
       "  <tbody>\n",
       "  </tbody>\n",
       "</table>\n",
       "</div>"
      ],
      "text/plain": [
       "Empty DataFrame\n",
       "Columns: [단지코드, 총세대수, 임대건물구분, 지역, 공급유형, 전용면적, 전용면적별세대수, 공가수, 자격유형, 임대보증금, 임대료, 지하철역수, 버스정류장수, 단지내주차면수, 등록차량수]\n",
       "Index: []"
      ]
     },
     "execution_count": 101,
     "metadata": {},
     "output_type": "execute_result"
    }
   ],
   "source": [
    "train[train['임대료'] == '-'] "
   ]
  },
  {
   "cell_type": "markdown",
   "metadata": {
    "id": "XdrV4nXWoOIM"
   },
   "source": [
    "---"
   ]
  },
  {
   "cell_type": "markdown",
   "metadata": {
    "id": "P-2ppjI2Gx-f"
   },
   "source": [
    "### 3-2. 데이터 타입 변경\n",
    "* 정수형으로 나타나야 하는 값들의 데이터타입을 'int'로 변경\n",
    "* 지하철역수: float → int\n",
    "* 버스정류장수: float → int\n",
    "* 단지내주차면수: float → int\n",
    "* 등록차량수: float → int"
   ]
  },
  {
   "cell_type": "code",
   "execution_count": 102,
   "metadata": {
    "colab": {
     "base_uri": "https://localhost:8080/"
    },
    "id": "1wtYtUOlG3dL",
    "outputId": "80b3628c-ffb9-4e7a-c012-7f5ea54da02c"
   },
   "outputs": [
    {
     "name": "stdout",
     "output_type": "stream",
     "text": [
      "<class 'pandas.core.frame.DataFrame'>\n",
      "RangeIndex: 2952 entries, 0 to 2951\n",
      "Data columns (total 15 columns):\n",
      " #   Column    Non-Null Count  Dtype  \n",
      "---  ------    --------------  -----  \n",
      " 0   단지코드      2952 non-null   object \n",
      " 1   총세대수      2952 non-null   int64  \n",
      " 2   임대건물구분    2952 non-null   object \n",
      " 3   지역        2952 non-null   object \n",
      " 4   공급유형      2952 non-null   object \n",
      " 5   전용면적      2952 non-null   float64\n",
      " 6   전용면적별세대수  2952 non-null   int64  \n",
      " 7   공가수       2952 non-null   float64\n",
      " 8   자격유형      2952 non-null   object \n",
      " 9   임대보증금     2383 non-null   object \n",
      " 10  임대료       2383 non-null   object \n",
      " 11  지하철역수     2952 non-null   float64\n",
      " 12  버스정류장수    2952 non-null   float64\n",
      " 13  단지내주차면수   2952 non-null   float64\n",
      " 14  등록차량수     2952 non-null   float64\n",
      "dtypes: float64(6), int64(2), object(7)\n",
      "memory usage: 346.1+ KB\n"
     ]
    }
   ],
   "source": [
    "train.info()"
   ]
  },
  {
   "cell_type": "code",
   "execution_count": 103,
   "metadata": {
    "colab": {
     "base_uri": "https://localhost:8080/",
     "height": 424
    },
    "id": "LDPH8rf6pcUo",
    "outputId": "26ede2af-99ef-4c57-c949-66665664b55c"
   },
   "outputs": [
    {
     "data": {
      "text/html": [
       "<div>\n",
       "<style scoped>\n",
       "    .dataframe tbody tr th:only-of-type {\n",
       "        vertical-align: middle;\n",
       "    }\n",
       "\n",
       "    .dataframe tbody tr th {\n",
       "        vertical-align: top;\n",
       "    }\n",
       "\n",
       "    .dataframe thead th {\n",
       "        text-align: right;\n",
       "    }\n",
       "</style>\n",
       "<table border=\"1\" class=\"dataframe\">\n",
       "  <thead>\n",
       "    <tr style=\"text-align: right;\">\n",
       "      <th></th>\n",
       "      <th>단지코드</th>\n",
       "      <th>총세대수</th>\n",
       "      <th>임대건물구분</th>\n",
       "      <th>지역</th>\n",
       "      <th>공급유형</th>\n",
       "      <th>전용면적</th>\n",
       "      <th>전용면적별세대수</th>\n",
       "      <th>공가수</th>\n",
       "      <th>자격유형</th>\n",
       "      <th>임대보증금</th>\n",
       "      <th>임대료</th>\n",
       "      <th>지하철역수</th>\n",
       "      <th>버스정류장수</th>\n",
       "      <th>단지내주차면수</th>\n",
       "      <th>등록차량수</th>\n",
       "    </tr>\n",
       "  </thead>\n",
       "  <tbody>\n",
       "    <tr>\n",
       "      <th>0</th>\n",
       "      <td>C2483</td>\n",
       "      <td>900</td>\n",
       "      <td>아파트</td>\n",
       "      <td>경상북도</td>\n",
       "      <td>국민임대</td>\n",
       "      <td>39.72</td>\n",
       "      <td>134</td>\n",
       "      <td>38.0</td>\n",
       "      <td>A</td>\n",
       "      <td>15667000</td>\n",
       "      <td>103680</td>\n",
       "      <td>0.0</td>\n",
       "      <td>3.0</td>\n",
       "      <td>1425.0</td>\n",
       "      <td>1015.0</td>\n",
       "    </tr>\n",
       "    <tr>\n",
       "      <th>1</th>\n",
       "      <td>C2483</td>\n",
       "      <td>900</td>\n",
       "      <td>아파트</td>\n",
       "      <td>경상북도</td>\n",
       "      <td>국민임대</td>\n",
       "      <td>39.72</td>\n",
       "      <td>15</td>\n",
       "      <td>38.0</td>\n",
       "      <td>A</td>\n",
       "      <td>15667000</td>\n",
       "      <td>103680</td>\n",
       "      <td>0.0</td>\n",
       "      <td>3.0</td>\n",
       "      <td>1425.0</td>\n",
       "      <td>1015.0</td>\n",
       "    </tr>\n",
       "    <tr>\n",
       "      <th>2</th>\n",
       "      <td>C2483</td>\n",
       "      <td>900</td>\n",
       "      <td>아파트</td>\n",
       "      <td>경상북도</td>\n",
       "      <td>국민임대</td>\n",
       "      <td>51.93</td>\n",
       "      <td>385</td>\n",
       "      <td>38.0</td>\n",
       "      <td>A</td>\n",
       "      <td>27304000</td>\n",
       "      <td>184330</td>\n",
       "      <td>0.0</td>\n",
       "      <td>3.0</td>\n",
       "      <td>1425.0</td>\n",
       "      <td>1015.0</td>\n",
       "    </tr>\n",
       "    <tr>\n",
       "      <th>3</th>\n",
       "      <td>C2483</td>\n",
       "      <td>900</td>\n",
       "      <td>아파트</td>\n",
       "      <td>경상북도</td>\n",
       "      <td>국민임대</td>\n",
       "      <td>51.93</td>\n",
       "      <td>15</td>\n",
       "      <td>38.0</td>\n",
       "      <td>A</td>\n",
       "      <td>27304000</td>\n",
       "      <td>184330</td>\n",
       "      <td>0.0</td>\n",
       "      <td>3.0</td>\n",
       "      <td>1425.0</td>\n",
       "      <td>1015.0</td>\n",
       "    </tr>\n",
       "    <tr>\n",
       "      <th>4</th>\n",
       "      <td>C2483</td>\n",
       "      <td>900</td>\n",
       "      <td>아파트</td>\n",
       "      <td>경상북도</td>\n",
       "      <td>국민임대</td>\n",
       "      <td>51.93</td>\n",
       "      <td>41</td>\n",
       "      <td>38.0</td>\n",
       "      <td>A</td>\n",
       "      <td>27304000</td>\n",
       "      <td>184330</td>\n",
       "      <td>0.0</td>\n",
       "      <td>3.0</td>\n",
       "      <td>1425.0</td>\n",
       "      <td>1015.0</td>\n",
       "    </tr>\n",
       "    <tr>\n",
       "      <th>...</th>\n",
       "      <td>...</td>\n",
       "      <td>...</td>\n",
       "      <td>...</td>\n",
       "      <td>...</td>\n",
       "      <td>...</td>\n",
       "      <td>...</td>\n",
       "      <td>...</td>\n",
       "      <td>...</td>\n",
       "      <td>...</td>\n",
       "      <td>...</td>\n",
       "      <td>...</td>\n",
       "      <td>...</td>\n",
       "      <td>...</td>\n",
       "      <td>...</td>\n",
       "      <td>...</td>\n",
       "    </tr>\n",
       "    <tr>\n",
       "      <th>2947</th>\n",
       "      <td>C2532</td>\n",
       "      <td>239</td>\n",
       "      <td>아파트</td>\n",
       "      <td>강원도</td>\n",
       "      <td>국민임대</td>\n",
       "      <td>49.20</td>\n",
       "      <td>19</td>\n",
       "      <td>7.0</td>\n",
       "      <td>A</td>\n",
       "      <td>11346000</td>\n",
       "      <td>116090</td>\n",
       "      <td>0.0</td>\n",
       "      <td>1.0</td>\n",
       "      <td>166.0</td>\n",
       "      <td>146.0</td>\n",
       "    </tr>\n",
       "    <tr>\n",
       "      <th>2948</th>\n",
       "      <td>C2532</td>\n",
       "      <td>239</td>\n",
       "      <td>아파트</td>\n",
       "      <td>강원도</td>\n",
       "      <td>국민임대</td>\n",
       "      <td>51.08</td>\n",
       "      <td>34</td>\n",
       "      <td>7.0</td>\n",
       "      <td>A</td>\n",
       "      <td>14005000</td>\n",
       "      <td>142310</td>\n",
       "      <td>0.0</td>\n",
       "      <td>1.0</td>\n",
       "      <td>166.0</td>\n",
       "      <td>146.0</td>\n",
       "    </tr>\n",
       "    <tr>\n",
       "      <th>2949</th>\n",
       "      <td>C2532</td>\n",
       "      <td>239</td>\n",
       "      <td>아파트</td>\n",
       "      <td>강원도</td>\n",
       "      <td>국민임대</td>\n",
       "      <td>51.73</td>\n",
       "      <td>34</td>\n",
       "      <td>7.0</td>\n",
       "      <td>A</td>\n",
       "      <td>14005000</td>\n",
       "      <td>142310</td>\n",
       "      <td>0.0</td>\n",
       "      <td>1.0</td>\n",
       "      <td>166.0</td>\n",
       "      <td>146.0</td>\n",
       "    </tr>\n",
       "    <tr>\n",
       "      <th>2950</th>\n",
       "      <td>C2532</td>\n",
       "      <td>239</td>\n",
       "      <td>아파트</td>\n",
       "      <td>강원도</td>\n",
       "      <td>국민임대</td>\n",
       "      <td>51.96</td>\n",
       "      <td>114</td>\n",
       "      <td>7.0</td>\n",
       "      <td>A</td>\n",
       "      <td>14005000</td>\n",
       "      <td>142310</td>\n",
       "      <td>0.0</td>\n",
       "      <td>1.0</td>\n",
       "      <td>166.0</td>\n",
       "      <td>146.0</td>\n",
       "    </tr>\n",
       "    <tr>\n",
       "      <th>2951</th>\n",
       "      <td>C2532</td>\n",
       "      <td>239</td>\n",
       "      <td>아파트</td>\n",
       "      <td>강원도</td>\n",
       "      <td>국민임대</td>\n",
       "      <td>54.95</td>\n",
       "      <td>19</td>\n",
       "      <td>7.0</td>\n",
       "      <td>A</td>\n",
       "      <td>14830000</td>\n",
       "      <td>151030</td>\n",
       "      <td>0.0</td>\n",
       "      <td>1.0</td>\n",
       "      <td>166.0</td>\n",
       "      <td>146.0</td>\n",
       "    </tr>\n",
       "  </tbody>\n",
       "</table>\n",
       "<p>2383 rows × 15 columns</p>\n",
       "</div>"
      ],
      "text/plain": [
       "       단지코드  총세대수 임대건물구분    지역  공급유형   전용면적  전용면적별세대수   공가수 자격유형     임대보증금  \\\n",
       "0     C2483   900    아파트  경상북도  국민임대  39.72       134  38.0    A  15667000   \n",
       "1     C2483   900    아파트  경상북도  국민임대  39.72        15  38.0    A  15667000   \n",
       "2     C2483   900    아파트  경상북도  국민임대  51.93       385  38.0    A  27304000   \n",
       "3     C2483   900    아파트  경상북도  국민임대  51.93        15  38.0    A  27304000   \n",
       "4     C2483   900    아파트  경상북도  국민임대  51.93        41  38.0    A  27304000   \n",
       "...     ...   ...    ...   ...   ...    ...       ...   ...  ...       ...   \n",
       "2947  C2532   239    아파트   강원도  국민임대  49.20        19   7.0    A  11346000   \n",
       "2948  C2532   239    아파트   강원도  국민임대  51.08        34   7.0    A  14005000   \n",
       "2949  C2532   239    아파트   강원도  국민임대  51.73        34   7.0    A  14005000   \n",
       "2950  C2532   239    아파트   강원도  국민임대  51.96       114   7.0    A  14005000   \n",
       "2951  C2532   239    아파트   강원도  국민임대  54.95        19   7.0    A  14830000   \n",
       "\n",
       "         임대료  지하철역수  버스정류장수  단지내주차면수   등록차량수  \n",
       "0     103680    0.0     3.0   1425.0  1015.0  \n",
       "1     103680    0.0     3.0   1425.0  1015.0  \n",
       "2     184330    0.0     3.0   1425.0  1015.0  \n",
       "3     184330    0.0     3.0   1425.0  1015.0  \n",
       "4     184330    0.0     3.0   1425.0  1015.0  \n",
       "...      ...    ...     ...      ...     ...  \n",
       "2947  116090    0.0     1.0    166.0   146.0  \n",
       "2948  142310    0.0     1.0    166.0   146.0  \n",
       "2949  142310    0.0     1.0    166.0   146.0  \n",
       "2950  142310    0.0     1.0    166.0   146.0  \n",
       "2951  151030    0.0     1.0    166.0   146.0  \n",
       "\n",
       "[2383 rows x 15 columns]"
      ]
     },
     "execution_count": 103,
     "metadata": {},
     "output_type": "execute_result"
    }
   ],
   "source": [
    "train = train[(train['임대료'].notnull()) & (train['임대보증금'].notnull())].copy()\n",
    "train"
   ]
  },
  {
   "cell_type": "code",
   "execution_count": 104,
   "metadata": {
    "id": "RIN9DR2LG_SK"
   },
   "outputs": [],
   "source": [
    "train = train.astype({'임대료': 'int', '임대보증금':'int','지하철역수':'int', '버스정류장수':'int', '단지내주차면수':'int', '등록차량수':'int'})"
   ]
  },
  {
   "cell_type": "markdown",
   "metadata": {
    "id": "yg60l0Z9psvf"
   },
   "source": [
    "---"
   ]
  },
  {
   "cell_type": "code",
   "execution_count": 105,
   "metadata": {
    "id": "U43GaiMLpzro"
   },
   "outputs": [],
   "source": [
    "test.loc[test['임대료'] == '-', '임대료'] = 0\n",
    "test.loc[test['임대보증금'] == '-', '임대보증금'] = 0"
   ]
  },
  {
   "cell_type": "code",
   "execution_count": 106,
   "metadata": {
    "colab": {
     "base_uri": "https://localhost:8080/"
    },
    "id": "oseYLzZlI5Ky",
    "outputId": "c0170fa1-9333-4ee9-f0eb-f933487e06d1"
   },
   "outputs": [
    {
     "name": "stdout",
     "output_type": "stream",
     "text": [
      "<class 'pandas.core.frame.DataFrame'>\n",
      "RangeIndex: 1022 entries, 0 to 1021\n",
      "Data columns (total 14 columns):\n",
      " #   Column    Non-Null Count  Dtype  \n",
      "---  ------    --------------  -----  \n",
      " 0   단지코드      1022 non-null   object \n",
      " 1   총세대수      1022 non-null   int64  \n",
      " 2   임대건물구분    1022 non-null   object \n",
      " 3   지역        1022 non-null   object \n",
      " 4   공급유형      1022 non-null   object \n",
      " 5   전용면적      1022 non-null   float64\n",
      " 6   전용면적별세대수  1022 non-null   int64  \n",
      " 7   공가수       1022 non-null   float64\n",
      " 8   자격유형      1022 non-null   object \n",
      " 9   임대보증금     842 non-null    object \n",
      " 10  임대료       842 non-null    object \n",
      " 11  지하철역수     1022 non-null   float64\n",
      " 12  버스정류장수    1022 non-null   float64\n",
      " 13  단지내주차면수   1022 non-null   float64\n",
      "dtypes: float64(5), int64(2), object(7)\n",
      "memory usage: 111.9+ KB\n"
     ]
    }
   ],
   "source": [
    "test.info()"
   ]
  },
  {
   "cell_type": "code",
   "execution_count": 107,
   "metadata": {
    "id": "-v1CPdRBIuHy"
   },
   "outputs": [],
   "source": [
    "test = test[(test['임대료'].notnull()) & (test['임대보증금'].notnull())].copy()\n",
    "test = test.astype({'임대료': 'int', '임대보증금':'int','지하철역수':'int', '버스정류장수':'int', '단지내주차면수':'int'})"
   ]
  },
  {
   "cell_type": "code",
   "execution_count": 108,
   "metadata": {
    "colab": {
     "base_uri": "https://localhost:8080/"
    },
    "id": "mJtCKcTnqNlx",
    "outputId": "fedae3a0-412f-4700-b7e6-83d70efa6dae"
   },
   "outputs": [
    {
     "name": "stdout",
     "output_type": "stream",
     "text": [
      "<class 'pandas.core.frame.DataFrame'>\n",
      "Int64Index: 842 entries, 0 to 1021\n",
      "Data columns (total 14 columns):\n",
      " #   Column    Non-Null Count  Dtype  \n",
      "---  ------    --------------  -----  \n",
      " 0   단지코드      842 non-null    object \n",
      " 1   총세대수      842 non-null    int64  \n",
      " 2   임대건물구분    842 non-null    object \n",
      " 3   지역        842 non-null    object \n",
      " 4   공급유형      842 non-null    object \n",
      " 5   전용면적      842 non-null    float64\n",
      " 6   전용면적별세대수  842 non-null    int64  \n",
      " 7   공가수       842 non-null    float64\n",
      " 8   자격유형      842 non-null    object \n",
      " 9   임대보증금     842 non-null    int32  \n",
      " 10  임대료       842 non-null    int32  \n",
      " 11  지하철역수     842 non-null    int32  \n",
      " 12  버스정류장수    842 non-null    int32  \n",
      " 13  단지내주차면수   842 non-null    int32  \n",
      "dtypes: float64(2), int32(5), int64(2), object(5)\n",
      "memory usage: 82.2+ KB\n"
     ]
    }
   ],
   "source": [
    "test.info()"
   ]
  },
  {
   "cell_type": "markdown",
   "metadata": {
    "id": "Pl_qignUwK8a"
   },
   "source": [
    "---"
   ]
  },
  {
   "cell_type": "markdown",
   "metadata": {
    "id": "J_eI_CbNsROH"
   },
   "source": [
    "### 3-3. 파생변수 생성"
   ]
  },
  {
   "cell_type": "markdown",
   "metadata": {
    "id": "2eh9bEMQsU5O"
   },
   "source": [
    "#### 전용면적"
   ]
  },
  {
   "cell_type": "code",
   "execution_count": 109,
   "metadata": {
    "colab": {
     "base_uri": "https://localhost:8080/"
    },
    "id": "j-1TuVndzyap",
    "outputId": "f25f75c0-04f6-47ed-b1e8-d354c9fa8d9b"
   },
   "outputs": [
    {
     "data": {
      "text/plain": [
       "count    2383.000000\n",
       "mean       44.506874\n",
       "std        13.154426\n",
       "min        16.020000\n",
       "25%        36.640000\n",
       "50%        46.570000\n",
       "75%        51.830000\n",
       "max        84.990000\n",
       "Name: 전용면적, dtype: float64"
      ]
     },
     "execution_count": 109,
     "metadata": {},
     "output_type": "execute_result"
    }
   ],
   "source": [
    "train['전용면적'].describe()"
   ]
  },
  {
   "cell_type": "code",
   "execution_count": 110,
   "metadata": {
    "colab": {
     "base_uri": "https://localhost:8080/"
    },
    "id": "3qV0lOOg3Tp-",
    "outputId": "fd44dc5e-8336-417a-ecd5-c848b18ad46f"
   },
   "outputs": [
    {
     "data": {
      "text/plain": [
       "array([ 7., 10., 11.,  6.,  9.,  8.,  5., 14., 16., 15.,  4., 13.,  3.])"
      ]
     },
     "execution_count": 110,
     "metadata": {},
     "output_type": "execute_result"
    }
   ],
   "source": [
    "tmp = train['전용면적'] // 5\n",
    "tmp.unique()"
   ]
  },
  {
   "cell_type": "code",
   "execution_count": 111,
   "metadata": {
    "colab": {
     "base_uri": "https://localhost:8080/"
    },
    "id": "8Y5ToWMU5RQF",
    "outputId": "51f518e4-1f21-426f-95ca-8e8610083d82"
   },
   "outputs": [
    {
     "data": {
      "text/plain": [
       "count    2383.000000\n",
       "mean        8.384389\n",
       "std         2.541833\n",
       "min         3.000000\n",
       "25%         7.000000\n",
       "50%         9.000000\n",
       "75%        10.000000\n",
       "max        16.000000\n",
       "Name: 전용면적, dtype: float64"
      ]
     },
     "execution_count": 111,
     "metadata": {},
     "output_type": "execute_result"
    }
   ],
   "source": [
    "tmp.describe()"
   ]
  },
  {
   "cell_type": "code",
   "execution_count": 112,
   "metadata": {
    "id": "a-fnB_sf6Ypw"
   },
   "outputs": [],
   "source": [
    "train['전용면적'] = train['전용면적'] // 5"
   ]
  },
  {
   "cell_type": "code",
   "execution_count": 113,
   "metadata": {
    "colab": {
     "base_uri": "https://localhost:8080/",
     "height": 458
    },
    "id": "P6DlOaGC69Dv",
    "outputId": "d73d4913-4ad4-4737-c56a-90aa59eed0df"
   },
   "outputs": [
    {
     "name": "stdout",
     "output_type": "stream",
     "text": [
      "2.5\n",
      "14.5\n"
     ]
    },
    {
     "data": {
      "text/html": [
       "<div>\n",
       "<style scoped>\n",
       "    .dataframe tbody tr th:only-of-type {\n",
       "        vertical-align: middle;\n",
       "    }\n",
       "\n",
       "    .dataframe tbody tr th {\n",
       "        vertical-align: top;\n",
       "    }\n",
       "\n",
       "    .dataframe thead th {\n",
       "        text-align: right;\n",
       "    }\n",
       "</style>\n",
       "<table border=\"1\" class=\"dataframe\">\n",
       "  <thead>\n",
       "    <tr style=\"text-align: right;\">\n",
       "      <th></th>\n",
       "      <th>단지코드</th>\n",
       "      <th>총세대수</th>\n",
       "      <th>임대건물구분</th>\n",
       "      <th>지역</th>\n",
       "      <th>공급유형</th>\n",
       "      <th>전용면적</th>\n",
       "      <th>전용면적별세대수</th>\n",
       "      <th>공가수</th>\n",
       "      <th>자격유형</th>\n",
       "      <th>임대보증금</th>\n",
       "      <th>임대료</th>\n",
       "      <th>지하철역수</th>\n",
       "      <th>버스정류장수</th>\n",
       "      <th>단지내주차면수</th>\n",
       "      <th>등록차량수</th>\n",
       "    </tr>\n",
       "  </thead>\n",
       "  <tbody>\n",
       "    <tr>\n",
       "      <th>0</th>\n",
       "      <td>C2483</td>\n",
       "      <td>900</td>\n",
       "      <td>아파트</td>\n",
       "      <td>경상북도</td>\n",
       "      <td>국민임대</td>\n",
       "      <td>7.0</td>\n",
       "      <td>134</td>\n",
       "      <td>38.0</td>\n",
       "      <td>A</td>\n",
       "      <td>15667000</td>\n",
       "      <td>103680</td>\n",
       "      <td>0</td>\n",
       "      <td>3</td>\n",
       "      <td>1425</td>\n",
       "      <td>1015</td>\n",
       "    </tr>\n",
       "    <tr>\n",
       "      <th>1</th>\n",
       "      <td>C2483</td>\n",
       "      <td>900</td>\n",
       "      <td>아파트</td>\n",
       "      <td>경상북도</td>\n",
       "      <td>국민임대</td>\n",
       "      <td>7.0</td>\n",
       "      <td>15</td>\n",
       "      <td>38.0</td>\n",
       "      <td>A</td>\n",
       "      <td>15667000</td>\n",
       "      <td>103680</td>\n",
       "      <td>0</td>\n",
       "      <td>3</td>\n",
       "      <td>1425</td>\n",
       "      <td>1015</td>\n",
       "    </tr>\n",
       "    <tr>\n",
       "      <th>2</th>\n",
       "      <td>C2483</td>\n",
       "      <td>900</td>\n",
       "      <td>아파트</td>\n",
       "      <td>경상북도</td>\n",
       "      <td>국민임대</td>\n",
       "      <td>10.0</td>\n",
       "      <td>385</td>\n",
       "      <td>38.0</td>\n",
       "      <td>A</td>\n",
       "      <td>27304000</td>\n",
       "      <td>184330</td>\n",
       "      <td>0</td>\n",
       "      <td>3</td>\n",
       "      <td>1425</td>\n",
       "      <td>1015</td>\n",
       "    </tr>\n",
       "    <tr>\n",
       "      <th>3</th>\n",
       "      <td>C2483</td>\n",
       "      <td>900</td>\n",
       "      <td>아파트</td>\n",
       "      <td>경상북도</td>\n",
       "      <td>국민임대</td>\n",
       "      <td>10.0</td>\n",
       "      <td>15</td>\n",
       "      <td>38.0</td>\n",
       "      <td>A</td>\n",
       "      <td>27304000</td>\n",
       "      <td>184330</td>\n",
       "      <td>0</td>\n",
       "      <td>3</td>\n",
       "      <td>1425</td>\n",
       "      <td>1015</td>\n",
       "    </tr>\n",
       "    <tr>\n",
       "      <th>4</th>\n",
       "      <td>C2483</td>\n",
       "      <td>900</td>\n",
       "      <td>아파트</td>\n",
       "      <td>경상북도</td>\n",
       "      <td>국민임대</td>\n",
       "      <td>10.0</td>\n",
       "      <td>41</td>\n",
       "      <td>38.0</td>\n",
       "      <td>A</td>\n",
       "      <td>27304000</td>\n",
       "      <td>184330</td>\n",
       "      <td>0</td>\n",
       "      <td>3</td>\n",
       "      <td>1425</td>\n",
       "      <td>1015</td>\n",
       "    </tr>\n",
       "    <tr>\n",
       "      <th>...</th>\n",
       "      <td>...</td>\n",
       "      <td>...</td>\n",
       "      <td>...</td>\n",
       "      <td>...</td>\n",
       "      <td>...</td>\n",
       "      <td>...</td>\n",
       "      <td>...</td>\n",
       "      <td>...</td>\n",
       "      <td>...</td>\n",
       "      <td>...</td>\n",
       "      <td>...</td>\n",
       "      <td>...</td>\n",
       "      <td>...</td>\n",
       "      <td>...</td>\n",
       "      <td>...</td>\n",
       "    </tr>\n",
       "    <tr>\n",
       "      <th>2947</th>\n",
       "      <td>C2532</td>\n",
       "      <td>239</td>\n",
       "      <td>아파트</td>\n",
       "      <td>강원도</td>\n",
       "      <td>국민임대</td>\n",
       "      <td>9.0</td>\n",
       "      <td>19</td>\n",
       "      <td>7.0</td>\n",
       "      <td>A</td>\n",
       "      <td>11346000</td>\n",
       "      <td>116090</td>\n",
       "      <td>0</td>\n",
       "      <td>1</td>\n",
       "      <td>166</td>\n",
       "      <td>146</td>\n",
       "    </tr>\n",
       "    <tr>\n",
       "      <th>2948</th>\n",
       "      <td>C2532</td>\n",
       "      <td>239</td>\n",
       "      <td>아파트</td>\n",
       "      <td>강원도</td>\n",
       "      <td>국민임대</td>\n",
       "      <td>10.0</td>\n",
       "      <td>34</td>\n",
       "      <td>7.0</td>\n",
       "      <td>A</td>\n",
       "      <td>14005000</td>\n",
       "      <td>142310</td>\n",
       "      <td>0</td>\n",
       "      <td>1</td>\n",
       "      <td>166</td>\n",
       "      <td>146</td>\n",
       "    </tr>\n",
       "    <tr>\n",
       "      <th>2949</th>\n",
       "      <td>C2532</td>\n",
       "      <td>239</td>\n",
       "      <td>아파트</td>\n",
       "      <td>강원도</td>\n",
       "      <td>국민임대</td>\n",
       "      <td>10.0</td>\n",
       "      <td>34</td>\n",
       "      <td>7.0</td>\n",
       "      <td>A</td>\n",
       "      <td>14005000</td>\n",
       "      <td>142310</td>\n",
       "      <td>0</td>\n",
       "      <td>1</td>\n",
       "      <td>166</td>\n",
       "      <td>146</td>\n",
       "    </tr>\n",
       "    <tr>\n",
       "      <th>2950</th>\n",
       "      <td>C2532</td>\n",
       "      <td>239</td>\n",
       "      <td>아파트</td>\n",
       "      <td>강원도</td>\n",
       "      <td>국민임대</td>\n",
       "      <td>10.0</td>\n",
       "      <td>114</td>\n",
       "      <td>7.0</td>\n",
       "      <td>A</td>\n",
       "      <td>14005000</td>\n",
       "      <td>142310</td>\n",
       "      <td>0</td>\n",
       "      <td>1</td>\n",
       "      <td>166</td>\n",
       "      <td>146</td>\n",
       "    </tr>\n",
       "    <tr>\n",
       "      <th>2951</th>\n",
       "      <td>C2532</td>\n",
       "      <td>239</td>\n",
       "      <td>아파트</td>\n",
       "      <td>강원도</td>\n",
       "      <td>국민임대</td>\n",
       "      <td>10.0</td>\n",
       "      <td>19</td>\n",
       "      <td>7.0</td>\n",
       "      <td>A</td>\n",
       "      <td>14830000</td>\n",
       "      <td>151030</td>\n",
       "      <td>0</td>\n",
       "      <td>1</td>\n",
       "      <td>166</td>\n",
       "      <td>146</td>\n",
       "    </tr>\n",
       "  </tbody>\n",
       "</table>\n",
       "<p>2302 rows × 15 columns</p>\n",
       "</div>"
      ],
      "text/plain": [
       "       단지코드  총세대수 임대건물구분    지역  공급유형  전용면적  전용면적별세대수   공가수 자격유형     임대보증금  \\\n",
       "0     C2483   900    아파트  경상북도  국민임대   7.0       134  38.0    A  15667000   \n",
       "1     C2483   900    아파트  경상북도  국민임대   7.0        15  38.0    A  15667000   \n",
       "2     C2483   900    아파트  경상북도  국민임대  10.0       385  38.0    A  27304000   \n",
       "3     C2483   900    아파트  경상북도  국민임대  10.0        15  38.0    A  27304000   \n",
       "4     C2483   900    아파트  경상북도  국민임대  10.0        41  38.0    A  27304000   \n",
       "...     ...   ...    ...   ...   ...   ...       ...   ...  ...       ...   \n",
       "2947  C2532   239    아파트   강원도  국민임대   9.0        19   7.0    A  11346000   \n",
       "2948  C2532   239    아파트   강원도  국민임대  10.0        34   7.0    A  14005000   \n",
       "2949  C2532   239    아파트   강원도  국민임대  10.0        34   7.0    A  14005000   \n",
       "2950  C2532   239    아파트   강원도  국민임대  10.0       114   7.0    A  14005000   \n",
       "2951  C2532   239    아파트   강원도  국민임대  10.0        19   7.0    A  14830000   \n",
       "\n",
       "         임대료  지하철역수  버스정류장수  단지내주차면수  등록차량수  \n",
       "0     103680      0       3     1425   1015  \n",
       "1     103680      0       3     1425   1015  \n",
       "2     184330      0       3     1425   1015  \n",
       "3     184330      0       3     1425   1015  \n",
       "4     184330      0       3     1425   1015  \n",
       "...      ...    ...     ...      ...    ...  \n",
       "2947  116090      0       1      166    146  \n",
       "2948  142310      0       1      166    146  \n",
       "2949  142310      0       1      166    146  \n",
       "2950  142310      0       1      166    146  \n",
       "2951  151030      0       1      166    146  \n",
       "\n",
       "[2302 rows x 15 columns]"
      ]
     },
     "execution_count": 113,
     "metadata": {},
     "output_type": "execute_result"
    }
   ],
   "source": [
    "Q1 = 7\n",
    "Q3 = 10\n",
    "IQR = (Q3 - Q1) * 1.5\n",
    "\n",
    "print(Q1-IQR)\n",
    "print(Q3+IQR)\n",
    "\n",
    "train = train[(train['전용면적'] > (Q1 - IQR)) & (train['전용면적'] < (Q3 + IQR))].copy()\n",
    "train"
   ]
  },
  {
   "cell_type": "code",
   "execution_count": 114,
   "metadata": {
    "colab": {
     "base_uri": "https://localhost:8080/"
    },
    "id": "Ja6g2lP3GEwn",
    "outputId": "958ab6dc-1061-42c9-efad-04d51e1a97c9"
   },
   "outputs": [
    {
     "data": {
      "text/plain": [
       "['전용면적_7.0',\n",
       " '전용면적_10.0',\n",
       " '전용면적_11.0',\n",
       " '전용면적_6.0',\n",
       " '전용면적_9.0',\n",
       " '전용면적_8.0',\n",
       " '전용면적_5.0',\n",
       " '전용면적_14.0',\n",
       " '전용면적_4.0',\n",
       " '전용면적_13.0',\n",
       " '전용면적_3.0']"
      ]
     },
     "execution_count": 114,
     "metadata": {},
     "output_type": "execute_result"
    }
   ],
   "source": [
    "columns = ['단지코드', '총세대수', '공가수', '지역', '단지내주차면수', '지하철역수', '버스정류장수', '임대보증금', '임대료']\n",
    "target = '등록차량수'\n",
    "area_columns = []\n",
    "for area in train['전용면적'].unique():\n",
    "    area_columns.append(f'전용면적_{area}')\n",
    "\n",
    "area_columns"
   ]
  },
  {
   "cell_type": "code",
   "execution_count": 115,
   "metadata": {
    "colab": {
     "base_uri": "https://localhost:8080/"
    },
    "id": "y0kbHPD6GOPP",
    "outputId": "984899ad-572d-418c-86ec-9b98e38cdb02"
   },
   "outputs": [
    {
     "name": "stdout",
     "output_type": "stream",
     "text": [
      "<class 'pandas.core.frame.DataFrame'>\n",
      "Int64Index: 2302 entries, 0 to 2951\n",
      "Data columns (total 15 columns):\n",
      " #   Column    Non-Null Count  Dtype  \n",
      "---  ------    --------------  -----  \n",
      " 0   단지코드      2302 non-null   object \n",
      " 1   총세대수      2302 non-null   int64  \n",
      " 2   임대건물구분    2302 non-null   object \n",
      " 3   지역        2302 non-null   object \n",
      " 4   공급유형      2302 non-null   object \n",
      " 5   전용면적      2302 non-null   float64\n",
      " 6   전용면적별세대수  2302 non-null   int64  \n",
      " 7   공가수       2302 non-null   float64\n",
      " 8   자격유형      2302 non-null   object \n",
      " 9   임대보증금     2302 non-null   int32  \n",
      " 10  임대료       2302 non-null   int32  \n",
      " 11  지하철역수     2302 non-null   int32  \n",
      " 12  버스정류장수    2302 non-null   int32  \n",
      " 13  단지내주차면수   2302 non-null   int32  \n",
      " 14  등록차량수     2302 non-null   int32  \n",
      "dtypes: float64(2), int32(6), int64(2), object(5)\n",
      "memory usage: 233.8+ KB\n"
     ]
    }
   ],
   "source": [
    "train.info()"
   ]
  },
  {
   "cell_type": "code",
   "execution_count": 116,
   "metadata": {
    "id": "b1MRwLd0GY1o"
   },
   "outputs": [],
   "source": [
    "train = train.astype({'전용면적':'object'})"
   ]
  },
  {
   "cell_type": "markdown",
   "metadata": {
    "id": "E1ZCES26scLL"
   },
   "source": [
    "### 3-4. 데이터 병합"
   ]
  },
  {
   "cell_type": "code",
   "execution_count": 117,
   "metadata": {
    "id": "HoTCZctIHRB-"
   },
   "outputs": [],
   "source": [
    "new_train = pd.DataFrame()\n",
    "new_test = pd.DataFrame()"
   ]
  },
  {
   "cell_type": "code",
   "execution_count": 118,
   "metadata": {
    "colab": {
     "base_uri": "https://localhost:8080/"
    },
    "id": "iHRzIOmfHydM",
    "outputId": "87b26b95-1494-4210-a10f-58c243b084e5"
   },
   "outputs": [
    {
     "data": {
      "text/plain": [
       "419"
      ]
     },
     "execution_count": 118,
     "metadata": {},
     "output_type": "execute_result"
    }
   ],
   "source": [
    "len(train['단지코드'].unique())"
   ]
  },
  {
   "cell_type": "code",
   "execution_count": 119,
   "metadata": {
    "colab": {
     "base_uri": "https://localhost:8080/"
    },
    "id": "kk7F0e0wIUS3",
    "outputId": "9554e5f6-ebf0-4058-8e54-7c3f17d5f014"
   },
   "outputs": [
    {
     "data": {
      "text/plain": [
       "['단지코드', '총세대수', '공가수', '지역', '단지내주차면수', '지하철역수', '버스정류장수', '임대보증금', '임대료']"
      ]
     },
     "execution_count": 119,
     "metadata": {},
     "output_type": "execute_result"
    }
   ],
   "source": [
    "columns"
   ]
  },
  {
   "cell_type": "code",
   "execution_count": 120,
   "metadata": {
    "colab": {
     "base_uri": "https://localhost:8080/"
    },
    "id": "wkuNmkemJb9u",
    "outputId": "314cce4a-50e9-4ef9-cc6f-16cc58feb70b"
   },
   "outputs": [
    {
     "data": {
      "text/plain": [
       "['전용면적_7.0',\n",
       " '전용면적_10.0',\n",
       " '전용면적_11.0',\n",
       " '전용면적_6.0',\n",
       " '전용면적_9.0',\n",
       " '전용면적_8.0',\n",
       " '전용면적_5.0',\n",
       " '전용면적_14.0',\n",
       " '전용면적_4.0',\n",
       " '전용면적_13.0',\n",
       " '전용면적_3.0']"
      ]
     },
     "execution_count": 120,
     "metadata": {},
     "output_type": "execute_result"
    }
   ],
   "source": [
    "area_columns"
   ]
  },
  {
   "cell_type": "code",
   "execution_count": 121,
   "metadata": {
    "colab": {
     "base_uri": "https://localhost:8080/",
     "height": 1000
    },
    "id": "TyfHKANBHskt",
    "outputId": "b9643206-91b7-48fd-8795-703a52e90af2"
   },
   "outputs": [
    {
     "data": {
      "text/html": [
       "<div>\n",
       "<style scoped>\n",
       "    .dataframe tbody tr th:only-of-type {\n",
       "        vertical-align: middle;\n",
       "    }\n",
       "\n",
       "    .dataframe tbody tr th {\n",
       "        vertical-align: top;\n",
       "    }\n",
       "\n",
       "    .dataframe thead th {\n",
       "        text-align: right;\n",
       "    }\n",
       "</style>\n",
       "<table border=\"1\" class=\"dataframe\">\n",
       "  <thead>\n",
       "    <tr style=\"text-align: right;\">\n",
       "      <th></th>\n",
       "      <th>단지코드</th>\n",
       "      <th>총세대수</th>\n",
       "      <th>공가수</th>\n",
       "      <th>지역</th>\n",
       "      <th>단지내주차면수</th>\n",
       "      <th>지하철역수</th>\n",
       "      <th>버스정류장수</th>\n",
       "      <th>임대보증금</th>\n",
       "      <th>임대료</th>\n",
       "      <th>전용면적_7.0</th>\n",
       "      <th>...</th>\n",
       "      <th>전용면적_11.0</th>\n",
       "      <th>전용면적_6.0</th>\n",
       "      <th>전용면적_9.0</th>\n",
       "      <th>전용면적_8.0</th>\n",
       "      <th>전용면적_5.0</th>\n",
       "      <th>전용면적_14.0</th>\n",
       "      <th>전용면적_4.0</th>\n",
       "      <th>전용면적_13.0</th>\n",
       "      <th>전용면적_3.0</th>\n",
       "      <th>등록차량수</th>\n",
       "    </tr>\n",
       "  </thead>\n",
       "  <tbody>\n",
       "    <tr>\n",
       "      <th>0</th>\n",
       "      <td>C2483</td>\n",
       "      <td>900.0</td>\n",
       "      <td>38.0</td>\n",
       "      <td>경상북도</td>\n",
       "      <td>1425.0</td>\n",
       "      <td>0.0</td>\n",
       "      <td>3.0</td>\n",
       "      <td>15667000.0</td>\n",
       "      <td>103680.0</td>\n",
       "      <td>149.0</td>\n",
       "      <td>...</td>\n",
       "      <td>86.0</td>\n",
       "      <td>0.0</td>\n",
       "      <td>0.0</td>\n",
       "      <td>0.0</td>\n",
       "      <td>0.0</td>\n",
       "      <td>0.0</td>\n",
       "      <td>0.0</td>\n",
       "      <td>0.0</td>\n",
       "      <td>0.0</td>\n",
       "      <td>1015.0</td>\n",
       "    </tr>\n",
       "    <tr>\n",
       "      <th>1</th>\n",
       "      <td>C2515</td>\n",
       "      <td>545.0</td>\n",
       "      <td>17.0</td>\n",
       "      <td>경상남도</td>\n",
       "      <td>624.0</td>\n",
       "      <td>0.0</td>\n",
       "      <td>3.0</td>\n",
       "      <td>9216000.0</td>\n",
       "      <td>82940.0</td>\n",
       "      <td>80.0</td>\n",
       "      <td>...</td>\n",
       "      <td>0.0</td>\n",
       "      <td>276.0</td>\n",
       "      <td>57.0</td>\n",
       "      <td>0.0</td>\n",
       "      <td>0.0</td>\n",
       "      <td>0.0</td>\n",
       "      <td>0.0</td>\n",
       "      <td>0.0</td>\n",
       "      <td>0.0</td>\n",
       "      <td>205.0</td>\n",
       "    </tr>\n",
       "    <tr>\n",
       "      <th>2</th>\n",
       "      <td>C1407</td>\n",
       "      <td>1216.0</td>\n",
       "      <td>13.0</td>\n",
       "      <td>대전광역시</td>\n",
       "      <td>1285.0</td>\n",
       "      <td>1.0</td>\n",
       "      <td>1.0</td>\n",
       "      <td>15620000.0</td>\n",
       "      <td>127350.0</td>\n",
       "      <td>0.0</td>\n",
       "      <td>...</td>\n",
       "      <td>0.0</td>\n",
       "      <td>390.0</td>\n",
       "      <td>340.0</td>\n",
       "      <td>362.0</td>\n",
       "      <td>0.0</td>\n",
       "      <td>0.0</td>\n",
       "      <td>0.0</td>\n",
       "      <td>0.0</td>\n",
       "      <td>0.0</td>\n",
       "      <td>1064.0</td>\n",
       "    </tr>\n",
       "    <tr>\n",
       "      <th>3</th>\n",
       "      <td>C1945</td>\n",
       "      <td>755.0</td>\n",
       "      <td>6.0</td>\n",
       "      <td>경기도</td>\n",
       "      <td>734.0</td>\n",
       "      <td>1.0</td>\n",
       "      <td>3.0</td>\n",
       "      <td>15607000.0</td>\n",
       "      <td>130070.0</td>\n",
       "      <td>240.0</td>\n",
       "      <td>...</td>\n",
       "      <td>212.0</td>\n",
       "      <td>0.0</td>\n",
       "      <td>0.0</td>\n",
       "      <td>0.0</td>\n",
       "      <td>0.0</td>\n",
       "      <td>0.0</td>\n",
       "      <td>0.0</td>\n",
       "      <td>0.0</td>\n",
       "      <td>0.0</td>\n",
       "      <td>730.0</td>\n",
       "    </tr>\n",
       "    <tr>\n",
       "      <th>4</th>\n",
       "      <td>C1470</td>\n",
       "      <td>696.0</td>\n",
       "      <td>14.0</td>\n",
       "      <td>전라북도</td>\n",
       "      <td>645.0</td>\n",
       "      <td>0.0</td>\n",
       "      <td>2.0</td>\n",
       "      <td>12015000.0</td>\n",
       "      <td>102130.0</td>\n",
       "      <td>254.0</td>\n",
       "      <td>...</td>\n",
       "      <td>0.0</td>\n",
       "      <td>0.0</td>\n",
       "      <td>196.0</td>\n",
       "      <td>0.0</td>\n",
       "      <td>0.0</td>\n",
       "      <td>0.0</td>\n",
       "      <td>0.0</td>\n",
       "      <td>0.0</td>\n",
       "      <td>0.0</td>\n",
       "      <td>553.0</td>\n",
       "    </tr>\n",
       "    <tr>\n",
       "      <th>...</th>\n",
       "      <td>...</td>\n",
       "      <td>...</td>\n",
       "      <td>...</td>\n",
       "      <td>...</td>\n",
       "      <td>...</td>\n",
       "      <td>...</td>\n",
       "      <td>...</td>\n",
       "      <td>...</td>\n",
       "      <td>...</td>\n",
       "      <td>...</td>\n",
       "      <td>...</td>\n",
       "      <td>...</td>\n",
       "      <td>...</td>\n",
       "      <td>...</td>\n",
       "      <td>...</td>\n",
       "      <td>...</td>\n",
       "      <td>...</td>\n",
       "      <td>...</td>\n",
       "      <td>...</td>\n",
       "      <td>...</td>\n",
       "      <td>...</td>\n",
       "    </tr>\n",
       "    <tr>\n",
       "      <th>414</th>\n",
       "      <td>C2586</td>\n",
       "      <td>90.0</td>\n",
       "      <td>7.0</td>\n",
       "      <td>제주특별자치도</td>\n",
       "      <td>66.0</td>\n",
       "      <td>0.0</td>\n",
       "      <td>3.0</td>\n",
       "      <td>16800000.0</td>\n",
       "      <td>71400.0</td>\n",
       "      <td>36.0</td>\n",
       "      <td>...</td>\n",
       "      <td>0.0</td>\n",
       "      <td>0.0</td>\n",
       "      <td>0.0</td>\n",
       "      <td>0.0</td>\n",
       "      <td>42.0</td>\n",
       "      <td>0.0</td>\n",
       "      <td>0.0</td>\n",
       "      <td>0.0</td>\n",
       "      <td>12.0</td>\n",
       "      <td>57.0</td>\n",
       "    </tr>\n",
       "    <tr>\n",
       "      <th>415</th>\n",
       "      <td>C2035</td>\n",
       "      <td>492.0</td>\n",
       "      <td>24.0</td>\n",
       "      <td>강원도</td>\n",
       "      <td>521.0</td>\n",
       "      <td>0.0</td>\n",
       "      <td>1.0</td>\n",
       "      <td>10000000.0</td>\n",
       "      <td>117000.0</td>\n",
       "      <td>156.0</td>\n",
       "      <td>...</td>\n",
       "      <td>0.0</td>\n",
       "      <td>0.0</td>\n",
       "      <td>180.0</td>\n",
       "      <td>0.0</td>\n",
       "      <td>156.0</td>\n",
       "      <td>0.0</td>\n",
       "      <td>0.0</td>\n",
       "      <td>0.0</td>\n",
       "      <td>0.0</td>\n",
       "      <td>246.0</td>\n",
       "    </tr>\n",
       "    <tr>\n",
       "      <th>416</th>\n",
       "      <td>C2020</td>\n",
       "      <td>40.0</td>\n",
       "      <td>7.0</td>\n",
       "      <td>부산광역시</td>\n",
       "      <td>25.0</td>\n",
       "      <td>1.0</td>\n",
       "      <td>2.0</td>\n",
       "      <td>18000000.0</td>\n",
       "      <td>87000.0</td>\n",
       "      <td>15.0</td>\n",
       "      <td>...</td>\n",
       "      <td>0.0</td>\n",
       "      <td>0.0</td>\n",
       "      <td>0.0</td>\n",
       "      <td>0.0</td>\n",
       "      <td>5.0</td>\n",
       "      <td>0.0</td>\n",
       "      <td>0.0</td>\n",
       "      <td>0.0</td>\n",
       "      <td>20.0</td>\n",
       "      <td>19.0</td>\n",
       "    </tr>\n",
       "    <tr>\n",
       "      <th>417</th>\n",
       "      <td>C2437</td>\n",
       "      <td>90.0</td>\n",
       "      <td>12.0</td>\n",
       "      <td>충청북도</td>\n",
       "      <td>30.0</td>\n",
       "      <td>0.0</td>\n",
       "      <td>1.0</td>\n",
       "      <td>10346000.0</td>\n",
       "      <td>107530.0</td>\n",
       "      <td>0.0</td>\n",
       "      <td>...</td>\n",
       "      <td>0.0</td>\n",
       "      <td>0.0</td>\n",
       "      <td>0.0</td>\n",
       "      <td>0.0</td>\n",
       "      <td>0.0</td>\n",
       "      <td>0.0</td>\n",
       "      <td>90.0</td>\n",
       "      <td>0.0</td>\n",
       "      <td>0.0</td>\n",
       "      <td>16.0</td>\n",
       "    </tr>\n",
       "    <tr>\n",
       "      <th>418</th>\n",
       "      <td>C2532</td>\n",
       "      <td>239.0</td>\n",
       "      <td>7.0</td>\n",
       "      <td>강원도</td>\n",
       "      <td>166.0</td>\n",
       "      <td>0.0</td>\n",
       "      <td>1.0</td>\n",
       "      <td>11346000.0</td>\n",
       "      <td>116090.0</td>\n",
       "      <td>0.0</td>\n",
       "      <td>...</td>\n",
       "      <td>0.0</td>\n",
       "      <td>0.0</td>\n",
       "      <td>38.0</td>\n",
       "      <td>0.0</td>\n",
       "      <td>0.0</td>\n",
       "      <td>0.0</td>\n",
       "      <td>0.0</td>\n",
       "      <td>0.0</td>\n",
       "      <td>0.0</td>\n",
       "      <td>146.0</td>\n",
       "    </tr>\n",
       "  </tbody>\n",
       "</table>\n",
       "<p>419 rows × 21 columns</p>\n",
       "</div>"
      ],
      "text/plain": [
       "      단지코드    총세대수   공가수       지역  단지내주차면수  지하철역수  버스정류장수       임대보증금  \\\n",
       "0    C2483   900.0  38.0     경상북도   1425.0    0.0     3.0  15667000.0   \n",
       "1    C2515   545.0  17.0     경상남도    624.0    0.0     3.0   9216000.0   \n",
       "2    C1407  1216.0  13.0    대전광역시   1285.0    1.0     1.0  15620000.0   \n",
       "3    C1945   755.0   6.0      경기도    734.0    1.0     3.0  15607000.0   \n",
       "4    C1470   696.0  14.0     전라북도    645.0    0.0     2.0  12015000.0   \n",
       "..     ...     ...   ...      ...      ...    ...     ...         ...   \n",
       "414  C2586    90.0   7.0  제주특별자치도     66.0    0.0     3.0  16800000.0   \n",
       "415  C2035   492.0  24.0      강원도    521.0    0.0     1.0  10000000.0   \n",
       "416  C2020    40.0   7.0    부산광역시     25.0    1.0     2.0  18000000.0   \n",
       "417  C2437    90.0  12.0     충청북도     30.0    0.0     1.0  10346000.0   \n",
       "418  C2532   239.0   7.0      강원도    166.0    0.0     1.0  11346000.0   \n",
       "\n",
       "          임대료  전용면적_7.0  ...  전용면적_11.0  전용면적_6.0  전용면적_9.0  전용면적_8.0  \\\n",
       "0    103680.0     149.0  ...       86.0       0.0       0.0       0.0   \n",
       "1     82940.0      80.0  ...        0.0     276.0      57.0       0.0   \n",
       "2    127350.0       0.0  ...        0.0     390.0     340.0     362.0   \n",
       "3    130070.0     240.0  ...      212.0       0.0       0.0       0.0   \n",
       "4    102130.0     254.0  ...        0.0       0.0     196.0       0.0   \n",
       "..        ...       ...  ...        ...       ...       ...       ...   \n",
       "414   71400.0      36.0  ...        0.0       0.0       0.0       0.0   \n",
       "415  117000.0     156.0  ...        0.0       0.0     180.0       0.0   \n",
       "416   87000.0      15.0  ...        0.0       0.0       0.0       0.0   \n",
       "417  107530.0       0.0  ...        0.0       0.0       0.0       0.0   \n",
       "418  116090.0       0.0  ...        0.0       0.0      38.0       0.0   \n",
       "\n",
       "     전용면적_5.0  전용면적_14.0  전용면적_4.0  전용면적_13.0  전용면적_3.0   등록차량수  \n",
       "0         0.0        0.0       0.0        0.0       0.0  1015.0  \n",
       "1         0.0        0.0       0.0        0.0       0.0   205.0  \n",
       "2         0.0        0.0       0.0        0.0       0.0  1064.0  \n",
       "3         0.0        0.0       0.0        0.0       0.0   730.0  \n",
       "4         0.0        0.0       0.0        0.0       0.0   553.0  \n",
       "..        ...        ...       ...        ...       ...     ...  \n",
       "414      42.0        0.0       0.0        0.0      12.0    57.0  \n",
       "415     156.0        0.0       0.0        0.0       0.0   246.0  \n",
       "416       5.0        0.0       0.0        0.0      20.0    19.0  \n",
       "417       0.0        0.0      90.0        0.0       0.0    16.0  \n",
       "418       0.0        0.0       0.0        0.0       0.0   146.0  \n",
       "\n",
       "[419 rows x 21 columns]"
      ]
     },
     "execution_count": 121,
     "metadata": {},
     "output_type": "execute_result"
    }
   ],
   "source": [
    "for i, code in enumerate(train['단지코드'].unique()):\n",
    "    temp = train[train['단지코드']==code]\n",
    "    temp.index = range(temp.shape[0])\n",
    "    for col in columns:\n",
    "        new_train.loc[i, col] = temp.loc[0, col]\n",
    "    \n",
    "    for col in area_columns:\n",
    "        area = float(col.split('_')[-1])\n",
    "        new_train.loc[i, col] = temp[temp['전용면적']==area]['전용면적별세대수'].sum()\n",
    "    \n",
    "    new_train.loc[i, '등록차량수'] = temp.loc[0, '등록차량수']\n",
    "\n",
    "new_train"
   ]
  },
  {
   "cell_type": "code",
   "execution_count": 122,
   "metadata": {
    "colab": {
     "base_uri": "https://localhost:8080/",
     "height": 684
    },
    "id": "9edPhTDkJNiN",
    "outputId": "cac641cf-058c-4b49-d396-d286c06baa00"
   },
   "outputs": [
    {
     "data": {
      "text/html": [
       "<div>\n",
       "<style scoped>\n",
       "    .dataframe tbody tr th:only-of-type {\n",
       "        vertical-align: middle;\n",
       "    }\n",
       "\n",
       "    .dataframe tbody tr th {\n",
       "        vertical-align: top;\n",
       "    }\n",
       "\n",
       "    .dataframe thead th {\n",
       "        text-align: right;\n",
       "    }\n",
       "</style>\n",
       "<table border=\"1\" class=\"dataframe\">\n",
       "  <thead>\n",
       "    <tr style=\"text-align: right;\">\n",
       "      <th></th>\n",
       "      <th>단지코드</th>\n",
       "      <th>총세대수</th>\n",
       "      <th>공가수</th>\n",
       "      <th>지역</th>\n",
       "      <th>단지내주차면수</th>\n",
       "      <th>지하철역수</th>\n",
       "      <th>버스정류장수</th>\n",
       "      <th>임대보증금</th>\n",
       "      <th>임대료</th>\n",
       "      <th>전용면적_7.0</th>\n",
       "      <th>전용면적_10.0</th>\n",
       "      <th>전용면적_11.0</th>\n",
       "      <th>전용면적_6.0</th>\n",
       "      <th>전용면적_9.0</th>\n",
       "      <th>전용면적_8.0</th>\n",
       "      <th>전용면적_5.0</th>\n",
       "      <th>전용면적_14.0</th>\n",
       "      <th>전용면적_4.0</th>\n",
       "      <th>전용면적_13.0</th>\n",
       "      <th>전용면적_3.0</th>\n",
       "    </tr>\n",
       "  </thead>\n",
       "  <tbody>\n",
       "    <tr>\n",
       "      <th>0</th>\n",
       "      <td>C1072</td>\n",
       "      <td>754.0</td>\n",
       "      <td>14.0</td>\n",
       "      <td>경기도</td>\n",
       "      <td>683.0</td>\n",
       "      <td>0.0</td>\n",
       "      <td>2.0</td>\n",
       "      <td>22830000.0</td>\n",
       "      <td>189840.0</td>\n",
       "      <td>0.0</td>\n",
       "      <td>0.0</td>\n",
       "      <td>0.0</td>\n",
       "      <td>0.0</td>\n",
       "      <td>0.0</td>\n",
       "      <td>0.0</td>\n",
       "      <td>0.0</td>\n",
       "      <td>0.0</td>\n",
       "      <td>0.0</td>\n",
       "      <td>0.0</td>\n",
       "      <td>0.0</td>\n",
       "    </tr>\n",
       "    <tr>\n",
       "      <th>1</th>\n",
       "      <td>C1128</td>\n",
       "      <td>1354.0</td>\n",
       "      <td>9.0</td>\n",
       "      <td>경기도</td>\n",
       "      <td>1216.0</td>\n",
       "      <td>0.0</td>\n",
       "      <td>3.0</td>\n",
       "      <td>22830000.0</td>\n",
       "      <td>189840.0</td>\n",
       "      <td>0.0</td>\n",
       "      <td>0.0</td>\n",
       "      <td>0.0</td>\n",
       "      <td>0.0</td>\n",
       "      <td>0.0</td>\n",
       "      <td>0.0</td>\n",
       "      <td>0.0</td>\n",
       "      <td>0.0</td>\n",
       "      <td>0.0</td>\n",
       "      <td>0.0</td>\n",
       "      <td>0.0</td>\n",
       "    </tr>\n",
       "    <tr>\n",
       "      <th>2</th>\n",
       "      <td>C1456</td>\n",
       "      <td>619.0</td>\n",
       "      <td>18.0</td>\n",
       "      <td>부산광역시</td>\n",
       "      <td>547.0</td>\n",
       "      <td>0.0</td>\n",
       "      <td>16.0</td>\n",
       "      <td>19706000.0</td>\n",
       "      <td>156200.0</td>\n",
       "      <td>0.0</td>\n",
       "      <td>0.0</td>\n",
       "      <td>0.0</td>\n",
       "      <td>0.0</td>\n",
       "      <td>0.0</td>\n",
       "      <td>0.0</td>\n",
       "      <td>0.0</td>\n",
       "      <td>0.0</td>\n",
       "      <td>0.0</td>\n",
       "      <td>0.0</td>\n",
       "      <td>0.0</td>\n",
       "    </tr>\n",
       "    <tr>\n",
       "      <th>3</th>\n",
       "      <td>C1840</td>\n",
       "      <td>593.0</td>\n",
       "      <td>7.0</td>\n",
       "      <td>전라북도</td>\n",
       "      <td>543.0</td>\n",
       "      <td>0.0</td>\n",
       "      <td>3.0</td>\n",
       "      <td>14418000.0</td>\n",
       "      <td>108130.0</td>\n",
       "      <td>0.0</td>\n",
       "      <td>0.0</td>\n",
       "      <td>0.0</td>\n",
       "      <td>0.0</td>\n",
       "      <td>0.0</td>\n",
       "      <td>0.0</td>\n",
       "      <td>0.0</td>\n",
       "      <td>0.0</td>\n",
       "      <td>0.0</td>\n",
       "      <td>0.0</td>\n",
       "      <td>0.0</td>\n",
       "    </tr>\n",
       "    <tr>\n",
       "      <th>4</th>\n",
       "      <td>C1332</td>\n",
       "      <td>1297.0</td>\n",
       "      <td>11.0</td>\n",
       "      <td>경기도</td>\n",
       "      <td>1112.0</td>\n",
       "      <td>0.0</td>\n",
       "      <td>2.0</td>\n",
       "      <td>28598000.0</td>\n",
       "      <td>203050.0</td>\n",
       "      <td>0.0</td>\n",
       "      <td>0.0</td>\n",
       "      <td>0.0</td>\n",
       "      <td>0.0</td>\n",
       "      <td>0.0</td>\n",
       "      <td>0.0</td>\n",
       "      <td>0.0</td>\n",
       "      <td>0.0</td>\n",
       "      <td>0.0</td>\n",
       "      <td>0.0</td>\n",
       "      <td>0.0</td>\n",
       "    </tr>\n",
       "    <tr>\n",
       "      <th>...</th>\n",
       "      <td>...</td>\n",
       "      <td>...</td>\n",
       "      <td>...</td>\n",
       "      <td>...</td>\n",
       "      <td>...</td>\n",
       "      <td>...</td>\n",
       "      <td>...</td>\n",
       "      <td>...</td>\n",
       "      <td>...</td>\n",
       "      <td>...</td>\n",
       "      <td>...</td>\n",
       "      <td>...</td>\n",
       "      <td>...</td>\n",
       "      <td>...</td>\n",
       "      <td>...</td>\n",
       "      <td>...</td>\n",
       "      <td>...</td>\n",
       "      <td>...</td>\n",
       "      <td>...</td>\n",
       "      <td>...</td>\n",
       "    </tr>\n",
       "    <tr>\n",
       "      <th>145</th>\n",
       "      <td>C2456</td>\n",
       "      <td>349.0</td>\n",
       "      <td>17.0</td>\n",
       "      <td>제주특별자치도</td>\n",
       "      <td>270.0</td>\n",
       "      <td>0.0</td>\n",
       "      <td>4.0</td>\n",
       "      <td>6992000.0</td>\n",
       "      <td>117000.0</td>\n",
       "      <td>0.0</td>\n",
       "      <td>0.0</td>\n",
       "      <td>0.0</td>\n",
       "      <td>0.0</td>\n",
       "      <td>0.0</td>\n",
       "      <td>0.0</td>\n",
       "      <td>0.0</td>\n",
       "      <td>0.0</td>\n",
       "      <td>0.0</td>\n",
       "      <td>0.0</td>\n",
       "      <td>0.0</td>\n",
       "    </tr>\n",
       "    <tr>\n",
       "      <th>146</th>\n",
       "      <td>C1266</td>\n",
       "      <td>596.0</td>\n",
       "      <td>35.0</td>\n",
       "      <td>충청북도</td>\n",
       "      <td>593.0</td>\n",
       "      <td>0.0</td>\n",
       "      <td>1.0</td>\n",
       "      <td>8084000.0</td>\n",
       "      <td>149910.0</td>\n",
       "      <td>0.0</td>\n",
       "      <td>0.0</td>\n",
       "      <td>0.0</td>\n",
       "      <td>0.0</td>\n",
       "      <td>0.0</td>\n",
       "      <td>0.0</td>\n",
       "      <td>0.0</td>\n",
       "      <td>0.0</td>\n",
       "      <td>0.0</td>\n",
       "      <td>0.0</td>\n",
       "      <td>0.0</td>\n",
       "    </tr>\n",
       "    <tr>\n",
       "      <th>147</th>\n",
       "      <td>C2152</td>\n",
       "      <td>120.0</td>\n",
       "      <td>9.0</td>\n",
       "      <td>강원도</td>\n",
       "      <td>40.0</td>\n",
       "      <td>0.0</td>\n",
       "      <td>1.0</td>\n",
       "      <td>0.0</td>\n",
       "      <td>0.0</td>\n",
       "      <td>0.0</td>\n",
       "      <td>0.0</td>\n",
       "      <td>0.0</td>\n",
       "      <td>0.0</td>\n",
       "      <td>0.0</td>\n",
       "      <td>0.0</td>\n",
       "      <td>0.0</td>\n",
       "      <td>0.0</td>\n",
       "      <td>0.0</td>\n",
       "      <td>0.0</td>\n",
       "      <td>0.0</td>\n",
       "    </tr>\n",
       "    <tr>\n",
       "      <th>148</th>\n",
       "      <td>C1267</td>\n",
       "      <td>675.0</td>\n",
       "      <td>38.0</td>\n",
       "      <td>경상남도</td>\n",
       "      <td>467.0</td>\n",
       "      <td>0.0</td>\n",
       "      <td>1.0</td>\n",
       "      <td>6882000.0</td>\n",
       "      <td>104370.0</td>\n",
       "      <td>0.0</td>\n",
       "      <td>0.0</td>\n",
       "      <td>0.0</td>\n",
       "      <td>0.0</td>\n",
       "      <td>0.0</td>\n",
       "      <td>0.0</td>\n",
       "      <td>0.0</td>\n",
       "      <td>0.0</td>\n",
       "      <td>0.0</td>\n",
       "      <td>0.0</td>\n",
       "      <td>0.0</td>\n",
       "    </tr>\n",
       "    <tr>\n",
       "      <th>149</th>\n",
       "      <td>C2189</td>\n",
       "      <td>382.0</td>\n",
       "      <td>45.0</td>\n",
       "      <td>전라북도</td>\n",
       "      <td>300.0</td>\n",
       "      <td>0.0</td>\n",
       "      <td>2.0</td>\n",
       "      <td>6872000.0</td>\n",
       "      <td>106400.0</td>\n",
       "      <td>0.0</td>\n",
       "      <td>0.0</td>\n",
       "      <td>0.0</td>\n",
       "      <td>0.0</td>\n",
       "      <td>0.0</td>\n",
       "      <td>0.0</td>\n",
       "      <td>0.0</td>\n",
       "      <td>0.0</td>\n",
       "      <td>0.0</td>\n",
       "      <td>0.0</td>\n",
       "      <td>0.0</td>\n",
       "    </tr>\n",
       "  </tbody>\n",
       "</table>\n",
       "<p>150 rows × 20 columns</p>\n",
       "</div>"
      ],
      "text/plain": [
       "      단지코드    총세대수   공가수       지역  단지내주차면수  지하철역수  버스정류장수       임대보증금  \\\n",
       "0    C1072   754.0  14.0      경기도    683.0    0.0     2.0  22830000.0   \n",
       "1    C1128  1354.0   9.0      경기도   1216.0    0.0     3.0  22830000.0   \n",
       "2    C1456   619.0  18.0    부산광역시    547.0    0.0    16.0  19706000.0   \n",
       "3    C1840   593.0   7.0     전라북도    543.0    0.0     3.0  14418000.0   \n",
       "4    C1332  1297.0  11.0      경기도   1112.0    0.0     2.0  28598000.0   \n",
       "..     ...     ...   ...      ...      ...    ...     ...         ...   \n",
       "145  C2456   349.0  17.0  제주특별자치도    270.0    0.0     4.0   6992000.0   \n",
       "146  C1266   596.0  35.0     충청북도    593.0    0.0     1.0   8084000.0   \n",
       "147  C2152   120.0   9.0      강원도     40.0    0.0     1.0         0.0   \n",
       "148  C1267   675.0  38.0     경상남도    467.0    0.0     1.0   6882000.0   \n",
       "149  C2189   382.0  45.0     전라북도    300.0    0.0     2.0   6872000.0   \n",
       "\n",
       "          임대료  전용면적_7.0  전용면적_10.0  전용면적_11.0  전용면적_6.0  전용면적_9.0  전용면적_8.0  \\\n",
       "0    189840.0       0.0        0.0        0.0       0.0       0.0       0.0   \n",
       "1    189840.0       0.0        0.0        0.0       0.0       0.0       0.0   \n",
       "2    156200.0       0.0        0.0        0.0       0.0       0.0       0.0   \n",
       "3    108130.0       0.0        0.0        0.0       0.0       0.0       0.0   \n",
       "4    203050.0       0.0        0.0        0.0       0.0       0.0       0.0   \n",
       "..        ...       ...        ...        ...       ...       ...       ...   \n",
       "145  117000.0       0.0        0.0        0.0       0.0       0.0       0.0   \n",
       "146  149910.0       0.0        0.0        0.0       0.0       0.0       0.0   \n",
       "147       0.0       0.0        0.0        0.0       0.0       0.0       0.0   \n",
       "148  104370.0       0.0        0.0        0.0       0.0       0.0       0.0   \n",
       "149  106400.0       0.0        0.0        0.0       0.0       0.0       0.0   \n",
       "\n",
       "     전용면적_5.0  전용면적_14.0  전용면적_4.0  전용면적_13.0  전용면적_3.0  \n",
       "0         0.0        0.0       0.0        0.0       0.0  \n",
       "1         0.0        0.0       0.0        0.0       0.0  \n",
       "2         0.0        0.0       0.0        0.0       0.0  \n",
       "3         0.0        0.0       0.0        0.0       0.0  \n",
       "4         0.0        0.0       0.0        0.0       0.0  \n",
       "..        ...        ...       ...        ...       ...  \n",
       "145       0.0        0.0       0.0        0.0       0.0  \n",
       "146       0.0        0.0       0.0        0.0       0.0  \n",
       "147       0.0        0.0       0.0        0.0       0.0  \n",
       "148       0.0        0.0       0.0        0.0       0.0  \n",
       "149       0.0        0.0       0.0        0.0       0.0  \n",
       "\n",
       "[150 rows x 20 columns]"
      ]
     },
     "execution_count": 122,
     "metadata": {},
     "output_type": "execute_result"
    }
   ],
   "source": [
    "for i, code in enumerate(test['단지코드'].unique()):\n",
    "    temp = test[test['단지코드']==code]\n",
    "    temp.index = range(temp.shape[0])\n",
    "    for col in columns:\n",
    "        new_test.loc[i, col] = temp.loc[0, col]\n",
    "    \n",
    "    for col in area_columns:\n",
    "        area = float(col.split('_')[-1])\n",
    "        new_test.loc[i, col] = temp[temp['전용면적']==area]['전용면적별세대수'].sum()\n",
    "\n",
    "new_test"
   ]
  },
  {
   "cell_type": "markdown",
   "metadata": {
    "id": "TPw5FrybsngN"
   },
   "source": [
    "### 3-5. 범주형 변수에 대한 라벨 인코딩 - 지역"
   ]
  },
  {
   "cell_type": "code",
   "execution_count": 123,
   "metadata": {
    "id": "cUasb_UBTyM7"
   },
   "outputs": [],
   "source": [
    "le = LabelEncoder()\n",
    "new_train['지역'] = le.fit_transform(new_train['지역'])\n",
    "new_test['지역'] = le.fit_transform(new_test['지역'])"
   ]
  },
  {
   "cell_type": "code",
   "execution_count": 124,
   "metadata": {
    "colab": {
     "base_uri": "https://localhost:8080/",
     "height": 241
    },
    "id": "1Vo__nHwUKfW",
    "outputId": "304ffd50-b726-4cfd-dcde-80dd656a2c5c"
   },
   "outputs": [
    {
     "data": {
      "text/html": [
       "<div>\n",
       "<style scoped>\n",
       "    .dataframe tbody tr th:only-of-type {\n",
       "        vertical-align: middle;\n",
       "    }\n",
       "\n",
       "    .dataframe tbody tr th {\n",
       "        vertical-align: top;\n",
       "    }\n",
       "\n",
       "    .dataframe thead th {\n",
       "        text-align: right;\n",
       "    }\n",
       "</style>\n",
       "<table border=\"1\" class=\"dataframe\">\n",
       "  <thead>\n",
       "    <tr style=\"text-align: right;\">\n",
       "      <th></th>\n",
       "      <th>단지코드</th>\n",
       "      <th>총세대수</th>\n",
       "      <th>공가수</th>\n",
       "      <th>지역</th>\n",
       "      <th>단지내주차면수</th>\n",
       "      <th>지하철역수</th>\n",
       "      <th>버스정류장수</th>\n",
       "      <th>임대보증금</th>\n",
       "      <th>임대료</th>\n",
       "      <th>전용면적_7.0</th>\n",
       "      <th>...</th>\n",
       "      <th>전용면적_11.0</th>\n",
       "      <th>전용면적_6.0</th>\n",
       "      <th>전용면적_9.0</th>\n",
       "      <th>전용면적_8.0</th>\n",
       "      <th>전용면적_5.0</th>\n",
       "      <th>전용면적_14.0</th>\n",
       "      <th>전용면적_4.0</th>\n",
       "      <th>전용면적_13.0</th>\n",
       "      <th>전용면적_3.0</th>\n",
       "      <th>등록차량수</th>\n",
       "    </tr>\n",
       "  </thead>\n",
       "  <tbody>\n",
       "    <tr>\n",
       "      <th>0</th>\n",
       "      <td>C2483</td>\n",
       "      <td>900.0</td>\n",
       "      <td>38.0</td>\n",
       "      <td>3</td>\n",
       "      <td>1425.0</td>\n",
       "      <td>0.0</td>\n",
       "      <td>3.0</td>\n",
       "      <td>15667000.0</td>\n",
       "      <td>103680.0</td>\n",
       "      <td>149.0</td>\n",
       "      <td>...</td>\n",
       "      <td>86.0</td>\n",
       "      <td>0.0</td>\n",
       "      <td>0.0</td>\n",
       "      <td>0.0</td>\n",
       "      <td>0.0</td>\n",
       "      <td>0.0</td>\n",
       "      <td>0.0</td>\n",
       "      <td>0.0</td>\n",
       "      <td>0.0</td>\n",
       "      <td>1015.0</td>\n",
       "    </tr>\n",
       "    <tr>\n",
       "      <th>1</th>\n",
       "      <td>C2515</td>\n",
       "      <td>545.0</td>\n",
       "      <td>17.0</td>\n",
       "      <td>2</td>\n",
       "      <td>624.0</td>\n",
       "      <td>0.0</td>\n",
       "      <td>3.0</td>\n",
       "      <td>9216000.0</td>\n",
       "      <td>82940.0</td>\n",
       "      <td>80.0</td>\n",
       "      <td>...</td>\n",
       "      <td>0.0</td>\n",
       "      <td>276.0</td>\n",
       "      <td>57.0</td>\n",
       "      <td>0.0</td>\n",
       "      <td>0.0</td>\n",
       "      <td>0.0</td>\n",
       "      <td>0.0</td>\n",
       "      <td>0.0</td>\n",
       "      <td>0.0</td>\n",
       "      <td>205.0</td>\n",
       "    </tr>\n",
       "    <tr>\n",
       "      <th>2</th>\n",
       "      <td>C1407</td>\n",
       "      <td>1216.0</td>\n",
       "      <td>13.0</td>\n",
       "      <td>6</td>\n",
       "      <td>1285.0</td>\n",
       "      <td>1.0</td>\n",
       "      <td>1.0</td>\n",
       "      <td>15620000.0</td>\n",
       "      <td>127350.0</td>\n",
       "      <td>0.0</td>\n",
       "      <td>...</td>\n",
       "      <td>0.0</td>\n",
       "      <td>390.0</td>\n",
       "      <td>340.0</td>\n",
       "      <td>362.0</td>\n",
       "      <td>0.0</td>\n",
       "      <td>0.0</td>\n",
       "      <td>0.0</td>\n",
       "      <td>0.0</td>\n",
       "      <td>0.0</td>\n",
       "      <td>1064.0</td>\n",
       "    </tr>\n",
       "    <tr>\n",
       "      <th>3</th>\n",
       "      <td>C1945</td>\n",
       "      <td>755.0</td>\n",
       "      <td>6.0</td>\n",
       "      <td>1</td>\n",
       "      <td>734.0</td>\n",
       "      <td>1.0</td>\n",
       "      <td>3.0</td>\n",
       "      <td>15607000.0</td>\n",
       "      <td>130070.0</td>\n",
       "      <td>240.0</td>\n",
       "      <td>...</td>\n",
       "      <td>212.0</td>\n",
       "      <td>0.0</td>\n",
       "      <td>0.0</td>\n",
       "      <td>0.0</td>\n",
       "      <td>0.0</td>\n",
       "      <td>0.0</td>\n",
       "      <td>0.0</td>\n",
       "      <td>0.0</td>\n",
       "      <td>0.0</td>\n",
       "      <td>730.0</td>\n",
       "    </tr>\n",
       "    <tr>\n",
       "      <th>4</th>\n",
       "      <td>C1470</td>\n",
       "      <td>696.0</td>\n",
       "      <td>14.0</td>\n",
       "      <td>12</td>\n",
       "      <td>645.0</td>\n",
       "      <td>0.0</td>\n",
       "      <td>2.0</td>\n",
       "      <td>12015000.0</td>\n",
       "      <td>102130.0</td>\n",
       "      <td>254.0</td>\n",
       "      <td>...</td>\n",
       "      <td>0.0</td>\n",
       "      <td>0.0</td>\n",
       "      <td>196.0</td>\n",
       "      <td>0.0</td>\n",
       "      <td>0.0</td>\n",
       "      <td>0.0</td>\n",
       "      <td>0.0</td>\n",
       "      <td>0.0</td>\n",
       "      <td>0.0</td>\n",
       "      <td>553.0</td>\n",
       "    </tr>\n",
       "  </tbody>\n",
       "</table>\n",
       "<p>5 rows × 21 columns</p>\n",
       "</div>"
      ],
      "text/plain": [
       "    단지코드    총세대수   공가수  지역  단지내주차면수  지하철역수  버스정류장수       임대보증금       임대료  \\\n",
       "0  C2483   900.0  38.0   3   1425.0    0.0     3.0  15667000.0  103680.0   \n",
       "1  C2515   545.0  17.0   2    624.0    0.0     3.0   9216000.0   82940.0   \n",
       "2  C1407  1216.0  13.0   6   1285.0    1.0     1.0  15620000.0  127350.0   \n",
       "3  C1945   755.0   6.0   1    734.0    1.0     3.0  15607000.0  130070.0   \n",
       "4  C1470   696.0  14.0  12    645.0    0.0     2.0  12015000.0  102130.0   \n",
       "\n",
       "   전용면적_7.0  ...  전용면적_11.0  전용면적_6.0  전용면적_9.0  전용면적_8.0  전용면적_5.0  \\\n",
       "0     149.0  ...       86.0       0.0       0.0       0.0       0.0   \n",
       "1      80.0  ...        0.0     276.0      57.0       0.0       0.0   \n",
       "2       0.0  ...        0.0     390.0     340.0     362.0       0.0   \n",
       "3     240.0  ...      212.0       0.0       0.0       0.0       0.0   \n",
       "4     254.0  ...        0.0       0.0     196.0       0.0       0.0   \n",
       "\n",
       "   전용면적_14.0  전용면적_4.0  전용면적_13.0  전용면적_3.0   등록차량수  \n",
       "0        0.0       0.0        0.0       0.0  1015.0  \n",
       "1        0.0       0.0        0.0       0.0   205.0  \n",
       "2        0.0       0.0        0.0       0.0  1064.0  \n",
       "3        0.0       0.0        0.0       0.0   730.0  \n",
       "4        0.0       0.0        0.0       0.0   553.0  \n",
       "\n",
       "[5 rows x 21 columns]"
      ]
     },
     "execution_count": 124,
     "metadata": {},
     "output_type": "execute_result"
    }
   ],
   "source": [
    "new_train.head()"
   ]
  },
  {
   "cell_type": "markdown",
   "metadata": {
    "id": "BGI96CHGssZ8"
   },
   "source": [
    "## **STEP4. 모델 학습 및 성능 평가**"
   ]
  },
  {
   "cell_type": "code",
   "execution_count": 125,
   "metadata": {
    "colab": {
     "base_uri": "https://localhost:8080/"
    },
    "id": "fcUZgr--TC-4",
    "outputId": "c1af8093-13a5-4307-976f-ac13989fc3b1"
   },
   "outputs": [
    {
     "data": {
      "text/plain": [
       "Index(['단지코드', '총세대수', '공가수', '지역', '단지내주차면수', '지하철역수', '버스정류장수', '임대보증금',\n",
       "       '임대료', '전용면적_7.0', '전용면적_10.0', '전용면적_11.0', '전용면적_6.0', '전용면적_9.0',\n",
       "       '전용면적_8.0', '전용면적_5.0', '전용면적_14.0', '전용면적_4.0', '전용면적_13.0',\n",
       "       '전용면적_3.0', '등록차량수'],\n",
       "      dtype='object')"
      ]
     },
     "execution_count": 125,
     "metadata": {},
     "output_type": "execute_result"
    }
   ],
   "source": [
    "new_train.columns"
   ]
  },
  {
   "cell_type": "markdown",
   "metadata": {
    "id": "jVDtSL7vs21W"
   },
   "source": [
    "### 4-1. 데이터셋 분할"
   ]
  },
  {
   "cell_type": "code",
   "execution_count": 126,
   "metadata": {
    "id": "v7rpdnQlSfIk"
   },
   "outputs": [],
   "source": [
    "X = new_train[['총세대수', '공가수', '지역', '단지내주차면수', '지하철역수', '버스정류장수', '임대보증금','임대료', '전용면적_7.0', '전용면적_10.0', '전용면적_11.0', '전용면적_6.0', '전용면적_9.0','전용면적_8.0', '전용면적_5.0', '전용면적_14.0', '전용면적_4.0', '전용면적_13.0','전용면적_3.0']]\n",
    "y = new_train['등록차량수']\n",
    "\n",
    "X_train, X_test, y_train, y_test = train_test_split(X, y, test_size=0.2, random_state=13)"
   ]
  },
  {
   "cell_type": "code",
   "execution_count": 127,
   "metadata": {
    "colab": {
     "base_uri": "https://localhost:8080/",
     "height": 458
    },
    "id": "ALJOa79xXWLl",
    "outputId": "5596ff87-837f-45bf-d425-26bec720826f"
   },
   "outputs": [
    {
     "data": {
      "text/html": [
       "<div>\n",
       "<style scoped>\n",
       "    .dataframe tbody tr th:only-of-type {\n",
       "        vertical-align: middle;\n",
       "    }\n",
       "\n",
       "    .dataframe tbody tr th {\n",
       "        vertical-align: top;\n",
       "    }\n",
       "\n",
       "    .dataframe thead th {\n",
       "        text-align: right;\n",
       "    }\n",
       "</style>\n",
       "<table border=\"1\" class=\"dataframe\">\n",
       "  <thead>\n",
       "    <tr style=\"text-align: right;\">\n",
       "      <th></th>\n",
       "      <th>총세대수</th>\n",
       "      <th>공가수</th>\n",
       "      <th>지역</th>\n",
       "      <th>단지내주차면수</th>\n",
       "      <th>지하철역수</th>\n",
       "      <th>버스정류장수</th>\n",
       "      <th>임대보증금</th>\n",
       "      <th>임대료</th>\n",
       "      <th>전용면적_7.0</th>\n",
       "      <th>전용면적_10.0</th>\n",
       "      <th>전용면적_11.0</th>\n",
       "      <th>전용면적_6.0</th>\n",
       "      <th>전용면적_9.0</th>\n",
       "      <th>전용면적_8.0</th>\n",
       "      <th>전용면적_5.0</th>\n",
       "      <th>전용면적_14.0</th>\n",
       "      <th>전용면적_4.0</th>\n",
       "      <th>전용면적_13.0</th>\n",
       "      <th>전용면적_3.0</th>\n",
       "    </tr>\n",
       "  </thead>\n",
       "  <tbody>\n",
       "    <tr>\n",
       "      <th>0</th>\n",
       "      <td>754.0</td>\n",
       "      <td>14.0</td>\n",
       "      <td>1</td>\n",
       "      <td>683.0</td>\n",
       "      <td>0.0</td>\n",
       "      <td>2.0</td>\n",
       "      <td>22830000.0</td>\n",
       "      <td>189840.0</td>\n",
       "      <td>0.0</td>\n",
       "      <td>0.0</td>\n",
       "      <td>0.0</td>\n",
       "      <td>0.0</td>\n",
       "      <td>0.0</td>\n",
       "      <td>0.0</td>\n",
       "      <td>0.0</td>\n",
       "      <td>0.0</td>\n",
       "      <td>0.0</td>\n",
       "      <td>0.0</td>\n",
       "      <td>0.0</td>\n",
       "    </tr>\n",
       "    <tr>\n",
       "      <th>1</th>\n",
       "      <td>1354.0</td>\n",
       "      <td>9.0</td>\n",
       "      <td>1</td>\n",
       "      <td>1216.0</td>\n",
       "      <td>0.0</td>\n",
       "      <td>3.0</td>\n",
       "      <td>22830000.0</td>\n",
       "      <td>189840.0</td>\n",
       "      <td>0.0</td>\n",
       "      <td>0.0</td>\n",
       "      <td>0.0</td>\n",
       "      <td>0.0</td>\n",
       "      <td>0.0</td>\n",
       "      <td>0.0</td>\n",
       "      <td>0.0</td>\n",
       "      <td>0.0</td>\n",
       "      <td>0.0</td>\n",
       "      <td>0.0</td>\n",
       "      <td>0.0</td>\n",
       "    </tr>\n",
       "    <tr>\n",
       "      <th>2</th>\n",
       "      <td>619.0</td>\n",
       "      <td>18.0</td>\n",
       "      <td>7</td>\n",
       "      <td>547.0</td>\n",
       "      <td>0.0</td>\n",
       "      <td>16.0</td>\n",
       "      <td>19706000.0</td>\n",
       "      <td>156200.0</td>\n",
       "      <td>0.0</td>\n",
       "      <td>0.0</td>\n",
       "      <td>0.0</td>\n",
       "      <td>0.0</td>\n",
       "      <td>0.0</td>\n",
       "      <td>0.0</td>\n",
       "      <td>0.0</td>\n",
       "      <td>0.0</td>\n",
       "      <td>0.0</td>\n",
       "      <td>0.0</td>\n",
       "      <td>0.0</td>\n",
       "    </tr>\n",
       "    <tr>\n",
       "      <th>3</th>\n",
       "      <td>593.0</td>\n",
       "      <td>7.0</td>\n",
       "      <td>11</td>\n",
       "      <td>543.0</td>\n",
       "      <td>0.0</td>\n",
       "      <td>3.0</td>\n",
       "      <td>14418000.0</td>\n",
       "      <td>108130.0</td>\n",
       "      <td>0.0</td>\n",
       "      <td>0.0</td>\n",
       "      <td>0.0</td>\n",
       "      <td>0.0</td>\n",
       "      <td>0.0</td>\n",
       "      <td>0.0</td>\n",
       "      <td>0.0</td>\n",
       "      <td>0.0</td>\n",
       "      <td>0.0</td>\n",
       "      <td>0.0</td>\n",
       "      <td>0.0</td>\n",
       "    </tr>\n",
       "    <tr>\n",
       "      <th>4</th>\n",
       "      <td>1297.0</td>\n",
       "      <td>11.0</td>\n",
       "      <td>1</td>\n",
       "      <td>1112.0</td>\n",
       "      <td>0.0</td>\n",
       "      <td>2.0</td>\n",
       "      <td>28598000.0</td>\n",
       "      <td>203050.0</td>\n",
       "      <td>0.0</td>\n",
       "      <td>0.0</td>\n",
       "      <td>0.0</td>\n",
       "      <td>0.0</td>\n",
       "      <td>0.0</td>\n",
       "      <td>0.0</td>\n",
       "      <td>0.0</td>\n",
       "      <td>0.0</td>\n",
       "      <td>0.0</td>\n",
       "      <td>0.0</td>\n",
       "      <td>0.0</td>\n",
       "    </tr>\n",
       "    <tr>\n",
       "      <th>...</th>\n",
       "      <td>...</td>\n",
       "      <td>...</td>\n",
       "      <td>...</td>\n",
       "      <td>...</td>\n",
       "      <td>...</td>\n",
       "      <td>...</td>\n",
       "      <td>...</td>\n",
       "      <td>...</td>\n",
       "      <td>...</td>\n",
       "      <td>...</td>\n",
       "      <td>...</td>\n",
       "      <td>...</td>\n",
       "      <td>...</td>\n",
       "      <td>...</td>\n",
       "      <td>...</td>\n",
       "      <td>...</td>\n",
       "      <td>...</td>\n",
       "      <td>...</td>\n",
       "      <td>...</td>\n",
       "    </tr>\n",
       "    <tr>\n",
       "      <th>145</th>\n",
       "      <td>349.0</td>\n",
       "      <td>17.0</td>\n",
       "      <td>12</td>\n",
       "      <td>270.0</td>\n",
       "      <td>0.0</td>\n",
       "      <td>4.0</td>\n",
       "      <td>6992000.0</td>\n",
       "      <td>117000.0</td>\n",
       "      <td>0.0</td>\n",
       "      <td>0.0</td>\n",
       "      <td>0.0</td>\n",
       "      <td>0.0</td>\n",
       "      <td>0.0</td>\n",
       "      <td>0.0</td>\n",
       "      <td>0.0</td>\n",
       "      <td>0.0</td>\n",
       "      <td>0.0</td>\n",
       "      <td>0.0</td>\n",
       "      <td>0.0</td>\n",
       "    </tr>\n",
       "    <tr>\n",
       "      <th>146</th>\n",
       "      <td>596.0</td>\n",
       "      <td>35.0</td>\n",
       "      <td>14</td>\n",
       "      <td>593.0</td>\n",
       "      <td>0.0</td>\n",
       "      <td>1.0</td>\n",
       "      <td>8084000.0</td>\n",
       "      <td>149910.0</td>\n",
       "      <td>0.0</td>\n",
       "      <td>0.0</td>\n",
       "      <td>0.0</td>\n",
       "      <td>0.0</td>\n",
       "      <td>0.0</td>\n",
       "      <td>0.0</td>\n",
       "      <td>0.0</td>\n",
       "      <td>0.0</td>\n",
       "      <td>0.0</td>\n",
       "      <td>0.0</td>\n",
       "      <td>0.0</td>\n",
       "    </tr>\n",
       "    <tr>\n",
       "      <th>147</th>\n",
       "      <td>120.0</td>\n",
       "      <td>9.0</td>\n",
       "      <td>0</td>\n",
       "      <td>40.0</td>\n",
       "      <td>0.0</td>\n",
       "      <td>1.0</td>\n",
       "      <td>0.0</td>\n",
       "      <td>0.0</td>\n",
       "      <td>0.0</td>\n",
       "      <td>0.0</td>\n",
       "      <td>0.0</td>\n",
       "      <td>0.0</td>\n",
       "      <td>0.0</td>\n",
       "      <td>0.0</td>\n",
       "      <td>0.0</td>\n",
       "      <td>0.0</td>\n",
       "      <td>0.0</td>\n",
       "      <td>0.0</td>\n",
       "      <td>0.0</td>\n",
       "    </tr>\n",
       "    <tr>\n",
       "      <th>148</th>\n",
       "      <td>675.0</td>\n",
       "      <td>38.0</td>\n",
       "      <td>2</td>\n",
       "      <td>467.0</td>\n",
       "      <td>0.0</td>\n",
       "      <td>1.0</td>\n",
       "      <td>6882000.0</td>\n",
       "      <td>104370.0</td>\n",
       "      <td>0.0</td>\n",
       "      <td>0.0</td>\n",
       "      <td>0.0</td>\n",
       "      <td>0.0</td>\n",
       "      <td>0.0</td>\n",
       "      <td>0.0</td>\n",
       "      <td>0.0</td>\n",
       "      <td>0.0</td>\n",
       "      <td>0.0</td>\n",
       "      <td>0.0</td>\n",
       "      <td>0.0</td>\n",
       "    </tr>\n",
       "    <tr>\n",
       "      <th>149</th>\n",
       "      <td>382.0</td>\n",
       "      <td>45.0</td>\n",
       "      <td>11</td>\n",
       "      <td>300.0</td>\n",
       "      <td>0.0</td>\n",
       "      <td>2.0</td>\n",
       "      <td>6872000.0</td>\n",
       "      <td>106400.0</td>\n",
       "      <td>0.0</td>\n",
       "      <td>0.0</td>\n",
       "      <td>0.0</td>\n",
       "      <td>0.0</td>\n",
       "      <td>0.0</td>\n",
       "      <td>0.0</td>\n",
       "      <td>0.0</td>\n",
       "      <td>0.0</td>\n",
       "      <td>0.0</td>\n",
       "      <td>0.0</td>\n",
       "      <td>0.0</td>\n",
       "    </tr>\n",
       "  </tbody>\n",
       "</table>\n",
       "<p>150 rows × 19 columns</p>\n",
       "</div>"
      ],
      "text/plain": [
       "       총세대수   공가수  지역  단지내주차면수  지하철역수  버스정류장수       임대보증금       임대료  전용면적_7.0  \\\n",
       "0     754.0  14.0   1    683.0    0.0     2.0  22830000.0  189840.0       0.0   \n",
       "1    1354.0   9.0   1   1216.0    0.0     3.0  22830000.0  189840.0       0.0   \n",
       "2     619.0  18.0   7    547.0    0.0    16.0  19706000.0  156200.0       0.0   \n",
       "3     593.0   7.0  11    543.0    0.0     3.0  14418000.0  108130.0       0.0   \n",
       "4    1297.0  11.0   1   1112.0    0.0     2.0  28598000.0  203050.0       0.0   \n",
       "..      ...   ...  ..      ...    ...     ...         ...       ...       ...   \n",
       "145   349.0  17.0  12    270.0    0.0     4.0   6992000.0  117000.0       0.0   \n",
       "146   596.0  35.0  14    593.0    0.0     1.0   8084000.0  149910.0       0.0   \n",
       "147   120.0   9.0   0     40.0    0.0     1.0         0.0       0.0       0.0   \n",
       "148   675.0  38.0   2    467.0    0.0     1.0   6882000.0  104370.0       0.0   \n",
       "149   382.0  45.0  11    300.0    0.0     2.0   6872000.0  106400.0       0.0   \n",
       "\n",
       "     전용면적_10.0  전용면적_11.0  전용면적_6.0  전용면적_9.0  전용면적_8.0  전용면적_5.0  전용면적_14.0  \\\n",
       "0          0.0        0.0       0.0       0.0       0.0       0.0        0.0   \n",
       "1          0.0        0.0       0.0       0.0       0.0       0.0        0.0   \n",
       "2          0.0        0.0       0.0       0.0       0.0       0.0        0.0   \n",
       "3          0.0        0.0       0.0       0.0       0.0       0.0        0.0   \n",
       "4          0.0        0.0       0.0       0.0       0.0       0.0        0.0   \n",
       "..         ...        ...       ...       ...       ...       ...        ...   \n",
       "145        0.0        0.0       0.0       0.0       0.0       0.0        0.0   \n",
       "146        0.0        0.0       0.0       0.0       0.0       0.0        0.0   \n",
       "147        0.0        0.0       0.0       0.0       0.0       0.0        0.0   \n",
       "148        0.0        0.0       0.0       0.0       0.0       0.0        0.0   \n",
       "149        0.0        0.0       0.0       0.0       0.0       0.0        0.0   \n",
       "\n",
       "     전용면적_4.0  전용면적_13.0  전용면적_3.0  \n",
       "0         0.0        0.0       0.0  \n",
       "1         0.0        0.0       0.0  \n",
       "2         0.0        0.0       0.0  \n",
       "3         0.0        0.0       0.0  \n",
       "4         0.0        0.0       0.0  \n",
       "..        ...        ...       ...  \n",
       "145       0.0        0.0       0.0  \n",
       "146       0.0        0.0       0.0  \n",
       "147       0.0        0.0       0.0  \n",
       "148       0.0        0.0       0.0  \n",
       "149       0.0        0.0       0.0  \n",
       "\n",
       "[150 rows x 19 columns]"
      ]
     },
     "execution_count": 127,
     "metadata": {},
     "output_type": "execute_result"
    }
   ],
   "source": [
    "new_test = new_test[['총세대수', '공가수', '지역', '단지내주차면수', '지하철역수', '버스정류장수', '임대보증금','임대료', '전용면적_7.0', '전용면적_10.0', '전용면적_11.0', '전용면적_6.0', '전용면적_9.0','전용면적_8.0', '전용면적_5.0', '전용면적_14.0', '전용면적_4.0', '전용면적_13.0','전용면적_3.0']]\n",
    "new_test"
   ]
  },
  {
   "cell_type": "code",
   "execution_count": 128,
   "metadata": {
    "colab": {
     "base_uri": "https://localhost:8080/"
    },
    "id": "Q_nzsrY0Xhd3",
    "outputId": "499a5302-b439-46ae-e47d-55c666874b88"
   },
   "outputs": [
    {
     "name": "stdout",
     "output_type": "stream",
     "text": [
      "(419, 19)\n",
      "(150, 19)\n"
     ]
    }
   ],
   "source": [
    "print(X.shape)\n",
    "print(new_test.shape)"
   ]
  },
  {
   "cell_type": "markdown",
   "metadata": {},
   "source": [
    "# 모델학습"
   ]
  },
  {
   "cell_type": "code",
   "execution_count": 134,
   "metadata": {},
   "outputs": [
    {
     "data": {
      "text/plain": [
       "[('RandomForestRegressor', RandomForestRegressor()),\n",
       " ('DecisionTreeRegressor', DecisionTreeRegressor()),\n",
       " ('AdaBoostRegressor', AdaBoostRegressor()),\n",
       " ('GradientBoostingRegressor', GradientBoostingRegressor()),\n",
       " ('LGBMRegressor', LGBMRegressor(n_estimators=400))]"
      ]
     },
     "execution_count": 134,
     "metadata": {},
     "output_type": "execute_result"
    }
   ],
   "source": [
    "from sklearn.ensemble import (AdaBoostRegressor, GradientBoostingRegressor,\n",
    "                             RandomForestRegressor)\n",
    "from sklearn.tree import DecisionTreeRegressor\n",
    "# from sklearn.linear_model import LogisticRegression\n",
    "from lightgbm import LGBMRegressor\n",
    "\n",
    "models = []\n",
    "models.append(('RandomForestRegressor',RandomForestRegressor()))\n",
    "models.append(('DecisionTreeRegressor', DecisionTreeRegressor()))\n",
    "models.append(('AdaBoostRegressor', AdaBoostRegressor()))\n",
    "models.append(('GradientBoostingRegressor', GradientBoostingRegressor()))\n",
    "models.append(('LGBMRegressor', LGBMRegressor(n_estimators=400)))\n",
    "models"
   ]
  },
  {
   "cell_type": "code",
   "execution_count": 139,
   "metadata": {
    "scrolled": true
   },
   "outputs": [
    {
     "name": "stdout",
     "output_type": "stream",
     "text": [
      "<Test Accuracy score>\n",
      "RandomForestRegressor 0.8383485708628218\n",
      "DecisionTreeRegressor 0.6227311563795239\n",
      "AdaBoostRegressor 0.765479674532848\n",
      "GradientBoostingRegressor 0.8470388899404214\n",
      "LGBMRegressor 0.8215202019009308\n"
     ]
    }
   ],
   "source": [
    "from sklearn.metrics import accuracy_score\n",
    "\n",
    "print('<Test Accuracy score>')\n",
    "for name, model in models:\n",
    "    model.fit(X_train,y_train)\n",
    "#     pred = model.predict(X_test)\n",
    "#     print(name,':', accuracy_score(y_test,pred))\n",
    "    print(name,model.score(X_test, y_test))"
   ]
  },
  {
   "cell_type": "code",
   "execution_count": 150,
   "metadata": {},
   "outputs": [
    {
     "name": "stdout",
     "output_type": "stream",
     "text": [
      "model \t\t\t mean \t\t\t std\n",
      "RandomForestRegressor 0.7466256750995176 0.024165669008910602\n",
      "DecisionTreeRegressor 0.5410577989723159 0.08045216533126603\n",
      "AdaBoostRegressor 0.7151845888137043 0.012283337215844903\n",
      "GradientBoostingRegressor 0.7477318796301388 0.03085835020177689\n",
      "LGBMRegressor 0.6976116130086224 0.03718324882383589\n"
     ]
    }
   ],
   "source": [
    "from sklearn.model_selection import KFold, cross_val_score\n",
    "\n",
    "results = [] # 6개 모델에 대해 5번 kfold 진행한 결과\n",
    "names = []\n",
    "\n",
    "print('model \\t\\t\\t mean \\t\\t\\t std')\n",
    "for name, model in models:\n",
    "    kfold = KFold(n_splits=3, random_state=13, shuffle=True)\n",
    "    cv_results = cross_val_score(model, X_train, y_train,\n",
    "                                cv=kfold, scoring='r2')\n",
    "    results.append(cv_results)\n",
    "    names.append(name)\n",
    "    print(name,cv_results.mean(),cv_results.std())"
   ]
  },
  {
   "cell_type": "code",
   "execution_count": 152,
   "metadata": {
    "scrolled": false
   },
   "outputs": [
    {
     "data": {
      "image/png": "[encoded data removed]",
      "text/plain": [
       "<Figure size 1008x576 with 1 Axes>"
      ]
     },
     "metadata": {
      "needs_background": "light"
     },
     "output_type": "display_data"
    }
   ],
   "source": [
    "fig = plt.figure(figsize=(14,8))\n",
    "fig.suptitle('Algorithm Comparison')\n",
    "ax = fig.add_subplot(111)\n",
    "plt.boxplot(results)\n",
    "ax.set_xticklabels(names)\n",
    "plt.show()"
   ]
  },
  {
   "cell_type": "code",
   "execution_count": 154,
   "metadata": {},
   "outputs": [
    {
     "data": {
      "text/html": [
       "<div>\n",
       "<style scoped>\n",
       "    .dataframe tbody tr th:only-of-type {\n",
       "        vertical-align: middle;\n",
       "    }\n",
       "\n",
       "    .dataframe tbody tr th {\n",
       "        vertical-align: top;\n",
       "    }\n",
       "\n",
       "    .dataframe thead th {\n",
       "        text-align: right;\n",
       "    }\n",
       "</style>\n",
       "<table border=\"1\" class=\"dataframe\">\n",
       "  <thead>\n",
       "    <tr style=\"text-align: right;\">\n",
       "      <th></th>\n",
       "      <th>cv_1</th>\n",
       "      <th>cv_2</th>\n",
       "      <th>cv_3</th>\n",
       "    </tr>\n",
       "  </thead>\n",
       "  <tbody>\n",
       "    <tr>\n",
       "      <th>RandomForestRegressor</th>\n",
       "      <td>0.737554</td>\n",
       "      <td>0.722627</td>\n",
       "      <td>0.779697</td>\n",
       "    </tr>\n",
       "    <tr>\n",
       "      <th>DecisionTreeRegressor</th>\n",
       "      <td>0.599970</td>\n",
       "      <td>0.427306</td>\n",
       "      <td>0.595898</td>\n",
       "    </tr>\n",
       "    <tr>\n",
       "      <th>AdaBoostRegressor</th>\n",
       "      <td>0.724686</td>\n",
       "      <td>0.697840</td>\n",
       "      <td>0.723028</td>\n",
       "    </tr>\n",
       "    <tr>\n",
       "      <th>GradientBoostingRegressor</th>\n",
       "      <td>0.765900</td>\n",
       "      <td>0.704285</td>\n",
       "      <td>0.773010</td>\n",
       "    </tr>\n",
       "    <tr>\n",
       "      <th>LGBMRegressor</th>\n",
       "      <td>0.713788</td>\n",
       "      <td>0.646192</td>\n",
       "      <td>0.732855</td>\n",
       "    </tr>\n",
       "  </tbody>\n",
       "</table>\n",
       "</div>"
      ],
      "text/plain": [
       "                               cv_1      cv_2      cv_3\n",
       "RandomForestRegressor      0.737554  0.722627  0.779697\n",
       "DecisionTreeRegressor      0.599970  0.427306  0.595898\n",
       "AdaBoostRegressor          0.724686  0.697840  0.723028\n",
       "GradientBoostingRegressor  0.765900  0.704285  0.773010\n",
       "LGBMRegressor              0.713788  0.646192  0.732855"
      ]
     },
     "execution_count": 154,
     "metadata": {},
     "output_type": "execute_result"
    }
   ],
   "source": [
    "pd.DataFrame(results,\n",
    "             columns = ['cv_'+str(i) for i in range(1,4)],\n",
    "             index = names)"
   ]
  },
  {
   "cell_type": "markdown",
   "metadata": {},
   "source": [
    "---"
   ]
  },
  {
   "cell_type": "code",
   "execution_count": 148,
   "metadata": {
    "scrolled": true
   },
   "outputs": [
    {
     "data": {
      "text/plain": [
       "GridSearchCV(cv=5, estimator=RandomForestRegressor(n_jobs=-1, random_state=13),\n",
       "             n_jobs=-1,\n",
       "             param_grid={'max_depth': [2, 4, 6, 8, 10, 15],\n",
       "                         'min_samples_leaf': [2, 4, 8, 12],\n",
       "                         'min_samples_split': [2, 4, 8, 12],\n",
       "                         'n_estimators': [50, 100, 150, 200, 250]},\n",
       "             return_train_score=True, scoring='r2')"
      ]
     },
     "execution_count": 148,
     "metadata": {},
     "output_type": "execute_result"
    }
   ],
   "source": [
    "from sklearn.model_selection import GridSearchCV\n",
    "\n",
    "params = {\n",
    "    'max_depth': [2,4,6,8,10,15],\n",
    "    'n_estimators' :  [50,100,150,200,250],\n",
    "    'min_samples_leaf' : [2,4,8,12], \n",
    "    'min_samples_split' : [2,4,8,12]\n",
    "}\n",
    "\n",
    "rf_clf = RandomForestRegressor(random_state=13,n_jobs=-1)\n",
    "grid_cv = GridSearchCV(rf_clf, param_grid=params, scoring='r2',\n",
    "                      cv=5, n_jobs=-1, return_train_score=True)\n",
    "\n",
    "grid_cv.fit(X_train,y_train)"
   ]
  },
  {
   "cell_type": "code",
   "execution_count": 149,
   "metadata": {},
   "outputs": [
    {
     "name": "stdout",
     "output_type": "stream",
     "text": [
      "<Random Forest>\n",
      "best parameters:  {'max_depth': 15, 'min_samples_leaf': 4, 'min_samples_split': 2, 'n_estimators': 150}\n",
      "best validation score: 0.746924699215074\n",
      "test score:  0.858713700066944\n"
     ]
    }
   ],
   "source": [
    "# test\n",
    "rf_clf_best = grid_cv.best_estimator_\n",
    "rf_clf_best.fit(X_train,y_train)\n",
    "# pred1 = rf_clf_best.predict(X_test)\n",
    "rf_clf_best.score(X_test, y_test)\n",
    "\n",
    "print('<Random Forest>')\n",
    "print('best parameters: ', grid_cv.best_params_)\n",
    "print('best validation score:',grid_cv.best_score_)\n",
    "print('test score: ', rf_clf_best.score(X_test, y_test))"
   ]
  },
  {
   "cell_type": "markdown",
   "metadata": {},
   "source": [
    "---"
   ]
  },
  {
   "cell_type": "code",
   "execution_count": 156,
   "metadata": {},
   "outputs": [
    {
     "data": {
      "text/plain": [
       "GridSearchCV(cv=3, estimator=RandomForestRegressor(n_jobs=-1, random_state=13),\n",
       "             n_jobs=-1,\n",
       "             param_grid={'max_depth': [2, 4, 6, 8, 10, 15],\n",
       "                         'min_samples_leaf': [2, 4, 8, 12],\n",
       "                         'min_samples_split': [2, 4, 8, 12],\n",
       "                         'n_estimators': [50, 100, 150, 200, 250]},\n",
       "             return_train_score=True, scoring='r2')"
      ]
     },
     "execution_count": 156,
     "metadata": {},
     "output_type": "execute_result"
    }
   ],
   "source": [
    "from sklearn.model_selection import GridSearchCV\n",
    "\n",
    "params = {\n",
    "    'max_depth': [2,4,6,8,10,15],\n",
    "    'n_estimators' :  [50,100,150,200,250],\n",
    "    'min_samples_leaf' : [2,4,8,12], \n",
    "    'min_samples_split' : [2,4,8,12]\n",
    "}\n",
    "\n",
    "rf_clf = RandomForestRegressor(random_state=13,n_jobs=-1)\n",
    "grid_cv = GridSearchCV(rf_clf, param_grid=params, scoring='r2',\n",
    "                      cv=3, n_jobs=-1, return_train_score=True)\n",
    "\n",
    "grid_cv.fit(X_train,y_train)"
   ]
  },
  {
   "cell_type": "code",
   "execution_count": 157,
   "metadata": {},
   "outputs": [
    {
     "name": "stdout",
     "output_type": "stream",
     "text": [
      "<Random Forest>\n",
      "best parameters:  {'max_depth': 10, 'min_samples_leaf': 2, 'min_samples_split': 2, 'n_estimators': 200}\n",
      "best validation score: 0.7628154697822277\n",
      "test score:  0.8522592640382151\n"
     ]
    }
   ],
   "source": [
    "# test\n",
    "rf_clf_best = grid_cv.best_estimator_\n",
    "rf_clf_best.fit(X_train,y_train)\n",
    "# pred1 = rf_clf_best.predict(X_test)\n",
    "rf_clf_best.score(X_test, y_test)\n",
    "\n",
    "print('<Random Forest>')\n",
    "print('best parameters: ', grid_cv.best_params_)\n",
    "print('best validation score:',grid_cv.best_score_)\n",
    "print('test score: ', rf_clf_best.score(X_test, y_test))"
   ]
  },
  {
   "cell_type": "markdown",
   "metadata": {},
   "source": [
    "---"
   ]
  },
  {
   "cell_type": "code",
   "execution_count": null,
   "metadata": {},
   "outputs": [],
   "source": [
    "lasso_params = {'alpha':[0.02, 0.024, 0.025, 0.026, 0.03]}\n",
    "ridge_params = {'alpha':[200, 230, 250,265, 270, 275, 290, 300, 500]}\n",
    "\n",
    "models2 = {'OLS': linear_model.LinearRegression(),\n",
    "           'Lasso': GridSearchCV(linear_model.Lasso(), \n",
    "                               param_grid=lasso_params).fit(X_train, y_train),\n",
    "           'Ridge': GridSearchCV(linear_model.Ridge(), \n",
    "                               param_grid=ridge_params).fit(X_train, y_train)}"
   ]
  },
  {
   "cell_type": "code",
   "execution_count": 185,
   "metadata": {},
   "outputs": [
    {
     "data": {
      "text/plain": [
       "GridSearchCV(cv=3, estimator=Lasso(), n_jobs=-1,\n",
       "             param_grid={'alpha': [0.02, 0.024, 0.025, 0.026, 0.03]},\n",
       "             return_train_score=True, scoring='r2')"
      ]
     },
     "execution_count": 185,
     "metadata": {},
     "output_type": "execute_result"
    }
   ],
   "source": [
    "grid_cv = GridSearchCV(linear_model.Lasso(), \n",
    "                               param_grid=lasso_params, scoring='r2',\n",
    "                      cv=3, n_jobs=-1, return_train_score=True)\n",
    "\n",
    "grid_cv.fit(X_train,y_train)"
   ]
  },
  {
   "cell_type": "code",
   "execution_count": 186,
   "metadata": {},
   "outputs": [
    {
     "name": "stdout",
     "output_type": "stream",
     "text": [
      "<lasso>\n",
      "best parameters:  {'alpha': 0.03}\n",
      "best validation score: 0.7531925432143854\n",
      "test score:  0.8401907685314308\n"
     ]
    }
   ],
   "source": [
    "# test\n",
    "lasso_clf_best = grid_cv.best_estimator_\n",
    "lasso_clf_best.fit(X_train,y_train)\n",
    "# pred1 = rf_clf_best.predict(X_test)\n",
    "lasso_clf_best.score(X_test, y_test)\n",
    "\n",
    "print('<lasso>')\n",
    "print('best parameters: ', grid_cv.best_params_)\n",
    "print('best validation score:',grid_cv.best_score_)\n",
    "print('test score: ', lasso_clf_best.score(X_test, y_test))"
   ]
  },
  {
   "cell_type": "code",
   "execution_count": 182,
   "metadata": {},
   "outputs": [
    {
     "data": {
      "text/plain": [
       "GridSearchCV(cv=3, estimator=Ridge(), n_jobs=-1,\n",
       "             param_grid={'alpha': [200, 230, 250, 265, 270, 275, 290, 300,\n",
       "                                   500]},\n",
       "             return_train_score=True, scoring='r2')"
      ]
     },
     "execution_count": 182,
     "metadata": {},
     "output_type": "execute_result"
    }
   ],
   "source": [
    "grid_cv = GridSearchCV(linear_model.Ridge(), \n",
    "                               param_grid=ridge_params, scoring='r2',\n",
    "                      cv=3, n_jobs=-1, return_train_score=True)\n",
    "\n",
    "grid_cv.fit(X_train,y_train)"
   ]
  },
  {
   "cell_type": "code",
   "execution_count": 184,
   "metadata": {},
   "outputs": [
    {
     "name": "stdout",
     "output_type": "stream",
     "text": [
      "<ridge>\n",
      "best parameters:  {'alpha': 500}\n",
      "best validation score: 0.7524831721170161\n",
      "test score:  0.8404195373207666\n"
     ]
    }
   ],
   "source": [
    "# test\n",
    "ridge_clf_best = grid_cv.best_estimator_\n",
    "ridge_clf_best.fit(X_train,y_train)\n",
    "# pred1 = rf_clf_best.predict(X_test)\n",
    "ridge_clf_best.score(X_test, y_test)\n",
    "\n",
    "print('<ridge>')\n",
    "print('best parameters: ', grid_cv.best_params_)\n",
    "print('best validation score:',grid_cv.best_score_)\n",
    "print('test score: ', ridge_clf_best.score(X_test, y_test))"
   ]
  },
  {
   "cell_type": "code",
   "execution_count": null,
   "metadata": {},
   "outputs": [],
   "source": []
  },
  {
   "cell_type": "code",
   "execution_count": null,
   "metadata": {},
   "outputs": [],
   "source": []
  },
  {
   "cell_type": "code",
   "execution_count": null,
   "metadata": {},
   "outputs": [],
   "source": []
  },
  {
   "cell_type": "code",
   "execution_count": null,
   "metadata": {},
   "outputs": [],
   "source": []
  },
  {
   "cell_type": "code",
   "execution_count": null,
   "metadata": {},
   "outputs": [],
   "source": []
  },
  {
   "cell_type": "code",
   "execution_count": null,
   "metadata": {},
   "outputs": [],
   "source": []
  },
  {
   "cell_type": "code",
   "execution_count": null,
   "metadata": {},
   "outputs": [],
   "source": []
  },
  {
   "cell_type": "code",
   "execution_count": null,
   "metadata": {},
   "outputs": [],
   "source": []
  },
  {
   "cell_type": "code",
   "execution_count": null,
   "metadata": {},
   "outputs": [],
   "source": []
  },
  {
   "cell_type": "markdown",
   "metadata": {
    "id": "eh5AJh8js9Bs"
   },
   "source": [
    "### 4-2. 모델학습"
   ]
  },
  {
   "cell_type": "markdown",
   "metadata": {
    "id": "SwCI6FmNeIlP"
   },
   "source": [
    "#### 단순회귀(Linear Regression)"
   ]
  },
  {
   "cell_type": "code",
   "execution_count": 67,
   "metadata": {
    "colab": {
     "base_uri": "https://localhost:8080/"
    },
    "id": "dsoWzM7kGKL_",
    "outputId": "31d06bcb-3022-4a23-cf73-899dc4930004"
   },
   "outputs": [
    {
     "data": {
      "text/plain": [
       "0.8401850571637374"
      ]
     },
     "execution_count": 67,
     "metadata": {},
     "output_type": "execute_result"
    }
   ],
   "source": [
    "lr_model = LinearRegression()\n",
    "lr_model.fit(X_train, y_train)\n",
    "lr_model.score(X_test, y_test)"
   ]
  },
  {
   "cell_type": "markdown",
   "metadata": {
    "id": "F6ruWb8ltDIJ"
   },
   "source": [
    "#### XGBoost"
   ]
  },
  {
   "cell_type": "code",
   "execution_count": 68,
   "metadata": {
    "colab": {
     "base_uri": "https://localhost:8080/"
    },
    "id": "iYGQTxImTUVb",
    "outputId": "c0db0b7d-e175-47bd-e092-c4677f904d34"
   },
   "outputs": [
    {
     "name": "stdout",
     "output_type": "stream",
     "text": [
      "[15:29:16] WARNING: /workspace/src/objective/regression_obj.cu:152: reg:linear is now deprecated in favor of reg:squarederror.\n"
     ]
    },
    {
     "data": {
      "text/plain": [
       "0.856723664900718"
      ]
     },
     "execution_count": 68,
     "metadata": {},
     "output_type": "execute_result"
    }
   ],
   "source": [
    "xgb_model = XGBRegressor()\n",
    "xgb_model.fit(X_train, y_train)\n",
    "xgb_model.score(X_test, y_test)"
   ]
  },
  {
   "cell_type": "markdown",
   "metadata": {
    "id": "hT1jwslbtGOH"
   },
   "source": [
    "#### 랜덤포레스트(RandomForest)"
   ]
  },
  {
   "cell_type": "code",
   "execution_count": 69,
   "metadata": {
    "colab": {
     "base_uri": "https://localhost:8080/"
    },
    "id": "_8tTByYITe5n",
    "outputId": "8abc9510-36e0-4c35-91d0-7c3874338821"
   },
   "outputs": [
    {
     "data": {
      "text/plain": [
       "0.8414695667910681"
      ]
     },
     "execution_count": 69,
     "metadata": {},
     "output_type": "execute_result"
    }
   ],
   "source": [
    "rf_model = RandomForestRegressor()\n",
    "rf_model.fit(X_train, y_train)\n",
    "rf_model.score(X_test, y_test)"
   ]
  },
  {
   "cell_type": "markdown",
   "metadata": {
    "id": "4j603VrBWdS_"
   },
   "source": [
    "---"
   ]
  },
  {
   "cell_type": "markdown",
   "metadata": {
    "id": "eXsWKqtYtRhp"
   },
   "source": [
    "### 4-3. 테스트 데이터 예측 결과"
   ]
  },
  {
   "cell_type": "code",
   "execution_count": 70,
   "metadata": {
    "colab": {
     "base_uri": "https://localhost:8080/"
    },
    "id": "yjINXFiEWYiz",
    "outputId": "6c32f4b2-038b-4a1d-8633-2212c333d88b"
   },
   "outputs": [
    {
     "data": {
      "text/plain": [
       "array([ 711.72095 , 1357.2263  ,  523.06354 ,  479.63263 , 1310.7996  ,\n",
       "       1796.5063  ,  911.2074  ,  442.2404  ,  338.6664  ,  257.65833 ,\n",
       "        403.77567 ,  290.87677 ,  350.97162 ,  260.04956 ,  353.1173  ,\n",
       "        207.87929 ,  381.0579  ,  271.3371  ,  192.65858 ,  672.44385 ,\n",
       "        234.29713 ,  376.9666  ,  439.0485  ,  523.9315  ,  435.17526 ,\n",
       "        173.53246 ,  226.84471 ,  538.9693  ,  416.42392 ,  414.1119  ,\n",
       "        967.0211  ,  105.44062 ,  419.964   ,  203.8103  ,  164.56966 ,\n",
       "        292.23434 ,  368.13416 ,  605.26135 ,  827.51447 ,  285.87872 ,\n",
       "        398.67203 ,  407.8571  ,  360.67764 ,  492.84665 ,  810.1927  ,\n",
       "       1042.335   ,  467.4499  ,  565.6496  ,  372.16238 ,  397.96976 ,\n",
       "        788.1083  ,  249.68843 ,  946.2286  ,  659.0442  ,  528.23596 ,\n",
       "        250.28656 ,  584.575   ,  248.11754 ,  386.7935  ,  140.55421 ,\n",
       "        351.314   ,  507.29523 ,  806.8561  ,  378.05197 ,  135.29205 ,\n",
       "        214.04688 ,  493.5545  ,  791.4429  ,  543.3598  ,  382.80408 ,\n",
       "        606.0388  ,  257.62064 ,  613.0155  ,  856.0613  ,  820.59753 ,\n",
       "        395.31226 ,  695.7345  ,  829.91003 ,  580.51605 ,  934.3663  ,\n",
       "        776.4325  , 1074.9412  ,  254.88248 ,  271.64746 ,  257.62064 ,\n",
       "        239.2482  ,  220.72255 ,  329.01962 ,  256.04828 ,  819.1696  ,\n",
       "        740.968   ,  598.5458  ,  252.55475 ,  599.0964  ,  958.21295 ,\n",
       "        897.49603 ,  672.90094 , 1018.7431  ,  688.21234 ,  792.0816  ,\n",
       "        747.9332  ,  424.15176 ,  766.201   ,  532.03033 ,  977.3754  ,\n",
       "        535.00726 , 1025.8579  ,  662.8872  ,  784.77386 ,  253.41638 ,\n",
       "        473.1107  , 1085.9052  ,  849.38586 ,  894.79297 ,  749.24664 ,\n",
       "        122.29603 ,  172.09401 ,  554.1466  ,  698.74615 , 1452.5634  ,\n",
       "        548.3715  ,  787.09766 ,  583.16864 ,  416.0269  ,  756.4636  ,\n",
       "        195.22523 ,  532.3929  ,  573.27325 ,   88.38241 ,   82.67728 ,\n",
       "         76.81661 ,  487.53217 ,  533.15564 ,  290.98758 ,  239.47652 ,\n",
       "        269.87454 ,  383.37982 ,  462.84827 ,  468.63892 ,   97.851326,\n",
       "        458.1479  ,   94.97084 ,   97.851326,  259.42593 ,  333.31696 ,\n",
       "        248.75372 ,  454.59103 ,   66.69655 ,  399.5567  ,  205.09618 ],\n",
       "      dtype=float32)"
      ]
     },
     "execution_count": 70,
     "metadata": {},
     "output_type": "execute_result"
    }
   ],
   "source": [
    "pred = xgb_model.predict(new_test)\n",
    "pred"
   ]
  },
  {
   "cell_type": "code",
   "execution_count": 71,
   "metadata": {
    "colab": {
     "base_uri": "https://localhost:8080/",
     "height": 424
    },
    "id": "UG8yPK1zYNb_",
    "outputId": "6ed32569-3cdb-47b5-fe0b-0f7102978477"
   },
   "outputs": [
    {
     "data": {
      "text/html": [
       "<div>\n",
       "<style scoped>\n",
       "    .dataframe tbody tr th:only-of-type {\n",
       "        vertical-align: middle;\n",
       "    }\n",
       "\n",
       "    .dataframe tbody tr th {\n",
       "        vertical-align: top;\n",
       "    }\n",
       "\n",
       "    .dataframe thead th {\n",
       "        text-align: right;\n",
       "    }\n",
       "</style>\n",
       "<table border=\"1\" class=\"dataframe\">\n",
       "  <thead>\n",
       "    <tr style=\"text-align: right;\">\n",
       "      <th></th>\n",
       "      <th>code</th>\n",
       "      <th>num</th>\n",
       "    </tr>\n",
       "  </thead>\n",
       "  <tbody>\n",
       "    <tr>\n",
       "      <th>0</th>\n",
       "      <td>C1072</td>\n",
       "      <td>0</td>\n",
       "    </tr>\n",
       "    <tr>\n",
       "      <th>1</th>\n",
       "      <td>C1128</td>\n",
       "      <td>0</td>\n",
       "    </tr>\n",
       "    <tr>\n",
       "      <th>2</th>\n",
       "      <td>C1456</td>\n",
       "      <td>0</td>\n",
       "    </tr>\n",
       "    <tr>\n",
       "      <th>3</th>\n",
       "      <td>C1840</td>\n",
       "      <td>0</td>\n",
       "    </tr>\n",
       "    <tr>\n",
       "      <th>4</th>\n",
       "      <td>C1332</td>\n",
       "      <td>0</td>\n",
       "    </tr>\n",
       "    <tr>\n",
       "      <th>...</th>\n",
       "      <td>...</td>\n",
       "      <td>...</td>\n",
       "    </tr>\n",
       "    <tr>\n",
       "      <th>145</th>\n",
       "      <td>C2456</td>\n",
       "      <td>0</td>\n",
       "    </tr>\n",
       "    <tr>\n",
       "      <th>146</th>\n",
       "      <td>C1266</td>\n",
       "      <td>0</td>\n",
       "    </tr>\n",
       "    <tr>\n",
       "      <th>147</th>\n",
       "      <td>C2152</td>\n",
       "      <td>0</td>\n",
       "    </tr>\n",
       "    <tr>\n",
       "      <th>148</th>\n",
       "      <td>C1267</td>\n",
       "      <td>0</td>\n",
       "    </tr>\n",
       "    <tr>\n",
       "      <th>149</th>\n",
       "      <td>C2189</td>\n",
       "      <td>0</td>\n",
       "    </tr>\n",
       "  </tbody>\n",
       "</table>\n",
       "<p>150 rows × 2 columns</p>\n",
       "</div>"
      ],
      "text/plain": [
       "      code  num\n",
       "0    C1072    0\n",
       "1    C1128    0\n",
       "2    C1456    0\n",
       "3    C1840    0\n",
       "4    C1332    0\n",
       "..     ...  ...\n",
       "145  C2456    0\n",
       "146  C1266    0\n",
       "147  C2152    0\n",
       "148  C1267    0\n",
       "149  C2189    0\n",
       "\n",
       "[150 rows x 2 columns]"
      ]
     },
     "execution_count": 71,
     "metadata": {},
     "output_type": "execute_result"
    }
   ],
   "source": [
    "answer_sheet = pd.read_csv('sample_submission.csv')\n",
    "answer_sheet"
   ]
  },
  {
   "cell_type": "code",
   "execution_count": 72,
   "metadata": {
    "colab": {
     "base_uri": "https://localhost:8080/",
     "height": 424
    },
    "id": "PNV15EboWn9G",
    "outputId": "8cfa397b-0d61-4cc1-aecd-c4cf169a6053"
   },
   "outputs": [
    {
     "data": {
      "text/html": [
       "<div>\n",
       "<style scoped>\n",
       "    .dataframe tbody tr th:only-of-type {\n",
       "        vertical-align: middle;\n",
       "    }\n",
       "\n",
       "    .dataframe tbody tr th {\n",
       "        vertical-align: top;\n",
       "    }\n",
       "\n",
       "    .dataframe thead th {\n",
       "        text-align: right;\n",
       "    }\n",
       "</style>\n",
       "<table border=\"1\" class=\"dataframe\">\n",
       "  <thead>\n",
       "    <tr style=\"text-align: right;\">\n",
       "      <th></th>\n",
       "      <th>code</th>\n",
       "      <th>num</th>\n",
       "    </tr>\n",
       "  </thead>\n",
       "  <tbody>\n",
       "    <tr>\n",
       "      <th>0</th>\n",
       "      <td>C1072</td>\n",
       "      <td>711.720947</td>\n",
       "    </tr>\n",
       "    <tr>\n",
       "      <th>1</th>\n",
       "      <td>C1128</td>\n",
       "      <td>1357.226318</td>\n",
       "    </tr>\n",
       "    <tr>\n",
       "      <th>2</th>\n",
       "      <td>C1456</td>\n",
       "      <td>523.063538</td>\n",
       "    </tr>\n",
       "    <tr>\n",
       "      <th>3</th>\n",
       "      <td>C1840</td>\n",
       "      <td>479.632629</td>\n",
       "    </tr>\n",
       "    <tr>\n",
       "      <th>4</th>\n",
       "      <td>C1332</td>\n",
       "      <td>1310.799561</td>\n",
       "    </tr>\n",
       "    <tr>\n",
       "      <th>...</th>\n",
       "      <td>...</td>\n",
       "      <td>...</td>\n",
       "    </tr>\n",
       "    <tr>\n",
       "      <th>145</th>\n",
       "      <td>C2456</td>\n",
       "      <td>248.753723</td>\n",
       "    </tr>\n",
       "    <tr>\n",
       "      <th>146</th>\n",
       "      <td>C1266</td>\n",
       "      <td>454.591034</td>\n",
       "    </tr>\n",
       "    <tr>\n",
       "      <th>147</th>\n",
       "      <td>C2152</td>\n",
       "      <td>66.696548</td>\n",
       "    </tr>\n",
       "    <tr>\n",
       "      <th>148</th>\n",
       "      <td>C1267</td>\n",
       "      <td>399.556702</td>\n",
       "    </tr>\n",
       "    <tr>\n",
       "      <th>149</th>\n",
       "      <td>C2189</td>\n",
       "      <td>205.096176</td>\n",
       "    </tr>\n",
       "  </tbody>\n",
       "</table>\n",
       "<p>150 rows × 2 columns</p>\n",
       "</div>"
      ],
      "text/plain": [
       "      code          num\n",
       "0    C1072   711.720947\n",
       "1    C1128  1357.226318\n",
       "2    C1456   523.063538\n",
       "3    C1840   479.632629\n",
       "4    C1332  1310.799561\n",
       "..     ...          ...\n",
       "145  C2456   248.753723\n",
       "146  C1266   454.591034\n",
       "147  C2152    66.696548\n",
       "148  C1267   399.556702\n",
       "149  C2189   205.096176\n",
       "\n",
       "[150 rows x 2 columns]"
      ]
     },
     "execution_count": 72,
     "metadata": {},
     "output_type": "execute_result"
    }
   ],
   "source": [
    "submission = pd.DataFrame({\n",
    "    'code': answer_sheet['code'],\n",
    "    'num': pred\n",
    "})\n",
    "\n",
    "submission"
   ]
  }
 ],
 "metadata": {
  "colab": {
   "collapsed_sections": [],
   "name": "데이콘 주차수요예측 프로젝트_제출용",
   "provenance": []
  },
  "kernelspec": {
   "display_name": "Python 3 (ipykernel)",
   "language": "python",
   "name": "python3"
  },
  "language_info": {
   "codemirror_mode": {
    "name": "ipython",
    "version": 3
   },
   "file_extension": ".py",
   "mimetype": "text/x-python",
   "name": "python",
   "nbconvert_exporter": "python",
   "pygments_lexer": "ipython3",
   "version": "3.8.12"
  }
 },
 "nbformat": 4,
 "nbformat_minor": 1
}
