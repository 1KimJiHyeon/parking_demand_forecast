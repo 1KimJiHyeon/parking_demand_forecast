{
 "cells": [
  {
   "cell_type": "code",
   "execution_count": 1,
   "id": "ea2c4d94",
   "metadata": {},
   "outputs": [],
   "source": [
    "import pandas as pd\n",
    "import numpy as np\n",
    "\n",
    "train_df = pd.read_csv('./235745_parking_data/train.csv')\n",
    "test_df = pd.read_csv('./235745_parking_data/test.csv')\n",
    "submission_df = pd.read_csv('./235745_parking_data/sample_submission.csv')\n",
    "age_gender_df = pd.read_csv('./235745_parking_data/age_gender_info.csv')"
   ]
  },
  {
   "cell_type": "code",
   "execution_count": 35,
   "id": "055789df",
   "metadata": {},
   "outputs": [],
   "source": [
    "import matplotlib.pyplot as plt \n",
    "import seaborn as sns \n",
    "%matplotlib inline\n",
    "import platform\n",
    "from matplotlib import font_manager, rc \n",
    "sns.set_style('darkgrid')\n",
    "\n",
    "plt.rcParams[\"axes.unicode_minus\"] = False \n",
    "get_ipython().run_line_magic(\"matplotlib\", \"inline\")\n",
    "\n",
    "if platform.system() == \"Darwin\":\n",
    "    rc(\"font\", family=\"Arial Unicode MS\")\n",
    "elif platform.system() == \"Windows\":\n",
    "    rc(\"font\", family=\"Malgun Gothic\")\n",
    "else:\n",
    "    print(\"Unkown system. sorry~~\")"
   ]
  },
  {
   "cell_type": "code",
   "execution_count": 2,
   "id": "94eb3c47",
   "metadata": {},
   "outputs": [
    {
     "data": {
      "text/html": [
       "<div>\n",
       "<style scoped>\n",
       "    .dataframe tbody tr th:only-of-type {\n",
       "        vertical-align: middle;\n",
       "    }\n",
       "\n",
       "    .dataframe tbody tr th {\n",
       "        vertical-align: top;\n",
       "    }\n",
       "\n",
       "    .dataframe thead th {\n",
       "        text-align: right;\n",
       "    }\n",
       "</style>\n",
       "<table border=\"1\" class=\"dataframe\">\n",
       "  <thead>\n",
       "    <tr style=\"text-align: right;\">\n",
       "      <th></th>\n",
       "      <th>단지코드</th>\n",
       "      <th>총세대수</th>\n",
       "      <th>임대건물구분</th>\n",
       "      <th>지역</th>\n",
       "      <th>공급유형</th>\n",
       "      <th>전용면적</th>\n",
       "      <th>전용면적별세대수</th>\n",
       "      <th>공가수</th>\n",
       "      <th>자격유형</th>\n",
       "      <th>임대보증금</th>\n",
       "      <th>임대료</th>\n",
       "      <th>도보 10분거리 내 지하철역 수(환승노선 수 반영)</th>\n",
       "      <th>도보 10분거리 내 버스정류장 수</th>\n",
       "      <th>단지내주차면수</th>\n",
       "      <th>등록차량수</th>\n",
       "    </tr>\n",
       "  </thead>\n",
       "  <tbody>\n",
       "    <tr>\n",
       "      <th>0</th>\n",
       "      <td>C2483</td>\n",
       "      <td>900</td>\n",
       "      <td>아파트</td>\n",
       "      <td>경상북도</td>\n",
       "      <td>국민임대</td>\n",
       "      <td>39.72</td>\n",
       "      <td>134</td>\n",
       "      <td>38.0</td>\n",
       "      <td>A</td>\n",
       "      <td>15667000</td>\n",
       "      <td>103680</td>\n",
       "      <td>0.0</td>\n",
       "      <td>3.0</td>\n",
       "      <td>1425.0</td>\n",
       "      <td>1015.0</td>\n",
       "    </tr>\n",
       "    <tr>\n",
       "      <th>1</th>\n",
       "      <td>C2483</td>\n",
       "      <td>900</td>\n",
       "      <td>아파트</td>\n",
       "      <td>경상북도</td>\n",
       "      <td>국민임대</td>\n",
       "      <td>39.72</td>\n",
       "      <td>15</td>\n",
       "      <td>38.0</td>\n",
       "      <td>A</td>\n",
       "      <td>15667000</td>\n",
       "      <td>103680</td>\n",
       "      <td>0.0</td>\n",
       "      <td>3.0</td>\n",
       "      <td>1425.0</td>\n",
       "      <td>1015.0</td>\n",
       "    </tr>\n",
       "    <tr>\n",
       "      <th>2</th>\n",
       "      <td>C2483</td>\n",
       "      <td>900</td>\n",
       "      <td>아파트</td>\n",
       "      <td>경상북도</td>\n",
       "      <td>국민임대</td>\n",
       "      <td>51.93</td>\n",
       "      <td>385</td>\n",
       "      <td>38.0</td>\n",
       "      <td>A</td>\n",
       "      <td>27304000</td>\n",
       "      <td>184330</td>\n",
       "      <td>0.0</td>\n",
       "      <td>3.0</td>\n",
       "      <td>1425.0</td>\n",
       "      <td>1015.0</td>\n",
       "    </tr>\n",
       "    <tr>\n",
       "      <th>3</th>\n",
       "      <td>C2483</td>\n",
       "      <td>900</td>\n",
       "      <td>아파트</td>\n",
       "      <td>경상북도</td>\n",
       "      <td>국민임대</td>\n",
       "      <td>51.93</td>\n",
       "      <td>15</td>\n",
       "      <td>38.0</td>\n",
       "      <td>A</td>\n",
       "      <td>27304000</td>\n",
       "      <td>184330</td>\n",
       "      <td>0.0</td>\n",
       "      <td>3.0</td>\n",
       "      <td>1425.0</td>\n",
       "      <td>1015.0</td>\n",
       "    </tr>\n",
       "    <tr>\n",
       "      <th>4</th>\n",
       "      <td>C2483</td>\n",
       "      <td>900</td>\n",
       "      <td>아파트</td>\n",
       "      <td>경상북도</td>\n",
       "      <td>국민임대</td>\n",
       "      <td>51.93</td>\n",
       "      <td>41</td>\n",
       "      <td>38.0</td>\n",
       "      <td>A</td>\n",
       "      <td>27304000</td>\n",
       "      <td>184330</td>\n",
       "      <td>0.0</td>\n",
       "      <td>3.0</td>\n",
       "      <td>1425.0</td>\n",
       "      <td>1015.0</td>\n",
       "    </tr>\n",
       "  </tbody>\n",
       "</table>\n",
       "</div>"
      ],
      "text/plain": [
       "    단지코드  총세대수 임대건물구분    지역  공급유형   전용면적  전용면적별세대수   공가수 자격유형     임대보증금  \\\n",
       "0  C2483   900    아파트  경상북도  국민임대  39.72       134  38.0    A  15667000   \n",
       "1  C2483   900    아파트  경상북도  국민임대  39.72        15  38.0    A  15667000   \n",
       "2  C2483   900    아파트  경상북도  국민임대  51.93       385  38.0    A  27304000   \n",
       "3  C2483   900    아파트  경상북도  국민임대  51.93        15  38.0    A  27304000   \n",
       "4  C2483   900    아파트  경상북도  국민임대  51.93        41  38.0    A  27304000   \n",
       "\n",
       "      임대료  도보 10분거리 내 지하철역 수(환승노선 수 반영)  도보 10분거리 내 버스정류장 수  단지내주차면수   등록차량수  \n",
       "0  103680                           0.0                 3.0   1425.0  1015.0  \n",
       "1  103680                           0.0                 3.0   1425.0  1015.0  \n",
       "2  184330                           0.0                 3.0   1425.0  1015.0  \n",
       "3  184330                           0.0                 3.0   1425.0  1015.0  \n",
       "4  184330                           0.0                 3.0   1425.0  1015.0  "
      ]
     },
     "execution_count": 2,
     "metadata": {},
     "output_type": "execute_result"
    }
   ],
   "source": [
    "train_df.head()"
   ]
  },
  {
   "cell_type": "code",
   "execution_count": 3,
   "id": "1926ddd8",
   "metadata": {},
   "outputs": [
    {
     "data": {
      "text/plain": [
       "(2952, 1022)"
      ]
     },
     "execution_count": 3,
     "metadata": {},
     "output_type": "execute_result"
    }
   ],
   "source": [
    "len(train_df), len(test_df)"
   ]
  },
  {
   "cell_type": "code",
   "execution_count": 4,
   "id": "7f3eb0d2",
   "metadata": {},
   "outputs": [
    {
     "name": "stdout",
     "output_type": "stream",
     "text": [
      "<class 'pandas.core.frame.DataFrame'>\n",
      "RangeIndex: 2952 entries, 0 to 2951\n",
      "Data columns (total 15 columns):\n",
      " #   Column                        Non-Null Count  Dtype  \n",
      "---  ------                        --------------  -----  \n",
      " 0   단지코드                          2952 non-null   object \n",
      " 1   총세대수                          2952 non-null   int64  \n",
      " 2   임대건물구분                        2952 non-null   object \n",
      " 3   지역                            2952 non-null   object \n",
      " 4   공급유형                          2952 non-null   object \n",
      " 5   전용면적                          2952 non-null   float64\n",
      " 6   전용면적별세대수                      2952 non-null   int64  \n",
      " 7   공가수                           2952 non-null   float64\n",
      " 8   자격유형                          2952 non-null   object \n",
      " 9   임대보증금                         2383 non-null   object \n",
      " 10  임대료                           2383 non-null   object \n",
      " 11  도보 10분거리 내 지하철역 수(환승노선 수 반영)  2741 non-null   float64\n",
      " 12  도보 10분거리 내 버스정류장 수            2948 non-null   float64\n",
      " 13  단지내주차면수                       2952 non-null   float64\n",
      " 14  등록차량수                         2952 non-null   float64\n",
      "dtypes: float64(6), int64(2), object(7)\n",
      "memory usage: 346.1+ KB\n"
     ]
    }
   ],
   "source": [
    "train_df.info()"
   ]
  },
  {
   "cell_type": "code",
   "execution_count": 127,
   "id": "a920d6bf",
   "metadata": {},
   "outputs": [],
   "source": [
    "# pd.options.display.float_format = '{:,}'.format"
   ]
  },
  {
   "cell_type": "code",
   "execution_count": 130,
   "id": "cf5fe743",
   "metadata": {},
   "outputs": [],
   "source": [
    "from sklearn.preprocessing import LabelEncoder\n",
    "\n",
    "le = LabelEncoder()\n",
    "le.fit(train_df['자격유형'])\n",
    "train_df['le_자격유형'] = le.transform(train_df['자격유형'])"
   ]
  },
  {
   "cell_type": "markdown",
   "id": "e0b86346",
   "metadata": {},
   "source": [
    "- 단지코드: C + 4자리번호\n",
    "- 총세대수: 단지 코드 별 총세대수 (분양 상가, 분양 아파트 포함)\n",
    "- 임대건물구분 : c(아파트, 상가)\n",
    "- 지역 : '경상남도', '대전광역시', '경기도', '전라북도', '강원도', '광주광역시', '충청남도', '부산광역시',\n",
    "       '제주특별자치도', '울산광역시', '충청북도', '전라남도', '경상북도', '대구광역시', '서울특별시',\n",
    "       '세종특별자치시'\n",
    "- 공급유형 : '국민임대', '공공임대(50년)', '영구임대', '임대상가', '공공임대(10년)', '공공임대(분납)',\n",
    "       '장기전세', '공공분양', '행복주택', '공공임대(5년)'\n",
    "- 전용면적 : 12.62 ~ 583.4 ($m^2?)$\n",
    "- 전용면적적별세대수 : 전용면적 별 세대수 (분양 상가, 분양 아파트 미포함)\n",
    "- 공가수 : 단지 코드 별 비어있는 호실 수\n",
    "- 자격유형 : c('A', 'B', 'C', 'D', 'E', 'F', 'G', 'H', 'I', 'J', 'K', 'L', 'M',\n",
    "       'N', 'O')\n",
    "- 임대보증금 : 원 단위?\n",
    "- 임대료 : 원 단위?\n",
    "- 도보 10분거리 내 지하철역 수(환승노선 수 반영) : 0 ~ 3개 (단지 코드별)\n",
    "- 단지내주차면수 : 13 ~ 1798 개 (단지 코드별)\n",
    "- 등록차량수 : 13 ~ 2550 개 (단지 코드별)"
   ]
  },
  {
   "cell_type": "code",
   "execution_count": null,
   "id": "cc59cbe2",
   "metadata": {},
   "outputs": [],
   "source": []
  },
  {
   "cell_type": "code",
   "execution_count": 5,
   "id": "792742ba",
   "metadata": {},
   "outputs": [
    {
     "data": {
      "text/plain": [
       "Index(['단지코드', '총세대수', '임대건물구분', '지역', '공급유형', '전용면적', '전용면적별세대수', '공가수',\n",
       "       '자격유형', '임대보증금', '임대료', '도보 10분거리 내 지하철역 수(환승노선 수 반영)',\n",
       "       '도보 10분거리 내 버스정류장 수', '단지내주차면수', '등록차량수'],\n",
       "      dtype='object')"
      ]
     },
     "execution_count": 5,
     "metadata": {},
     "output_type": "execute_result"
    }
   ],
   "source": [
    "train_df.columns"
   ]
  },
  {
   "cell_type": "code",
   "execution_count": 5,
   "id": "cc0851e0",
   "metadata": {
    "collapsed": true
   },
   "outputs": [
    {
     "data": {
      "text/plain": [
       "array(['C2483', 'C2515', 'C1407', 'C1945', 'C1470', 'C1898', 'C1244',\n",
       "       'C1171', 'C2073', 'C2513', 'C1936', 'C2049', 'C2202', 'C1925',\n",
       "       'C2576', 'C1312', 'C1874', 'C2650', 'C2416', 'C2013', 'C1424',\n",
       "       'C2100', 'C2621', 'C2520', 'C2319', 'C1616', 'C1704', 'C2258',\n",
       "       'C1032', 'C2038', 'C1859', 'C1722', 'C1850', 'C2190', 'C1476',\n",
       "       'C1077', 'C1068', 'C1983', 'C2135', 'C2034', 'C1109', 'C1497',\n",
       "       'C2289', 'C2597', 'C2310', 'C1672', 'C2132', 'C1439', 'C1613',\n",
       "       'C2216', 'C1899', 'C1056', 'C2644', 'C1206', 'C2481', 'C1718',\n",
       "       'C1655', 'C1430', 'C1775', 'C1519', 'C2221', 'C1790', 'C2109',\n",
       "       'C1698', 'C1866', 'C1005', 'C1004', 'C1875', 'C2156', 'C2212',\n",
       "       'C2401', 'C2571', 'C1175', 'C1833', 'C2445', 'C1885', 'C2368',\n",
       "       'C2016', 'C2371', 'C2536', 'C2538', 'C1014', 'C1592', 'C1867',\n",
       "       'C2326', 'C1015', 'C1620', 'C1049', 'C2000', 'C2097', 'C1668',\n",
       "       'C1689', 'C1234', 'C2514', 'C1368', 'C1057', 'C2336', 'C1026',\n",
       "       'C2256', 'C1900', 'C2666', 'C2361', 'C1642', 'C1013', 'C2232',\n",
       "       'C1973', 'C2458', 'C2574', 'C2133', 'C2096', 'C2010', 'C1879',\n",
       "       'C1131', 'C1468', 'C1213', 'C1173', 'C2492', 'C2032', 'C2094',\n",
       "       'C1880', 'C2089', 'C1744', 'C2046', 'C2071', 'C2635', 'C2390',\n",
       "       'C2561', 'C1663', 'C2490', 'C2066', 'C1585', 'C2276', 'C1155',\n",
       "       'C1693', 'C1889', 'C2518', 'C1962', 'C1666', 'C1988', 'C1537',\n",
       "       'C1329', 'C1762', 'C2008', 'C1319', 'C1141', 'C2340', 'C1929',\n",
       "       'C1681', 'C1184', 'C2383', 'C1579', 'C2173', 'C1911', 'C1638',\n",
       "       'C2412', 'C1871', 'C1309', 'C1527', 'C2208', 'C1940', 'C2596',\n",
       "       'C2227', 'C2563', 'C2358', 'C1492', 'C1601', 'C1687', 'C1236',\n",
       "       'C1487', 'C1379', 'C1386', 'C1656', 'C2526', 'C1022', 'C1896',\n",
       "       'C1269', 'C1916', 'C2070', 'C1967', 'C2021', 'C1143', 'C2188',\n",
       "       'C2651', 'C1036', 'C2657', 'C2527', 'C1502', 'C2262', 'C1084',\n",
       "       'C2530', 'C1046', 'C1761', 'C1102', 'C2420', 'C1122', 'C2042',\n",
       "       'C1375', 'C1410', 'C1641', 'C1706', 'C1307', 'C2601', 'C1085',\n",
       "       'C2385', 'C1059', 'C2162', 'C1819', 'C2325', 'C2394', 'C1133',\n",
       "       'C1281', 'C1194', 'C2308', 'C2036', 'C1394', 'C1180', 'C2503',\n",
       "       'C1907', 'C2181', 'C1768', 'C1783', 'C2192', 'C2346', 'C2680',\n",
       "       'C2631', 'C2141', 'C1569', 'C2099', 'C2287', 'C2055', 'C1428',\n",
       "       'C2522', 'C2560', 'C2068', 'C2603', 'C1965', 'C1660', 'C2378',\n",
       "       'C1268', 'C1994', 'C1837', 'C1000', 'C1465', 'C1448', 'C1516',\n",
       "       'C2670', 'C1365', 'C1177', 'C1360', 'C2488', 'C1406', 'C1566',\n",
       "       'C1227', 'C2460', 'C2486', 'C2106', 'C1572', 'C1773', 'C1677',\n",
       "       'C1823', 'C1344', 'C2692', 'C2505', 'C2587', 'C2127', 'C1316',\n",
       "       'C1674', 'C1713', 'C1845', 'C2082', 'C1328', 'C2357', 'C2565',\n",
       "       'C1804', 'C1397', 'C2255', 'C1343', 'C1987', 'C2479', 'C2352',\n",
       "       'C1310', 'C1738', 'C1039', 'C1863', 'C1426', 'C2659', 'C2489',\n",
       "       'C2211', 'C2314', 'C1861', 'C2389', 'C1490', 'C1024', 'C1788',\n",
       "       'C1740', 'C2620', 'C1286', 'C2085', 'C1089', 'C2237', 'C1341',\n",
       "       'C1338', 'C2405', 'C1969', 'C2274', 'C1699', 'C2251', 'C1340',\n",
       "       'C2373', 'C1455', 'C1095', 'C2137', 'C1985', 'C2583', 'C2663',\n",
       "       'C2450', 'C2329', 'C1834', 'C1649', 'C1848', 'C1743', 'C1350',\n",
       "       'C1402', 'C1103', 'C1129', 'C1027', 'C2377', 'C2431', 'C2661',\n",
       "       'C1263', 'C1136', 'C2605', 'C2393', 'C1673', 'C1017', 'C2539',\n",
       "       'C1933', 'C2316', 'C2051', 'C2414', 'C1301', 'C1700', 'C1636',\n",
       "       'C2612', 'C1757', 'C2507', 'C1163', 'C2627', 'C2040', 'C2609',\n",
       "       'C2001', 'C1065', 'C1363', 'C2579', 'C1048', 'C1210', 'C1320',\n",
       "       'C1941', 'C1326', 'C1685', 'C2618', 'C1451', 'C2143', 'C1968',\n",
       "       'C2470', 'C1258', 'C2453', 'C1659', 'C1724', 'C1802', 'C1939',\n",
       "       'C1284', 'C2595', 'C2351', 'C2506', 'C1697', 'C2259', 'C1786',\n",
       "       'C1357', 'C2570', 'C1652', 'C1565', 'C1910', 'C2359', 'C2139',\n",
       "       'C1979', 'C1803', 'C2508', 'C2531', 'C1695', 'C2556', 'C2086',\n",
       "       'C1544', 'C2154', 'C2496', 'C1756', 'C2362', 'C2568', 'C2245',\n",
       "       'C2059', 'C2549', 'C1584', 'C2298', 'C2225', 'C1218', 'C2328',\n",
       "       'C1045', 'C1207', 'C1970', 'C1732', 'C2433', 'C1894', 'C1156',\n",
       "       'C2142', 'C2153', 'C2186', 'C1176', 'C2446', 'C2586', 'C2035',\n",
       "       'C2020', 'C2437', 'C2532'], dtype=object)"
      ]
     },
     "execution_count": 5,
     "metadata": {},
     "output_type": "execute_result"
    }
   ],
   "source": [
    "train_df['단지코드'].unique()"
   ]
  },
  {
   "cell_type": "code",
   "execution_count": 6,
   "id": "1b583a13",
   "metadata": {},
   "outputs": [],
   "source": [
    "def print_na_value(train, test):\n",
    "    train_copy = train.isna().sum().copy()\n",
    "    test_copy = test.isna().sum().copy()\n",
    "    print('='*60)\n",
    "    print('Train Dataset>>>')\n",
    "    print(train_copy.loc[train_copy!=0])\n",
    "    print('='*60)\n",
    "    print('Test Dataset>>>')\n",
    "    print(test_copy.loc[test_copy!=0])"
   ]
  },
  {
   "cell_type": "code",
   "execution_count": 7,
   "id": "008e4e05",
   "metadata": {},
   "outputs": [
    {
     "name": "stdout",
     "output_type": "stream",
     "text": [
      "============================================================\n",
      "Train Dataset>>>\n",
      "임대보증금                           569\n",
      "임대료                             569\n",
      "도보 10분거리 내 지하철역 수(환승노선 수 반영)    211\n",
      "도보 10분거리 내 버스정류장 수                4\n",
      "dtype: int64\n",
      "============================================================\n",
      "Test Dataset>>>\n",
      "자격유형                              2\n",
      "임대보증금                           180\n",
      "임대료                             180\n",
      "도보 10분거리 내 지하철역 수(환승노선 수 반영)     42\n",
      "dtype: int64\n"
     ]
    }
   ],
   "source": [
    "print_na_value(train_df, test_df)"
   ]
  },
  {
   "cell_type": "markdown",
   "id": "bfb7b557",
   "metadata": {},
   "source": [
    "---"
   ]
  },
  {
   "cell_type": "markdown",
   "id": "18a28876",
   "metadata": {},
   "source": [
    "# 데이터 오류"
   ]
  },
  {
   "cell_type": "markdown",
   "id": "55fe7bc4",
   "metadata": {},
   "source": [
    "### 1. 전용면적별 세대수 합계와 총세대수가 일치하지 않는 경우  "
   ]
  },
  {
   "cell_type": "code",
   "execution_count": null,
   "id": "608fd9ec",
   "metadata": {},
   "outputs": [],
   "source": [
    "#df_train_group_num = train_df[['단지코드', '총세대수', '전용면적별세대수']].pivot_table(index='단지코드', values=['총세대수', '전용면적별세대수'],\n",
    "#                                                   aggfunc={'총세대수': 'mean', '전용면적별세대수':'sum'})\n",
    "#df_train_group_num['diff'] = df_train_group_num['총세대수'] - df_train_group_num['전용면적별세대수']\n",
    "\n",
    "#df_test_group_num = train_df[['단지코드', '총세대수', '전용면적별세대수']].pivot_table(index='단지코드', values=['총세대수', '전용면적별세대수'],\n",
    "#                                                   aggfunc={'총세대수': 'mean', '전용면적별세대수':'sum'})\n",
    "#df_test_group_num['diff'] = df_test_group_num['총세대수'] - df_test_group_num['전용면적별세대수']\n",
    "#df_train_group_num.loc[df_train_group_num['diff'] != 0]"
   ]
  },
  {
   "cell_type": "markdown",
   "id": "d56b427d",
   "metadata": {},
   "source": [
    "-  (발생 원인) 차이는 분양상가 또는 분양아파트가 임대단지 안에 혼합되어 발생한 것으로, 분양 완료된 상가 ․ 아파트는 관리대상에서 제외되어 전용면적별 세대수에서는 포함되지 않았으나 총세대수에는 포함되었다.\n",
    "\n",
    "- 방안 : 전용면적별 세대수를 총세대수 sum으로 update"
   ]
  },
  {
   "cell_type": "code",
   "execution_count": 32,
   "id": "02c0c3ca",
   "metadata": {},
   "outputs": [],
   "source": [
    "#df_train_group_num = df_train_group_num['총세대수'].reset_index()\n",
    "#df_train_group_num.rename(columns={'총세대수': '전용면적별세대수'}, inplace=True)\n",
    "\n",
    "#train_df = train_df[['단지코드', '총세대수', '임대건물구분', '지역', '공급유형', '전용면적', '공가수',\n",
    "#       '자격유형', '임대보증금', '임대료', '도보 10분거리 내 지하철역 수(환승노선 수 반영)',\n",
    "#       '도보 10분거리 내 버스정류장 수', '단지내주차면수', '등록차량수']]\n",
    "#train_df = train_df.merge(df_train_group_num, on='단지코드')"
   ]
  },
  {
   "cell_type": "code",
   "execution_count": 33,
   "id": "cd28fe6c",
   "metadata": {},
   "outputs": [
    {
     "data": {
      "text/plain": [
       "Index(['단지코드', '총세대수', '임대건물구분', '지역', '공급유형', '전용면적', '전용면적별세대수', '공가수',\n",
       "       '자격유형', '임대보증금', '임대료', '도보 10분거리 내 지하철역 수(환승노선 수 반영)',\n",
       "       '도보 10분거리 내 버스정류장 수', '단지내주차면수'],\n",
       "      dtype='object')"
      ]
     },
     "execution_count": 33,
     "metadata": {},
     "output_type": "execute_result"
    }
   ],
   "source": [
    "#test_df.columns"
   ]
  },
  {
   "cell_type": "code",
   "execution_count": 34,
   "id": "ed1c5da8",
   "metadata": {},
   "outputs": [],
   "source": [
    "#df_test_group_num = df_test_group_num['총세대수'].reset_index()\n",
    "#df_test_group_num.rename(columns={'총세대수': '전용면적별세대수'}, inplace=True)\n",
    "\n",
    "#test_df = test_df[['단지코드', '총세대수', '임대건물구분', '지역', '공급유형', '전용면적', '공가수',\n",
    "#       '자격유형', '임대보증금', '임대료', '도보 10분거리 내 지하철역 수(환승노선 수 반영)',\n",
    "#       '도보 10분거리 내 버스정류장 수', '단지내주차면수']]\n",
    "#test_df = test_df.merge(df_test_group_num, on='단지코드')"
   ]
  },
  {
   "cell_type": "code",
   "execution_count": 35,
   "id": "400e8eef",
   "metadata": {},
   "outputs": [
    {
     "data": {
      "text/plain": [
       "(2952, 0)"
      ]
     },
     "execution_count": 35,
     "metadata": {},
     "output_type": "execute_result"
    }
   ],
   "source": [
    "len(train_df), len(test_df)"
   ]
  },
  {
   "cell_type": "markdown",
   "id": "88161395",
   "metadata": {},
   "source": [
    "### 2. 동일한 단지에 단지코드가 2개로 부여된 경우\n",
    "### 3. 단지코드 등 기입 실수로 데이터 정제 과정에서 매칭 오류 발생\n",
    "- 오류 데이터 삭제"
   ]
  },
  {
   "cell_type": "code",
   "execution_count": 8,
   "id": "f710975e",
   "metadata": {},
   "outputs": [],
   "source": [
    "train_excl_code = ['C2085', 'C1397', 'C2431', 'C1649', 'C1036', 'C1095', 'C2051', 'C1218', 'C1894',\n",
    "                  'C2483', 'C1502', 'C1988']\n",
    "test_excl_code = ['C2675', 'C2335', 'C1327']"
   ]
  },
  {
   "cell_type": "code",
   "execution_count": 9,
   "id": "9c09bd06",
   "metadata": {},
   "outputs": [],
   "source": [
    "train_df = train_df.loc[train_df['단지코드'].isin(train_excl_code) == False]\n",
    "test_df = test_df.loc[test_df['단지코드'].isin(test_excl_code) == False]"
   ]
  },
  {
   "cell_type": "markdown",
   "id": "1f2a1e18",
   "metadata": {},
   "source": [
    "## 전처리"
   ]
  },
  {
   "cell_type": "code",
   "execution_count": 10,
   "id": "3e68d94a",
   "metadata": {},
   "outputs": [
    {
     "data": {
      "text/plain": [
       "(2869, 1008)"
      ]
     },
     "execution_count": 10,
     "metadata": {},
     "output_type": "execute_result"
    }
   ],
   "source": [
    "len(train_df), len(test_df)"
   ]
  },
  {
   "cell_type": "code",
   "execution_count": 11,
   "id": "0747cdac",
   "metadata": {},
   "outputs": [
    {
     "name": "stdout",
     "output_type": "stream",
     "text": [
      "============================================================\n",
      "Train Dataset>>>\n",
      "임대보증금                           569\n",
      "임대료                             569\n",
      "도보 10분거리 내 지하철역 수(환승노선 수 반영)    207\n",
      "dtype: int64\n",
      "============================================================\n",
      "Test Dataset>>>\n",
      "자격유형                              2\n",
      "임대보증금                           180\n",
      "임대료                             180\n",
      "도보 10분거리 내 지하철역 수(환승노선 수 반영)     38\n",
      "dtype: int64\n"
     ]
    }
   ],
   "source": [
    "print_na_value(train_df, test_df)"
   ]
  },
  {
   "cell_type": "code",
   "execution_count": 12,
   "id": "930c1e29",
   "metadata": {
    "collapsed": true
   },
   "outputs": [
    {
     "data": {
      "text/html": [
       "<div>\n",
       "<style scoped>\n",
       "    .dataframe tbody tr th:only-of-type {\n",
       "        vertical-align: middle;\n",
       "    }\n",
       "\n",
       "    .dataframe tbody tr th {\n",
       "        vertical-align: top;\n",
       "    }\n",
       "\n",
       "    .dataframe thead th {\n",
       "        text-align: right;\n",
       "    }\n",
       "</style>\n",
       "<table border=\"1\" class=\"dataframe\">\n",
       "  <thead>\n",
       "    <tr style=\"text-align: right;\">\n",
       "      <th></th>\n",
       "      <th>단지코드</th>\n",
       "      <th>총세대수</th>\n",
       "      <th>임대건물구분</th>\n",
       "      <th>지역</th>\n",
       "      <th>공급유형</th>\n",
       "      <th>전용면적</th>\n",
       "      <th>전용면적별세대수</th>\n",
       "      <th>공가수</th>\n",
       "      <th>자격유형</th>\n",
       "      <th>임대보증금</th>\n",
       "      <th>임대료</th>\n",
       "      <th>도보 10분거리 내 지하철역 수(환승노선 수 반영)</th>\n",
       "      <th>도보 10분거리 내 버스정류장 수</th>\n",
       "      <th>단지내주차면수</th>\n",
       "      <th>등록차량수</th>\n",
       "    </tr>\n",
       "  </thead>\n",
       "  <tbody>\n",
       "    <tr>\n",
       "      <th>2547</th>\n",
       "      <td>C1326</td>\n",
       "      <td>1934</td>\n",
       "      <td>아파트</td>\n",
       "      <td>부산광역시</td>\n",
       "      <td>국민임대</td>\n",
       "      <td>24.72</td>\n",
       "      <td>472</td>\n",
       "      <td>43.0</td>\n",
       "      <td>H</td>\n",
       "      <td>-</td>\n",
       "      <td>-</td>\n",
       "      <td>0.0</td>\n",
       "      <td>4.0</td>\n",
       "      <td>1670.0</td>\n",
       "      <td>1153.0</td>\n",
       "    </tr>\n",
       "    <tr>\n",
       "      <th>2548</th>\n",
       "      <td>C1326</td>\n",
       "      <td>1934</td>\n",
       "      <td>아파트</td>\n",
       "      <td>부산광역시</td>\n",
       "      <td>국민임대</td>\n",
       "      <td>24.79</td>\n",
       "      <td>104</td>\n",
       "      <td>43.0</td>\n",
       "      <td>H</td>\n",
       "      <td>-</td>\n",
       "      <td>-</td>\n",
       "      <td>0.0</td>\n",
       "      <td>4.0</td>\n",
       "      <td>1670.0</td>\n",
       "      <td>1153.0</td>\n",
       "    </tr>\n",
       "    <tr>\n",
       "      <th>2549</th>\n",
       "      <td>C1326</td>\n",
       "      <td>1934</td>\n",
       "      <td>아파트</td>\n",
       "      <td>부산광역시</td>\n",
       "      <td>국민임대</td>\n",
       "      <td>26.83</td>\n",
       "      <td>590</td>\n",
       "      <td>43.0</td>\n",
       "      <td>H</td>\n",
       "      <td>-</td>\n",
       "      <td>-</td>\n",
       "      <td>0.0</td>\n",
       "      <td>4.0</td>\n",
       "      <td>1670.0</td>\n",
       "      <td>1153.0</td>\n",
       "    </tr>\n",
       "    <tr>\n",
       "      <th>2550</th>\n",
       "      <td>C1326</td>\n",
       "      <td>1934</td>\n",
       "      <td>아파트</td>\n",
       "      <td>부산광역시</td>\n",
       "      <td>국민임대</td>\n",
       "      <td>37.70</td>\n",
       "      <td>464</td>\n",
       "      <td>43.0</td>\n",
       "      <td>H</td>\n",
       "      <td>-</td>\n",
       "      <td>-</td>\n",
       "      <td>0.0</td>\n",
       "      <td>4.0</td>\n",
       "      <td>1670.0</td>\n",
       "      <td>1153.0</td>\n",
       "    </tr>\n",
       "    <tr>\n",
       "      <th>2551</th>\n",
       "      <td>C1326</td>\n",
       "      <td>1934</td>\n",
       "      <td>아파트</td>\n",
       "      <td>부산광역시</td>\n",
       "      <td>국민임대</td>\n",
       "      <td>46.94</td>\n",
       "      <td>304</td>\n",
       "      <td>43.0</td>\n",
       "      <td>H</td>\n",
       "      <td>-</td>\n",
       "      <td>-</td>\n",
       "      <td>0.0</td>\n",
       "      <td>4.0</td>\n",
       "      <td>1670.0</td>\n",
       "      <td>1153.0</td>\n",
       "    </tr>\n",
       "    <tr>\n",
       "      <th>2680</th>\n",
       "      <td>C1786</td>\n",
       "      <td>480</td>\n",
       "      <td>아파트</td>\n",
       "      <td>강원도</td>\n",
       "      <td>행복주택</td>\n",
       "      <td>16.91</td>\n",
       "      <td>156</td>\n",
       "      <td>25.0</td>\n",
       "      <td>K</td>\n",
       "      <td>-</td>\n",
       "      <td>-</td>\n",
       "      <td>0.0</td>\n",
       "      <td>3.0</td>\n",
       "      <td>338.0</td>\n",
       "      <td>345.0</td>\n",
       "    </tr>\n",
       "    <tr>\n",
       "      <th>2681</th>\n",
       "      <td>C1786</td>\n",
       "      <td>480</td>\n",
       "      <td>아파트</td>\n",
       "      <td>강원도</td>\n",
       "      <td>행복주택</td>\n",
       "      <td>26.90</td>\n",
       "      <td>136</td>\n",
       "      <td>25.0</td>\n",
       "      <td>K</td>\n",
       "      <td>-</td>\n",
       "      <td>-</td>\n",
       "      <td>0.0</td>\n",
       "      <td>3.0</td>\n",
       "      <td>338.0</td>\n",
       "      <td>345.0</td>\n",
       "    </tr>\n",
       "    <tr>\n",
       "      <th>2682</th>\n",
       "      <td>C1786</td>\n",
       "      <td>480</td>\n",
       "      <td>아파트</td>\n",
       "      <td>강원도</td>\n",
       "      <td>행복주택</td>\n",
       "      <td>26.90</td>\n",
       "      <td>72</td>\n",
       "      <td>25.0</td>\n",
       "      <td>K</td>\n",
       "      <td>-</td>\n",
       "      <td>-</td>\n",
       "      <td>0.0</td>\n",
       "      <td>3.0</td>\n",
       "      <td>338.0</td>\n",
       "      <td>345.0</td>\n",
       "    </tr>\n",
       "    <tr>\n",
       "      <th>2683</th>\n",
       "      <td>C1786</td>\n",
       "      <td>480</td>\n",
       "      <td>아파트</td>\n",
       "      <td>강원도</td>\n",
       "      <td>행복주택</td>\n",
       "      <td>26.90</td>\n",
       "      <td>24</td>\n",
       "      <td>25.0</td>\n",
       "      <td>K</td>\n",
       "      <td>-</td>\n",
       "      <td>-</td>\n",
       "      <td>0.0</td>\n",
       "      <td>3.0</td>\n",
       "      <td>338.0</td>\n",
       "      <td>345.0</td>\n",
       "    </tr>\n",
       "    <tr>\n",
       "      <th>2906</th>\n",
       "      <td>C2186</td>\n",
       "      <td>924</td>\n",
       "      <td>아파트</td>\n",
       "      <td>대구광역시</td>\n",
       "      <td>국민임대</td>\n",
       "      <td>29.17</td>\n",
       "      <td>238</td>\n",
       "      <td>0.0</td>\n",
       "      <td>H</td>\n",
       "      <td>-</td>\n",
       "      <td>-</td>\n",
       "      <td>0.0</td>\n",
       "      <td>8.0</td>\n",
       "      <td>664.0</td>\n",
       "      <td>744.0</td>\n",
       "    </tr>\n",
       "    <tr>\n",
       "      <th>2907</th>\n",
       "      <td>C2186</td>\n",
       "      <td>924</td>\n",
       "      <td>아파트</td>\n",
       "      <td>대구광역시</td>\n",
       "      <td>국민임대</td>\n",
       "      <td>29.34</td>\n",
       "      <td>38</td>\n",
       "      <td>0.0</td>\n",
       "      <td>H</td>\n",
       "      <td>-</td>\n",
       "      <td>-</td>\n",
       "      <td>0.0</td>\n",
       "      <td>8.0</td>\n",
       "      <td>664.0</td>\n",
       "      <td>744.0</td>\n",
       "    </tr>\n",
       "    <tr>\n",
       "      <th>2908</th>\n",
       "      <td>C2186</td>\n",
       "      <td>924</td>\n",
       "      <td>아파트</td>\n",
       "      <td>대구광역시</td>\n",
       "      <td>국민임대</td>\n",
       "      <td>37.43</td>\n",
       "      <td>220</td>\n",
       "      <td>0.0</td>\n",
       "      <td>H</td>\n",
       "      <td>-</td>\n",
       "      <td>-</td>\n",
       "      <td>0.0</td>\n",
       "      <td>8.0</td>\n",
       "      <td>664.0</td>\n",
       "      <td>744.0</td>\n",
       "    </tr>\n",
       "  </tbody>\n",
       "</table>\n",
       "</div>"
      ],
      "text/plain": [
       "       단지코드  총세대수 임대건물구분     지역  공급유형   전용면적  전용면적별세대수   공가수 자격유형 임대보증금 임대료  \\\n",
       "2547  C1326  1934    아파트  부산광역시  국민임대  24.72       472  43.0    H     -   -   \n",
       "2548  C1326  1934    아파트  부산광역시  국민임대  24.79       104  43.0    H     -   -   \n",
       "2549  C1326  1934    아파트  부산광역시  국민임대  26.83       590  43.0    H     -   -   \n",
       "2550  C1326  1934    아파트  부산광역시  국민임대  37.70       464  43.0    H     -   -   \n",
       "2551  C1326  1934    아파트  부산광역시  국민임대  46.94       304  43.0    H     -   -   \n",
       "2680  C1786   480    아파트    강원도  행복주택  16.91       156  25.0    K     -   -   \n",
       "2681  C1786   480    아파트    강원도  행복주택  26.90       136  25.0    K     -   -   \n",
       "2682  C1786   480    아파트    강원도  행복주택  26.90        72  25.0    K     -   -   \n",
       "2683  C1786   480    아파트    강원도  행복주택  26.90        24  25.0    K     -   -   \n",
       "2906  C2186   924    아파트  대구광역시  국민임대  29.17       238   0.0    H     -   -   \n",
       "2907  C2186   924    아파트  대구광역시  국민임대  29.34        38   0.0    H     -   -   \n",
       "2908  C2186   924    아파트  대구광역시  국민임대  37.43       220   0.0    H     -   -   \n",
       "\n",
       "      도보 10분거리 내 지하철역 수(환승노선 수 반영)  도보 10분거리 내 버스정류장 수  단지내주차면수   등록차량수  \n",
       "2547                           0.0                 4.0   1670.0  1153.0  \n",
       "2548                           0.0                 4.0   1670.0  1153.0  \n",
       "2549                           0.0                 4.0   1670.0  1153.0  \n",
       "2550                           0.0                 4.0   1670.0  1153.0  \n",
       "2551                           0.0                 4.0   1670.0  1153.0  \n",
       "2680                           0.0                 3.0    338.0   345.0  \n",
       "2681                           0.0                 3.0    338.0   345.0  \n",
       "2682                           0.0                 3.0    338.0   345.0  \n",
       "2683                           0.0                 3.0    338.0   345.0  \n",
       "2906                           0.0                 8.0    664.0   744.0  \n",
       "2907                           0.0                 8.0    664.0   744.0  \n",
       "2908                           0.0                 8.0    664.0   744.0  "
      ]
     },
     "execution_count": 12,
     "metadata": {},
     "output_type": "execute_result"
    }
   ],
   "source": [
    "train_df.loc[train_df['임대보증금']=='-']"
   ]
  },
  {
   "cell_type": "code",
   "execution_count": 13,
   "id": "bfa5630a",
   "metadata": {},
   "outputs": [
    {
     "name": "stdout",
     "output_type": "stream",
     "text": [
      "['-']\n",
      "['-']\n"
     ]
    }
   ],
   "source": [
    "print(train_df.loc[train_df['임대보증금'].str.isdecimal()==False, '임대보증금'].unique())\n",
    "print(test_df.loc[test_df['임대보증금'].str.isdecimal()==False, '임대보증금'].unique())"
   ]
  },
  {
   "cell_type": "code",
   "execution_count": 14,
   "id": "16f87df1",
   "metadata": {},
   "outputs": [
    {
     "name": "stdout",
     "output_type": "stream",
     "text": [
      "['-']\n",
      "['-']\n"
     ]
    }
   ],
   "source": [
    "print(train_df.loc[train_df['임대료'].str.isdecimal()==False, '임대료'].unique())\n",
    "print(test_df.loc[test_df['임대료'].str.isdecimal()==False, '임대료'].unique())"
   ]
  },
  {
   "cell_type": "code",
   "execution_count": 15,
   "id": "bca619d1",
   "metadata": {},
   "outputs": [],
   "source": [
    "train_df.loc[train_df['임대보증금']=='-', '임대보증금'] = np.nan\n",
    "test_df.loc[test_df['임대보증금']=='-', '임대보증금'] = np.nan\n",
    "train_df['임대보증금'] = train_df['임대보증금'].astype(float)\n",
    "test_df['임대보증금'] = test_df['임대보증금'].astype(float)\n",
    "\n",
    "train_df.loc[train_df['임대료']=='-', '임대료'] = np.nan\n",
    "test_df.loc[test_df['임대료']=='-', '임대료'] = np.nan\n",
    "train_df['임대료'] = train_df['임대료'].astype(float)\n",
    "test_df['임대료'] = test_df['임대료'].astype(float)"
   ]
  },
  {
   "cell_type": "code",
   "execution_count": 16,
   "id": "22a15471",
   "metadata": {},
   "outputs": [
    {
     "name": "stdout",
     "output_type": "stream",
     "text": [
      "<class 'pandas.core.frame.DataFrame'>\n",
      "Int64Index: 2869 entries, 8 to 2951\n",
      "Data columns (total 15 columns):\n",
      " #   Column                        Non-Null Count  Dtype  \n",
      "---  ------                        --------------  -----  \n",
      " 0   단지코드                          2869 non-null   object \n",
      " 1   총세대수                          2869 non-null   int64  \n",
      " 2   임대건물구분                        2869 non-null   object \n",
      " 3   지역                            2869 non-null   object \n",
      " 4   공급유형                          2869 non-null   object \n",
      " 5   전용면적                          2869 non-null   float64\n",
      " 6   전용면적별세대수                      2869 non-null   int64  \n",
      " 7   공가수                           2869 non-null   float64\n",
      " 8   자격유형                          2869 non-null   object \n",
      " 9   임대보증금                         2288 non-null   float64\n",
      " 10  임대료                           2285 non-null   float64\n",
      " 11  도보 10분거리 내 지하철역 수(환승노선 수 반영)  2662 non-null   float64\n",
      " 12  도보 10분거리 내 버스정류장 수            2869 non-null   float64\n",
      " 13  단지내주차면수                       2869 non-null   float64\n",
      " 14  등록차량수                         2869 non-null   float64\n",
      "dtypes: float64(8), int64(2), object(5)\n",
      "memory usage: 358.6+ KB\n"
     ]
    }
   ],
   "source": [
    "train_df.info()"
   ]
  },
  {
   "cell_type": "code",
   "execution_count": 17,
   "id": "616f9ee6",
   "metadata": {},
   "outputs": [
    {
     "name": "stdout",
     "output_type": "stream",
     "text": [
      "============================================================\n",
      "Train Dataset>>>\n",
      "임대보증금                           581\n",
      "임대료                             584\n",
      "도보 10분거리 내 지하철역 수(환승노선 수 반영)    207\n",
      "dtype: int64\n",
      "============================================================\n",
      "Test Dataset>>>\n",
      "자격유형                              2\n",
      "임대보증금                           186\n",
      "임대료                             186\n",
      "도보 10분거리 내 지하철역 수(환승노선 수 반영)     38\n",
      "dtype: int64\n"
     ]
    }
   ],
   "source": [
    "print_na_value(train_df, test_df)"
   ]
  },
  {
   "cell_type": "code",
   "execution_count": 18,
   "id": "b9971345",
   "metadata": {},
   "outputs": [
    {
     "name": "stdout",
     "output_type": "stream",
     "text": [
      "Train : 임대보증금, 임대료 결측값 : 20.25%\n",
      "Test : 임대보증금, 임대료 결측값 : 18.45%\n"
     ]
    }
   ],
   "source": [
    "print('Train : 임대보증금, 임대료 결측값 : {0:.2f}%'.format(train_df['임대보증금'].isna().sum()/len(train_df)*100))\n",
    "print('Test : 임대보증금, 임대료 결측값 : {0:.2f}%'.format(test_df['임대보증금'].isna().sum()/len(test_df)*100))"
   ]
  },
  {
   "cell_type": "code",
   "execution_count": 19,
   "id": "26eaf1e1",
   "metadata": {},
   "outputs": [
    {
     "name": "stdout",
     "output_type": "stream",
     "text": [
      "Train : 도보 10분거리 내 지하철역 수 결측값 : 7.22%\n",
      "Test : 도보 10분거리 내 지하철역 수 결측값 : 3.77%\n"
     ]
    }
   ],
   "source": [
    "print('Train : 도보 10분거리 내 지하철역 수 결측값 : {0:.2f}%'.\n",
    "      format(train_df['도보 10분거리 내 지하철역 수(환승노선 수 반영)'].isna().sum()/len(train_df)*100))\n",
    "print('Test : 도보 10분거리 내 지하철역 수 결측값 : {0:.2f}%'.\n",
    "      format(test_df['도보 10분거리 내 지하철역 수(환승노선 수 반영)'].isna().sum()/len(test_df)*100))"
   ]
  },
  {
   "cell_type": "code",
   "execution_count": 20,
   "id": "2004f858",
   "metadata": {},
   "outputs": [
    {
     "data": {
      "text/html": [
       "<div>\n",
       "<style scoped>\n",
       "    .dataframe tbody tr th:only-of-type {\n",
       "        vertical-align: middle;\n",
       "    }\n",
       "\n",
       "    .dataframe tbody tr th {\n",
       "        vertical-align: top;\n",
       "    }\n",
       "\n",
       "    .dataframe thead th {\n",
       "        text-align: right;\n",
       "    }\n",
       "</style>\n",
       "<table border=\"1\" class=\"dataframe\">\n",
       "  <thead>\n",
       "    <tr style=\"text-align: right;\">\n",
       "      <th></th>\n",
       "      <th>단지코드</th>\n",
       "      <th>총세대수</th>\n",
       "      <th>임대건물구분</th>\n",
       "      <th>지역</th>\n",
       "      <th>공급유형</th>\n",
       "      <th>전용면적</th>\n",
       "      <th>전용면적별세대수</th>\n",
       "      <th>공가수</th>\n",
       "      <th>자격유형</th>\n",
       "      <th>임대보증금</th>\n",
       "      <th>임대료</th>\n",
       "      <th>도보 10분거리 내 지하철역 수(환승노선 수 반영)</th>\n",
       "      <th>도보 10분거리 내 버스정류장 수</th>\n",
       "      <th>단지내주차면수</th>\n",
       "    </tr>\n",
       "  </thead>\n",
       "  <tbody>\n",
       "    <tr>\n",
       "      <th>196</th>\n",
       "      <td>C2411</td>\n",
       "      <td>962</td>\n",
       "      <td>아파트</td>\n",
       "      <td>경상남도</td>\n",
       "      <td>국민임대</td>\n",
       "      <td>46.90</td>\n",
       "      <td>240</td>\n",
       "      <td>25.0</td>\n",
       "      <td>NaN</td>\n",
       "      <td>71950000.0</td>\n",
       "      <td>37470.0</td>\n",
       "      <td>0.0</td>\n",
       "      <td>2.0</td>\n",
       "      <td>840.0</td>\n",
       "    </tr>\n",
       "    <tr>\n",
       "      <th>258</th>\n",
       "      <td>C2253</td>\n",
       "      <td>1161</td>\n",
       "      <td>아파트</td>\n",
       "      <td>강원도</td>\n",
       "      <td>영구임대</td>\n",
       "      <td>26.37</td>\n",
       "      <td>745</td>\n",
       "      <td>0.0</td>\n",
       "      <td>NaN</td>\n",
       "      <td>2249000.0</td>\n",
       "      <td>44770.0</td>\n",
       "      <td>0.0</td>\n",
       "      <td>2.0</td>\n",
       "      <td>173.0</td>\n",
       "    </tr>\n",
       "  </tbody>\n",
       "</table>\n",
       "</div>"
      ],
      "text/plain": [
       "      단지코드  총세대수 임대건물구분    지역  공급유형   전용면적  전용면적별세대수   공가수 자격유형       임대보증금  \\\n",
       "196  C2411   962    아파트  경상남도  국민임대  46.90       240  25.0  NaN  71950000.0   \n",
       "258  C2253  1161    아파트   강원도  영구임대  26.37       745   0.0  NaN   2249000.0   \n",
       "\n",
       "         임대료  도보 10분거리 내 지하철역 수(환승노선 수 반영)  도보 10분거리 내 버스정류장 수  단지내주차면수  \n",
       "196  37470.0                           0.0                 2.0    840.0  \n",
       "258  44770.0                           0.0                 2.0    173.0  "
      ]
     },
     "execution_count": 20,
     "metadata": {},
     "output_type": "execute_result"
    }
   ],
   "source": [
    "test_df.loc[test_df['자격유형'].isna()]"
   ]
  },
  {
   "cell_type": "code",
   "execution_count": 21,
   "id": "8ae9a6eb",
   "metadata": {},
   "outputs": [],
   "source": [
    "test_df.loc[(test_df['단지코드']=='C2411') & (test_df['자격유형'].isna()), '자격유형'] = 'A'\n",
    "test_df.loc[(test_df['단지코드']=='C2253') & (test_df['자격유형'].isna()), '자격유형'] = 'C'"
   ]
  },
  {
   "cell_type": "markdown",
   "id": "fc211eec",
   "metadata": {},
   "source": [
    "- test set이지만 데이터값 누락으로 수정"
   ]
  },
  {
   "cell_type": "code",
   "execution_count": 22,
   "id": "df91ed8a",
   "metadata": {},
   "outputs": [
    {
     "name": "stdout",
     "output_type": "stream",
     "text": [
      "============================================================\n",
      "Train Dataset>>>\n",
      "임대보증금                           581\n",
      "임대료                             584\n",
      "도보 10분거리 내 지하철역 수(환승노선 수 반영)    207\n",
      "dtype: int64\n",
      "============================================================\n",
      "Test Dataset>>>\n",
      "임대보증금                           186\n",
      "임대료                             186\n",
      "도보 10분거리 내 지하철역 수(환승노선 수 반영)     38\n",
      "dtype: int64\n"
     ]
    }
   ],
   "source": [
    "print_na_value(train_df, test_df)"
   ]
  },
  {
   "cell_type": "code",
   "execution_count": 77,
   "id": "84e9516e",
   "metadata": {},
   "outputs": [
    {
     "data": {
      "text/html": [
       "<div>\n",
       "<style scoped>\n",
       "    .dataframe tbody tr th:only-of-type {\n",
       "        vertical-align: middle;\n",
       "    }\n",
       "\n",
       "    .dataframe tbody tr th {\n",
       "        vertical-align: top;\n",
       "    }\n",
       "\n",
       "    .dataframe thead th {\n",
       "        text-align: right;\n",
       "    }\n",
       "</style>\n",
       "<table border=\"1\" class=\"dataframe\">\n",
       "  <thead>\n",
       "    <tr style=\"text-align: right;\">\n",
       "      <th></th>\n",
       "      <th>총세대수</th>\n",
       "      <th>전용면적</th>\n",
       "      <th>전용면적별세대수</th>\n",
       "      <th>공가수</th>\n",
       "      <th>임대보증금</th>\n",
       "      <th>임대료</th>\n",
       "      <th>도보 10분거리 내 지하철역 수(환승노선 수 반영)</th>\n",
       "      <th>도보 10분거리 내 버스정류장 수</th>\n",
       "      <th>단지내주차면수</th>\n",
       "      <th>등록차량수</th>\n",
       "    </tr>\n",
       "  </thead>\n",
       "  <tbody>\n",
       "    <tr>\n",
       "      <th>count</th>\n",
       "      <td>2869.000000</td>\n",
       "      <td>2869.000000</td>\n",
       "      <td>2869.000000</td>\n",
       "      <td>2869.000000</td>\n",
       "      <td>2.288000e+03</td>\n",
       "      <td>2.285000e+03</td>\n",
       "      <td>2662.000000</td>\n",
       "      <td>2869.000000</td>\n",
       "      <td>2869.000000</td>\n",
       "      <td>2869.000000</td>\n",
       "    </tr>\n",
       "    <tr>\n",
       "      <th>mean</th>\n",
       "      <td>887.654235</td>\n",
       "      <td>44.421394</td>\n",
       "      <td>102.699895</td>\n",
       "      <td>12.915999</td>\n",
       "      <td>2.587165e+07</td>\n",
       "      <td>1.910861e+05</td>\n",
       "      <td>0.181818</td>\n",
       "      <td>3.709655</td>\n",
       "      <td>591.934472</td>\n",
       "      <td>550.127571</td>\n",
       "    </tr>\n",
       "    <tr>\n",
       "      <th>std</th>\n",
       "      <td>517.795084</td>\n",
       "      <td>32.072217</td>\n",
       "      <td>133.287517</td>\n",
       "      <td>10.679931</td>\n",
       "      <td>1.955775e+07</td>\n",
       "      <td>1.255029e+05</td>\n",
       "      <td>0.432606</td>\n",
       "      <td>2.676486</td>\n",
       "      <td>391.292702</td>\n",
       "      <td>430.465261</td>\n",
       "    </tr>\n",
       "    <tr>\n",
       "      <th>min</th>\n",
       "      <td>26.000000</td>\n",
       "      <td>12.620000</td>\n",
       "      <td>1.000000</td>\n",
       "      <td>0.000000</td>\n",
       "      <td>3.056000e+06</td>\n",
       "      <td>1.665000e+04</td>\n",
       "      <td>0.000000</td>\n",
       "      <td>0.000000</td>\n",
       "      <td>13.000000</td>\n",
       "      <td>13.000000</td>\n",
       "    </tr>\n",
       "    <tr>\n",
       "      <th>25%</th>\n",
       "      <td>514.000000</td>\n",
       "      <td>32.100000</td>\n",
       "      <td>14.000000</td>\n",
       "      <td>4.000000</td>\n",
       "      <td>1.440400e+07</td>\n",
       "      <td>1.105300e+05</td>\n",
       "      <td>0.000000</td>\n",
       "      <td>2.000000</td>\n",
       "      <td>277.000000</td>\n",
       "      <td>209.000000</td>\n",
       "    </tr>\n",
       "    <tr>\n",
       "      <th>50%</th>\n",
       "      <td>775.000000</td>\n",
       "      <td>39.840000</td>\n",
       "      <td>60.000000</td>\n",
       "      <td>11.000000</td>\n",
       "      <td>2.043450e+07</td>\n",
       "      <td>1.599600e+05</td>\n",
       "      <td>0.000000</td>\n",
       "      <td>3.000000</td>\n",
       "      <td>500.000000</td>\n",
       "      <td>479.000000</td>\n",
       "    </tr>\n",
       "    <tr>\n",
       "      <th>75%</th>\n",
       "      <td>1105.000000</td>\n",
       "      <td>51.050000</td>\n",
       "      <td>142.000000</td>\n",
       "      <td>20.000000</td>\n",
       "      <td>3.195925e+07</td>\n",
       "      <td>2.322000e+05</td>\n",
       "      <td>0.000000</td>\n",
       "      <td>4.000000</td>\n",
       "      <td>812.000000</td>\n",
       "      <td>761.000000</td>\n",
       "    </tr>\n",
       "    <tr>\n",
       "      <th>max</th>\n",
       "      <td>2568.000000</td>\n",
       "      <td>583.400000</td>\n",
       "      <td>1865.000000</td>\n",
       "      <td>55.000000</td>\n",
       "      <td>2.138630e+08</td>\n",
       "      <td>1.058030e+06</td>\n",
       "      <td>3.000000</td>\n",
       "      <td>20.000000</td>\n",
       "      <td>1798.000000</td>\n",
       "      <td>2550.000000</td>\n",
       "    </tr>\n",
       "  </tbody>\n",
       "</table>\n",
       "</div>"
      ],
      "text/plain": [
       "              총세대수         전용면적     전용면적별세대수          공가수         임대보증금  \\\n",
       "count  2869.000000  2869.000000  2869.000000  2869.000000  2.288000e+03   \n",
       "mean    887.654235    44.421394   102.699895    12.915999  2.587165e+07   \n",
       "std     517.795084    32.072217   133.287517    10.679931  1.955775e+07   \n",
       "min      26.000000    12.620000     1.000000     0.000000  3.056000e+06   \n",
       "25%     514.000000    32.100000    14.000000     4.000000  1.440400e+07   \n",
       "50%     775.000000    39.840000    60.000000    11.000000  2.043450e+07   \n",
       "75%    1105.000000    51.050000   142.000000    20.000000  3.195925e+07   \n",
       "max    2568.000000   583.400000  1865.000000    55.000000  2.138630e+08   \n",
       "\n",
       "                임대료  도보 10분거리 내 지하철역 수(환승노선 수 반영)  도보 10분거리 내 버스정류장 수  \\\n",
       "count  2.285000e+03                   2662.000000         2869.000000   \n",
       "mean   1.910861e+05                      0.181818            3.709655   \n",
       "std    1.255029e+05                      0.432606            2.676486   \n",
       "min    1.665000e+04                      0.000000            0.000000   \n",
       "25%    1.105300e+05                      0.000000            2.000000   \n",
       "50%    1.599600e+05                      0.000000            3.000000   \n",
       "75%    2.322000e+05                      0.000000            4.000000   \n",
       "max    1.058030e+06                      3.000000           20.000000   \n",
       "\n",
       "           단지내주차면수        등록차량수  \n",
       "count  2869.000000  2869.000000  \n",
       "mean    591.934472   550.127571  \n",
       "std     391.292702   430.465261  \n",
       "min      13.000000    13.000000  \n",
       "25%     277.000000   209.000000  \n",
       "50%     500.000000   479.000000  \n",
       "75%     812.000000   761.000000  \n",
       "max    1798.000000  2550.000000  "
      ]
     },
     "execution_count": 77,
     "metadata": {},
     "output_type": "execute_result"
    }
   ],
   "source": [
    "train_df.describe()"
   ]
  },
  {
   "cell_type": "code",
   "execution_count": null,
   "id": "f6170d60",
   "metadata": {},
   "outputs": [],
   "source": [
    "train_df"
   ]
  },
  {
   "cell_type": "code",
   "execution_count": 25,
   "id": "3ee1df8b",
   "metadata": {
    "scrolled": false
   },
   "outputs": [
    {
     "data": {
      "text/plain": [
       "array([[<AxesSubplot:title={'center':'총세대수'}>,\n",
       "        <AxesSubplot:title={'center':'전용면적'}>,\n",
       "        <AxesSubplot:title={'center':'전용면적별세대수'}>],\n",
       "       [<AxesSubplot:title={'center':'공가수'}>,\n",
       "        <AxesSubplot:title={'center':'임대보증금'}>,\n",
       "        <AxesSubplot:title={'center':'임대료'}>],\n",
       "       [<AxesSubplot:title={'center':'도보 10분거리 내 지하철역 수(환승노선 수 반영)'}>,\n",
       "        <AxesSubplot:title={'center':'도보 10분거리 내 버스정류장 수'}>,\n",
       "        <AxesSubplot:title={'center':'단지내주차면수'}>],\n",
       "       [<AxesSubplot:title={'center':'등록차량수'}>, <AxesSubplot:>,\n",
       "        <AxesSubplot:>]], dtype=object)"
      ]
     },
     "execution_count": 25,
     "metadata": {},
     "output_type": "execute_result"
    },
    {
     "data": {
      "image/png": "[encoded data removed]",
      "text/plain": [
       "<Figure size 1440x720 with 12 Axes>"
      ]
     },
     "metadata": {
      "needs_background": "light"
     },
     "output_type": "display_data"
    }
   ],
   "source": [
    "train_df.hist(figsize=(20,10))"
   ]
  },
  {
   "cell_type": "code",
   "execution_count": 37,
   "id": "c043ca22",
   "metadata": {},
   "outputs": [],
   "source": [
    "numeric_cols = ['총세대수', '전용면적', '전용면적별세대수', '공가수', '임대보증금', '임대료',\n",
    "               '도보 10분거리 내 지하철역 수(환승노선 수 반영)', '도보 10분거리 내 버스정류장 수', '단지내주차면수',\n",
    "               '등록차량수']"
   ]
  },
  {
   "cell_type": "code",
   "execution_count": 57,
   "id": "9295c6d4",
   "metadata": {
    "scrolled": false
   },
   "outputs": [
    {
     "data": {
      "image/png": "[encoded data removed]",
      "text/plain": [
       "<Figure size 2160x1440 with 4 Axes>"
      ]
     },
     "metadata": {
      "needs_background": "light"
     },
     "output_type": "display_data"
    }
   ],
   "source": [
    "plt.figure(figsize=(30,20))\n",
    "for i, c in enumerate(numeric_cols[:4]):\n",
    "    ax = plt.subplot(221+i)\n",
    "    ax.boxplot(train_df[c])\n",
    "    ax.set_title(c, fontsize=25)"
   ]
  },
  {
   "cell_type": "code",
   "execution_count": 58,
   "id": "a4110b19",
   "metadata": {},
   "outputs": [
    {
     "data": {
      "image/png": "[encoded data removed]",
      "text/plain": [
       "<Figure size 2160x1440 with 4 Axes>"
      ]
     },
     "metadata": {
      "needs_background": "light"
     },
     "output_type": "display_data"
    }
   ],
   "source": [
    "plt.figure(figsize=(30,20))\n",
    "for i, c in enumerate(numeric_cols[4:8]):\n",
    "    ax = plt.subplot(221+i)\n",
    "    ax.boxplot(train_df[c])\n",
    "    ax.set_title(c, fontsize=25)"
   ]
  },
  {
   "cell_type": "code",
   "execution_count": 59,
   "id": "f12e45c6",
   "metadata": {},
   "outputs": [
    {
     "data": {
      "image/png": "[encoded data removed]",
      "text/plain": [
       "<Figure size 2160x1440 with 2 Axes>"
      ]
     },
     "metadata": {
      "needs_background": "light"
     },
     "output_type": "display_data"
    }
   ],
   "source": [
    "plt.figure(figsize=(30,20))\n",
    "for i, c in enumerate(numeric_cols[8:]):\n",
    "    ax = plt.subplot(221+i)\n",
    "    ax.boxplot(train_df[c])\n",
    "    ax.set_title(c, fontsize=25)"
   ]
  },
  {
   "cell_type": "code",
   "execution_count": 61,
   "id": "33b4757a",
   "metadata": {},
   "outputs": [],
   "source": [
    "train_df_interpolate = train_df[numeric_cols].interpolate()"
   ]
  },
  {
   "cell_type": "code",
   "execution_count": 69,
   "id": "6ac95e3a",
   "metadata": {},
   "outputs": [
    {
     "data": {
      "text/plain": [
       "(array([1.929e+03, 7.050e+02, 1.520e+02, 4.800e+01, 1.100e+01, 1.300e+01,\n",
       "        7.000e+00, 0.000e+00, 1.000e+00, 3.000e+00]),\n",
       " array([3.056000e+06, 2.413670e+07, 4.521740e+07, 6.629810e+07,\n",
       "        8.737880e+07, 1.084595e+08, 1.295402e+08, 1.506209e+08,\n",
       "        1.717016e+08, 1.927823e+08, 2.138630e+08]),\n",
       " <BarContainer object of 10 artists>)"
      ]
     },
     "execution_count": 69,
     "metadata": {},
     "output_type": "execute_result"
    },
    {
     "data": {
      "image/png": "[encoded data removed]",
      "text/plain": [
       "<Figure size 432x288 with 1 Axes>"
      ]
     },
     "metadata": {
      "needs_background": "light"
     },
     "output_type": "display_data"
    }
   ],
   "source": [
    "plt.hist(train_df_interpolate['임대보증금'])"
   ]
  },
  {
   "cell_type": "code",
   "execution_count": 76,
   "id": "34302cd6",
   "metadata": {},
   "outputs": [
    {
     "data": {
      "image/png": "[encoded data removed]",
      "text/plain": [
       "<Figure size 1080x720 with 4 Axes>"
      ]
     },
     "metadata": {
      "needs_background": "light"
     },
     "output_type": "display_data"
    }
   ],
   "source": [
    "plt.figure(figsize=(15,10))\n",
    "plt.subplot(221)\n",
    "plt.boxplot(train_df_interpolate['임대보증금'])\n",
    "plt.title('임대보증금', fontsize=20)\n",
    "plt.subplot(222)\n",
    "plt.hist(train_df_interpolate['임대보증금'])\n",
    "plt.title('임대보증금', fontsize=20)\n",
    "\n",
    "plt.subplot(223)\n",
    "plt.boxplot(train_df_interpolate['임대료'])\n",
    "plt.title('임대료', fontsize=20)\n",
    "plt.subplot(224)\n",
    "plt.hist(train_df_interpolate['임대료'])\n",
    "plt.title('임대료', fontsize=20)\n",
    "plt.show();"
   ]
  },
  {
   "cell_type": "code",
   "execution_count": null,
   "id": "f78f3ef4",
   "metadata": {},
   "outputs": [],
   "source": []
  },
  {
   "cell_type": "code",
   "execution_count": null,
   "id": "4f82fbc1",
   "metadata": {},
   "outputs": [],
   "source": []
  },
  {
   "cell_type": "code",
   "execution_count": null,
   "id": "801b8e55",
   "metadata": {},
   "outputs": [],
   "source": []
  },
  {
   "cell_type": "code",
   "execution_count": null,
   "id": "af282ab2",
   "metadata": {},
   "outputs": [],
   "source": []
  },
  {
   "cell_type": "code",
   "execution_count": null,
   "id": "2660660c",
   "metadata": {},
   "outputs": [],
   "source": []
  }
 ],
 "metadata": {
  "kernelspec": {
   "display_name": "Python 3 (ipykernel)",
   "language": "python",
   "name": "python3"
  },
  "language_info": {
   "codemirror_mode": {
    "name": "ipython",
    "version": 3
   },
   "file_extension": ".py",
   "mimetype": "text/x-python",
   "name": "python",
   "nbconvert_exporter": "python",
   "pygments_lexer": "ipython3",
   "version": "3.8.11"
  }
 },
 "nbformat": 4,
 "nbformat_minor": 5
}
